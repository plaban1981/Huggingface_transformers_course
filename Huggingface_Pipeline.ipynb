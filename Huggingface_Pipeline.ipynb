{
  "nbformat": 4,
  "nbformat_minor": 0,
  "metadata": {
    "colab": {
      "name": "Huggingface_Pipeline.ipynb",
      "provenance": [],
      "authorship_tag": "ABX9TyMSLiBHGH1wr4X6pHCIT2hZ",
      "include_colab_link": true
    },
    "kernelspec": {
      "display_name": "Python 3",
      "name": "python3"
    },
    "language_info": {
      "name": "python"
    },
    "widgets": {
      "application/vnd.jupyter.widget-state+json": {
        "fd169a3fd0c74f7899e284896f8b984e": {
          "model_module": "@jupyter-widgets/controls",
          "model_name": "HBoxModel",
          "state": {
            "_view_name": "HBoxView",
            "_dom_classes": [],
            "_model_name": "HBoxModel",
            "_view_module": "@jupyter-widgets/controls",
            "_model_module_version": "1.5.0",
            "_view_count": null,
            "_view_module_version": "1.5.0",
            "box_style": "",
            "layout": "IPY_MODEL_7d4e6f6b48f24f3482bac5d3ca03b761",
            "_model_module": "@jupyter-widgets/controls",
            "children": [
              "IPY_MODEL_66b2fa18312541378ae5cdd657240376",
              "IPY_MODEL_bfce107805874f8193b6733830c4a28a"
            ]
          }
        },
        "7d4e6f6b48f24f3482bac5d3ca03b761": {
          "model_module": "@jupyter-widgets/base",
          "model_name": "LayoutModel",
          "state": {
            "_view_name": "LayoutView",
            "grid_template_rows": null,
            "right": null,
            "justify_content": null,
            "_view_module": "@jupyter-widgets/base",
            "overflow": null,
            "_model_module_version": "1.2.0",
            "_view_count": null,
            "flex_flow": null,
            "width": null,
            "min_width": null,
            "border": null,
            "align_items": null,
            "bottom": null,
            "_model_module": "@jupyter-widgets/base",
            "top": null,
            "grid_column": null,
            "overflow_y": null,
            "overflow_x": null,
            "grid_auto_flow": null,
            "grid_area": null,
            "grid_template_columns": null,
            "flex": null,
            "_model_name": "LayoutModel",
            "justify_items": null,
            "grid_row": null,
            "max_height": null,
            "align_content": null,
            "visibility": null,
            "align_self": null,
            "height": null,
            "min_height": null,
            "padding": null,
            "grid_auto_rows": null,
            "grid_gap": null,
            "max_width": null,
            "order": null,
            "_view_module_version": "1.2.0",
            "grid_template_areas": null,
            "object_position": null,
            "object_fit": null,
            "grid_auto_columns": null,
            "margin": null,
            "display": null,
            "left": null
          }
        },
        "66b2fa18312541378ae5cdd657240376": {
          "model_module": "@jupyter-widgets/controls",
          "model_name": "FloatProgressModel",
          "state": {
            "_view_name": "ProgressView",
            "style": "IPY_MODEL_2d053e18494e4b0a9f119ac99e49189f",
            "_dom_classes": [],
            "description": "Downloading: 100%",
            "_model_name": "FloatProgressModel",
            "bar_style": "success",
            "max": 48,
            "_view_module": "@jupyter-widgets/controls",
            "_model_module_version": "1.5.0",
            "value": 48,
            "_view_count": null,
            "_view_module_version": "1.5.0",
            "orientation": "horizontal",
            "min": 0,
            "description_tooltip": null,
            "_model_module": "@jupyter-widgets/controls",
            "layout": "IPY_MODEL_96b60cd81534497482eed989f664a1bb"
          }
        },
        "bfce107805874f8193b6733830c4a28a": {
          "model_module": "@jupyter-widgets/controls",
          "model_name": "HTMLModel",
          "state": {
            "_view_name": "HTMLView",
            "style": "IPY_MODEL_7fc6496ef1534521b8e14ae92b981e74",
            "_dom_classes": [],
            "description": "",
            "_model_name": "HTMLModel",
            "placeholder": "​",
            "_view_module": "@jupyter-widgets/controls",
            "_model_module_version": "1.5.0",
            "value": " 48.0/48.0 [00:00&lt;00:00, 120B/s]",
            "_view_count": null,
            "_view_module_version": "1.5.0",
            "description_tooltip": null,
            "_model_module": "@jupyter-widgets/controls",
            "layout": "IPY_MODEL_dea3faacef004f4082a0646acfbb15a9"
          }
        },
        "2d053e18494e4b0a9f119ac99e49189f": {
          "model_module": "@jupyter-widgets/controls",
          "model_name": "ProgressStyleModel",
          "state": {
            "_view_name": "StyleView",
            "_model_name": "ProgressStyleModel",
            "description_width": "initial",
            "_view_module": "@jupyter-widgets/base",
            "_model_module_version": "1.5.0",
            "_view_count": null,
            "_view_module_version": "1.2.0",
            "bar_color": null,
            "_model_module": "@jupyter-widgets/controls"
          }
        },
        "96b60cd81534497482eed989f664a1bb": {
          "model_module": "@jupyter-widgets/base",
          "model_name": "LayoutModel",
          "state": {
            "_view_name": "LayoutView",
            "grid_template_rows": null,
            "right": null,
            "justify_content": null,
            "_view_module": "@jupyter-widgets/base",
            "overflow": null,
            "_model_module_version": "1.2.0",
            "_view_count": null,
            "flex_flow": null,
            "width": null,
            "min_width": null,
            "border": null,
            "align_items": null,
            "bottom": null,
            "_model_module": "@jupyter-widgets/base",
            "top": null,
            "grid_column": null,
            "overflow_y": null,
            "overflow_x": null,
            "grid_auto_flow": null,
            "grid_area": null,
            "grid_template_columns": null,
            "flex": null,
            "_model_name": "LayoutModel",
            "justify_items": null,
            "grid_row": null,
            "max_height": null,
            "align_content": null,
            "visibility": null,
            "align_self": null,
            "height": null,
            "min_height": null,
            "padding": null,
            "grid_auto_rows": null,
            "grid_gap": null,
            "max_width": null,
            "order": null,
            "_view_module_version": "1.2.0",
            "grid_template_areas": null,
            "object_position": null,
            "object_fit": null,
            "grid_auto_columns": null,
            "margin": null,
            "display": null,
            "left": null
          }
        },
        "7fc6496ef1534521b8e14ae92b981e74": {
          "model_module": "@jupyter-widgets/controls",
          "model_name": "DescriptionStyleModel",
          "state": {
            "_view_name": "StyleView",
            "_model_name": "DescriptionStyleModel",
            "description_width": "",
            "_view_module": "@jupyter-widgets/base",
            "_model_module_version": "1.5.0",
            "_view_count": null,
            "_view_module_version": "1.2.0",
            "_model_module": "@jupyter-widgets/controls"
          }
        },
        "dea3faacef004f4082a0646acfbb15a9": {
          "model_module": "@jupyter-widgets/base",
          "model_name": "LayoutModel",
          "state": {
            "_view_name": "LayoutView",
            "grid_template_rows": null,
            "right": null,
            "justify_content": null,
            "_view_module": "@jupyter-widgets/base",
            "overflow": null,
            "_model_module_version": "1.2.0",
            "_view_count": null,
            "flex_flow": null,
            "width": null,
            "min_width": null,
            "border": null,
            "align_items": null,
            "bottom": null,
            "_model_module": "@jupyter-widgets/base",
            "top": null,
            "grid_column": null,
            "overflow_y": null,
            "overflow_x": null,
            "grid_auto_flow": null,
            "grid_area": null,
            "grid_template_columns": null,
            "flex": null,
            "_model_name": "LayoutModel",
            "justify_items": null,
            "grid_row": null,
            "max_height": null,
            "align_content": null,
            "visibility": null,
            "align_self": null,
            "height": null,
            "min_height": null,
            "padding": null,
            "grid_auto_rows": null,
            "grid_gap": null,
            "max_width": null,
            "order": null,
            "_view_module_version": "1.2.0",
            "grid_template_areas": null,
            "object_position": null,
            "object_fit": null,
            "grid_auto_columns": null,
            "margin": null,
            "display": null,
            "left": null
          }
        },
        "a815a4b448f148dd8666209f18753311": {
          "model_module": "@jupyter-widgets/controls",
          "model_name": "HBoxModel",
          "state": {
            "_view_name": "HBoxView",
            "_dom_classes": [],
            "_model_name": "HBoxModel",
            "_view_module": "@jupyter-widgets/controls",
            "_model_module_version": "1.5.0",
            "_view_count": null,
            "_view_module_version": "1.5.0",
            "box_style": "",
            "layout": "IPY_MODEL_fae402e182f64926a5e5b2caca0119c7",
            "_model_module": "@jupyter-widgets/controls",
            "children": [
              "IPY_MODEL_3c6b7aaab35646ee89ec1e0e63b32ab5",
              "IPY_MODEL_ef1ef847be654919860eff3fbc71bf22"
            ]
          }
        },
        "fae402e182f64926a5e5b2caca0119c7": {
          "model_module": "@jupyter-widgets/base",
          "model_name": "LayoutModel",
          "state": {
            "_view_name": "LayoutView",
            "grid_template_rows": null,
            "right": null,
            "justify_content": null,
            "_view_module": "@jupyter-widgets/base",
            "overflow": null,
            "_model_module_version": "1.2.0",
            "_view_count": null,
            "flex_flow": null,
            "width": null,
            "min_width": null,
            "border": null,
            "align_items": null,
            "bottom": null,
            "_model_module": "@jupyter-widgets/base",
            "top": null,
            "grid_column": null,
            "overflow_y": null,
            "overflow_x": null,
            "grid_auto_flow": null,
            "grid_area": null,
            "grid_template_columns": null,
            "flex": null,
            "_model_name": "LayoutModel",
            "justify_items": null,
            "grid_row": null,
            "max_height": null,
            "align_content": null,
            "visibility": null,
            "align_self": null,
            "height": null,
            "min_height": null,
            "padding": null,
            "grid_auto_rows": null,
            "grid_gap": null,
            "max_width": null,
            "order": null,
            "_view_module_version": "1.2.0",
            "grid_template_areas": null,
            "object_position": null,
            "object_fit": null,
            "grid_auto_columns": null,
            "margin": null,
            "display": null,
            "left": null
          }
        },
        "3c6b7aaab35646ee89ec1e0e63b32ab5": {
          "model_module": "@jupyter-widgets/controls",
          "model_name": "FloatProgressModel",
          "state": {
            "_view_name": "ProgressView",
            "style": "IPY_MODEL_3a6921c87fa14a5d9f4c6f800d9673f1",
            "_dom_classes": [],
            "description": "Downloading: 100%",
            "_model_name": "FloatProgressModel",
            "bar_style": "success",
            "max": 629,
            "_view_module": "@jupyter-widgets/controls",
            "_model_module_version": "1.5.0",
            "value": 629,
            "_view_count": null,
            "_view_module_version": "1.5.0",
            "orientation": "horizontal",
            "min": 0,
            "description_tooltip": null,
            "_model_module": "@jupyter-widgets/controls",
            "layout": "IPY_MODEL_94a2145f7afc4076a43821fe6c7542ae"
          }
        },
        "ef1ef847be654919860eff3fbc71bf22": {
          "model_module": "@jupyter-widgets/controls",
          "model_name": "HTMLModel",
          "state": {
            "_view_name": "HTMLView",
            "style": "IPY_MODEL_ee4263a6d9f4447fb537fafb391cd5d6",
            "_dom_classes": [],
            "description": "",
            "_model_name": "HTMLModel",
            "placeholder": "​",
            "_view_module": "@jupyter-widgets/controls",
            "_model_module_version": "1.5.0",
            "value": " 629/629 [00:02&lt;00:00, 272B/s]",
            "_view_count": null,
            "_view_module_version": "1.5.0",
            "description_tooltip": null,
            "_model_module": "@jupyter-widgets/controls",
            "layout": "IPY_MODEL_146e48fa57b04d22b6948b262edc5a71"
          }
        },
        "3a6921c87fa14a5d9f4c6f800d9673f1": {
          "model_module": "@jupyter-widgets/controls",
          "model_name": "ProgressStyleModel",
          "state": {
            "_view_name": "StyleView",
            "_model_name": "ProgressStyleModel",
            "description_width": "initial",
            "_view_module": "@jupyter-widgets/base",
            "_model_module_version": "1.5.0",
            "_view_count": null,
            "_view_module_version": "1.2.0",
            "bar_color": null,
            "_model_module": "@jupyter-widgets/controls"
          }
        },
        "94a2145f7afc4076a43821fe6c7542ae": {
          "model_module": "@jupyter-widgets/base",
          "model_name": "LayoutModel",
          "state": {
            "_view_name": "LayoutView",
            "grid_template_rows": null,
            "right": null,
            "justify_content": null,
            "_view_module": "@jupyter-widgets/base",
            "overflow": null,
            "_model_module_version": "1.2.0",
            "_view_count": null,
            "flex_flow": null,
            "width": null,
            "min_width": null,
            "border": null,
            "align_items": null,
            "bottom": null,
            "_model_module": "@jupyter-widgets/base",
            "top": null,
            "grid_column": null,
            "overflow_y": null,
            "overflow_x": null,
            "grid_auto_flow": null,
            "grid_area": null,
            "grid_template_columns": null,
            "flex": null,
            "_model_name": "LayoutModel",
            "justify_items": null,
            "grid_row": null,
            "max_height": null,
            "align_content": null,
            "visibility": null,
            "align_self": null,
            "height": null,
            "min_height": null,
            "padding": null,
            "grid_auto_rows": null,
            "grid_gap": null,
            "max_width": null,
            "order": null,
            "_view_module_version": "1.2.0",
            "grid_template_areas": null,
            "object_position": null,
            "object_fit": null,
            "grid_auto_columns": null,
            "margin": null,
            "display": null,
            "left": null
          }
        },
        "ee4263a6d9f4447fb537fafb391cd5d6": {
          "model_module": "@jupyter-widgets/controls",
          "model_name": "DescriptionStyleModel",
          "state": {
            "_view_name": "StyleView",
            "_model_name": "DescriptionStyleModel",
            "description_width": "",
            "_view_module": "@jupyter-widgets/base",
            "_model_module_version": "1.5.0",
            "_view_count": null,
            "_view_module_version": "1.2.0",
            "_model_module": "@jupyter-widgets/controls"
          }
        },
        "146e48fa57b04d22b6948b262edc5a71": {
          "model_module": "@jupyter-widgets/base",
          "model_name": "LayoutModel",
          "state": {
            "_view_name": "LayoutView",
            "grid_template_rows": null,
            "right": null,
            "justify_content": null,
            "_view_module": "@jupyter-widgets/base",
            "overflow": null,
            "_model_module_version": "1.2.0",
            "_view_count": null,
            "flex_flow": null,
            "width": null,
            "min_width": null,
            "border": null,
            "align_items": null,
            "bottom": null,
            "_model_module": "@jupyter-widgets/base",
            "top": null,
            "grid_column": null,
            "overflow_y": null,
            "overflow_x": null,
            "grid_auto_flow": null,
            "grid_area": null,
            "grid_template_columns": null,
            "flex": null,
            "_model_name": "LayoutModel",
            "justify_items": null,
            "grid_row": null,
            "max_height": null,
            "align_content": null,
            "visibility": null,
            "align_self": null,
            "height": null,
            "min_height": null,
            "padding": null,
            "grid_auto_rows": null,
            "grid_gap": null,
            "max_width": null,
            "order": null,
            "_view_module_version": "1.2.0",
            "grid_template_areas": null,
            "object_position": null,
            "object_fit": null,
            "grid_auto_columns": null,
            "margin": null,
            "display": null,
            "left": null
          }
        },
        "3b9536f4c16444e5b6a288ce665ce18c": {
          "model_module": "@jupyter-widgets/controls",
          "model_name": "HBoxModel",
          "state": {
            "_view_name": "HBoxView",
            "_dom_classes": [],
            "_model_name": "HBoxModel",
            "_view_module": "@jupyter-widgets/controls",
            "_model_module_version": "1.5.0",
            "_view_count": null,
            "_view_module_version": "1.5.0",
            "box_style": "",
            "layout": "IPY_MODEL_f428978861de45069dd0564e75a57583",
            "_model_module": "@jupyter-widgets/controls",
            "children": [
              "IPY_MODEL_b4892af396e2466f9228646edef7d207",
              "IPY_MODEL_04470e6832974bf9a83328eb90bccb89"
            ]
          }
        },
        "f428978861de45069dd0564e75a57583": {
          "model_module": "@jupyter-widgets/base",
          "model_name": "LayoutModel",
          "state": {
            "_view_name": "LayoutView",
            "grid_template_rows": null,
            "right": null,
            "justify_content": null,
            "_view_module": "@jupyter-widgets/base",
            "overflow": null,
            "_model_module_version": "1.2.0",
            "_view_count": null,
            "flex_flow": null,
            "width": null,
            "min_width": null,
            "border": null,
            "align_items": null,
            "bottom": null,
            "_model_module": "@jupyter-widgets/base",
            "top": null,
            "grid_column": null,
            "overflow_y": null,
            "overflow_x": null,
            "grid_auto_flow": null,
            "grid_area": null,
            "grid_template_columns": null,
            "flex": null,
            "_model_name": "LayoutModel",
            "justify_items": null,
            "grid_row": null,
            "max_height": null,
            "align_content": null,
            "visibility": null,
            "align_self": null,
            "height": null,
            "min_height": null,
            "padding": null,
            "grid_auto_rows": null,
            "grid_gap": null,
            "max_width": null,
            "order": null,
            "_view_module_version": "1.2.0",
            "grid_template_areas": null,
            "object_position": null,
            "object_fit": null,
            "grid_auto_columns": null,
            "margin": null,
            "display": null,
            "left": null
          }
        },
        "b4892af396e2466f9228646edef7d207": {
          "model_module": "@jupyter-widgets/controls",
          "model_name": "FloatProgressModel",
          "state": {
            "_view_name": "ProgressView",
            "style": "IPY_MODEL_b47766787d5f4935a9373483073f6085",
            "_dom_classes": [],
            "description": "Downloading: 100%",
            "_model_name": "FloatProgressModel",
            "bar_style": "success",
            "max": 231508,
            "_view_module": "@jupyter-widgets/controls",
            "_model_module_version": "1.5.0",
            "value": 231508,
            "_view_count": null,
            "_view_module_version": "1.5.0",
            "orientation": "horizontal",
            "min": 0,
            "description_tooltip": null,
            "_model_module": "@jupyter-widgets/controls",
            "layout": "IPY_MODEL_ff9effe0951742c68f0c6f92f984cc17"
          }
        },
        "04470e6832974bf9a83328eb90bccb89": {
          "model_module": "@jupyter-widgets/controls",
          "model_name": "HTMLModel",
          "state": {
            "_view_name": "HTMLView",
            "style": "IPY_MODEL_d493d627430f43c29f3c837e6dea3e1f",
            "_dom_classes": [],
            "description": "",
            "_model_name": "HTMLModel",
            "placeholder": "​",
            "_view_module": "@jupyter-widgets/controls",
            "_model_module_version": "1.5.0",
            "value": " 232k/232k [00:01&lt;00:00, 148kB/s]",
            "_view_count": null,
            "_view_module_version": "1.5.0",
            "description_tooltip": null,
            "_model_module": "@jupyter-widgets/controls",
            "layout": "IPY_MODEL_b68c9c0e24694952840e1cdbec70c0c1"
          }
        },
        "b47766787d5f4935a9373483073f6085": {
          "model_module": "@jupyter-widgets/controls",
          "model_name": "ProgressStyleModel",
          "state": {
            "_view_name": "StyleView",
            "_model_name": "ProgressStyleModel",
            "description_width": "initial",
            "_view_module": "@jupyter-widgets/base",
            "_model_module_version": "1.5.0",
            "_view_count": null,
            "_view_module_version": "1.2.0",
            "bar_color": null,
            "_model_module": "@jupyter-widgets/controls"
          }
        },
        "ff9effe0951742c68f0c6f92f984cc17": {
          "model_module": "@jupyter-widgets/base",
          "model_name": "LayoutModel",
          "state": {
            "_view_name": "LayoutView",
            "grid_template_rows": null,
            "right": null,
            "justify_content": null,
            "_view_module": "@jupyter-widgets/base",
            "overflow": null,
            "_model_module_version": "1.2.0",
            "_view_count": null,
            "flex_flow": null,
            "width": null,
            "min_width": null,
            "border": null,
            "align_items": null,
            "bottom": null,
            "_model_module": "@jupyter-widgets/base",
            "top": null,
            "grid_column": null,
            "overflow_y": null,
            "overflow_x": null,
            "grid_auto_flow": null,
            "grid_area": null,
            "grid_template_columns": null,
            "flex": null,
            "_model_name": "LayoutModel",
            "justify_items": null,
            "grid_row": null,
            "max_height": null,
            "align_content": null,
            "visibility": null,
            "align_self": null,
            "height": null,
            "min_height": null,
            "padding": null,
            "grid_auto_rows": null,
            "grid_gap": null,
            "max_width": null,
            "order": null,
            "_view_module_version": "1.2.0",
            "grid_template_areas": null,
            "object_position": null,
            "object_fit": null,
            "grid_auto_columns": null,
            "margin": null,
            "display": null,
            "left": null
          }
        },
        "d493d627430f43c29f3c837e6dea3e1f": {
          "model_module": "@jupyter-widgets/controls",
          "model_name": "DescriptionStyleModel",
          "state": {
            "_view_name": "StyleView",
            "_model_name": "DescriptionStyleModel",
            "description_width": "",
            "_view_module": "@jupyter-widgets/base",
            "_model_module_version": "1.5.0",
            "_view_count": null,
            "_view_module_version": "1.2.0",
            "_model_module": "@jupyter-widgets/controls"
          }
        },
        "b68c9c0e24694952840e1cdbec70c0c1": {
          "model_module": "@jupyter-widgets/base",
          "model_name": "LayoutModel",
          "state": {
            "_view_name": "LayoutView",
            "grid_template_rows": null,
            "right": null,
            "justify_content": null,
            "_view_module": "@jupyter-widgets/base",
            "overflow": null,
            "_model_module_version": "1.2.0",
            "_view_count": null,
            "flex_flow": null,
            "width": null,
            "min_width": null,
            "border": null,
            "align_items": null,
            "bottom": null,
            "_model_module": "@jupyter-widgets/base",
            "top": null,
            "grid_column": null,
            "overflow_y": null,
            "overflow_x": null,
            "grid_auto_flow": null,
            "grid_area": null,
            "grid_template_columns": null,
            "flex": null,
            "_model_name": "LayoutModel",
            "justify_items": null,
            "grid_row": null,
            "max_height": null,
            "align_content": null,
            "visibility": null,
            "align_self": null,
            "height": null,
            "min_height": null,
            "padding": null,
            "grid_auto_rows": null,
            "grid_gap": null,
            "max_width": null,
            "order": null,
            "_view_module_version": "1.2.0",
            "grid_template_areas": null,
            "object_position": null,
            "object_fit": null,
            "grid_auto_columns": null,
            "margin": null,
            "display": null,
            "left": null
          }
        },
        "be522760dff14f779a918c9e00e86c46": {
          "model_module": "@jupyter-widgets/controls",
          "model_name": "HBoxModel",
          "state": {
            "_view_name": "HBoxView",
            "_dom_classes": [],
            "_model_name": "HBoxModel",
            "_view_module": "@jupyter-widgets/controls",
            "_model_module_version": "1.5.0",
            "_view_count": null,
            "_view_module_version": "1.5.0",
            "box_style": "",
            "layout": "IPY_MODEL_c7ee3ad3680d408d9c34bf4e4009fd35",
            "_model_module": "@jupyter-widgets/controls",
            "children": [
              "IPY_MODEL_ae4755dbf4d94b21a1ead811e621b667",
              "IPY_MODEL_9b5da639d9b7439bb67e180916aa3689"
            ]
          }
        },
        "c7ee3ad3680d408d9c34bf4e4009fd35": {
          "model_module": "@jupyter-widgets/base",
          "model_name": "LayoutModel",
          "state": {
            "_view_name": "LayoutView",
            "grid_template_rows": null,
            "right": null,
            "justify_content": null,
            "_view_module": "@jupyter-widgets/base",
            "overflow": null,
            "_model_module_version": "1.2.0",
            "_view_count": null,
            "flex_flow": null,
            "width": null,
            "min_width": null,
            "border": null,
            "align_items": null,
            "bottom": null,
            "_model_module": "@jupyter-widgets/base",
            "top": null,
            "grid_column": null,
            "overflow_y": null,
            "overflow_x": null,
            "grid_auto_flow": null,
            "grid_area": null,
            "grid_template_columns": null,
            "flex": null,
            "_model_name": "LayoutModel",
            "justify_items": null,
            "grid_row": null,
            "max_height": null,
            "align_content": null,
            "visibility": null,
            "align_self": null,
            "height": null,
            "min_height": null,
            "padding": null,
            "grid_auto_rows": null,
            "grid_gap": null,
            "max_width": null,
            "order": null,
            "_view_module_version": "1.2.0",
            "grid_template_areas": null,
            "object_position": null,
            "object_fit": null,
            "grid_auto_columns": null,
            "margin": null,
            "display": null,
            "left": null
          }
        },
        "ae4755dbf4d94b21a1ead811e621b667": {
          "model_module": "@jupyter-widgets/controls",
          "model_name": "FloatProgressModel",
          "state": {
            "_view_name": "ProgressView",
            "style": "IPY_MODEL_a3963fa4fdee4cfca5f7fe94214f3677",
            "_dom_classes": [],
            "description": "Downloading: 100%",
            "_model_name": "FloatProgressModel",
            "bar_style": "success",
            "max": 267844284,
            "_view_module": "@jupyter-widgets/controls",
            "_model_module_version": "1.5.0",
            "value": 267844284,
            "_view_count": null,
            "_view_module_version": "1.5.0",
            "orientation": "horizontal",
            "min": 0,
            "description_tooltip": null,
            "_model_module": "@jupyter-widgets/controls",
            "layout": "IPY_MODEL_59f82252fbe44375b5cbabdfaaf58bb9"
          }
        },
        "9b5da639d9b7439bb67e180916aa3689": {
          "model_module": "@jupyter-widgets/controls",
          "model_name": "HTMLModel",
          "state": {
            "_view_name": "HTMLView",
            "style": "IPY_MODEL_ee20bd13b0624bb9b13b741a850b403f",
            "_dom_classes": [],
            "description": "",
            "_model_name": "HTMLModel",
            "placeholder": "​",
            "_view_module": "@jupyter-widgets/controls",
            "_model_module_version": "1.5.0",
            "value": " 268M/268M [00:06&lt;00:00, 39.9MB/s]",
            "_view_count": null,
            "_view_module_version": "1.5.0",
            "description_tooltip": null,
            "_model_module": "@jupyter-widgets/controls",
            "layout": "IPY_MODEL_48271c78609d48178f11dd00c4b10494"
          }
        },
        "a3963fa4fdee4cfca5f7fe94214f3677": {
          "model_module": "@jupyter-widgets/controls",
          "model_name": "ProgressStyleModel",
          "state": {
            "_view_name": "StyleView",
            "_model_name": "ProgressStyleModel",
            "description_width": "initial",
            "_view_module": "@jupyter-widgets/base",
            "_model_module_version": "1.5.0",
            "_view_count": null,
            "_view_module_version": "1.2.0",
            "bar_color": null,
            "_model_module": "@jupyter-widgets/controls"
          }
        },
        "59f82252fbe44375b5cbabdfaaf58bb9": {
          "model_module": "@jupyter-widgets/base",
          "model_name": "LayoutModel",
          "state": {
            "_view_name": "LayoutView",
            "grid_template_rows": null,
            "right": null,
            "justify_content": null,
            "_view_module": "@jupyter-widgets/base",
            "overflow": null,
            "_model_module_version": "1.2.0",
            "_view_count": null,
            "flex_flow": null,
            "width": null,
            "min_width": null,
            "border": null,
            "align_items": null,
            "bottom": null,
            "_model_module": "@jupyter-widgets/base",
            "top": null,
            "grid_column": null,
            "overflow_y": null,
            "overflow_x": null,
            "grid_auto_flow": null,
            "grid_area": null,
            "grid_template_columns": null,
            "flex": null,
            "_model_name": "LayoutModel",
            "justify_items": null,
            "grid_row": null,
            "max_height": null,
            "align_content": null,
            "visibility": null,
            "align_self": null,
            "height": null,
            "min_height": null,
            "padding": null,
            "grid_auto_rows": null,
            "grid_gap": null,
            "max_width": null,
            "order": null,
            "_view_module_version": "1.2.0",
            "grid_template_areas": null,
            "object_position": null,
            "object_fit": null,
            "grid_auto_columns": null,
            "margin": null,
            "display": null,
            "left": null
          }
        },
        "ee20bd13b0624bb9b13b741a850b403f": {
          "model_module": "@jupyter-widgets/controls",
          "model_name": "DescriptionStyleModel",
          "state": {
            "_view_name": "StyleView",
            "_model_name": "DescriptionStyleModel",
            "description_width": "",
            "_view_module": "@jupyter-widgets/base",
            "_model_module_version": "1.5.0",
            "_view_count": null,
            "_view_module_version": "1.2.0",
            "_model_module": "@jupyter-widgets/controls"
          }
        },
        "48271c78609d48178f11dd00c4b10494": {
          "model_module": "@jupyter-widgets/base",
          "model_name": "LayoutModel",
          "state": {
            "_view_name": "LayoutView",
            "grid_template_rows": null,
            "right": null,
            "justify_content": null,
            "_view_module": "@jupyter-widgets/base",
            "overflow": null,
            "_model_module_version": "1.2.0",
            "_view_count": null,
            "flex_flow": null,
            "width": null,
            "min_width": null,
            "border": null,
            "align_items": null,
            "bottom": null,
            "_model_module": "@jupyter-widgets/base",
            "top": null,
            "grid_column": null,
            "overflow_y": null,
            "overflow_x": null,
            "grid_auto_flow": null,
            "grid_area": null,
            "grid_template_columns": null,
            "flex": null,
            "_model_name": "LayoutModel",
            "justify_items": null,
            "grid_row": null,
            "max_height": null,
            "align_content": null,
            "visibility": null,
            "align_self": null,
            "height": null,
            "min_height": null,
            "padding": null,
            "grid_auto_rows": null,
            "grid_gap": null,
            "max_width": null,
            "order": null,
            "_view_module_version": "1.2.0",
            "grid_template_areas": null,
            "object_position": null,
            "object_fit": null,
            "grid_auto_columns": null,
            "margin": null,
            "display": null,
            "left": null
          }
        }
      }
    }
  },
  "cells": [
    {
      "cell_type": "markdown",
      "metadata": {
        "id": "view-in-github",
        "colab_type": "text"
      },
      "source": [
        "<a href=\"https://colab.research.google.com/github/plaban1981/Huggingface_transformers_course/blob/main/Huggingface_Pipeline.ipynb\" target=\"_parent\"><img src=\"https://colab.research.google.com/assets/colab-badge.svg\" alt=\"Open In Colab\"/></a>"
      ]
    },
    {
      "cell_type": "markdown",
      "metadata": {
        "id": "06Hv4-VMW8We"
      },
      "source": [
        "## Pipelines\n",
        "\n",
        "The  pipeline groups together three steps: \n",
        "* preprocessing, \n",
        "* passing the inputs through the model, and \n",
        "* postprocessing:\n",
        "\n",
        "![image.png](data:image/png;base64,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)"
      ]
    },
    {
      "cell_type": "markdown",
      "metadata": {
        "id": "tJ8lww7eXxm7"
      },
      "source": [
        "## Install Transformers"
      ]
    },
    {
      "cell_type": "code",
      "metadata": {
        "colab": {
          "base_uri": "https://localhost:8080/"
        },
        "id": "Rj4wCGCnXoUP",
        "outputId": "1aa9ab4b-3834-4ef5-c943-510375d1b734"
      },
      "source": [
        "! pip install datasets transformers"
      ],
      "execution_count": 3,
      "outputs": [
        {
          "output_type": "stream",
          "text": [
            "Requirement already satisfied: datasets in /usr/local/lib/python3.7/dist-packages (1.9.0)\n",
            "Requirement already satisfied: transformers in /usr/local/lib/python3.7/dist-packages (4.8.2)\n",
            "Requirement already satisfied: tqdm>=4.27 in /usr/local/lib/python3.7/dist-packages (from datasets) (4.41.1)\n",
            "Requirement already satisfied: huggingface-hub<0.1.0 in /usr/local/lib/python3.7/dist-packages (from datasets) (0.0.13)\n",
            "Requirement already satisfied: packaging in /usr/local/lib/python3.7/dist-packages (from datasets) (20.9)\n",
            "Requirement already satisfied: requests>=2.19.0 in /usr/local/lib/python3.7/dist-packages (from datasets) (2.23.0)\n",
            "Requirement already satisfied: pyarrow!=4.0.0,>=1.0.0 in /usr/local/lib/python3.7/dist-packages (from datasets) (3.0.0)\n",
            "Requirement already satisfied: dill in /usr/local/lib/python3.7/dist-packages (from datasets) (0.3.4)\n",
            "Requirement already satisfied: fsspec>=2021.05.0 in /usr/local/lib/python3.7/dist-packages (from datasets) (2021.6.1)\n",
            "Requirement already satisfied: importlib-metadata; python_version < \"3.8\" in /usr/local/lib/python3.7/dist-packages (from datasets) (4.6.0)\n",
            "Requirement already satisfied: pandas in /usr/local/lib/python3.7/dist-packages (from datasets) (1.1.5)\n",
            "Requirement already satisfied: xxhash in /usr/local/lib/python3.7/dist-packages (from datasets) (2.0.2)\n",
            "Requirement already satisfied: multiprocess in /usr/local/lib/python3.7/dist-packages (from datasets) (0.70.12.2)\n",
            "Requirement already satisfied: numpy>=1.17 in /usr/local/lib/python3.7/dist-packages (from datasets) (1.19.5)\n",
            "Requirement already satisfied: tokenizers<0.11,>=0.10.1 in /usr/local/lib/python3.7/dist-packages (from transformers) (0.10.3)\n",
            "Requirement already satisfied: filelock in /usr/local/lib/python3.7/dist-packages (from transformers) (3.0.12)\n",
            "Requirement already satisfied: sacremoses in /usr/local/lib/python3.7/dist-packages (from transformers) (0.0.45)\n",
            "Requirement already satisfied: pyyaml in /usr/local/lib/python3.7/dist-packages (from transformers) (3.13)\n",
            "Requirement already satisfied: regex!=2019.12.17 in /usr/local/lib/python3.7/dist-packages (from transformers) (2019.12.20)\n",
            "Requirement already satisfied: typing-extensions in /usr/local/lib/python3.7/dist-packages (from huggingface-hub<0.1.0->datasets) (3.7.4.3)\n",
            "Requirement already satisfied: pyparsing>=2.0.2 in /usr/local/lib/python3.7/dist-packages (from packaging->datasets) (2.4.7)\n",
            "Requirement already satisfied: idna<3,>=2.5 in /usr/local/lib/python3.7/dist-packages (from requests>=2.19.0->datasets) (2.10)\n",
            "Requirement already satisfied: certifi>=2017.4.17 in /usr/local/lib/python3.7/dist-packages (from requests>=2.19.0->datasets) (2021.5.30)\n",
            "Requirement already satisfied: urllib3!=1.25.0,!=1.25.1,<1.26,>=1.21.1 in /usr/local/lib/python3.7/dist-packages (from requests>=2.19.0->datasets) (1.24.3)\n",
            "Requirement already satisfied: chardet<4,>=3.0.2 in /usr/local/lib/python3.7/dist-packages (from requests>=2.19.0->datasets) (3.0.4)\n",
            "Requirement already satisfied: zipp>=0.5 in /usr/local/lib/python3.7/dist-packages (from importlib-metadata; python_version < \"3.8\"->datasets) (3.4.1)\n",
            "Requirement already satisfied: python-dateutil>=2.7.3 in /usr/local/lib/python3.7/dist-packages (from pandas->datasets) (2.8.1)\n",
            "Requirement already satisfied: pytz>=2017.2 in /usr/local/lib/python3.7/dist-packages (from pandas->datasets) (2018.9)\n",
            "Requirement already satisfied: joblib in /usr/local/lib/python3.7/dist-packages (from sacremoses->transformers) (1.0.1)\n",
            "Requirement already satisfied: six in /usr/local/lib/python3.7/dist-packages (from sacremoses->transformers) (1.15.0)\n",
            "Requirement already satisfied: click in /usr/local/lib/python3.7/dist-packages (from sacremoses->transformers) (7.1.2)\n"
          ],
          "name": "stdout"
        }
      ]
    },
    {
      "cell_type": "markdown",
      "metadata": {
        "id": "ROgwEP11VRkK"
      },
      "source": [
        "## Preprocessing with a tokenizer\n",
        "\n",
        "* Splitting the input into words, subwords, or symbols (like punctuation) that are called tokens\n",
        "* Mapping each token to an integer\n",
        "* Adding additional inputs that may be useful to the model\n",
        "\n",
        "To do this, we use the **AutoTokenizer** class and its from_pretrained method. Using the checkpoint name of our model, it will automatically fetch the data associated with the model’s tokenizer and cache it (so it’s only downloaded the first time you run the code below).\n"
      ]
    },
    {
      "cell_type": "markdown",
      "metadata": {
        "id": "FAM6xN6OJzYf"
      },
      "source": [
        "* the the default checkpoint of the **sentiment-analysis** pipeline is **distilbert-base-uncased-finetuned-sst-2-english**\n",
        "\n",
        "* Transformer models only accept tensors as input.\n",
        "* To specify the type of tensors we want to get back (PyTorch, TensorFlow, or plain NumPy), we use the **return_tensors** argument"
      ]
    },
    {
      "cell_type": "code",
      "metadata": {
        "id": "sOgvxa7PW3ZT",
        "colab": {
          "base_uri": "https://localhost:8080/",
          "height": 166,
          "referenced_widgets": [
            "fd169a3fd0c74f7899e284896f8b984e",
            "7d4e6f6b48f24f3482bac5d3ca03b761",
            "66b2fa18312541378ae5cdd657240376",
            "bfce107805874f8193b6733830c4a28a",
            "2d053e18494e4b0a9f119ac99e49189f",
            "96b60cd81534497482eed989f664a1bb",
            "7fc6496ef1534521b8e14ae92b981e74",
            "dea3faacef004f4082a0646acfbb15a9",
            "a815a4b448f148dd8666209f18753311",
            "fae402e182f64926a5e5b2caca0119c7",
            "3c6b7aaab35646ee89ec1e0e63b32ab5",
            "ef1ef847be654919860eff3fbc71bf22",
            "3a6921c87fa14a5d9f4c6f800d9673f1",
            "94a2145f7afc4076a43821fe6c7542ae",
            "ee4263a6d9f4447fb537fafb391cd5d6",
            "146e48fa57b04d22b6948b262edc5a71",
            "3b9536f4c16444e5b6a288ce665ce18c",
            "f428978861de45069dd0564e75a57583",
            "b4892af396e2466f9228646edef7d207",
            "04470e6832974bf9a83328eb90bccb89",
            "b47766787d5f4935a9373483073f6085",
            "ff9effe0951742c68f0c6f92f984cc17",
            "d493d627430f43c29f3c837e6dea3e1f",
            "b68c9c0e24694952840e1cdbec70c0c1"
          ]
        },
        "outputId": "eee25017-c0cb-4e70-ba5e-7c33b4780082"
      },
      "source": [
        "import transformers\n",
        "from transformers import AutoTokenizer\n",
        "#\n",
        "checkpoint = \"distilbert-base-uncased-finetuned-sst-2-english\"\n",
        "tokenizer = AutoTokenizer.from_pretrained(checkpoint)"
      ],
      "execution_count": 4,
      "outputs": [
        {
          "output_type": "display_data",
          "data": {
            "application/vnd.jupyter.widget-view+json": {
              "model_id": "fd169a3fd0c74f7899e284896f8b984e",
              "version_minor": 0,
              "version_major": 2
            },
            "text/plain": [
              "HBox(children=(FloatProgress(value=0.0, description='Downloading', max=48.0, style=ProgressStyle(description_w…"
            ]
          },
          "metadata": {
            "tags": []
          }
        },
        {
          "output_type": "stream",
          "text": [
            "\n"
          ],
          "name": "stdout"
        },
        {
          "output_type": "display_data",
          "data": {
            "application/vnd.jupyter.widget-view+json": {
              "model_id": "a815a4b448f148dd8666209f18753311",
              "version_minor": 0,
              "version_major": 2
            },
            "text/plain": [
              "HBox(children=(FloatProgress(value=0.0, description='Downloading', max=629.0, style=ProgressStyle(description_…"
            ]
          },
          "metadata": {
            "tags": []
          }
        },
        {
          "output_type": "stream",
          "text": [
            "\n"
          ],
          "name": "stdout"
        },
        {
          "output_type": "display_data",
          "data": {
            "application/vnd.jupyter.widget-view+json": {
              "model_id": "3b9536f4c16444e5b6a288ce665ce18c",
              "version_minor": 0,
              "version_major": 2
            },
            "text/plain": [
              "HBox(children=(FloatProgress(value=0.0, description='Downloading', max=231508.0, style=ProgressStyle(descripti…"
            ]
          },
          "metadata": {
            "tags": []
          }
        },
        {
          "output_type": "stream",
          "text": [
            "\n"
          ],
          "name": "stdout"
        }
      ]
    },
    {
      "cell_type": "code",
      "metadata": {
        "colab": {
          "base_uri": "https://localhost:8080/"
        },
        "id": "SDG-zuC2JUJf",
        "outputId": "613990dd-f81f-4561-a34a-07f43e253ce0"
      },
      "source": [
        "raw_inputs = [\n",
        "    \"I've been waiting for a HuggingFace course my whole life.\", \n",
        "    \"I hate this so much!\",\n",
        "]\n",
        "inputs = tokenizer(raw_inputs, padding=True, truncation=True, return_tensors=\"pt\")\n",
        "print(inputs)"
      ],
      "execution_count": 5,
      "outputs": [
        {
          "output_type": "stream",
          "text": [
            "{'input_ids': tensor([[  101,  1045,  1005,  2310,  2042,  3403,  2005,  1037, 17662, 12172,\n",
            "          2607,  2026,  2878,  2166,  1012,   102],\n",
            "        [  101,  1045,  5223,  2023,  2061,  2172,   999,   102,     0,     0,\n",
            "             0,     0,     0,     0,     0,     0]]), 'attention_mask': tensor([[1, 1, 1, 1, 1, 1, 1, 1, 1, 1, 1, 1, 1, 1, 1, 1],\n",
            "        [1, 1, 1, 1, 1, 1, 1, 1, 0, 0, 0, 0, 0, 0, 0, 0]])}\n"
          ],
          "name": "stdout"
        }
      ]
    },
    {
      "cell_type": "markdown",
      "metadata": {
        "id": "fZYZSCMuMxk7"
      },
      "source": [
        "#### The output of tokenizer is a dictionary containing two keys\n",
        "* **input_ids** and \n",
        "* **attention_mask**"
      ]
    },
    {
      "cell_type": "code",
      "metadata": {
        "colab": {
          "base_uri": "https://localhost:8080/"
        },
        "id": "xhVNerscK3In",
        "outputId": "b797033f-6372-407c-86b7-f155a7657001"
      },
      "source": [
        "print(inputs['input_ids'])"
      ],
      "execution_count": 6,
      "outputs": [
        {
          "output_type": "stream",
          "text": [
            "tensor([[  101,  1045,  1005,  2310,  2042,  3403,  2005,  1037, 17662, 12172,\n",
            "          2607,  2026,  2878,  2166,  1012,   102],\n",
            "        [  101,  1045,  5223,  2023,  2061,  2172,   999,   102,     0,     0,\n",
            "             0,     0,     0,     0,     0,     0]])\n"
          ],
          "name": "stdout"
        }
      ]
    },
    {
      "cell_type": "code",
      "metadata": {
        "colab": {
          "base_uri": "https://localhost:8080/"
        },
        "id": "QIrIpM5kLDds",
        "outputId": "22cfc838-e149-46e8-cf72-63cf2af52519"
      },
      "source": [
        "print(inputs['input_ids'][0])"
      ],
      "execution_count": 7,
      "outputs": [
        {
          "output_type": "stream",
          "text": [
            "tensor([  101,  1045,  1005,  2310,  2042,  3403,  2005,  1037, 17662, 12172,\n",
            "         2607,  2026,  2878,  2166,  1012,   102])\n"
          ],
          "name": "stdout"
        }
      ]
    },
    {
      "cell_type": "code",
      "metadata": {
        "colab": {
          "base_uri": "https://localhost:8080/"
        },
        "id": "X7UHgWoRTvP5",
        "outputId": "6feaa631-0997-49c4-94d7-c8e6c8196ee3"
      },
      "source": [
        "print(inputs['input_ids'][0].shape)"
      ],
      "execution_count": 17,
      "outputs": [
        {
          "output_type": "stream",
          "text": [
            "torch.Size([16])\n"
          ],
          "name": "stdout"
        }
      ]
    },
    {
      "cell_type": "code",
      "metadata": {
        "colab": {
          "base_uri": "https://localhost:8080/"
        },
        "id": "YwA4jR9jLFyk",
        "outputId": "af7e742b-86c2-4ee2-82a2-ec0b77b17d16"
      },
      "source": [
        "print(inputs['input_ids'][1])"
      ],
      "execution_count": 8,
      "outputs": [
        {
          "output_type": "stream",
          "text": [
            "tensor([ 101, 1045, 5223, 2023, 2061, 2172,  999,  102,    0,    0,    0,    0,\n",
            "           0,    0,    0,    0])\n"
          ],
          "name": "stdout"
        }
      ]
    },
    {
      "cell_type": "code",
      "metadata": {
        "colab": {
          "base_uri": "https://localhost:8080/"
        },
        "id": "9jN-RDvPMQir",
        "outputId": "c446b328-7275-4d16-8b65-5d4553eca6d0"
      },
      "source": [
        "len(inputs['input_ids'][1]),len(inputs['input_ids'][0])"
      ],
      "execution_count": 10,
      "outputs": [
        {
          "output_type": "execute_result",
          "data": {
            "text/plain": [
              "(16, 16)"
            ]
          },
          "metadata": {
            "tags": []
          },
          "execution_count": 10
        }
      ]
    },
    {
      "cell_type": "markdown",
      "metadata": {
        "id": "r2A59IxlLqFt"
      },
      "source": [
        "* In text 2 the sentence has been padded to match the length with sentence 1 hence we see zeros in the input_ids"
      ]
    },
    {
      "cell_type": "markdown",
      "metadata": {
        "id": "Wu4Avk5yNZ2F"
      },
      "source": [
        "## Going through the model\n",
        "\n",
        "*  🤗 Transformers provides an **AutoModel** class which also has a from_pretrained method\n",
        "* This architecture contains only the base Transformer module\n",
        "* Given some inputs, it outputs hidden states, also known as features.\n",
        "* For each model input, we’ll retrieve a high-dimensional vector representing the **contextual understanding of that input by the Transformer model**.\n",
        "* these hidden states or features are usually inputs to another part of the model, known as the **head**."
      ]
    },
    {
      "cell_type": "code",
      "metadata": {
        "colab": {
          "base_uri": "https://localhost:8080/",
          "height": 157,
          "referenced_widgets": [
            "be522760dff14f779a918c9e00e86c46",
            "c7ee3ad3680d408d9c34bf4e4009fd35",
            "ae4755dbf4d94b21a1ead811e621b667",
            "9b5da639d9b7439bb67e180916aa3689",
            "a3963fa4fdee4cfca5f7fe94214f3677",
            "59f82252fbe44375b5cbabdfaaf58bb9",
            "ee20bd13b0624bb9b13b741a850b403f",
            "48271c78609d48178f11dd00c4b10494"
          ]
        },
        "id": "ZDjPd83xO4Kl",
        "outputId": "58c62b06-067b-47c5-f131-502c28379454"
      },
      "source": [
        "from transformers import AutoModel\n",
        "checkpoint = \"distilbert-base-uncased-finetuned-sst-2-english\"\n",
        "model = AutoModel.from_pretrained(checkpoint)\n",
        "outputs = model(**inputs)\n",
        "print(outputs.last_hidden_state.shape)"
      ],
      "execution_count": 12,
      "outputs": [
        {
          "output_type": "display_data",
          "data": {
            "application/vnd.jupyter.widget-view+json": {
              "model_id": "be522760dff14f779a918c9e00e86c46",
              "version_minor": 0,
              "version_major": 2
            },
            "text/plain": [
              "HBox(children=(FloatProgress(value=0.0, description='Downloading', max=267844284.0, style=ProgressStyle(descri…"
            ]
          },
          "metadata": {
            "tags": []
          }
        },
        {
          "output_type": "stream",
          "text": [
            "\n"
          ],
          "name": "stdout"
        },
        {
          "output_type": "stream",
          "text": [
            "Some weights of the model checkpoint at distilbert-base-uncased-finetuned-sst-2-english were not used when initializing DistilBertModel: ['pre_classifier.bias', 'pre_classifier.weight', 'classifier.bias', 'classifier.weight']\n",
            "- This IS expected if you are initializing DistilBertModel from the checkpoint of a model trained on another task or with another architecture (e.g. initializing a BertForSequenceClassification model from a BertForPreTraining model).\n",
            "- This IS NOT expected if you are initializing DistilBertModel from the checkpoint of a model that you expect to be exactly identical (initializing a BertForSequenceClassification model from a BertForSequenceClassification model).\n"
          ],
          "name": "stderr"
        },
        {
          "output_type": "stream",
          "text": [
            "torch.Size([2, 16, 768])\n"
          ],
          "name": "stdout"
        }
      ]
    },
    {
      "cell_type": "markdown",
      "metadata": {
        "id": "_CbyDnQPRvqH"
      },
      "source": [
        "#### The vector output by the Transformer module is usually large. It generally has three dimensions:\n",
        "\n",
        "* **Batch size**: The number of sequences processed at a time (2 in our example as we have 2 input sentences).\n",
        "* **Sequence length**: The length of the numerical representation of the sequence (16 in our example, length of the largest sentence).\n",
        "* **Hidden size**: The vector dimension of each model input.\n",
        "\n",
        "\n",
        "The outputs of 🤗 Transformers models behave like namedtuples or dictionaries."
      ]
    },
    {
      "cell_type": "code",
      "metadata": {
        "colab": {
          "base_uri": "https://localhost:8080/"
        },
        "id": "fUrXMQvpSV9s",
        "outputId": "e3e7cdd0-303c-4acb-bcad-6ecc2e7d68ea"
      },
      "source": [
        "print(outputs)"
      ],
      "execution_count": 13,
      "outputs": [
        {
          "output_type": "stream",
          "text": [
            "BaseModelOutput(last_hidden_state=tensor([[[-0.1798,  0.2333,  0.6321,  ..., -0.3017,  0.5008,  0.1481],\n",
            "         [ 0.2758,  0.6497,  0.3200,  ..., -0.0760,  0.5136,  0.1329],\n",
            "         [ 0.9046,  0.0985,  0.2950,  ...,  0.3352, -0.1407, -0.6464],\n",
            "         ...,\n",
            "         [ 0.1466,  0.5661,  0.3235,  ..., -0.3376,  0.5100, -0.0561],\n",
            "         [ 0.7500,  0.0487,  0.1738,  ...,  0.4684,  0.0030, -0.6084],\n",
            "         [ 0.0519,  0.3729,  0.5223,  ...,  0.3584,  0.6500, -0.3883]],\n",
            "\n",
            "        [[-0.2937,  0.7283, -0.1497,  ..., -0.1187, -1.0227, -0.0422],\n",
            "         [-0.2206,  0.9384, -0.0951,  ..., -0.3643, -0.6605,  0.2407],\n",
            "         [-0.1536,  0.8988, -0.0728,  ..., -0.2189, -0.8528,  0.0710],\n",
            "         ...,\n",
            "         [-0.3017,  0.9002, -0.0200,  ..., -0.1082, -0.8412, -0.0861],\n",
            "         [-0.3338,  0.9674, -0.0729,  ..., -0.1952, -0.8181, -0.0634],\n",
            "         [-0.3454,  0.8824, -0.0426,  ..., -0.0993, -0.8329, -0.1065]]],\n",
            "       grad_fn=<NativeLayerNormBackward>), hidden_states=None, attentions=None)\n"
          ],
          "name": "stdout"
        }
      ]
    },
    {
      "cell_type": "code",
      "metadata": {
        "colab": {
          "base_uri": "https://localhost:8080/"
        },
        "id": "Sdeh-HipSWtM",
        "outputId": "eae38f97-d940-4396-9f8b-f0be4e011e7e"
      },
      "source": [
        "print(outputs[0].shape)"
      ],
      "execution_count": 16,
      "outputs": [
        {
          "output_type": "stream",
          "text": [
            "torch.Size([2, 16, 768])\n"
          ],
          "name": "stdout"
        }
      ]
    },
    {
      "cell_type": "markdown",
      "metadata": {
        "id": "GGTHYRw9TNWZ"
      },
      "source": [
        "## Model heads: Making sense out of numbers\n",
        "\n",
        "The model heads take the high-dimensional vector of hidden states as input and project them onto a different dimension. They are usually composed of one or a few linear layers:\n",
        "\n",
        "![image.png](data:image/png;base64,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)\n",
        "\n",
        "The output of the Transformer model is sent directly to the model head to be processed."
      ]
    },
    {
      "cell_type": "markdown",
      "metadata": {
        "id": "uOLjVSSCTi1_"
      },
      "source": [
        "* Here he model is represented by its embeddings layer and the subsequent layers\n",
        "* The embeddings layer converts each input ID in the tokenized input into a vector that represents the associated token\n",
        "* The subsequent layers manipulate those vectors using the attention mechanism to produce the final representation of the sentence"
      ]
    },
    {
      "cell_type": "code",
      "metadata": {
        "id": "ZW5YTcCjSZk4"
      },
      "source": [
        ""
      ],
      "execution_count": null,
      "outputs": []
    }
  ]
}