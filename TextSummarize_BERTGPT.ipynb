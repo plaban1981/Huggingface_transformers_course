{
  "nbformat": 4,
  "nbformat_minor": 0,
  "metadata": {
    "accelerator": "GPU",
    "colab": {
      "name": "TextSummarize_BERTGPT.ipynb",
      "provenance": [],
      "collapsed_sections": [],
      "include_colab_link": true
    },
    "kernelspec": {
      "display_name": "Python 3",
      "language": "python",
      "name": "python3"
    },
    "language_info": {
      "codemirror_mode": {
        "name": "ipython",
        "version": 3
      },
      "file_extension": ".py",
      "mimetype": "text/x-python",
      "name": "python",
      "nbconvert_exporter": "python",
      "pygments_lexer": "ipython3",
      "version": "3.7.10"
    }
  },
  "cells": [
    {
      "cell_type": "markdown",
      "metadata": {
        "id": "view-in-github",
        "colab_type": "text"
      },
      "source": [
        "<a href=\"https://colab.research.google.com/github/plaban1981/Huggingface_transformers_course/blob/main/TextSummarize_BERTGPT.ipynb\" target=\"_parent\"><img src=\"https://colab.research.google.com/assets/colab-badge.svg\" alt=\"Open In Colab\"/></a>"
      ]
    },
    {
      "cell_type": "code",
      "metadata": {
        "colab": {
          "base_uri": "https://localhost:8080/",
          "height": 1000
        },
        "id": "Fe58_oH7anP3",
        "outputId": "ecdddc1e-8e18-4f11-9b0a-13082e0fb81f"
      },
      "source": [
        "!pip install bert-extractive-summarizer==0.4.2"
      ],
      "execution_count": null,
      "outputs": [
        {
          "name": "stdout",
          "output_type": "stream",
          "text": [
            "Collecting bert-extractive-summarizer==0.4.2\n",
            "  Downloading https://files.pythonhosted.org/packages/23/1d/71f0a5c7f81b1a87d4428a6a935e9ddeb5e662e41512952e11bd10533cd9/bert-extractive-summarizer-0.4.2.tar.gz\n",
            "Collecting transformers\n",
            "\u001b[?25l  Downloading https://files.pythonhosted.org/packages/27/3c/91ed8f5c4e7ef3227b4119200fc0ed4b4fd965b1f0172021c25701087825/transformers-3.0.2-py3-none-any.whl (769kB)\n",
            "\u001b[K     |████████████████████████████████| 778kB 7.5MB/s \n",
            "\u001b[?25hRequirement already satisfied: scikit-learn in /usr/local/lib/python3.6/dist-packages (from bert-extractive-summarizer==0.4.2) (0.22.2.post1)\n",
            "Requirement already satisfied: spacy in /usr/local/lib/python3.6/dist-packages (from bert-extractive-summarizer==0.4.2) (2.2.4)\n",
            "Requirement already satisfied: regex!=2019.12.17 in /usr/local/lib/python3.6/dist-packages (from transformers->bert-extractive-summarizer==0.4.2) (2019.12.20)\n",
            "Requirement already satisfied: dataclasses; python_version < \"3.7\" in /usr/local/lib/python3.6/dist-packages (from transformers->bert-extractive-summarizer==0.4.2) (0.7)\n",
            "Requirement already satisfied: packaging in /usr/local/lib/python3.6/dist-packages (from transformers->bert-extractive-summarizer==0.4.2) (20.4)\n",
            "Collecting sacremoses\n",
            "\u001b[?25l  Downloading https://files.pythonhosted.org/packages/7d/34/09d19aff26edcc8eb2a01bed8e98f13a1537005d31e95233fd48216eed10/sacremoses-0.0.43.tar.gz (883kB)\n",
            "\u001b[K     |████████████████████████████████| 890kB 29.1MB/s \n",
            "\u001b[?25hRequirement already satisfied: requests in /usr/local/lib/python3.6/dist-packages (from transformers->bert-extractive-summarizer==0.4.2) (2.23.0)\n",
            "Collecting tokenizers==0.8.1.rc1\n",
            "\u001b[?25l  Downloading https://files.pythonhosted.org/packages/40/d0/30d5f8d221a0ed981a186c8eb986ce1c94e3a6e87f994eae9f4aa5250217/tokenizers-0.8.1rc1-cp36-cp36m-manylinux1_x86_64.whl (3.0MB)\n",
            "\u001b[K     |████████████████████████████████| 3.0MB 40.4MB/s \n",
            "\u001b[?25hRequirement already satisfied: filelock in /usr/local/lib/python3.6/dist-packages (from transformers->bert-extractive-summarizer==0.4.2) (3.0.12)\n",
            "Collecting sentencepiece!=0.1.92\n",
            "\u001b[?25l  Downloading https://files.pythonhosted.org/packages/d4/a4/d0a884c4300004a78cca907a6ff9a5e9fe4f090f5d95ab341c53d28cbc58/sentencepiece-0.1.91-cp36-cp36m-manylinux1_x86_64.whl (1.1MB)\n",
            "\u001b[K     |████████████████████████████████| 1.1MB 53.3MB/s \n",
            "\u001b[?25hRequirement already satisfied: tqdm>=4.27 in /usr/local/lib/python3.6/dist-packages (from transformers->bert-extractive-summarizer==0.4.2) (4.41.1)\n",
            "Requirement already satisfied: numpy in /usr/local/lib/python3.6/dist-packages (from transformers->bert-extractive-summarizer==0.4.2) (1.18.5)\n",
            "Requirement already satisfied: joblib>=0.11 in /usr/local/lib/python3.6/dist-packages (from scikit-learn->bert-extractive-summarizer==0.4.2) (0.16.0)\n",
            "Requirement already satisfied: scipy>=0.17.0 in /usr/local/lib/python3.6/dist-packages (from scikit-learn->bert-extractive-summarizer==0.4.2) (1.4.1)\n",
            "Requirement already satisfied: thinc==7.4.0 in /usr/local/lib/python3.6/dist-packages (from spacy->bert-extractive-summarizer==0.4.2) (7.4.0)\n",
            "Requirement already satisfied: setuptools in /usr/local/lib/python3.6/dist-packages (from spacy->bert-extractive-summarizer==0.4.2) (49.2.0)\n",
            "Requirement already satisfied: plac<1.2.0,>=0.9.6 in /usr/local/lib/python3.6/dist-packages (from spacy->bert-extractive-summarizer==0.4.2) (1.1.3)\n",
            "Requirement already satisfied: catalogue<1.1.0,>=0.0.7 in /usr/local/lib/python3.6/dist-packages (from spacy->bert-extractive-summarizer==0.4.2) (1.0.0)\n",
            "Requirement already satisfied: blis<0.5.0,>=0.4.0 in /usr/local/lib/python3.6/dist-packages (from spacy->bert-extractive-summarizer==0.4.2) (0.4.1)\n",
            "Requirement already satisfied: srsly<1.1.0,>=1.0.2 in /usr/local/lib/python3.6/dist-packages (from spacy->bert-extractive-summarizer==0.4.2) (1.0.2)\n",
            "Requirement already satisfied: wasabi<1.1.0,>=0.4.0 in /usr/local/lib/python3.6/dist-packages (from spacy->bert-extractive-summarizer==0.4.2) (0.7.1)\n",
            "Requirement already satisfied: murmurhash<1.1.0,>=0.28.0 in /usr/local/lib/python3.6/dist-packages (from spacy->bert-extractive-summarizer==0.4.2) (1.0.2)\n",
            "Requirement already satisfied: cymem<2.1.0,>=2.0.2 in /usr/local/lib/python3.6/dist-packages (from spacy->bert-extractive-summarizer==0.4.2) (2.0.3)\n",
            "Requirement already satisfied: preshed<3.1.0,>=3.0.2 in /usr/local/lib/python3.6/dist-packages (from spacy->bert-extractive-summarizer==0.4.2) (3.0.2)\n",
            "Requirement already satisfied: six in /usr/local/lib/python3.6/dist-packages (from packaging->transformers->bert-extractive-summarizer==0.4.2) (1.15.0)\n",
            "Requirement already satisfied: pyparsing>=2.0.2 in /usr/local/lib/python3.6/dist-packages (from packaging->transformers->bert-extractive-summarizer==0.4.2) (2.4.7)\n",
            "Requirement already satisfied: click in /usr/local/lib/python3.6/dist-packages (from sacremoses->transformers->bert-extractive-summarizer==0.4.2) (7.1.2)\n",
            "Requirement already satisfied: chardet<4,>=3.0.2 in /usr/local/lib/python3.6/dist-packages (from requests->transformers->bert-extractive-summarizer==0.4.2) (3.0.4)\n",
            "Requirement already satisfied: certifi>=2017.4.17 in /usr/local/lib/python3.6/dist-packages (from requests->transformers->bert-extractive-summarizer==0.4.2) (2020.6.20)\n",
            "Requirement already satisfied: urllib3!=1.25.0,!=1.25.1,<1.26,>=1.21.1 in /usr/local/lib/python3.6/dist-packages (from requests->transformers->bert-extractive-summarizer==0.4.2) (1.24.3)\n",
            "Requirement already satisfied: idna<3,>=2.5 in /usr/local/lib/python3.6/dist-packages (from requests->transformers->bert-extractive-summarizer==0.4.2) (2.10)\n",
            "Requirement already satisfied: importlib-metadata>=0.20; python_version < \"3.8\" in /usr/local/lib/python3.6/dist-packages (from catalogue<1.1.0,>=0.0.7->spacy->bert-extractive-summarizer==0.4.2) (1.7.0)\n",
            "Requirement already satisfied: zipp>=0.5 in /usr/local/lib/python3.6/dist-packages (from importlib-metadata>=0.20; python_version < \"3.8\"->catalogue<1.1.0,>=0.0.7->spacy->bert-extractive-summarizer==0.4.2) (3.1.0)\n",
            "Building wheels for collected packages: bert-extractive-summarizer, sacremoses\n",
            "  Building wheel for bert-extractive-summarizer (setup.py) ... \u001b[?25l\u001b[?25hdone\n",
            "  Created wheel for bert-extractive-summarizer: filename=bert_extractive_summarizer-0.4.2-cp36-none-any.whl size=13711 sha256=4da9437c46f1cf6b4598eb3abd33dbca4cdc9008d937ef0a6f602f501a94c4c2\n",
            "  Stored in directory: /root/.cache/pip/wheels/13/bc/30/654eb9e657177a56cba927c5a20b6cd01fb229b1ed2bf9b371\n",
            "  Building wheel for sacremoses (setup.py) ... \u001b[?25l\u001b[?25hdone\n",
            "  Created wheel for sacremoses: filename=sacremoses-0.0.43-cp36-none-any.whl size=893260 sha256=e6c6fc902a7e62dbb510dfa78a3ecf266db503b75a95392ca4b7fdf699b19bb0\n",
            "  Stored in directory: /root/.cache/pip/wheels/29/3c/fd/7ce5c3f0666dab31a50123635e6fb5e19ceb42ce38d4e58f45\n",
            "Successfully built bert-extractive-summarizer sacremoses\n",
            "Installing collected packages: sacremoses, tokenizers, sentencepiece, transformers, bert-extractive-summarizer\n",
            "Successfully installed bert-extractive-summarizer-0.4.2 sacremoses-0.0.43 sentencepiece-0.1.91 tokenizers-0.8.1rc1 transformers-3.0.2\n"
          ]
        }
      ]
    },
    {
      "cell_type": "code",
      "metadata": {
        "colab": {
          "base_uri": "https://localhost:8080/",
          "height": 533
        },
        "id": "ptLk3xkQa_4u",
        "outputId": "12913108-74ef-48bc-f1c7-6b105c95f3f5"
      },
      "source": [
        "!pip install transformers==2.2.0"
      ],
      "execution_count": null,
      "outputs": [
        {
          "name": "stdout",
          "output_type": "stream",
          "text": [
            "Collecting transformers==2.2.0\n",
            "\u001b[?25l  Downloading https://files.pythonhosted.org/packages/ec/e7/0a1babead1b79afabb654fbec0a052e0d833ba4205a6dfd98b1aeda9c82e/transformers-2.2.0-py3-none-any.whl (360kB)\n",
            "\r",
            "\u001b[K     |█                               | 10kB 12.5MB/s eta 0:00:01\r",
            "\u001b[K     |█▉                              | 20kB 3.3MB/s eta 0:00:01\r",
            "\u001b[K     |██▊                             | 30kB 4.3MB/s eta 0:00:01\r",
            "\u001b[K     |███▋                            | 40kB 4.7MB/s eta 0:00:01\r",
            "\u001b[K     |████▌                           | 51kB 3.9MB/s eta 0:00:01\r",
            "\u001b[K     |█████▌                          | 61kB 4.3MB/s eta 0:00:01\r",
            "\u001b[K     |██████▍                         | 71kB 4.7MB/s eta 0:00:01\r",
            "\u001b[K     |███████▎                        | 81kB 5.1MB/s eta 0:00:01\r",
            "\u001b[K     |████████▏                       | 92kB 5.4MB/s eta 0:00:01\r",
            "\u001b[K     |█████████                       | 102kB 5.3MB/s eta 0:00:01\r",
            "\u001b[K     |██████████                      | 112kB 5.3MB/s eta 0:00:01\r",
            "\u001b[K     |███████████                     | 122kB 5.3MB/s eta 0:00:01\r",
            "\u001b[K     |███████████▉                    | 133kB 5.3MB/s eta 0:00:01\r",
            "\u001b[K     |████████████▊                   | 143kB 5.3MB/s eta 0:00:01\r",
            "\u001b[K     |█████████████▋                  | 153kB 5.3MB/s eta 0:00:01\r",
            "\u001b[K     |██████████████▌                 | 163kB 5.3MB/s eta 0:00:01\r",
            "\u001b[K     |███████████████▌                | 174kB 5.3MB/s eta 0:00:01\r",
            "\u001b[K     |████████████████▍               | 184kB 5.3MB/s eta 0:00:01\r",
            "\u001b[K     |█████████████████▎              | 194kB 5.3MB/s eta 0:00:01\r",
            "\u001b[K     |██████████████████▏             | 204kB 5.3MB/s eta 0:00:01\r",
            "\u001b[K     |███████████████████             | 215kB 5.3MB/s eta 0:00:01\r",
            "\u001b[K     |████████████████████            | 225kB 5.3MB/s eta 0:00:01\r",
            "\u001b[K     |█████████████████████           | 235kB 5.3MB/s eta 0:00:01\r",
            "\u001b[K     |█████████████████████▉          | 245kB 5.3MB/s eta 0:00:01\r",
            "\u001b[K     |██████████████████████▊         | 256kB 5.3MB/s eta 0:00:01\r",
            "\u001b[K     |███████████████████████▋        | 266kB 5.3MB/s eta 0:00:01\r",
            "\u001b[K     |████████████████████████▌       | 276kB 5.3MB/s eta 0:00:01\r",
            "\u001b[K     |█████████████████████████▍      | 286kB 5.3MB/s eta 0:00:01\r",
            "\u001b[K     |██████████████████████████▍     | 296kB 5.3MB/s eta 0:00:01\r",
            "\u001b[K     |███████████████████████████▎    | 307kB 5.3MB/s eta 0:00:01\r",
            "\u001b[K     |████████████████████████████▏   | 317kB 5.3MB/s eta 0:00:01\r",
            "\u001b[K     |█████████████████████████████   | 327kB 5.3MB/s eta 0:00:01\r",
            "\u001b[K     |██████████████████████████████  | 337kB 5.3MB/s eta 0:00:01\r",
            "\u001b[K     |███████████████████████████████ | 348kB 5.3MB/s eta 0:00:01\r",
            "\u001b[K     |███████████████████████████████▉| 358kB 5.3MB/s eta 0:00:01\r",
            "\u001b[K     |████████████████████████████████| 368kB 5.3MB/s \n",
            "\u001b[?25hRequirement already satisfied: sentencepiece in /usr/local/lib/python3.6/dist-packages (from transformers==2.2.0) (0.1.91)\n",
            "Requirement already satisfied: boto3 in /usr/local/lib/python3.6/dist-packages (from transformers==2.2.0) (1.14.37)\n",
            "Requirement already satisfied: requests in /usr/local/lib/python3.6/dist-packages (from transformers==2.2.0) (2.23.0)\n",
            "Requirement already satisfied: sacremoses in /usr/local/lib/python3.6/dist-packages (from transformers==2.2.0) (0.0.43)\n",
            "Requirement already satisfied: regex in /usr/local/lib/python3.6/dist-packages (from transformers==2.2.0) (2019.12.20)\n",
            "Requirement already satisfied: tqdm in /usr/local/lib/python3.6/dist-packages (from transformers==2.2.0) (4.41.1)\n",
            "Requirement already satisfied: numpy in /usr/local/lib/python3.6/dist-packages (from transformers==2.2.0) (1.18.5)\n",
            "Requirement already satisfied: s3transfer<0.4.0,>=0.3.0 in /usr/local/lib/python3.6/dist-packages (from boto3->transformers==2.2.0) (0.3.3)\n",
            "Requirement already satisfied: jmespath<1.0.0,>=0.7.1 in /usr/local/lib/python3.6/dist-packages (from boto3->transformers==2.2.0) (0.10.0)\n",
            "Requirement already satisfied: botocore<1.18.0,>=1.17.37 in /usr/local/lib/python3.6/dist-packages (from boto3->transformers==2.2.0) (1.17.37)\n",
            "Requirement already satisfied: idna<3,>=2.5 in /usr/local/lib/python3.6/dist-packages (from requests->transformers==2.2.0) (2.10)\n",
            "Requirement already satisfied: certifi>=2017.4.17 in /usr/local/lib/python3.6/dist-packages (from requests->transformers==2.2.0) (2020.6.20)\n",
            "Requirement already satisfied: urllib3!=1.25.0,!=1.25.1,<1.26,>=1.21.1 in /usr/local/lib/python3.6/dist-packages (from requests->transformers==2.2.0) (1.24.3)\n",
            "Requirement already satisfied: chardet<4,>=3.0.2 in /usr/local/lib/python3.6/dist-packages (from requests->transformers==2.2.0) (3.0.4)\n",
            "Requirement already satisfied: click in /usr/local/lib/python3.6/dist-packages (from sacremoses->transformers==2.2.0) (7.1.2)\n",
            "Requirement already satisfied: joblib in /usr/local/lib/python3.6/dist-packages (from sacremoses->transformers==2.2.0) (0.16.0)\n",
            "Requirement already satisfied: six in /usr/local/lib/python3.6/dist-packages (from sacremoses->transformers==2.2.0) (1.15.0)\n",
            "Requirement already satisfied: python-dateutil<3.0.0,>=2.1 in /usr/local/lib/python3.6/dist-packages (from botocore<1.18.0,>=1.17.37->boto3->transformers==2.2.0) (2.8.1)\n",
            "Requirement already satisfied: docutils<0.16,>=0.10 in /usr/local/lib/python3.6/dist-packages (from botocore<1.18.0,>=1.17.37->boto3->transformers==2.2.0) (0.15.2)\n",
            "Installing collected packages: transformers\n",
            "  Found existing installation: transformers 3.0.2\n",
            "    Uninstalling transformers-3.0.2:\n",
            "      Successfully uninstalled transformers-3.0.2\n",
            "Successfully installed transformers-2.2.0\n"
          ]
        }
      ]
    },
    {
      "cell_type": "code",
      "metadata": {
        "colab": {
          "base_uri": "https://localhost:8080/",
          "height": 1000
        },
        "id": "KvLwSCFbbKAF",
        "outputId": "8bd4b19f-8db0-4a2b-e854-fb9914719e60"
      },
      "source": [
        "!pip install spacy==2.0.12"
      ],
      "execution_count": null,
      "outputs": [
        {
          "name": "stdout",
          "output_type": "stream",
          "text": [
            "Collecting spacy==2.0.12\n",
            "\u001b[?25l  Downloading https://files.pythonhosted.org/packages/24/de/ac14cd453c98656d6738a5669f96a4ac7f668493d5e6b78227ac933c5fd4/spacy-2.0.12.tar.gz (22.0MB)\n",
            "\u001b[K     |████████████████████████████████| 22.0MB 1.3MB/s \n",
            "\u001b[?25hRequirement already satisfied: numpy>=1.7 in /usr/local/lib/python3.6/dist-packages (from spacy==2.0.12) (1.18.5)\n",
            "Collecting murmurhash<0.29,>=0.28\n",
            "  Downloading https://files.pythonhosted.org/packages/82/55/7f050e9f73c9a58df219c63e77304b0ff01676847061dc99abb484cff3a8/murmurhash-0.28.0-cp36-cp36m-manylinux1_x86_64.whl\n",
            "Collecting cymem<1.32,>=1.30\n",
            "  Downloading https://files.pythonhosted.org/packages/a5/0f/d29aa68c55db37844c77e7e96143bd96651fd0f4453c9f6ee043ac846b77/cymem-1.31.2-cp36-cp36m-manylinux1_x86_64.whl\n",
            "Collecting preshed<2.0.0,>=1.0.0\n",
            "\u001b[?25l  Downloading https://files.pythonhosted.org/packages/12/88/57a818051f3d71e800bfb7ba4df56d3ea5793482ef11f1d2109b726f3bac/preshed-1.0.1-cp36-cp36m-manylinux1_x86_64.whl (80kB)\n",
            "\u001b[K     |████████████████████████████████| 81kB 13.1MB/s \n",
            "\u001b[?25hCollecting thinc<6.11.0,>=6.10.3\n",
            "\u001b[?25l  Downloading https://files.pythonhosted.org/packages/94/b1/47a88072d0a38b3594c0a638a62f9ef7c742b8b8a87f7b105f7ed720b14b/thinc-6.10.3.tar.gz (1.2MB)\n",
            "\u001b[K     |████████████████████████████████| 1.2MB 54.5MB/s \n",
            "\u001b[?25hCollecting plac<1.0.0,>=0.9.6\n",
            "  Downloading https://files.pythonhosted.org/packages/9e/9b/62c60d2f5bc135d2aa1d8c8a86aaf84edb719a59c7f11a4316259e61a298/plac-0.9.6-py2.py3-none-any.whl\n",
            "Collecting ujson>=1.35\n",
            "\u001b[?25l  Downloading https://files.pythonhosted.org/packages/be/1a/36ead6ae1bc3b82ea864ef87f8c8e1e06bec3a745dc65915f47b46f241d0/ujson-3.1.0-cp36-cp36m-manylinux1_x86_64.whl (175kB)\n",
            "\u001b[K     |████████████████████████████████| 184kB 56.3MB/s \n",
            "\u001b[?25hCollecting dill<0.3,>=0.2\n",
            "\u001b[?25l  Downloading https://files.pythonhosted.org/packages/fe/42/bfe2e0857bc284cbe6a011d93f2a9ad58a22cb894461b199ae72cfef0f29/dill-0.2.9.tar.gz (150kB)\n",
            "\u001b[K     |████████████████████████████████| 153kB 54.8MB/s \n",
            "\u001b[?25hCollecting regex==2017.4.5\n",
            "\u001b[?25l  Downloading https://files.pythonhosted.org/packages/36/62/c0c0d762ffd4ffaf39f372eb8561b8d491a11ace5a7884610424a8b40f95/regex-2017.04.05.tar.gz (601kB)\n",
            "\u001b[K     |████████████████████████████████| 604kB 54.1MB/s \n",
            "\u001b[?25hRequirement already satisfied: requests<3.0.0,>=2.13.0 in /usr/local/lib/python3.6/dist-packages (from spacy==2.0.12) (2.23.0)\n",
            "Collecting msgpack<1.0.0,>=0.5.6\n",
            "\u001b[?25l  Downloading https://files.pythonhosted.org/packages/3d/a8/e01fea81691749044a7bfd44536483a296d9c0a7ed4ec8810a229435547c/msgpack-0.6.2-cp36-cp36m-manylinux1_x86_64.whl (249kB)\n",
            "\u001b[K     |████████████████████████████████| 256kB 50.0MB/s \n",
            "\u001b[?25hCollecting msgpack-numpy<1.0.0,>=0.4.1\n",
            "  Downloading https://files.pythonhosted.org/packages/ba/50/8a49f3da7dca7baa9a5a12cd573af99b62746ba9298fa751e04a3c38c311/msgpack_numpy-0.4.6.1-py2.py3-none-any.whl\n",
            "Collecting cytoolz<0.10,>=0.9.0\n",
            "\u001b[?25l  Downloading https://files.pythonhosted.org/packages/36/f4/9728ba01ccb2f55df9a5af029b48ba0aaca1081bbd7823ea2ee223ba7a42/cytoolz-0.9.0.1.tar.gz (443kB)\n",
            "\u001b[K     |████████████████████████████████| 450kB 51.4MB/s \n",
            "\u001b[?25hCollecting wrapt<1.11.0,>=1.10.0\n",
            "  Downloading https://files.pythonhosted.org/packages/a0/47/66897906448185fcb77fc3c2b1bc20ed0ecca81a0f2f88eda3fc5a34fc3d/wrapt-1.10.11.tar.gz\n",
            "Requirement already satisfied: tqdm<5.0.0,>=4.10.0 in /usr/local/lib/python3.6/dist-packages (from thinc<6.11.0,>=6.10.3->spacy==2.0.12) (4.41.1)\n",
            "Requirement already satisfied: six<2.0.0,>=1.10.0 in /usr/local/lib/python3.6/dist-packages (from thinc<6.11.0,>=6.10.3->spacy==2.0.12) (1.15.0)\n",
            "Requirement already satisfied: idna<3,>=2.5 in /usr/local/lib/python3.6/dist-packages (from requests<3.0.0,>=2.13.0->spacy==2.0.12) (2.10)\n",
            "Requirement already satisfied: chardet<4,>=3.0.2 in /usr/local/lib/python3.6/dist-packages (from requests<3.0.0,>=2.13.0->spacy==2.0.12) (3.0.4)\n",
            "Requirement already satisfied: urllib3!=1.25.0,!=1.25.1,<1.26,>=1.21.1 in /usr/local/lib/python3.6/dist-packages (from requests<3.0.0,>=2.13.0->spacy==2.0.12) (1.24.3)\n",
            "Requirement already satisfied: certifi>=2017.4.17 in /usr/local/lib/python3.6/dist-packages (from requests<3.0.0,>=2.13.0->spacy==2.0.12) (2020.6.20)\n",
            "Requirement already satisfied: toolz>=0.8.0 in /usr/local/lib/python3.6/dist-packages (from cytoolz<0.10,>=0.9.0->thinc<6.11.0,>=6.10.3->spacy==2.0.12) (0.10.0)\n",
            "Building wheels for collected packages: spacy, thinc, dill, regex, cytoolz, wrapt\n",
            "  Building wheel for spacy (setup.py) ... \u001b[?25l\u001b[?25hdone\n",
            "  Created wheel for spacy: filename=spacy-2.0.12-cp36-cp36m-linux_x86_64.whl size=29062999 sha256=961843896c01d8dff7b767803e3c23ccda36492b0688f2f94d15f1045d68bb56\n",
            "  Stored in directory: /root/.cache/pip/wheels/60/0b/bb/7c2e28db574dbb2358176934eddd32a1c5f838ba0bc23eaaab\n",
            "  Building wheel for thinc (setup.py) ... \u001b[?25l\u001b[?25hdone\n",
            "  Created wheel for thinc: filename=thinc-6.10.3-cp36-cp36m-linux_x86_64.whl size=4121024 sha256=8b626a6a29e2ec1665822a9588e2761163cf3aa0cde2c665ed60777c1a34433d\n",
            "  Stored in directory: /root/.cache/pip/wheels/db/bc/e1/9b321b6b203288cf636a56e668ed5700076af4ed66062278ca\n",
            "  Building wheel for dill (setup.py) ... \u001b[?25l\u001b[?25hdone\n",
            "  Created wheel for dill: filename=dill-0.2.9-cp36-none-any.whl size=77404 sha256=1b9332bfee266900cc04b1f9cf410fc9e38a90eee4f717cac4f01ae880481c17\n",
            "  Stored in directory: /root/.cache/pip/wheels/5b/d7/0f/e58eae695403de585269f4e4a94e0cd6ca60ec0c202936fa4a\n",
            "  Building wheel for regex (setup.py) ... \u001b[?25l\u001b[?25hdone\n",
            "  Created wheel for regex: filename=regex-2017.4.5-cp36-cp36m-linux_x86_64.whl size=533203 sha256=d7bb07580b6e86e3b18be0cd4415c726b3767950b5d9db393a1594d7b4c84a15\n",
            "  Stored in directory: /root/.cache/pip/wheels/75/07/38/3c16b529d50cb4e0cd3dbc7b75cece8a09c132692c74450b01\n",
            "  Building wheel for cytoolz (setup.py) ... \u001b[?25l\u001b[?25hdone\n",
            "  Created wheel for cytoolz: filename=cytoolz-0.9.0.1-cp36-cp36m-linux_x86_64.whl size=1247749 sha256=ab09d40958b231957c2bcce27cacdb33429fd8870470bb1c20e2cdf200ea16c9\n",
            "  Stored in directory: /root/.cache/pip/wheels/88/f3/11/9817b001e59ab04889e8cffcbd9087e2e2155b9ebecfc8dd38\n",
            "  Building wheel for wrapt (setup.py) ... \u001b[?25l\u001b[?25hdone\n",
            "  Created wheel for wrapt: filename=wrapt-1.10.11-cp36-cp36m-linux_x86_64.whl size=65123 sha256=602da53f8e576cdf51b5a95dc5003d6ee7cbb8fb6270d248c9c4c72352507cfb\n",
            "  Stored in directory: /root/.cache/pip/wheels/48/5d/04/22361a593e70d23b1f7746d932802efe1f0e523376a74f321e\n",
            "Successfully built spacy thinc dill regex cytoolz wrapt\n",
            "\u001b[31mERROR: tensorflow 2.3.0 has requirement wrapt>=1.11.1, but you'll have wrapt 1.10.11 which is incompatible.\u001b[0m\n",
            "\u001b[31mERROR: multiprocess 0.70.10 has requirement dill>=0.3.2, but you'll have dill 0.2.9 which is incompatible.\u001b[0m\n",
            "\u001b[31mERROR: fastai 1.0.61 has requirement spacy>=2.0.18; python_version < \"3.8\", but you'll have spacy 2.0.12 which is incompatible.\u001b[0m\n",
            "\u001b[31mERROR: en-core-web-sm 2.2.5 has requirement spacy>=2.2.2, but you'll have spacy 2.0.12 which is incompatible.\u001b[0m\n",
            "Installing collected packages: murmurhash, cymem, preshed, msgpack, msgpack-numpy, cytoolz, wrapt, plac, dill, thinc, ujson, regex, spacy\n",
            "  Found existing installation: murmurhash 1.0.2\n",
            "    Uninstalling murmurhash-1.0.2:\n",
            "      Successfully uninstalled murmurhash-1.0.2\n",
            "  Found existing installation: cymem 2.0.3\n",
            "    Uninstalling cymem-2.0.3:\n",
            "      Successfully uninstalled cymem-2.0.3\n",
            "  Found existing installation: preshed 3.0.2\n",
            "    Uninstalling preshed-3.0.2:\n",
            "      Successfully uninstalled preshed-3.0.2\n",
            "  Found existing installation: msgpack 1.0.0\n",
            "    Uninstalling msgpack-1.0.0:\n",
            "      Successfully uninstalled msgpack-1.0.0\n",
            "  Found existing installation: wrapt 1.12.1\n",
            "    Uninstalling wrapt-1.12.1:\n",
            "      Successfully uninstalled wrapt-1.12.1\n",
            "  Found existing installation: plac 1.1.3\n",
            "    Uninstalling plac-1.1.3:\n",
            "      Successfully uninstalled plac-1.1.3\n",
            "  Found existing installation: dill 0.3.2\n",
            "    Uninstalling dill-0.3.2:\n",
            "      Successfully uninstalled dill-0.3.2\n",
            "  Found existing installation: thinc 7.4.0\n",
            "    Uninstalling thinc-7.4.0:\n",
            "      Successfully uninstalled thinc-7.4.0\n",
            "  Found existing installation: regex 2019.12.20\n",
            "    Uninstalling regex-2019.12.20:\n",
            "      Successfully uninstalled regex-2019.12.20\n",
            "  Found existing installation: spacy 2.2.4\n",
            "    Uninstalling spacy-2.2.4:\n",
            "      Successfully uninstalled spacy-2.2.4\n",
            "Successfully installed cymem-1.31.2 cytoolz-0.9.0.1 dill-0.2.9 msgpack-0.6.2 msgpack-numpy-0.4.6.1 murmurhash-0.28.0 plac-0.9.6 preshed-1.0.1 regex-2017.4.5 spacy-2.0.12 thinc-6.10.3 ujson-3.1.0 wrapt-1.10.11\n"
          ]
        }
      ]
    },
    {
      "cell_type": "code",
      "metadata": {
        "id": "DATrxmaje22v"
      },
      "source": [
        "from summarizer import Summarizer,TransformerSummarizer"
      ],
      "execution_count": null,
      "outputs": []
    },
    {
      "cell_type": "code",
      "metadata": {
        "id": "nQIfx5pmfCHp"
      },
      "source": [
        "body = '''\n",
        "        Jurgen Klopp has praised his Liverpool players and staff after they were crowned Premier League champions.\n",
        "\n",
        "Manchester City’s 2-1 defeat to Chelsea on Thursday saw the Reds confirmed the top-flight champions for the first time in 30 years, as they now sit 23 points clear at the top of the table with seven matches left.\n",
        "\n",
        "Much of the credit for the Anfield side’s recent success has gone to the German coach, but Klopp says he owes it to the ambitious players and coaches around him.\n",
        "“I am nothing without my coaches and even less without my players,” Klopp said. “We have a common idea and common dream. We have big dreams and we've always had them – that doesn't mean we can fulfil them, but we have to give them a proper try and that is what we have done since we have been here.\n",
        "\n",
        "“Not more, and it will never be less, and the more people dream the more important and stronger it gets. So of course, without the players buying into this philosophy I have no chance, but we will not stop.\n",
        "\n",
        "“We have to show that on the pitch obviously and two games here or there and you will tell us: 'That is not the Liverpool of last year'.\n",
        "\n",
        "“It is OK to try but these questions will never come up that we will show you it is possible to do things even longer, not only one year, not only two years because if you into detail you would see we have done it for four years.\n",
        "“We try to squeeze everything out and it didn't work out always, but the intensity was never less, it was just not as successful.\n",
        "\n",
        "“The boys are in good age group, more experienced, more confident, more convinced and we should use that as much as we can but we know there are other teams out there who will do the exactly the same to improve their situation and there will be hard fights but that is how the Premier League is, a hard fight every three days.\n",
        "\n",
        "“We have seven days off before Man City and then we play six of the seven remaining games in 18 days or so, so there is not a lot of time to think, only about the game we play and then the next game. That will be pretty intense.”\n",
        "        '''"
      ],
      "execution_count": null,
      "outputs": []
    },
    {
      "cell_type": "code",
      "metadata": {
        "colab": {
          "base_uri": "https://localhost:8080/",
          "height": 110
        },
        "id": "3GUNOPTIfZK6",
        "outputId": "554d0ba6-f21e-4d7e-ba93-9205e1031034"
      },
      "source": [
        "distilbert_model = Summarizer('distilbert-base-uncased')\n",
        "distilbert_summary = ''.join(distilbert_model(body, ratio=0.4))\n",
        "print(distilbert_summary)"
      ],
      "execution_count": null,
      "outputs": [
        {
          "name": "stderr",
          "output_type": "stream",
          "text": [
            "100%|██████████| 442/442 [00:00<00:00, 144113.99B/s]\n",
            "100%|██████████| 267967963/267967963 [00:08<00:00, 32706716.46B/s]\n",
            "100%|██████████| 231508/231508 [00:00<00:00, 903592.47B/s]\n"
          ]
        },
        {
          "name": "stdout",
          "output_type": "stream",
          "text": [
            "Jurgen Klopp has praised his Liverpool players and staff after they were crowned Premier League champions. Manchester City’s 2-1 defeat to Chelsea on Thursday saw the Reds confirmed the top-flight champions for the first time in 30 years, as they now sit 23 points clear at the top of the table with seven matches left. Much of the credit for the Anfield side’s recent success has gone to the German coach, but Klopp says he owes it to the ambitious players and coaches around him. “Not more, and it will never be less, and the more people dream the more important and stronger it gets. “The boys are in good age group, more experienced, more confident, more convinced and we should use that as much as we can but we know there are other teams out there who will do the exactly the same to improve their situation and there will be hard fights but that is how the Premier League is, a hard fight every three days.\n"
          ]
        }
      ]
    },
    {
      "cell_type": "code",
      "metadata": {
        "colab": {
          "base_uri": "https://localhost:8080/",
          "height": 92
        },
        "id": "RkgLnDWijcUs",
        "outputId": "b4572afd-cdd8-417b-9d69-b9d5fd79f29a"
      },
      "source": [
        "bert_model = Summarizer('bert-base-uncased')\n",
        "bert_summary = ''.join(bert_model(body, ratio=0.4))\n",
        "print(bert_summary)"
      ],
      "execution_count": null,
      "outputs": [
        {
          "name": "stderr",
          "output_type": "stream",
          "text": [
            "100%|██████████| 433/433 [00:00<00:00, 238682.30B/s]\n",
            "100%|██████████| 440473133/440473133 [00:13<00:00, 31464692.73B/s]\n"
          ]
        },
        {
          "name": "stdout",
          "output_type": "stream",
          "text": [
            "Jurgen Klopp has praised his Liverpool players and staff after they were crowned Premier League champions. Much of the credit for the Anfield side’s recent success has gone to the German coach, but Klopp says he owes it to the ambitious players and coaches around him. We have big dreams and we've always had them – that doesn't mean we can fulfil them, but we have to give them a proper try and that is what we have done since we have been here. “Not more, and it will never be less, and the more people dream the more important and stronger it gets. “The boys are in good age group, more experienced, more confident, more convinced and we should use that as much as we can but we know there are other teams out there who will do the exactly the same to improve their situation and there will be hard fights but that is how the Premier League is, a hard fight every three days.\n"
          ]
        }
      ]
    },
    {
      "cell_type": "code",
      "metadata": {
        "colab": {
          "base_uri": "https://localhost:8080/",
          "height": 55
        },
        "id": "MSH63p9WhVZB",
        "outputId": "838df3c8-10cf-43b1-92e0-41ce7392343c"
      },
      "source": [
        "GPT2_model = TransformerSummarizer(transformer_type=\"GPT2\",transformer_model_key=\"gpt2-medium\")\n",
        "GPT2_model_summary = ''.join(GPT2_model(body, ratio = 0.4))\n",
        "print(GPT2_model_summary)"
      ],
      "execution_count": null,
      "outputs": [
        {
          "name": "stdout",
          "output_type": "stream",
          "text": [
            "Jurgen Klopp has praised his Liverpool players and staff after they were crowned Premier League champions. Much of the credit for the Anfield side’s recent success has gone to the German coach, but Klopp says he owes it to the ambitious players and coaches around him. “I am nothing without my coaches and even less without my players,” Klopp said. “ “We have to show that on the pitch obviously and two games here or there and you will tell us: 'That is not the Liverpool of last year'. “The boys are in good age group, more experienced, more confident, more convinced and we should use that as much as we can but we know there are other teams out there who will do the exactly the same to improve their situation and there will be hard fights but that is how the Premier League is, a hard fight every three days.\n"
          ]
        }
      ]
    },
    {
      "cell_type": "code",
      "metadata": {
        "colab": {
          "base_uri": "https://localhost:8080/",
          "height": 110
        },
        "id": "Bgb1nxyoiBun",
        "outputId": "4624c050-9c77-4a19-e8bf-cc8b786964b0"
      },
      "source": [
        "model = TransformerSummarizer(transformer_type=\"XLNet\",transformer_model_key=\"xlnet-base-cased\")\n",
        "XLNet_summary = ''.join(model(body, ratio=0.4))\n",
        "print(XLNet_summary)"
      ],
      "execution_count": null,
      "outputs": [
        {
          "name": "stderr",
          "output_type": "stream",
          "text": [
            "100%|██████████| 760/760 [00:00<00:00, 208031.78B/s]\n",
            "100%|██████████| 467042463/467042463 [00:12<00:00, 36452201.17B/s]\n",
            "100%|██████████| 798011/798011 [00:00<00:00, 2447022.30B/s]\n"
          ]
        },
        {
          "name": "stdout",
          "output_type": "stream",
          "text": [
            "Jurgen Klopp has praised his Liverpool players and staff after they were crowned Premier League champions. “Not more, and it will never be less, and the more people dream the more important and stronger it gets. So of course, without the players buying into this philosophy I have no chance, but we will not stop. “The boys are in good age group, more experienced, more confident, more convinced and we should use that as much as we can but we know there are other teams out there who will do the exactly the same to improve their situation and there will be hard fights but that is how the Premier League is, a hard fight every three days.\n"
          ]
        }
      ]
    },
    {
      "cell_type": "code",
      "metadata": {
        "id": "lnx8OZof6tdp"
      },
      "source": [
        "reference_summary = '''Jurgen Klopp has praised his Liverpool players and staff after they were crowned Premier League champions.Manchester City’s 2-1 defeat to Chelsea on Thursday saw the Reds confirmed the top-flight champions for the first time in 30 years, as they now sit 23 points clear at the top of the table with seven matches left.Much of the credit for the Anfield side’s recent success has gone to the German coach, but Klopp says he owes it to the ambitious players and coaches around him.\n",
        "“We have a common idea and common dream. We have big dreams and we've always had them – that doesn't mean we can fulfil them, but we have to give them a proper try and that is what we have done since we have been here.\n",
        "“The boys are in good age group, more experienced, more confident, more convinced and we should use that as much as we can but we know there are other teams out there who will do the exactly the same to improve their situation and there will be hard fights but that is how the Premier League is, a hard fight every three days.'''"
      ],
      "execution_count": null,
      "outputs": []
    },
    {
      "cell_type": "code",
      "metadata": {
        "colab": {
          "base_uri": "https://localhost:8080/",
          "height": 184
        },
        "id": "s7C71f-t8LZC",
        "outputId": "556c5eea-2456-483c-b559-711e9e5e16ec"
      },
      "source": [
        "!pip install rouge_score"
      ],
      "execution_count": null,
      "outputs": [
        {
          "name": "stdout",
          "output_type": "stream",
          "text": [
            "Collecting rouge_score\n",
            "  Downloading https://files.pythonhosted.org/packages/1f/56/a81022436c08b9405a5247b71635394d44fe7e1dbedc4b28c740e09c2840/rouge_score-0.0.4-py2.py3-none-any.whl\n",
            "Requirement already satisfied: nltk in /usr/local/lib/python3.6/dist-packages (from rouge_score) (3.2.5)\n",
            "Requirement already satisfied: absl-py in /usr/local/lib/python3.6/dist-packages (from rouge_score) (0.9.0)\n",
            "Requirement already satisfied: numpy in /usr/local/lib/python3.6/dist-packages (from rouge_score) (1.18.5)\n",
            "Requirement already satisfied: six>=1.14.0 in /usr/local/lib/python3.6/dist-packages (from rouge_score) (1.15.0)\n",
            "Installing collected packages: rouge-score\n",
            "Successfully installed rouge-score-0.0.4\n"
          ]
        }
      ]
    },
    {
      "cell_type": "code",
      "metadata": {
        "id": "qRSe7xMS8gYr"
      },
      "source": [
        "from rouge_score import rouge_scorer"
      ],
      "execution_count": null,
      "outputs": []
    },
    {
      "cell_type": "code",
      "metadata": {
        "id": "1c56c8Ug8n1O"
      },
      "source": [
        "scorer = rouge_scorer.RougeScorer(['rouge1','rougeL'], use_stemmer=True)"
      ],
      "execution_count": null,
      "outputs": []
    },
    {
      "cell_type": "code",
      "metadata": {
        "id": "dYkXBgdl8t16"
      },
      "source": [
        "scores_distilbert = scorer.score(distilbert_summary,reference_summary)"
      ],
      "execution_count": null,
      "outputs": []
    },
    {
      "cell_type": "code",
      "metadata": {
        "colab": {
          "base_uri": "https://localhost:8080/",
          "height": 55
        },
        "id": "vy1yKKY090EJ",
        "outputId": "d6d30389-034a-41c5-9fbd-9bd535ce1321"
      },
      "source": [
        "print(scores_distilbert)"
      ],
      "execution_count": null,
      "outputs": [
        {
          "name": "stdout",
          "output_type": "stream",
          "text": [
            "{'rouge1': Score(precision=0.7839195979899497, recall=0.9069767441860465, fmeasure=0.8409703504043126), 'rougeL': Score(precision=0.7788944723618091, recall=0.9011627906976745, fmeasure=0.8355795148247978)}\n"
          ]
        }
      ]
    },
    {
      "cell_type": "code",
      "metadata": {
        "id": "z9os9h9D-C8I"
      },
      "source": [
        "scores_bert = scorer.score(bert_summary,reference_summary)"
      ],
      "execution_count": null,
      "outputs": []
    },
    {
      "cell_type": "code",
      "metadata": {
        "colab": {
          "base_uri": "https://localhost:8080/",
          "height": 55
        },
        "id": "R0rLdTdF-OML",
        "outputId": "7041adab-ab22-4e99-8f1c-670aa2a753b1"
      },
      "source": [
        "print(scores_bert)"
      ],
      "execution_count": null,
      "outputs": [
        {
          "name": "stdout",
          "output_type": "stream",
          "text": [
            "{'rouge1': Score(precision=0.7688442211055276, recall=0.9053254437869822, fmeasure=0.8315217391304347), 'rougeL': Score(precision=0.7487437185929648, recall=0.8816568047337278, fmeasure=0.8097826086956522)}\n"
          ]
        }
      ]
    },
    {
      "cell_type": "code",
      "metadata": {
        "id": "k5j-jbwu-TFo"
      },
      "source": [
        "scores_GPT2 = scorer.score(GPT2_model_summary,reference_summary)"
      ],
      "execution_count": null,
      "outputs": []
    },
    {
      "cell_type": "code",
      "metadata": {
        "colab": {
          "base_uri": "https://localhost:8080/",
          "height": 55
        },
        "id": "enHxpHoV-bGd",
        "outputId": "efe1cf55-6fcc-4588-c850-927e64038a04"
      },
      "source": [
        "print(scores_GPT2)"
      ],
      "execution_count": null,
      "outputs": [
        {
          "name": "stdout",
          "output_type": "stream",
          "text": [
            "{'rouge1': Score(precision=0.628140703517588, recall=0.8223684210526315, fmeasure=0.7122507122507122), 'rougeL': Score(precision=0.5879396984924623, recall=0.7697368421052632, fmeasure=0.6666666666666667)}\n"
          ]
        }
      ]
    },
    {
      "cell_type": "code",
      "metadata": {
        "id": "zA7DPuUF-f_c"
      },
      "source": [
        "scores_XLNet = scorer.score(XLNet_summary,reference_summary)"
      ],
      "execution_count": null,
      "outputs": []
    },
    {
      "cell_type": "code",
      "metadata": {
        "colab": {
          "base_uri": "https://localhost:8080/",
          "height": 55
        },
        "id": "DOJZR2cf-phW",
        "outputId": "18320ed6-a9f2-4e49-fd6e-632b25efac8d"
      },
      "source": [
        "print(scores_XLNet)"
      ],
      "execution_count": null,
      "outputs": [
        {
          "name": "stdout",
          "output_type": "stream",
          "text": [
            "{'rouge1': Score(precision=0.4623115577889447, recall=0.7796610169491526, fmeasure=0.580441640378549), 'rougeL': Score(precision=0.4371859296482412, recall=0.7372881355932204, fmeasure=0.5488958990536278)}\n"
          ]
        }
      ]
    }
  ]
}