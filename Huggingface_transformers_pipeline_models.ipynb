{
  "nbformat": 4,
  "nbformat_minor": 0,
  "metadata": {
    "colab": {
      "name": "Huggingface_transformers_pipeline_models.ipynb",
      "provenance": [],
      "authorship_tag": "ABX9TyOq+nJLlgcVBppzzTVfkaRx",
      "include_colab_link": true
    },
    "kernelspec": {
      "name": "python3",
      "display_name": "Python 3"
    },
    "language_info": {
      "name": "python"
    },
    "widgets": {
      "application/vnd.jupyter.widget-state+json": {
        "3ca0b46de5e54a28af38439ecceddcd7": {
          "model_module": "@jupyter-widgets/controls",
          "model_name": "HBoxModel",
          "state": {
            "_view_name": "HBoxView",
            "_dom_classes": [],
            "_model_name": "HBoxModel",
            "_view_module": "@jupyter-widgets/controls",
            "_model_module_version": "1.5.0",
            "_view_count": null,
            "_view_module_version": "1.5.0",
            "box_style": "",
            "layout": "IPY_MODEL_7e2fec3fea384e1cbce8f87bfeca70d4",
            "_model_module": "@jupyter-widgets/controls",
            "children": [
              "IPY_MODEL_4209484087bb4963996d9b78b17cd7b4",
              "IPY_MODEL_2d170deb44cf481594de0490eff9d01f"
            ]
          }
        },
        "7e2fec3fea384e1cbce8f87bfeca70d4": {
          "model_module": "@jupyter-widgets/base",
          "model_name": "LayoutModel",
          "state": {
            "_view_name": "LayoutView",
            "grid_template_rows": null,
            "right": null,
            "justify_content": null,
            "_view_module": "@jupyter-widgets/base",
            "overflow": null,
            "_model_module_version": "1.2.0",
            "_view_count": null,
            "flex_flow": null,
            "width": null,
            "min_width": null,
            "border": null,
            "align_items": null,
            "bottom": null,
            "_model_module": "@jupyter-widgets/base",
            "top": null,
            "grid_column": null,
            "overflow_y": null,
            "overflow_x": null,
            "grid_auto_flow": null,
            "grid_area": null,
            "grid_template_columns": null,
            "flex": null,
            "_model_name": "LayoutModel",
            "justify_items": null,
            "grid_row": null,
            "max_height": null,
            "align_content": null,
            "visibility": null,
            "align_self": null,
            "height": null,
            "min_height": null,
            "padding": null,
            "grid_auto_rows": null,
            "grid_gap": null,
            "max_width": null,
            "order": null,
            "_view_module_version": "1.2.0",
            "grid_template_areas": null,
            "object_position": null,
            "object_fit": null,
            "grid_auto_columns": null,
            "margin": null,
            "display": null,
            "left": null
          }
        },
        "4209484087bb4963996d9b78b17cd7b4": {
          "model_module": "@jupyter-widgets/controls",
          "model_name": "FloatProgressModel",
          "state": {
            "_view_name": "ProgressView",
            "style": "IPY_MODEL_4086d2d65c71450a9279c11408074dfc",
            "_dom_classes": [],
            "description": "Downloading: 100%",
            "_model_name": "FloatProgressModel",
            "bar_style": "success",
            "max": 570,
            "_view_module": "@jupyter-widgets/controls",
            "_model_module_version": "1.5.0",
            "value": 570,
            "_view_count": null,
            "_view_module_version": "1.5.0",
            "orientation": "horizontal",
            "min": 0,
            "description_tooltip": null,
            "_model_module": "@jupyter-widgets/controls",
            "layout": "IPY_MODEL_5cc4bb16de204acc8d98ebf5cf7c6396"
          }
        },
        "2d170deb44cf481594de0490eff9d01f": {
          "model_module": "@jupyter-widgets/controls",
          "model_name": "HTMLModel",
          "state": {
            "_view_name": "HTMLView",
            "style": "IPY_MODEL_a4ebcd0b0c7c4ec195989c3b358c764e",
            "_dom_classes": [],
            "description": "",
            "_model_name": "HTMLModel",
            "placeholder": "​",
            "_view_module": "@jupyter-widgets/controls",
            "_model_module_version": "1.5.0",
            "value": " 570/570 [00:55&lt;00:00, 10.3B/s]",
            "_view_count": null,
            "_view_module_version": "1.5.0",
            "description_tooltip": null,
            "_model_module": "@jupyter-widgets/controls",
            "layout": "IPY_MODEL_cc9dbfb24bf84352a0ac10a163f2133f"
          }
        },
        "4086d2d65c71450a9279c11408074dfc": {
          "model_module": "@jupyter-widgets/controls",
          "model_name": "ProgressStyleModel",
          "state": {
            "_view_name": "StyleView",
            "_model_name": "ProgressStyleModel",
            "description_width": "initial",
            "_view_module": "@jupyter-widgets/base",
            "_model_module_version": "1.5.0",
            "_view_count": null,
            "_view_module_version": "1.2.0",
            "bar_color": null,
            "_model_module": "@jupyter-widgets/controls"
          }
        },
        "5cc4bb16de204acc8d98ebf5cf7c6396": {
          "model_module": "@jupyter-widgets/base",
          "model_name": "LayoutModel",
          "state": {
            "_view_name": "LayoutView",
            "grid_template_rows": null,
            "right": null,
            "justify_content": null,
            "_view_module": "@jupyter-widgets/base",
            "overflow": null,
            "_model_module_version": "1.2.0",
            "_view_count": null,
            "flex_flow": null,
            "width": null,
            "min_width": null,
            "border": null,
            "align_items": null,
            "bottom": null,
            "_model_module": "@jupyter-widgets/base",
            "top": null,
            "grid_column": null,
            "overflow_y": null,
            "overflow_x": null,
            "grid_auto_flow": null,
            "grid_area": null,
            "grid_template_columns": null,
            "flex": null,
            "_model_name": "LayoutModel",
            "justify_items": null,
            "grid_row": null,
            "max_height": null,
            "align_content": null,
            "visibility": null,
            "align_self": null,
            "height": null,
            "min_height": null,
            "padding": null,
            "grid_auto_rows": null,
            "grid_gap": null,
            "max_width": null,
            "order": null,
            "_view_module_version": "1.2.0",
            "grid_template_areas": null,
            "object_position": null,
            "object_fit": null,
            "grid_auto_columns": null,
            "margin": null,
            "display": null,
            "left": null
          }
        },
        "a4ebcd0b0c7c4ec195989c3b358c764e": {
          "model_module": "@jupyter-widgets/controls",
          "model_name": "DescriptionStyleModel",
          "state": {
            "_view_name": "StyleView",
            "_model_name": "DescriptionStyleModel",
            "description_width": "",
            "_view_module": "@jupyter-widgets/base",
            "_model_module_version": "1.5.0",
            "_view_count": null,
            "_view_module_version": "1.2.0",
            "_model_module": "@jupyter-widgets/controls"
          }
        },
        "cc9dbfb24bf84352a0ac10a163f2133f": {
          "model_module": "@jupyter-widgets/base",
          "model_name": "LayoutModel",
          "state": {
            "_view_name": "LayoutView",
            "grid_template_rows": null,
            "right": null,
            "justify_content": null,
            "_view_module": "@jupyter-widgets/base",
            "overflow": null,
            "_model_module_version": "1.2.0",
            "_view_count": null,
            "flex_flow": null,
            "width": null,
            "min_width": null,
            "border": null,
            "align_items": null,
            "bottom": null,
            "_model_module": "@jupyter-widgets/base",
            "top": null,
            "grid_column": null,
            "overflow_y": null,
            "overflow_x": null,
            "grid_auto_flow": null,
            "grid_area": null,
            "grid_template_columns": null,
            "flex": null,
            "_model_name": "LayoutModel",
            "justify_items": null,
            "grid_row": null,
            "max_height": null,
            "align_content": null,
            "visibility": null,
            "align_self": null,
            "height": null,
            "min_height": null,
            "padding": null,
            "grid_auto_rows": null,
            "grid_gap": null,
            "max_width": null,
            "order": null,
            "_view_module_version": "1.2.0",
            "grid_template_areas": null,
            "object_position": null,
            "object_fit": null,
            "grid_auto_columns": null,
            "margin": null,
            "display": null,
            "left": null
          }
        },
        "01c9f8a9c6114e1cb10a972125e485c0": {
          "model_module": "@jupyter-widgets/controls",
          "model_name": "HBoxModel",
          "state": {
            "_view_name": "HBoxView",
            "_dom_classes": [],
            "_model_name": "HBoxModel",
            "_view_module": "@jupyter-widgets/controls",
            "_model_module_version": "1.5.0",
            "_view_count": null,
            "_view_module_version": "1.5.0",
            "box_style": "",
            "layout": "IPY_MODEL_fd4edc8180964c8a873ec9a64764bdc7",
            "_model_module": "@jupyter-widgets/controls",
            "children": [
              "IPY_MODEL_1cb43e75949b4d0691de6243f1691566",
              "IPY_MODEL_d22a7bf69037415eb902b826dc2fcce0"
            ]
          }
        },
        "fd4edc8180964c8a873ec9a64764bdc7": {
          "model_module": "@jupyter-widgets/base",
          "model_name": "LayoutModel",
          "state": {
            "_view_name": "LayoutView",
            "grid_template_rows": null,
            "right": null,
            "justify_content": null,
            "_view_module": "@jupyter-widgets/base",
            "overflow": null,
            "_model_module_version": "1.2.0",
            "_view_count": null,
            "flex_flow": null,
            "width": null,
            "min_width": null,
            "border": null,
            "align_items": null,
            "bottom": null,
            "_model_module": "@jupyter-widgets/base",
            "top": null,
            "grid_column": null,
            "overflow_y": null,
            "overflow_x": null,
            "grid_auto_flow": null,
            "grid_area": null,
            "grid_template_columns": null,
            "flex": null,
            "_model_name": "LayoutModel",
            "justify_items": null,
            "grid_row": null,
            "max_height": null,
            "align_content": null,
            "visibility": null,
            "align_self": null,
            "height": null,
            "min_height": null,
            "padding": null,
            "grid_auto_rows": null,
            "grid_gap": null,
            "max_width": null,
            "order": null,
            "_view_module_version": "1.2.0",
            "grid_template_areas": null,
            "object_position": null,
            "object_fit": null,
            "grid_auto_columns": null,
            "margin": null,
            "display": null,
            "left": null
          }
        },
        "1cb43e75949b4d0691de6243f1691566": {
          "model_module": "@jupyter-widgets/controls",
          "model_name": "FloatProgressModel",
          "state": {
            "_view_name": "ProgressView",
            "style": "IPY_MODEL_7ecdc878e260470e8a4f9c2ea3500cc3",
            "_dom_classes": [],
            "description": "Downloading: 100%",
            "_model_name": "FloatProgressModel",
            "bar_style": "success",
            "max": 435779157,
            "_view_module": "@jupyter-widgets/controls",
            "_model_module_version": "1.5.0",
            "value": 435779157,
            "_view_count": null,
            "_view_module_version": "1.5.0",
            "orientation": "horizontal",
            "min": 0,
            "description_tooltip": null,
            "_model_module": "@jupyter-widgets/controls",
            "layout": "IPY_MODEL_fd86972cb17e4c00806ae0575e3d3876"
          }
        },
        "d22a7bf69037415eb902b826dc2fcce0": {
          "model_module": "@jupyter-widgets/controls",
          "model_name": "HTMLModel",
          "state": {
            "_view_name": "HTMLView",
            "style": "IPY_MODEL_d503efdf28f24475bcbbe76126788536",
            "_dom_classes": [],
            "description": "",
            "_model_name": "HTMLModel",
            "placeholder": "​",
            "_view_module": "@jupyter-widgets/controls",
            "_model_module_version": "1.5.0",
            "value": " 436M/436M [00:10&lt;00:00, 42.2MB/s]",
            "_view_count": null,
            "_view_module_version": "1.5.0",
            "description_tooltip": null,
            "_model_module": "@jupyter-widgets/controls",
            "layout": "IPY_MODEL_d865ee7ce9984f0f93f1b4530315c6d4"
          }
        },
        "7ecdc878e260470e8a4f9c2ea3500cc3": {
          "model_module": "@jupyter-widgets/controls",
          "model_name": "ProgressStyleModel",
          "state": {
            "_view_name": "StyleView",
            "_model_name": "ProgressStyleModel",
            "description_width": "initial",
            "_view_module": "@jupyter-widgets/base",
            "_model_module_version": "1.5.0",
            "_view_count": null,
            "_view_module_version": "1.2.0",
            "bar_color": null,
            "_model_module": "@jupyter-widgets/controls"
          }
        },
        "fd86972cb17e4c00806ae0575e3d3876": {
          "model_module": "@jupyter-widgets/base",
          "model_name": "LayoutModel",
          "state": {
            "_view_name": "LayoutView",
            "grid_template_rows": null,
            "right": null,
            "justify_content": null,
            "_view_module": "@jupyter-widgets/base",
            "overflow": null,
            "_model_module_version": "1.2.0",
            "_view_count": null,
            "flex_flow": null,
            "width": null,
            "min_width": null,
            "border": null,
            "align_items": null,
            "bottom": null,
            "_model_module": "@jupyter-widgets/base",
            "top": null,
            "grid_column": null,
            "overflow_y": null,
            "overflow_x": null,
            "grid_auto_flow": null,
            "grid_area": null,
            "grid_template_columns": null,
            "flex": null,
            "_model_name": "LayoutModel",
            "justify_items": null,
            "grid_row": null,
            "max_height": null,
            "align_content": null,
            "visibility": null,
            "align_self": null,
            "height": null,
            "min_height": null,
            "padding": null,
            "grid_auto_rows": null,
            "grid_gap": null,
            "max_width": null,
            "order": null,
            "_view_module_version": "1.2.0",
            "grid_template_areas": null,
            "object_position": null,
            "object_fit": null,
            "grid_auto_columns": null,
            "margin": null,
            "display": null,
            "left": null
          }
        },
        "d503efdf28f24475bcbbe76126788536": {
          "model_module": "@jupyter-widgets/controls",
          "model_name": "DescriptionStyleModel",
          "state": {
            "_view_name": "StyleView",
            "_model_name": "DescriptionStyleModel",
            "description_width": "",
            "_view_module": "@jupyter-widgets/base",
            "_model_module_version": "1.5.0",
            "_view_count": null,
            "_view_module_version": "1.2.0",
            "_model_module": "@jupyter-widgets/controls"
          }
        },
        "d865ee7ce9984f0f93f1b4530315c6d4": {
          "model_module": "@jupyter-widgets/base",
          "model_name": "LayoutModel",
          "state": {
            "_view_name": "LayoutView",
            "grid_template_rows": null,
            "right": null,
            "justify_content": null,
            "_view_module": "@jupyter-widgets/base",
            "overflow": null,
            "_model_module_version": "1.2.0",
            "_view_count": null,
            "flex_flow": null,
            "width": null,
            "min_width": null,
            "border": null,
            "align_items": null,
            "bottom": null,
            "_model_module": "@jupyter-widgets/base",
            "top": null,
            "grid_column": null,
            "overflow_y": null,
            "overflow_x": null,
            "grid_auto_flow": null,
            "grid_area": null,
            "grid_template_columns": null,
            "flex": null,
            "_model_name": "LayoutModel",
            "justify_items": null,
            "grid_row": null,
            "max_height": null,
            "align_content": null,
            "visibility": null,
            "align_self": null,
            "height": null,
            "min_height": null,
            "padding": null,
            "grid_auto_rows": null,
            "grid_gap": null,
            "max_width": null,
            "order": null,
            "_view_module_version": "1.2.0",
            "grid_template_areas": null,
            "object_position": null,
            "object_fit": null,
            "grid_auto_columns": null,
            "margin": null,
            "display": null,
            "left": null
          }
        }
      }
    }
  },
  "cells": [
    {
      "cell_type": "markdown",
      "metadata": {
        "id": "view-in-github",
        "colab_type": "text"
      },
      "source": [
        "<a href=\"https://colab.research.google.com/github/plaban1981/Huggingface_transformers_course/blob/main/Huggingface_transformers_pipeline_models.ipynb\" target=\"_parent\"><img src=\"https://colab.research.google.com/assets/colab-badge.svg\" alt=\"Open In Colab\"/></a>"
      ]
    },
    {
      "cell_type": "markdown",
      "metadata": {
        "id": "YyVj58DEPbwe"
      },
      "source": [
        "##  Creating and using a model\n",
        "\n",
        "* The AutoModel class,is used to instantiate any model from a checkpoint.\n",
        "\n",
        "* The **AutoModel** class and all of its relatives are actually simple wrappers over the wide variety of models available in the library.\n",
        "* The AutoModel wrapper can automatically guess the appropriate model architecture for your checkpoint, and then instantiates a model with this architecture.\n",
        "* In case we know the type of model we want to use, you can use the class that defines its architecture directly."
      ]
    },
    {
      "cell_type": "code",
      "metadata": {
        "colab": {
          "base_uri": "https://localhost:8080/"
        },
        "id": "l5FU_GsWO_M1",
        "outputId": "2cf81971-c810-4964-fd7f-361eb650c285"
      },
      "source": [
        "!pip install transformers"
      ],
      "execution_count": 1,
      "outputs": [
        {
          "output_type": "stream",
          "text": [
            "Collecting transformers\n",
            "\u001b[?25l  Downloading https://files.pythonhosted.org/packages/fd/1a/41c644c963249fd7f3836d926afa1e3f1cc234a1c40d80c5f03ad8f6f1b2/transformers-4.8.2-py3-none-any.whl (2.5MB)\n",
            "\r\u001b[K     |▏                               | 10kB 19.1MB/s eta 0:00:01\r\u001b[K     |▎                               | 20kB 27.8MB/s eta 0:00:01\r\u001b[K     |▍                               | 30kB 23.4MB/s eta 0:00:01\r\u001b[K     |▌                               | 40kB 16.4MB/s eta 0:00:01\r\u001b[K     |▋                               | 51kB 13.0MB/s eta 0:00:01\r\u001b[K     |▉                               | 61kB 11.6MB/s eta 0:00:01\r\u001b[K     |█                               | 71kB 12.7MB/s eta 0:00:01\r\u001b[K     |█                               | 81kB 13.9MB/s eta 0:00:01\r\u001b[K     |█▏                              | 92kB 13.8MB/s eta 0:00:01\r\u001b[K     |█▎                              | 102kB 12.1MB/s eta 0:00:01\r\u001b[K     |█▍                              | 112kB 12.1MB/s eta 0:00:01\r\u001b[K     |█▋                              | 122kB 12.1MB/s eta 0:00:01\r\u001b[K     |█▊                              | 133kB 12.1MB/s eta 0:00:01\r\u001b[K     |█▉                              | 143kB 12.1MB/s eta 0:00:01\r\u001b[K     |██                              | 153kB 12.1MB/s eta 0:00:01\r\u001b[K     |██                              | 163kB 12.1MB/s eta 0:00:01\r\u001b[K     |██▎                             | 174kB 12.1MB/s eta 0:00:01\r\u001b[K     |██▍                             | 184kB 12.1MB/s eta 0:00:01\r\u001b[K     |██▌                             | 194kB 12.1MB/s eta 0:00:01\r\u001b[K     |██▋                             | 204kB 12.1MB/s eta 0:00:01\r\u001b[K     |██▊                             | 215kB 12.1MB/s eta 0:00:01\r\u001b[K     |██▉                             | 225kB 12.1MB/s eta 0:00:01\r\u001b[K     |███                             | 235kB 12.1MB/s eta 0:00:01\r\u001b[K     |███▏                            | 245kB 12.1MB/s eta 0:00:01\r\u001b[K     |███▎                            | 256kB 12.1MB/s eta 0:00:01\r\u001b[K     |███▍                            | 266kB 12.1MB/s eta 0:00:01\r\u001b[K     |███▌                            | 276kB 12.1MB/s eta 0:00:01\r\u001b[K     |███▊                            | 286kB 12.1MB/s eta 0:00:01\r\u001b[K     |███▉                            | 296kB 12.1MB/s eta 0:00:01\r\u001b[K     |████                            | 307kB 12.1MB/s eta 0:00:01\r\u001b[K     |████                            | 317kB 12.1MB/s eta 0:00:01\r\u001b[K     |████▏                           | 327kB 12.1MB/s eta 0:00:01\r\u001b[K     |████▎                           | 337kB 12.1MB/s eta 0:00:01\r\u001b[K     |████▌                           | 348kB 12.1MB/s eta 0:00:01\r\u001b[K     |████▋                           | 358kB 12.1MB/s eta 0:00:01\r\u001b[K     |████▊                           | 368kB 12.1MB/s eta 0:00:01\r\u001b[K     |████▉                           | 378kB 12.1MB/s eta 0:00:01\r\u001b[K     |█████                           | 389kB 12.1MB/s eta 0:00:01\r\u001b[K     |█████▏                          | 399kB 12.1MB/s eta 0:00:01\r\u001b[K     |█████▎                          | 409kB 12.1MB/s eta 0:00:01\r\u001b[K     |█████▍                          | 419kB 12.1MB/s eta 0:00:01\r\u001b[K     |█████▌                          | 430kB 12.1MB/s eta 0:00:01\r\u001b[K     |█████▋                          | 440kB 12.1MB/s eta 0:00:01\r\u001b[K     |█████▊                          | 450kB 12.1MB/s eta 0:00:01\r\u001b[K     |██████                          | 460kB 12.1MB/s eta 0:00:01\r\u001b[K     |██████                          | 471kB 12.1MB/s eta 0:00:01\r\u001b[K     |██████▏                         | 481kB 12.1MB/s eta 0:00:01\r\u001b[K     |██████▎                         | 491kB 12.1MB/s eta 0:00:01\r\u001b[K     |██████▍                         | 501kB 12.1MB/s eta 0:00:01\r\u001b[K     |██████▌                         | 512kB 12.1MB/s eta 0:00:01\r\u001b[K     |██████▊                         | 522kB 12.1MB/s eta 0:00:01\r\u001b[K     |██████▉                         | 532kB 12.1MB/s eta 0:00:01\r\u001b[K     |███████                         | 542kB 12.1MB/s eta 0:00:01\r\u001b[K     |███████                         | 552kB 12.1MB/s eta 0:00:01\r\u001b[K     |███████▏                        | 563kB 12.1MB/s eta 0:00:01\r\u001b[K     |███████▍                        | 573kB 12.1MB/s eta 0:00:01\r\u001b[K     |███████▌                        | 583kB 12.1MB/s eta 0:00:01\r\u001b[K     |███████▋                        | 593kB 12.1MB/s eta 0:00:01\r\u001b[K     |███████▊                        | 604kB 12.1MB/s eta 0:00:01\r\u001b[K     |███████▉                        | 614kB 12.1MB/s eta 0:00:01\r\u001b[K     |████████                        | 624kB 12.1MB/s eta 0:00:01\r\u001b[K     |████████▏                       | 634kB 12.1MB/s eta 0:00:01\r\u001b[K     |████████▎                       | 645kB 12.1MB/s eta 0:00:01\r\u001b[K     |████████▍                       | 655kB 12.1MB/s eta 0:00:01\r\u001b[K     |████████▌                       | 665kB 12.1MB/s eta 0:00:01\r\u001b[K     |████████▋                       | 675kB 12.1MB/s eta 0:00:01\r\u001b[K     |████████▉                       | 686kB 12.1MB/s eta 0:00:01\r\u001b[K     |█████████                       | 696kB 12.1MB/s eta 0:00:01\r\u001b[K     |█████████                       | 706kB 12.1MB/s eta 0:00:01\r\u001b[K     |█████████▏                      | 716kB 12.1MB/s eta 0:00:01\r\u001b[K     |█████████▎                      | 727kB 12.1MB/s eta 0:00:01\r\u001b[K     |█████████▍                      | 737kB 12.1MB/s eta 0:00:01\r\u001b[K     |█████████▋                      | 747kB 12.1MB/s eta 0:00:01\r\u001b[K     |█████████▊                      | 757kB 12.1MB/s eta 0:00:01\r\u001b[K     |█████████▉                      | 768kB 12.1MB/s eta 0:00:01\r\u001b[K     |██████████                      | 778kB 12.1MB/s eta 0:00:01\r\u001b[K     |██████████                      | 788kB 12.1MB/s eta 0:00:01\r\u001b[K     |██████████▎                     | 798kB 12.1MB/s eta 0:00:01\r\u001b[K     |██████████▍                     | 808kB 12.1MB/s eta 0:00:01\r\u001b[K     |██████████▌                     | 819kB 12.1MB/s eta 0:00:01\r\u001b[K     |██████████▋                     | 829kB 12.1MB/s eta 0:00:01\r\u001b[K     |██████████▊                     | 839kB 12.1MB/s eta 0:00:01\r\u001b[K     |██████████▉                     | 849kB 12.1MB/s eta 0:00:01\r\u001b[K     |███████████                     | 860kB 12.1MB/s eta 0:00:01\r\u001b[K     |███████████▏                    | 870kB 12.1MB/s eta 0:00:01\r\u001b[K     |███████████▎                    | 880kB 12.1MB/s eta 0:00:01\r\u001b[K     |███████████▍                    | 890kB 12.1MB/s eta 0:00:01\r\u001b[K     |███████████▌                    | 901kB 12.1MB/s eta 0:00:01\r\u001b[K     |███████████▊                    | 911kB 12.1MB/s eta 0:00:01\r\u001b[K     |███████████▉                    | 921kB 12.1MB/s eta 0:00:01\r\u001b[K     |████████████                    | 931kB 12.1MB/s eta 0:00:01\r\u001b[K     |████████████                    | 942kB 12.1MB/s eta 0:00:01\r\u001b[K     |████████████▏                   | 952kB 12.1MB/s eta 0:00:01\r\u001b[K     |████████████▎                   | 962kB 12.1MB/s eta 0:00:01\r\u001b[K     |████████████▌                   | 972kB 12.1MB/s eta 0:00:01\r\u001b[K     |████████████▋                   | 983kB 12.1MB/s eta 0:00:01\r\u001b[K     |████████████▊                   | 993kB 12.1MB/s eta 0:00:01\r\u001b[K     |████████████▉                   | 1.0MB 12.1MB/s eta 0:00:01\r\u001b[K     |█████████████                   | 1.0MB 12.1MB/s eta 0:00:01\r\u001b[K     |█████████████                   | 1.0MB 12.1MB/s eta 0:00:01\r\u001b[K     |█████████████▎                  | 1.0MB 12.1MB/s eta 0:00:01\r\u001b[K     |█████████████▍                  | 1.0MB 12.1MB/s eta 0:00:01\r\u001b[K     |█████████████▌                  | 1.1MB 12.1MB/s eta 0:00:01\r\u001b[K     |█████████████▋                  | 1.1MB 12.1MB/s eta 0:00:01\r\u001b[K     |█████████████▊                  | 1.1MB 12.1MB/s eta 0:00:01\r\u001b[K     |██████████████                  | 1.1MB 12.1MB/s eta 0:00:01\r\u001b[K     |██████████████                  | 1.1MB 12.1MB/s eta 0:00:01\r\u001b[K     |██████████████▏                 | 1.1MB 12.1MB/s eta 0:00:01\r\u001b[K     |██████████████▎                 | 1.1MB 12.1MB/s eta 0:00:01\r\u001b[K     |██████████████▍                 | 1.1MB 12.1MB/s eta 0:00:01\r\u001b[K     |██████████████▌                 | 1.1MB 12.1MB/s eta 0:00:01\r\u001b[K     |██████████████▊                 | 1.1MB 12.1MB/s eta 0:00:01\r\u001b[K     |██████████████▉                 | 1.2MB 12.1MB/s eta 0:00:01\r\u001b[K     |███████████████                 | 1.2MB 12.1MB/s eta 0:00:01\r\u001b[K     |███████████████                 | 1.2MB 12.1MB/s eta 0:00:01\r\u001b[K     |███████████████▏                | 1.2MB 12.1MB/s eta 0:00:01\r\u001b[K     |███████████████▍                | 1.2MB 12.1MB/s eta 0:00:01\r\u001b[K     |███████████████▌                | 1.2MB 12.1MB/s eta 0:00:01\r\u001b[K     |███████████████▋                | 1.2MB 12.1MB/s eta 0:00:01\r\u001b[K     |███████████████▊                | 1.2MB 12.1MB/s eta 0:00:01\r\u001b[K     |███████████████▉                | 1.2MB 12.1MB/s eta 0:00:01\r\u001b[K     |████████████████                | 1.2MB 12.1MB/s eta 0:00:01\r\u001b[K     |████████████████▏               | 1.3MB 12.1MB/s eta 0:00:01\r\u001b[K     |████████████████▎               | 1.3MB 12.1MB/s eta 0:00:01\r\u001b[K     |████████████████▍               | 1.3MB 12.1MB/s eta 0:00:01\r\u001b[K     |████████████████▌               | 1.3MB 12.1MB/s eta 0:00:01\r\u001b[K     |████████████████▋               | 1.3MB 12.1MB/s eta 0:00:01\r\u001b[K     |████████████████▉               | 1.3MB 12.1MB/s eta 0:00:01\r\u001b[K     |█████████████████               | 1.3MB 12.1MB/s eta 0:00:01\r\u001b[K     |█████████████████               | 1.3MB 12.1MB/s eta 0:00:01\r\u001b[K     |█████████████████▏              | 1.3MB 12.1MB/s eta 0:00:01\r\u001b[K     |█████████████████▎              | 1.4MB 12.1MB/s eta 0:00:01\r\u001b[K     |█████████████████▍              | 1.4MB 12.1MB/s eta 0:00:01\r\u001b[K     |█████████████████▋              | 1.4MB 12.1MB/s eta 0:00:01\r\u001b[K     |█████████████████▊              | 1.4MB 12.1MB/s eta 0:00:01\r\u001b[K     |█████████████████▉              | 1.4MB 12.1MB/s eta 0:00:01\r\u001b[K     |██████████████████              | 1.4MB 12.1MB/s eta 0:00:01\r\u001b[K     |██████████████████              | 1.4MB 12.1MB/s eta 0:00:01\r\u001b[K     |██████████████████▎             | 1.4MB 12.1MB/s eta 0:00:01\r\u001b[K     |██████████████████▍             | 1.4MB 12.1MB/s eta 0:00:01\r\u001b[K     |██████████████████▌             | 1.4MB 12.1MB/s eta 0:00:01\r\u001b[K     |██████████████████▋             | 1.5MB 12.1MB/s eta 0:00:01\r\u001b[K     |██████████████████▊             | 1.5MB 12.1MB/s eta 0:00:01\r\u001b[K     |██████████████████▉             | 1.5MB 12.1MB/s eta 0:00:01\r\u001b[K     |███████████████████             | 1.5MB 12.1MB/s eta 0:00:01\r\u001b[K     |███████████████████▏            | 1.5MB 12.1MB/s eta 0:00:01\r\u001b[K     |███████████████████▎            | 1.5MB 12.1MB/s eta 0:00:01\r\u001b[K     |███████████████████▍            | 1.5MB 12.1MB/s eta 0:00:01\r\u001b[K     |███████████████████▌            | 1.5MB 12.1MB/s eta 0:00:01\r\u001b[K     |███████████████████▋            | 1.5MB 12.1MB/s eta 0:00:01\r\u001b[K     |███████████████████▉            | 1.5MB 12.1MB/s eta 0:00:01\r\u001b[K     |████████████████████            | 1.6MB 12.1MB/s eta 0:00:01\r\u001b[K     |████████████████████            | 1.6MB 12.1MB/s eta 0:00:01\r\u001b[K     |████████████████████▏           | 1.6MB 12.1MB/s eta 0:00:01\r\u001b[K     |████████████████████▎           | 1.6MB 12.1MB/s eta 0:00:01\r\u001b[K     |████████████████████▌           | 1.6MB 12.1MB/s eta 0:00:01\r\u001b[K     |████████████████████▋           | 1.6MB 12.1MB/s eta 0:00:01\r\u001b[K     |████████████████████▊           | 1.6MB 12.1MB/s eta 0:00:01\r\u001b[K     |████████████████████▉           | 1.6MB 12.1MB/s eta 0:00:01\r\u001b[K     |█████████████████████           | 1.6MB 12.1MB/s eta 0:00:01\r\u001b[K     |█████████████████████           | 1.6MB 12.1MB/s eta 0:00:01\r\u001b[K     |█████████████████████▎          | 1.7MB 12.1MB/s eta 0:00:01\r\u001b[K     |█████████████████████▍          | 1.7MB 12.1MB/s eta 0:00:01\r\u001b[K     |█████████████████████▌          | 1.7MB 12.1MB/s eta 0:00:01\r\u001b[K     |█████████████████████▋          | 1.7MB 12.1MB/s eta 0:00:01\r\u001b[K     |█████████████████████▊          | 1.7MB 12.1MB/s eta 0:00:01\r\u001b[K     |██████████████████████          | 1.7MB 12.1MB/s eta 0:00:01\r\u001b[K     |██████████████████████          | 1.7MB 12.1MB/s eta 0:00:01\r\u001b[K     |██████████████████████▏         | 1.7MB 12.1MB/s eta 0:00:01\r\u001b[K     |██████████████████████▎         | 1.7MB 12.1MB/s eta 0:00:01\r\u001b[K     |██████████████████████▍         | 1.8MB 12.1MB/s eta 0:00:01\r\u001b[K     |██████████████████████▌         | 1.8MB 12.1MB/s eta 0:00:01\r\u001b[K     |██████████████████████▊         | 1.8MB 12.1MB/s eta 0:00:01\r\u001b[K     |██████████████████████▉         | 1.8MB 12.1MB/s eta 0:00:01\r\u001b[K     |███████████████████████         | 1.8MB 12.1MB/s eta 0:00:01\r\u001b[K     |███████████████████████         | 1.8MB 12.1MB/s eta 0:00:01\r\u001b[K     |███████████████████████▏        | 1.8MB 12.1MB/s eta 0:00:01\r\u001b[K     |███████████████████████▍        | 1.8MB 12.1MB/s eta 0:00:01\r\u001b[K     |███████████████████████▌        | 1.8MB 12.1MB/s eta 0:00:01\r\u001b[K     |███████████████████████▋        | 1.8MB 12.1MB/s eta 0:00:01\r\u001b[K     |███████████████████████▊        | 1.9MB 12.1MB/s eta 0:00:01\r\u001b[K     |███████████████████████▉        | 1.9MB 12.1MB/s eta 0:00:01\r\u001b[K     |████████████████████████        | 1.9MB 12.1MB/s eta 0:00:01\r\u001b[K     |████████████████████████▏       | 1.9MB 12.1MB/s eta 0:00:01\r\u001b[K     |████████████████████████▎       | 1.9MB 12.1MB/s eta 0:00:01\r\u001b[K     |████████████████████████▍       | 1.9MB 12.1MB/s eta 0:00:01\r\u001b[K     |████████████████████████▌       | 1.9MB 12.1MB/s eta 0:00:01\r\u001b[K     |████████████████████████▋       | 1.9MB 12.1MB/s eta 0:00:01\r\u001b[K     |████████████████████████▉       | 1.9MB 12.1MB/s eta 0:00:01\r\u001b[K     |█████████████████████████       | 1.9MB 12.1MB/s eta 0:00:01\r\u001b[K     |█████████████████████████       | 2.0MB 12.1MB/s eta 0:00:01\r\u001b[K     |█████████████████████████▏      | 2.0MB 12.1MB/s eta 0:00:01\r\u001b[K     |█████████████████████████▎      | 2.0MB 12.1MB/s eta 0:00:01\r\u001b[K     |█████████████████████████▍      | 2.0MB 12.1MB/s eta 0:00:01\r\u001b[K     |█████████████████████████▋      | 2.0MB 12.1MB/s eta 0:00:01\r\u001b[K     |█████████████████████████▊      | 2.0MB 12.1MB/s eta 0:00:01\r\u001b[K     |█████████████████████████▉      | 2.0MB 12.1MB/s eta 0:00:01\r\u001b[K     |██████████████████████████      | 2.0MB 12.1MB/s eta 0:00:01\r\u001b[K     |██████████████████████████      | 2.0MB 12.1MB/s eta 0:00:01\r\u001b[K     |██████████████████████████▏     | 2.0MB 12.1MB/s eta 0:00:01\r\u001b[K     |██████████████████████████▍     | 2.1MB 12.1MB/s eta 0:00:01\r\u001b[K     |██████████████████████████▌     | 2.1MB 12.1MB/s eta 0:00:01\r\u001b[K     |██████████████████████████▋     | 2.1MB 12.1MB/s eta 0:00:01\r\u001b[K     |██████████████████████████▊     | 2.1MB 12.1MB/s eta 0:00:01\r\u001b[K     |██████████████████████████▉     | 2.1MB 12.1MB/s eta 0:00:01\r\u001b[K     |███████████████████████████     | 2.1MB 12.1MB/s eta 0:00:01\r\u001b[K     |███████████████████████████▏    | 2.1MB 12.1MB/s eta 0:00:01\r\u001b[K     |███████████████████████████▎    | 2.1MB 12.1MB/s eta 0:00:01\r\u001b[K     |███████████████████████████▍    | 2.1MB 12.1MB/s eta 0:00:01\r\u001b[K     |███████████████████████████▌    | 2.2MB 12.1MB/s eta 0:00:01\r\u001b[K     |███████████████████████████▋    | 2.2MB 12.1MB/s eta 0:00:01\r\u001b[K     |███████████████████████████▉    | 2.2MB 12.1MB/s eta 0:00:01\r\u001b[K     |████████████████████████████    | 2.2MB 12.1MB/s eta 0:00:01\r\u001b[K     |████████████████████████████    | 2.2MB 12.1MB/s eta 0:00:01\r\u001b[K     |████████████████████████████▏   | 2.2MB 12.1MB/s eta 0:00:01\r\u001b[K     |████████████████████████████▎   | 2.2MB 12.1MB/s eta 0:00:01\r\u001b[K     |████████████████████████████▌   | 2.2MB 12.1MB/s eta 0:00:01\r\u001b[K     |████████████████████████████▋   | 2.2MB 12.1MB/s eta 0:00:01\r\u001b[K     |████████████████████████████▊   | 2.2MB 12.1MB/s eta 0:00:01\r\u001b[K     |████████████████████████████▉   | 2.3MB 12.1MB/s eta 0:00:01\r\u001b[K     |█████████████████████████████   | 2.3MB 12.1MB/s eta 0:00:01\r\u001b[K     |█████████████████████████████   | 2.3MB 12.1MB/s eta 0:00:01\r\u001b[K     |█████████████████████████████▎  | 2.3MB 12.1MB/s eta 0:00:01\r\u001b[K     |█████████████████████████████▍  | 2.3MB 12.1MB/s eta 0:00:01\r\u001b[K     |█████████████████████████████▌  | 2.3MB 12.1MB/s eta 0:00:01\r\u001b[K     |█████████████████████████████▋  | 2.3MB 12.1MB/s eta 0:00:01\r\u001b[K     |█████████████████████████████▊  | 2.3MB 12.1MB/s eta 0:00:01\r\u001b[K     |██████████████████████████████  | 2.3MB 12.1MB/s eta 0:00:01\r\u001b[K     |██████████████████████████████  | 2.3MB 12.1MB/s eta 0:00:01\r\u001b[K     |██████████████████████████████▏ | 2.4MB 12.1MB/s eta 0:00:01\r\u001b[K     |██████████████████████████████▎ | 2.4MB 12.1MB/s eta 0:00:01\r\u001b[K     |██████████████████████████████▍ | 2.4MB 12.1MB/s eta 0:00:01\r\u001b[K     |██████████████████████████████▌ | 2.4MB 12.1MB/s eta 0:00:01\r\u001b[K     |██████████████████████████████▊ | 2.4MB 12.1MB/s eta 0:00:01\r\u001b[K     |██████████████████████████████▉ | 2.4MB 12.1MB/s eta 0:00:01\r\u001b[K     |███████████████████████████████ | 2.4MB 12.1MB/s eta 0:00:01\r\u001b[K     |███████████████████████████████ | 2.4MB 12.1MB/s eta 0:00:01\r\u001b[K     |███████████████████████████████▏| 2.4MB 12.1MB/s eta 0:00:01\r\u001b[K     |███████████████████████████████▍| 2.4MB 12.1MB/s eta 0:00:01\r\u001b[K     |███████████████████████████████▌| 2.5MB 12.1MB/s eta 0:00:01\r\u001b[K     |███████████████████████████████▋| 2.5MB 12.1MB/s eta 0:00:01\r\u001b[K     |███████████████████████████████▊| 2.5MB 12.1MB/s eta 0:00:01\r\u001b[K     |███████████████████████████████▉| 2.5MB 12.1MB/s eta 0:00:01\r\u001b[K     |████████████████████████████████| 2.5MB 12.1MB/s eta 0:00:01\r\u001b[K     |████████████████████████████████| 2.5MB 12.1MB/s \n",
            "\u001b[?25hCollecting huggingface-hub==0.0.12\n",
            "  Downloading https://files.pythonhosted.org/packages/2f/ee/97e253668fda9b17e968b3f97b2f8e53aa0127e8807d24a547687423fe0b/huggingface_hub-0.0.12-py3-none-any.whl\n",
            "Requirement already satisfied: requests in /usr/local/lib/python3.7/dist-packages (from transformers) (2.23.0)\n",
            "Requirement already satisfied: tqdm>=4.27 in /usr/local/lib/python3.7/dist-packages (from transformers) (4.41.1)\n",
            "Requirement already satisfied: pyyaml in /usr/local/lib/python3.7/dist-packages (from transformers) (3.13)\n",
            "Requirement already satisfied: numpy>=1.17 in /usr/local/lib/python3.7/dist-packages (from transformers) (1.19.5)\n",
            "Collecting sacremoses\n",
            "\u001b[?25l  Downloading https://files.pythonhosted.org/packages/75/ee/67241dc87f266093c533a2d4d3d69438e57d7a90abb216fa076e7d475d4a/sacremoses-0.0.45-py3-none-any.whl (895kB)\n",
            "\u001b[K     |████████████████████████████████| 901kB 43.8MB/s \n",
            "\u001b[?25hRequirement already satisfied: packaging in /usr/local/lib/python3.7/dist-packages (from transformers) (21.0)\n",
            "Requirement already satisfied: regex!=2019.12.17 in /usr/local/lib/python3.7/dist-packages (from transformers) (2019.12.20)\n",
            "Requirement already satisfied: filelock in /usr/local/lib/python3.7/dist-packages (from transformers) (3.0.12)\n",
            "Requirement already satisfied: importlib-metadata; python_version < \"3.8\" in /usr/local/lib/python3.7/dist-packages (from transformers) (4.6.1)\n",
            "Collecting tokenizers<0.11,>=0.10.1\n",
            "\u001b[?25l  Downloading https://files.pythonhosted.org/packages/d4/e2/df3543e8ffdab68f5acc73f613de9c2b155ac47f162e725dcac87c521c11/tokenizers-0.10.3-cp37-cp37m-manylinux_2_5_x86_64.manylinux1_x86_64.manylinux_2_12_x86_64.manylinux2010_x86_64.whl (3.3MB)\n",
            "\u001b[K     |████████████████████████████████| 3.3MB 43.8MB/s \n",
            "\u001b[?25hRequirement already satisfied: typing-extensions in /usr/local/lib/python3.7/dist-packages (from huggingface-hub==0.0.12->transformers) (3.7.4.3)\n",
            "Requirement already satisfied: urllib3!=1.25.0,!=1.25.1,<1.26,>=1.21.1 in /usr/local/lib/python3.7/dist-packages (from requests->transformers) (1.24.3)\n",
            "Requirement already satisfied: certifi>=2017.4.17 in /usr/local/lib/python3.7/dist-packages (from requests->transformers) (2021.5.30)\n",
            "Requirement already satisfied: chardet<4,>=3.0.2 in /usr/local/lib/python3.7/dist-packages (from requests->transformers) (3.0.4)\n",
            "Requirement already satisfied: idna<3,>=2.5 in /usr/local/lib/python3.7/dist-packages (from requests->transformers) (2.10)\n",
            "Requirement already satisfied: click in /usr/local/lib/python3.7/dist-packages (from sacremoses->transformers) (7.1.2)\n",
            "Requirement already satisfied: six in /usr/local/lib/python3.7/dist-packages (from sacremoses->transformers) (1.15.0)\n",
            "Requirement already satisfied: joblib in /usr/local/lib/python3.7/dist-packages (from sacremoses->transformers) (1.0.1)\n",
            "Requirement already satisfied: pyparsing>=2.0.2 in /usr/local/lib/python3.7/dist-packages (from packaging->transformers) (2.4.7)\n",
            "Requirement already satisfied: zipp>=0.5 in /usr/local/lib/python3.7/dist-packages (from importlib-metadata; python_version < \"3.8\"->transformers) (3.5.0)\n",
            "Installing collected packages: huggingface-hub, sacremoses, tokenizers, transformers\n",
            "Successfully installed huggingface-hub-0.0.12 sacremoses-0.0.45 tokenizers-0.10.3 transformers-4.8.2\n"
          ],
          "name": "stdout"
        }
      ]
    },
    {
      "cell_type": "markdown",
      "metadata": {
        "id": "gRtbk2TTLrfD"
      },
      "source": [
        "## Creating a Transformer"
      ]
    },
    {
      "cell_type": "markdown",
      "metadata": {
        "id": "ApNvtjmjNmjy"
      },
      "source": [
        "#### Creating a model from the default configuration initializes it with random values:"
      ]
    },
    {
      "cell_type": "code",
      "metadata": {
        "id": "pDFia0OkSl-m"
      },
      "source": [
        "from transformers import BertModel,BertConfig\n",
        "#Building the config\n",
        "config = BertConfig()\n",
        "#Building the model from config\n",
        "# Here the model is initialized randomly\n",
        "model = BertModel(config)"
      ],
      "execution_count": 2,
      "outputs": []
    },
    {
      "cell_type": "code",
      "metadata": {
        "colab": {
          "base_uri": "https://localhost:8080/"
        },
        "id": "pQWg5G1UNFhU",
        "outputId": "b27fddc0-a28c-44f0-df9e-4bf95838d59d"
      },
      "source": [
        "print(config)"
      ],
      "execution_count": 3,
      "outputs": [
        {
          "output_type": "stream",
          "text": [
            "BertConfig {\n",
            "  \"attention_probs_dropout_prob\": 0.1,\n",
            "  \"gradient_checkpointing\": false,\n",
            "  \"hidden_act\": \"gelu\",\n",
            "  \"hidden_dropout_prob\": 0.1,\n",
            "  \"hidden_size\": 768,\n",
            "  \"initializer_range\": 0.02,\n",
            "  \"intermediate_size\": 3072,\n",
            "  \"layer_norm_eps\": 1e-12,\n",
            "  \"max_position_embeddings\": 512,\n",
            "  \"model_type\": \"bert\",\n",
            "  \"num_attention_heads\": 12,\n",
            "  \"num_hidden_layers\": 12,\n",
            "  \"pad_token_id\": 0,\n",
            "  \"position_embedding_type\": \"absolute\",\n",
            "  \"transformers_version\": \"4.8.2\",\n",
            "  \"type_vocab_size\": 2,\n",
            "  \"use_cache\": true,\n",
            "  \"vocab_size\": 30522\n",
            "}\n",
            "\n"
          ],
          "name": "stdout"
        }
      ]
    },
    {
      "cell_type": "markdown",
      "metadata": {
        "id": "ZWmPQjVmPBDp"
      },
      "source": [
        "* The model can be used in this state, but it will output gibberish; it needs to be trained first.\n",
        "\n",
        "* Training  the model from scratch would require a long time and a lot of data, and it would have a non-negligible environmental impact. \n",
        "\n",
        "* To avoid unnecessary and duplicated effort, it’s imperative to be able to share and reuse models that have already been trained."
      ]
    },
    {
      "cell_type": "markdown",
      "metadata": {
        "id": "EJYp_ENxQBZo"
      },
      "source": [
        "## Loading a Transformer model that is already trained"
      ]
    },
    {
      "cell_type": "code",
      "metadata": {
        "colab": {
          "base_uri": "https://localhost:8080/",
          "height": 186,
          "referenced_widgets": [
            "3ca0b46de5e54a28af38439ecceddcd7",
            "7e2fec3fea384e1cbce8f87bfeca70d4",
            "4209484087bb4963996d9b78b17cd7b4",
            "2d170deb44cf481594de0490eff9d01f",
            "4086d2d65c71450a9279c11408074dfc",
            "5cc4bb16de204acc8d98ebf5cf7c6396",
            "a4ebcd0b0c7c4ec195989c3b358c764e",
            "cc9dbfb24bf84352a0ac10a163f2133f",
            "01c9f8a9c6114e1cb10a972125e485c0",
            "fd4edc8180964c8a873ec9a64764bdc7",
            "1cb43e75949b4d0691de6243f1691566",
            "d22a7bf69037415eb902b826dc2fcce0",
            "7ecdc878e260470e8a4f9c2ea3500cc3",
            "fd86972cb17e4c00806ae0575e3d3876",
            "d503efdf28f24475bcbbe76126788536",
            "d865ee7ce9984f0f93f1b4530315c6d4"
          ]
        },
        "id": "sty1Jv4UNHLw",
        "outputId": "46c66486-3e93-45d4-a978-8f1fac3be0ff"
      },
      "source": [
        "from transformers import BertModel\n",
        "model = BertModel.from_pretrained(\"bert-base-cased\")"
      ],
      "execution_count": 4,
      "outputs": [
        {
          "output_type": "display_data",
          "data": {
            "application/vnd.jupyter.widget-view+json": {
              "model_id": "3ca0b46de5e54a28af38439ecceddcd7",
              "version_minor": 0,
              "version_major": 2
            },
            "text/plain": [
              "HBox(children=(FloatProgress(value=0.0, description='Downloading', max=570.0, style=ProgressStyle(description_…"
            ]
          },
          "metadata": {
            "tags": []
          }
        },
        {
          "output_type": "stream",
          "text": [
            "\n"
          ],
          "name": "stdout"
        },
        {
          "output_type": "display_data",
          "data": {
            "application/vnd.jupyter.widget-view+json": {
              "model_id": "01c9f8a9c6114e1cb10a972125e485c0",
              "version_minor": 0,
              "version_major": 2
            },
            "text/plain": [
              "HBox(children=(FloatProgress(value=0.0, description='Downloading', max=435779157.0, style=ProgressStyle(descri…"
            ]
          },
          "metadata": {
            "tags": []
          }
        },
        {
          "output_type": "stream",
          "text": [
            "\n"
          ],
          "name": "stdout"
        },
        {
          "output_type": "stream",
          "text": [
            "Some weights of the model checkpoint at bert-base-cased were not used when initializing BertModel: ['cls.predictions.transform.LayerNorm.weight', 'cls.seq_relationship.bias', 'cls.predictions.decoder.weight', 'cls.predictions.transform.dense.weight', 'cls.seq_relationship.weight', 'cls.predictions.bias', 'cls.predictions.transform.LayerNorm.bias', 'cls.predictions.transform.dense.bias']\n",
            "- This IS expected if you are initializing BertModel from the checkpoint of a model trained on another task or with another architecture (e.g. initializing a BertForSequenceClassification model from a BertForPreTraining model).\n",
            "- This IS NOT expected if you are initializing BertModel from the checkpoint of a model that you expect to be exactly identical (initializing a BertForSequenceClassification model from a BertForSequenceClassification model).\n"
          ],
          "name": "stderr"
        }
      ]
    },
    {
      "cell_type": "code",
      "metadata": {
        "colab": {
          "base_uri": "https://localhost:8080/"
        },
        "id": "NSt_FldJQwvH",
        "outputId": "66047674-cb47-4ce7-cd2c-1b64f2bf0f9c"
      },
      "source": [
        "model.config"
      ],
      "execution_count": 6,
      "outputs": [
        {
          "output_type": "execute_result",
          "data": {
            "text/plain": [
              "BertConfig {\n",
              "  \"_name_or_path\": \"bert-base-cased\",\n",
              "  \"architectures\": [\n",
              "    \"BertForMaskedLM\"\n",
              "  ],\n",
              "  \"attention_probs_dropout_prob\": 0.1,\n",
              "  \"gradient_checkpointing\": false,\n",
              "  \"hidden_act\": \"gelu\",\n",
              "  \"hidden_dropout_prob\": 0.1,\n",
              "  \"hidden_size\": 768,\n",
              "  \"initializer_range\": 0.02,\n",
              "  \"intermediate_size\": 3072,\n",
              "  \"layer_norm_eps\": 1e-12,\n",
              "  \"max_position_embeddings\": 512,\n",
              "  \"model_type\": \"bert\",\n",
              "  \"num_attention_heads\": 12,\n",
              "  \"num_hidden_layers\": 12,\n",
              "  \"pad_token_id\": 0,\n",
              "  \"position_embedding_type\": \"absolute\",\n",
              "  \"transformers_version\": \"4.8.2\",\n",
              "  \"type_vocab_size\": 2,\n",
              "  \"use_cache\": true,\n",
              "  \"vocab_size\": 28996\n",
              "}"
            ]
          },
          "metadata": {
            "tags": []
          },
          "execution_count": 6
        }
      ]
    },
    {
      "cell_type": "markdown",
      "metadata": {
        "id": "dcQIc94hQ2YN"
      },
      "source": [
        "* Here we didn’t use BertConfig,instead loaded a **pretrained model** via the bert-base-cased identifier. \n",
        "* This is a model checkpoint that was trained by the authors of BERT themselves\n",
        "* This model is now initialized with all the weights of the checkpoint\n",
        "* It can be used directly for inference on the tasks it was trained on, and it can also be fine-tuned on a new task\n",
        "* By training with pretrained weights rather than from scratch, we can quickly achieve good results"
      ]
    },
    {
      "cell_type": "markdown",
      "metadata": {
        "id": "hcqcTVgoS2Bl"
      },
      "source": [
        "## Saving methods"
      ]
    },
    {
      "cell_type": "code",
      "metadata": {
        "id": "S9Q2MVFPQ0Su"
      },
      "source": [
        "model.save_pretrained(\"/content\")"
      ],
      "execution_count": 7,
      "outputs": []
    },
    {
      "cell_type": "markdown",
      "metadata": {
        "id": "cvBQi5J4T5_T"
      },
      "source": [
        "#### This saves two files to your disk:\n",
        "\n",
        "* /content/pytorch_model.bin\n",
        "* /content/config.json"
      ]
    },
    {
      "cell_type": "markdown",
      "metadata": {
        "id": "Hg1So_xLU_uT"
      },
      "source": [
        "*  config.json file contains the following information \n",
        "    * attributes necessary to build the model architecture\n",
        "    * metadata, such as where the checkpoint originated\n",
        "    * the  🤗 Transformers version used\n",
        "\n",
        "* the pytorch model bin file known as the state dictionary\n",
        "    * Iit contains all your model’s weights"
      ]
    },
    {
      "cell_type": "markdown",
      "metadata": {
        "id": "VDWfcl9_XQF1"
      },
      "source": [
        "## Read config.json file"
      ]
    },
    {
      "cell_type": "code",
      "metadata": {
        "colab": {
          "base_uri": "https://localhost:8080/"
        },
        "id": "e_m5C5k7WUpW",
        "outputId": "f688168f-8ea0-4c83-a0d7-3f2408351c00"
      },
      "source": [
        "import json\n",
        "import pandas as pd\n",
        "# Opening JSON file\n",
        "with open('/content/config.json',) as f:\n",
        "  data = json.load(f)\n",
        "  for k,v in data.items():\n",
        "    print(str(k) + \" : \"+str(v))"
      ],
      "execution_count": 11,
      "outputs": [
        {
          "output_type": "stream",
          "text": [
            "_name_or_path : bert-base-cased\n",
            "architectures : ['BertModel']\n",
            "attention_probs_dropout_prob : 0.1\n",
            "gradient_checkpointing : False\n",
            "hidden_act : gelu\n",
            "hidden_dropout_prob : 0.1\n",
            "hidden_size : 768\n",
            "initializer_range : 0.02\n",
            "intermediate_size : 3072\n",
            "layer_norm_eps : 1e-12\n",
            "max_position_embeddings : 512\n",
            "model_type : bert\n",
            "num_attention_heads : 12\n",
            "num_hidden_layers : 12\n",
            "pad_token_id : 0\n",
            "position_embedding_type : absolute\n",
            "transformers_version : 4.8.2\n",
            "type_vocab_size : 2\n",
            "use_cache : True\n",
            "vocab_size : 28996\n"
          ],
          "name": "stdout"
        }
      ]
    },
    {
      "cell_type": "markdown",
      "metadata": {
        "id": "JKcGVdvSYlEQ"
      },
      "source": [
        "* The configuration file is necessary to know your model’s architecture, \n",
        "\n",
        "* The model weights specify model’s parameters."
      ]
    },
    {
      "cell_type": "markdown",
      "metadata": {
        "id": "VywzU_z-Y46e"
      },
      "source": [
        "## Using a Transformer model for inference\n",
        "* Transformer models can only process numbers — numbers that the tokenizer generates.\n",
        "* Tokenizers can take care of casting the inputs to the appropriate framework’s tensors,"
      ]
    },
    {
      "cell_type": "code",
      "metadata": {
        "id": "rRcX9OK1Wms8"
      },
      "source": [
        "sequences = [\n",
        "  \"Hello!\",\n",
        "  \"Cool.\",\n",
        "  \"Nice!\"\n",
        "]"
      ],
      "execution_count": 12,
      "outputs": []
    },
    {
      "cell_type": "code",
      "metadata": {
        "colab": {
          "base_uri": "https://localhost:8080/"
        },
        "id": "Rhkxoz0EZMpg",
        "outputId": "8db1869a-6eb3-4214-b456-1f7b197f5c96"
      },
      "source": [
        "sequences"
      ],
      "execution_count": 13,
      "outputs": [
        {
          "output_type": "execute_result",
          "data": {
            "text/plain": [
              "['Hello!', 'Cool.', 'Nice!']"
            ]
          },
          "metadata": {
            "tags": []
          },
          "execution_count": 13
        }
      ]
    },
    {
      "cell_type": "markdown",
      "metadata": {
        "id": "fAkICz8JZTNP"
      },
      "source": [
        "* The tokenizer converts these to vocabulary indices which are typically called input IDs. \n",
        "* Each sequence is now a list of numbers.\n",
        "\n",
        "The resulting output is:"
      ]
    },
    {
      "cell_type": "code",
      "metadata": {
        "id": "K6vLhCfjZNxe"
      },
      "source": [
        "encoded_sequences = [\n",
        "  [ 101, 7592,  999,  102],\n",
        "  [ 101, 4658, 1012,  102],\n",
        "  [ 101, 3835,  999,  102]\n",
        "]"
      ],
      "execution_count": 14,
      "outputs": []
    },
    {
      "cell_type": "markdown",
      "metadata": {
        "id": "6bGgOhEoZkaD"
      },
      "source": [
        "* This is a list of encoded sequences: a list of lists. \n",
        "\n",
        "Transformers accepts Tensors (only accept rectangular shapes)"
      ]
    },
    {
      "cell_type": "code",
      "metadata": {
        "id": "VKKbcgGmjfS9"
      },
      "source": [
        "import torch\n",
        "\n",
        "model_inputs = torch.tensor(encoded_sequences)"
      ],
      "execution_count": 15,
      "outputs": []
    },
    {
      "cell_type": "code",
      "metadata": {
        "colab": {
          "base_uri": "https://localhost:8080/"
        },
        "id": "mIampelAj8qB",
        "outputId": "fe79f8ef-98e0-4cbd-8109-d7d5829c469f"
      },
      "source": [
        "model_inputs.shape"
      ],
      "execution_count": 17,
      "outputs": [
        {
          "output_type": "execute_result",
          "data": {
            "text/plain": [
              "torch.Size([3, 4])"
            ]
          },
          "metadata": {
            "tags": []
          },
          "execution_count": 17
        }
      ]
    },
    {
      "cell_type": "markdown",
      "metadata": {
        "id": "2PWZ4VX8kDaK"
      },
      "source": [
        "## Using the tensors as inputs to the model"
      ]
    },
    {
      "cell_type": "code",
      "metadata": {
        "id": "bFgwOyM9j-3p"
      },
      "source": [
        "output = model(model_inputs)"
      ],
      "execution_count": 18,
      "outputs": []
    },
    {
      "cell_type": "code",
      "metadata": {
        "colab": {
          "base_uri": "https://localhost:8080/"
        },
        "id": "5Q7YWvFmkabD",
        "outputId": "e608fc55-04be-4c80-f542-ac57d91a58f6"
      },
      "source": [
        "output"
      ],
      "execution_count": 19,
      "outputs": [
        {
          "output_type": "execute_result",
          "data": {
            "text/plain": [
              "BaseModelOutputWithPoolingAndCrossAttentions([('last_hidden_state',\n",
              "                                               tensor([[[ 4.4496e-01,  4.8276e-01,  2.7797e-01,  ..., -5.4033e-02,\n",
              "                                                          3.9394e-01, -9.4770e-02],\n",
              "                                                        [ 2.4943e-01, -4.4093e-01,  8.1772e-01,  ..., -3.1917e-01,\n",
              "                                                          2.2992e-01, -4.1172e-02],\n",
              "                                                        [ 1.3668e-01,  2.2518e-01,  1.4502e-01,  ..., -4.6915e-02,\n",
              "                                                          2.8224e-01,  7.5566e-02],\n",
              "                                                        [ 1.1789e+00,  1.6738e-01, -1.8187e-01,  ...,  2.4671e-01,\n",
              "                                                          1.0441e+00, -6.1964e-03]],\n",
              "                                               \n",
              "                                                       [[ 3.6436e-01,  3.2464e-02,  2.0258e-01,  ...,  6.0111e-02,\n",
              "                                                          3.2451e-01, -2.0996e-02],\n",
              "                                                        [ 7.1866e-01, -4.8725e-01,  5.1740e-01,  ..., -4.4012e-01,\n",
              "                                                          1.4553e-01, -3.7545e-02],\n",
              "                                                        [ 3.3223e-01, -2.3271e-01,  9.4876e-02,  ..., -2.5268e-01,\n",
              "                                                          3.2172e-01,  8.1145e-04],\n",
              "                                                        [ 1.2523e+00,  3.5754e-01, -5.1320e-02,  ..., -3.7840e-01,\n",
              "                                                          1.0526e+00, -5.6255e-01]],\n",
              "                                               \n",
              "                                                       [[ 2.4042e-01,  1.4718e-01,  1.2110e-01,  ...,  7.6061e-02,\n",
              "                                                          3.3564e-01,  2.8262e-01],\n",
              "                                                        [ 6.5701e-01, -3.2787e-01,  2.4968e-01,  ..., -2.5920e-01,\n",
              "                                                          2.0175e-01,  3.3275e-01],\n",
              "                                                        [ 2.0160e-01,  1.5783e-01,  9.8973e-03,  ..., -3.8850e-01,\n",
              "                                                          4.1307e-01,  3.9732e-01],\n",
              "                                                        [ 1.0175e+00,  6.4387e-01, -7.8147e-01,  ..., -4.2109e-01,\n",
              "                                                          1.0925e+00, -4.8456e-02]]], grad_fn=<NativeLayerNormBackward>)),\n",
              "                                              ('pooler_output',\n",
              "                                               tensor([[-0.6856,  0.5262,  1.0000,  ...,  1.0000, -0.6112,  0.9971],\n",
              "                                                       [-0.6055,  0.4997,  0.9998,  ...,  0.9999, -0.6753,  0.9769],\n",
              "                                                       [-0.7702,  0.5447,  0.9999,  ...,  1.0000, -0.4655,  0.9894]],\n",
              "                                                      grad_fn=<TanhBackward>))])"
            ]
          },
          "metadata": {
            "tags": []
          },
          "execution_count": 19
        }
      ]
    },
    {
      "cell_type": "markdown",
      "metadata": {
        "id": "L90VRPy2kjvE"
      },
      "source": [
        "* While the model accepts a lot of different arguments, only the input IDs are necessary"
      ]
    },
    {
      "cell_type": "code",
      "metadata": {
        "id": "t49sU5FqkbSp"
      },
      "source": [
        ""
      ],
      "execution_count": null,
      "outputs": []
    }
  ]
}