{
  "nbformat": 4,
  "nbformat_minor": 0,
  "metadata": {
    "colab": {
      "name": "huggingface_course.ipynb",
      "provenance": [],
      "authorship_tag": "ABX9TyMxQxHwHfEWDvZ/xermMrMT",
      "include_colab_link": true
    },
    "kernelspec": {
      "name": "python3",
      "display_name": "Python 3"
    },
    "language_info": {
      "name": "python"
    },
    "widgets": {
      "application/vnd.jupyter.widget-state+json": {
        "292583b519e0429ba75bc03e2e473631": {
          "model_module": "@jupyter-widgets/controls",
          "model_name": "HBoxModel",
          "state": {
            "_view_name": "HBoxView",
            "_dom_classes": [],
            "_model_name": "HBoxModel",
            "_view_module": "@jupyter-widgets/controls",
            "_model_module_version": "1.5.0",
            "_view_count": null,
            "_view_module_version": "1.5.0",
            "box_style": "",
            "layout": "IPY_MODEL_65ad03f003014903868a56b158d3691d",
            "_model_module": "@jupyter-widgets/controls",
            "children": [
              "IPY_MODEL_08f28cdf13bd4b6bb6f015bd405900b1",
              "IPY_MODEL_7a504c3dff6d4b57a9005fa27d81c834"
            ]
          }
        },
        "65ad03f003014903868a56b158d3691d": {
          "model_module": "@jupyter-widgets/base",
          "model_name": "LayoutModel",
          "state": {
            "_view_name": "LayoutView",
            "grid_template_rows": null,
            "right": null,
            "justify_content": null,
            "_view_module": "@jupyter-widgets/base",
            "overflow": null,
            "_model_module_version": "1.2.0",
            "_view_count": null,
            "flex_flow": null,
            "width": null,
            "min_width": null,
            "border": null,
            "align_items": null,
            "bottom": null,
            "_model_module": "@jupyter-widgets/base",
            "top": null,
            "grid_column": null,
            "overflow_y": null,
            "overflow_x": null,
            "grid_auto_flow": null,
            "grid_area": null,
            "grid_template_columns": null,
            "flex": null,
            "_model_name": "LayoutModel",
            "justify_items": null,
            "grid_row": null,
            "max_height": null,
            "align_content": null,
            "visibility": null,
            "align_self": null,
            "height": null,
            "min_height": null,
            "padding": null,
            "grid_auto_rows": null,
            "grid_gap": null,
            "max_width": null,
            "order": null,
            "_view_module_version": "1.2.0",
            "grid_template_areas": null,
            "object_position": null,
            "object_fit": null,
            "grid_auto_columns": null,
            "margin": null,
            "display": null,
            "left": null
          }
        },
        "08f28cdf13bd4b6bb6f015bd405900b1": {
          "model_module": "@jupyter-widgets/controls",
          "model_name": "FloatProgressModel",
          "state": {
            "_view_name": "ProgressView",
            "style": "IPY_MODEL_47d43566f0214b69b4864f0b80a4942c",
            "_dom_classes": [],
            "description": "Downloading: 100%",
            "_model_name": "FloatProgressModel",
            "bar_style": "success",
            "max": 629,
            "_view_module": "@jupyter-widgets/controls",
            "_model_module_version": "1.5.0",
            "value": 629,
            "_view_count": null,
            "_view_module_version": "1.5.0",
            "orientation": "horizontal",
            "min": 0,
            "description_tooltip": null,
            "_model_module": "@jupyter-widgets/controls",
            "layout": "IPY_MODEL_a751c7ead42b46988d730279f0a42faf"
          }
        },
        "7a504c3dff6d4b57a9005fa27d81c834": {
          "model_module": "@jupyter-widgets/controls",
          "model_name": "HTMLModel",
          "state": {
            "_view_name": "HTMLView",
            "style": "IPY_MODEL_bf407244b4414489bb1d27edcbe52b52",
            "_dom_classes": [],
            "description": "",
            "_model_name": "HTMLModel",
            "placeholder": "​",
            "_view_module": "@jupyter-widgets/controls",
            "_model_module_version": "1.5.0",
            "value": " 629/629 [00:00&lt;00:00, 3.29kB/s]",
            "_view_count": null,
            "_view_module_version": "1.5.0",
            "description_tooltip": null,
            "_model_module": "@jupyter-widgets/controls",
            "layout": "IPY_MODEL_5013aa10774b4e87a97d79a361ac6c02"
          }
        },
        "47d43566f0214b69b4864f0b80a4942c": {
          "model_module": "@jupyter-widgets/controls",
          "model_name": "ProgressStyleModel",
          "state": {
            "_view_name": "StyleView",
            "_model_name": "ProgressStyleModel",
            "description_width": "initial",
            "_view_module": "@jupyter-widgets/base",
            "_model_module_version": "1.5.0",
            "_view_count": null,
            "_view_module_version": "1.2.0",
            "bar_color": null,
            "_model_module": "@jupyter-widgets/controls"
          }
        },
        "a751c7ead42b46988d730279f0a42faf": {
          "model_module": "@jupyter-widgets/base",
          "model_name": "LayoutModel",
          "state": {
            "_view_name": "LayoutView",
            "grid_template_rows": null,
            "right": null,
            "justify_content": null,
            "_view_module": "@jupyter-widgets/base",
            "overflow": null,
            "_model_module_version": "1.2.0",
            "_view_count": null,
            "flex_flow": null,
            "width": null,
            "min_width": null,
            "border": null,
            "align_items": null,
            "bottom": null,
            "_model_module": "@jupyter-widgets/base",
            "top": null,
            "grid_column": null,
            "overflow_y": null,
            "overflow_x": null,
            "grid_auto_flow": null,
            "grid_area": null,
            "grid_template_columns": null,
            "flex": null,
            "_model_name": "LayoutModel",
            "justify_items": null,
            "grid_row": null,
            "max_height": null,
            "align_content": null,
            "visibility": null,
            "align_self": null,
            "height": null,
            "min_height": null,
            "padding": null,
            "grid_auto_rows": null,
            "grid_gap": null,
            "max_width": null,
            "order": null,
            "_view_module_version": "1.2.0",
            "grid_template_areas": null,
            "object_position": null,
            "object_fit": null,
            "grid_auto_columns": null,
            "margin": null,
            "display": null,
            "left": null
          }
        },
        "bf407244b4414489bb1d27edcbe52b52": {
          "model_module": "@jupyter-widgets/controls",
          "model_name": "DescriptionStyleModel",
          "state": {
            "_view_name": "StyleView",
            "_model_name": "DescriptionStyleModel",
            "description_width": "",
            "_view_module": "@jupyter-widgets/base",
            "_model_module_version": "1.5.0",
            "_view_count": null,
            "_view_module_version": "1.2.0",
            "_model_module": "@jupyter-widgets/controls"
          }
        },
        "5013aa10774b4e87a97d79a361ac6c02": {
          "model_module": "@jupyter-widgets/base",
          "model_name": "LayoutModel",
          "state": {
            "_view_name": "LayoutView",
            "grid_template_rows": null,
            "right": null,
            "justify_content": null,
            "_view_module": "@jupyter-widgets/base",
            "overflow": null,
            "_model_module_version": "1.2.0",
            "_view_count": null,
            "flex_flow": null,
            "width": null,
            "min_width": null,
            "border": null,
            "align_items": null,
            "bottom": null,
            "_model_module": "@jupyter-widgets/base",
            "top": null,
            "grid_column": null,
            "overflow_y": null,
            "overflow_x": null,
            "grid_auto_flow": null,
            "grid_area": null,
            "grid_template_columns": null,
            "flex": null,
            "_model_name": "LayoutModel",
            "justify_items": null,
            "grid_row": null,
            "max_height": null,
            "align_content": null,
            "visibility": null,
            "align_self": null,
            "height": null,
            "min_height": null,
            "padding": null,
            "grid_auto_rows": null,
            "grid_gap": null,
            "max_width": null,
            "order": null,
            "_view_module_version": "1.2.0",
            "grid_template_areas": null,
            "object_position": null,
            "object_fit": null,
            "grid_auto_columns": null,
            "margin": null,
            "display": null,
            "left": null
          }
        },
        "07aed81a74fc49cba0fa22e9b2fd7085": {
          "model_module": "@jupyter-widgets/controls",
          "model_name": "HBoxModel",
          "state": {
            "_view_name": "HBoxView",
            "_dom_classes": [],
            "_model_name": "HBoxModel",
            "_view_module": "@jupyter-widgets/controls",
            "_model_module_version": "1.5.0",
            "_view_count": null,
            "_view_module_version": "1.5.0",
            "box_style": "",
            "layout": "IPY_MODEL_1150b791fb5d41e98647868a46a0e2b4",
            "_model_module": "@jupyter-widgets/controls",
            "children": [
              "IPY_MODEL_b1fd548207a846eea35885d0641b72ec",
              "IPY_MODEL_5979228767904c7ba3383d62bde41979"
            ]
          }
        },
        "1150b791fb5d41e98647868a46a0e2b4": {
          "model_module": "@jupyter-widgets/base",
          "model_name": "LayoutModel",
          "state": {
            "_view_name": "LayoutView",
            "grid_template_rows": null,
            "right": null,
            "justify_content": null,
            "_view_module": "@jupyter-widgets/base",
            "overflow": null,
            "_model_module_version": "1.2.0",
            "_view_count": null,
            "flex_flow": null,
            "width": null,
            "min_width": null,
            "border": null,
            "align_items": null,
            "bottom": null,
            "_model_module": "@jupyter-widgets/base",
            "top": null,
            "grid_column": null,
            "overflow_y": null,
            "overflow_x": null,
            "grid_auto_flow": null,
            "grid_area": null,
            "grid_template_columns": null,
            "flex": null,
            "_model_name": "LayoutModel",
            "justify_items": null,
            "grid_row": null,
            "max_height": null,
            "align_content": null,
            "visibility": null,
            "align_self": null,
            "height": null,
            "min_height": null,
            "padding": null,
            "grid_auto_rows": null,
            "grid_gap": null,
            "max_width": null,
            "order": null,
            "_view_module_version": "1.2.0",
            "grid_template_areas": null,
            "object_position": null,
            "object_fit": null,
            "grid_auto_columns": null,
            "margin": null,
            "display": null,
            "left": null
          }
        },
        "b1fd548207a846eea35885d0641b72ec": {
          "model_module": "@jupyter-widgets/controls",
          "model_name": "FloatProgressModel",
          "state": {
            "_view_name": "ProgressView",
            "style": "IPY_MODEL_9a297b32337e466ca0b80ad4be3aa125",
            "_dom_classes": [],
            "description": "Downloading: 100%",
            "_model_name": "FloatProgressModel",
            "bar_style": "success",
            "max": 267844284,
            "_view_module": "@jupyter-widgets/controls",
            "_model_module_version": "1.5.0",
            "value": 267844284,
            "_view_count": null,
            "_view_module_version": "1.5.0",
            "orientation": "horizontal",
            "min": 0,
            "description_tooltip": null,
            "_model_module": "@jupyter-widgets/controls",
            "layout": "IPY_MODEL_fd205a1e900a45d4b9cd11e8df3bc927"
          }
        },
        "5979228767904c7ba3383d62bde41979": {
          "model_module": "@jupyter-widgets/controls",
          "model_name": "HTMLModel",
          "state": {
            "_view_name": "HTMLView",
            "style": "IPY_MODEL_65498a51e792485e95685e61aa215287",
            "_dom_classes": [],
            "description": "",
            "_model_name": "HTMLModel",
            "placeholder": "​",
            "_view_module": "@jupyter-widgets/controls",
            "_model_module_version": "1.5.0",
            "value": " 268M/268M [00:07&lt;00:00, 37.3MB/s]",
            "_view_count": null,
            "_view_module_version": "1.5.0",
            "description_tooltip": null,
            "_model_module": "@jupyter-widgets/controls",
            "layout": "IPY_MODEL_2bb71c8b5d504439935b84ff16cefc37"
          }
        },
        "9a297b32337e466ca0b80ad4be3aa125": {
          "model_module": "@jupyter-widgets/controls",
          "model_name": "ProgressStyleModel",
          "state": {
            "_view_name": "StyleView",
            "_model_name": "ProgressStyleModel",
            "description_width": "initial",
            "_view_module": "@jupyter-widgets/base",
            "_model_module_version": "1.5.0",
            "_view_count": null,
            "_view_module_version": "1.2.0",
            "bar_color": null,
            "_model_module": "@jupyter-widgets/controls"
          }
        },
        "fd205a1e900a45d4b9cd11e8df3bc927": {
          "model_module": "@jupyter-widgets/base",
          "model_name": "LayoutModel",
          "state": {
            "_view_name": "LayoutView",
            "grid_template_rows": null,
            "right": null,
            "justify_content": null,
            "_view_module": "@jupyter-widgets/base",
            "overflow": null,
            "_model_module_version": "1.2.0",
            "_view_count": null,
            "flex_flow": null,
            "width": null,
            "min_width": null,
            "border": null,
            "align_items": null,
            "bottom": null,
            "_model_module": "@jupyter-widgets/base",
            "top": null,
            "grid_column": null,
            "overflow_y": null,
            "overflow_x": null,
            "grid_auto_flow": null,
            "grid_area": null,
            "grid_template_columns": null,
            "flex": null,
            "_model_name": "LayoutModel",
            "justify_items": null,
            "grid_row": null,
            "max_height": null,
            "align_content": null,
            "visibility": null,
            "align_self": null,
            "height": null,
            "min_height": null,
            "padding": null,
            "grid_auto_rows": null,
            "grid_gap": null,
            "max_width": null,
            "order": null,
            "_view_module_version": "1.2.0",
            "grid_template_areas": null,
            "object_position": null,
            "object_fit": null,
            "grid_auto_columns": null,
            "margin": null,
            "display": null,
            "left": null
          }
        },
        "65498a51e792485e95685e61aa215287": {
          "model_module": "@jupyter-widgets/controls",
          "model_name": "DescriptionStyleModel",
          "state": {
            "_view_name": "StyleView",
            "_model_name": "DescriptionStyleModel",
            "description_width": "",
            "_view_module": "@jupyter-widgets/base",
            "_model_module_version": "1.5.0",
            "_view_count": null,
            "_view_module_version": "1.2.0",
            "_model_module": "@jupyter-widgets/controls"
          }
        },
        "2bb71c8b5d504439935b84ff16cefc37": {
          "model_module": "@jupyter-widgets/base",
          "model_name": "LayoutModel",
          "state": {
            "_view_name": "LayoutView",
            "grid_template_rows": null,
            "right": null,
            "justify_content": null,
            "_view_module": "@jupyter-widgets/base",
            "overflow": null,
            "_model_module_version": "1.2.0",
            "_view_count": null,
            "flex_flow": null,
            "width": null,
            "min_width": null,
            "border": null,
            "align_items": null,
            "bottom": null,
            "_model_module": "@jupyter-widgets/base",
            "top": null,
            "grid_column": null,
            "overflow_y": null,
            "overflow_x": null,
            "grid_auto_flow": null,
            "grid_area": null,
            "grid_template_columns": null,
            "flex": null,
            "_model_name": "LayoutModel",
            "justify_items": null,
            "grid_row": null,
            "max_height": null,
            "align_content": null,
            "visibility": null,
            "align_self": null,
            "height": null,
            "min_height": null,
            "padding": null,
            "grid_auto_rows": null,
            "grid_gap": null,
            "max_width": null,
            "order": null,
            "_view_module_version": "1.2.0",
            "grid_template_areas": null,
            "object_position": null,
            "object_fit": null,
            "grid_auto_columns": null,
            "margin": null,
            "display": null,
            "left": null
          }
        },
        "ad78b79b204b4c7f912cfb1082c96113": {
          "model_module": "@jupyter-widgets/controls",
          "model_name": "HBoxModel",
          "state": {
            "_view_name": "HBoxView",
            "_dom_classes": [],
            "_model_name": "HBoxModel",
            "_view_module": "@jupyter-widgets/controls",
            "_model_module_version": "1.5.0",
            "_view_count": null,
            "_view_module_version": "1.5.0",
            "box_style": "",
            "layout": "IPY_MODEL_eb7ddca20ad148b8adb1cd33c440cd67",
            "_model_module": "@jupyter-widgets/controls",
            "children": [
              "IPY_MODEL_27f3c57340ad4747a395f0716aa9caa8",
              "IPY_MODEL_4958488d788c435d90100de510775c29"
            ]
          }
        },
        "eb7ddca20ad148b8adb1cd33c440cd67": {
          "model_module": "@jupyter-widgets/base",
          "model_name": "LayoutModel",
          "state": {
            "_view_name": "LayoutView",
            "grid_template_rows": null,
            "right": null,
            "justify_content": null,
            "_view_module": "@jupyter-widgets/base",
            "overflow": null,
            "_model_module_version": "1.2.0",
            "_view_count": null,
            "flex_flow": null,
            "width": null,
            "min_width": null,
            "border": null,
            "align_items": null,
            "bottom": null,
            "_model_module": "@jupyter-widgets/base",
            "top": null,
            "grid_column": null,
            "overflow_y": null,
            "overflow_x": null,
            "grid_auto_flow": null,
            "grid_area": null,
            "grid_template_columns": null,
            "flex": null,
            "_model_name": "LayoutModel",
            "justify_items": null,
            "grid_row": null,
            "max_height": null,
            "align_content": null,
            "visibility": null,
            "align_self": null,
            "height": null,
            "min_height": null,
            "padding": null,
            "grid_auto_rows": null,
            "grid_gap": null,
            "max_width": null,
            "order": null,
            "_view_module_version": "1.2.0",
            "grid_template_areas": null,
            "object_position": null,
            "object_fit": null,
            "grid_auto_columns": null,
            "margin": null,
            "display": null,
            "left": null
          }
        },
        "27f3c57340ad4747a395f0716aa9caa8": {
          "model_module": "@jupyter-widgets/controls",
          "model_name": "FloatProgressModel",
          "state": {
            "_view_name": "ProgressView",
            "style": "IPY_MODEL_345c6171bc6e4ffca0100a582df62ff8",
            "_dom_classes": [],
            "description": "Downloading: 100%",
            "_model_name": "FloatProgressModel",
            "bar_style": "success",
            "max": 231508,
            "_view_module": "@jupyter-widgets/controls",
            "_model_module_version": "1.5.0",
            "value": 231508,
            "_view_count": null,
            "_view_module_version": "1.5.0",
            "orientation": "horizontal",
            "min": 0,
            "description_tooltip": null,
            "_model_module": "@jupyter-widgets/controls",
            "layout": "IPY_MODEL_4105821f43ce407292b0a7a3ebfcf997"
          }
        },
        "4958488d788c435d90100de510775c29": {
          "model_module": "@jupyter-widgets/controls",
          "model_name": "HTMLModel",
          "state": {
            "_view_name": "HTMLView",
            "style": "IPY_MODEL_017ca1c2f5d542b9af57ac9d4f8de7c8",
            "_dom_classes": [],
            "description": "",
            "_model_name": "HTMLModel",
            "placeholder": "​",
            "_view_module": "@jupyter-widgets/controls",
            "_model_module_version": "1.5.0",
            "value": " 232k/232k [00:04&lt;00:00, 54.5kB/s]",
            "_view_count": null,
            "_view_module_version": "1.5.0",
            "description_tooltip": null,
            "_model_module": "@jupyter-widgets/controls",
            "layout": "IPY_MODEL_42940ad097684a7e89c8505d91bf717c"
          }
        },
        "345c6171bc6e4ffca0100a582df62ff8": {
          "model_module": "@jupyter-widgets/controls",
          "model_name": "ProgressStyleModel",
          "state": {
            "_view_name": "StyleView",
            "_model_name": "ProgressStyleModel",
            "description_width": "initial",
            "_view_module": "@jupyter-widgets/base",
            "_model_module_version": "1.5.0",
            "_view_count": null,
            "_view_module_version": "1.2.0",
            "bar_color": null,
            "_model_module": "@jupyter-widgets/controls"
          }
        },
        "4105821f43ce407292b0a7a3ebfcf997": {
          "model_module": "@jupyter-widgets/base",
          "model_name": "LayoutModel",
          "state": {
            "_view_name": "LayoutView",
            "grid_template_rows": null,
            "right": null,
            "justify_content": null,
            "_view_module": "@jupyter-widgets/base",
            "overflow": null,
            "_model_module_version": "1.2.0",
            "_view_count": null,
            "flex_flow": null,
            "width": null,
            "min_width": null,
            "border": null,
            "align_items": null,
            "bottom": null,
            "_model_module": "@jupyter-widgets/base",
            "top": null,
            "grid_column": null,
            "overflow_y": null,
            "overflow_x": null,
            "grid_auto_flow": null,
            "grid_area": null,
            "grid_template_columns": null,
            "flex": null,
            "_model_name": "LayoutModel",
            "justify_items": null,
            "grid_row": null,
            "max_height": null,
            "align_content": null,
            "visibility": null,
            "align_self": null,
            "height": null,
            "min_height": null,
            "padding": null,
            "grid_auto_rows": null,
            "grid_gap": null,
            "max_width": null,
            "order": null,
            "_view_module_version": "1.2.0",
            "grid_template_areas": null,
            "object_position": null,
            "object_fit": null,
            "grid_auto_columns": null,
            "margin": null,
            "display": null,
            "left": null
          }
        },
        "017ca1c2f5d542b9af57ac9d4f8de7c8": {
          "model_module": "@jupyter-widgets/controls",
          "model_name": "DescriptionStyleModel",
          "state": {
            "_view_name": "StyleView",
            "_model_name": "DescriptionStyleModel",
            "description_width": "",
            "_view_module": "@jupyter-widgets/base",
            "_model_module_version": "1.5.0",
            "_view_count": null,
            "_view_module_version": "1.2.0",
            "_model_module": "@jupyter-widgets/controls"
          }
        },
        "42940ad097684a7e89c8505d91bf717c": {
          "model_module": "@jupyter-widgets/base",
          "model_name": "LayoutModel",
          "state": {
            "_view_name": "LayoutView",
            "grid_template_rows": null,
            "right": null,
            "justify_content": null,
            "_view_module": "@jupyter-widgets/base",
            "overflow": null,
            "_model_module_version": "1.2.0",
            "_view_count": null,
            "flex_flow": null,
            "width": null,
            "min_width": null,
            "border": null,
            "align_items": null,
            "bottom": null,
            "_model_module": "@jupyter-widgets/base",
            "top": null,
            "grid_column": null,
            "overflow_y": null,
            "overflow_x": null,
            "grid_auto_flow": null,
            "grid_area": null,
            "grid_template_columns": null,
            "flex": null,
            "_model_name": "LayoutModel",
            "justify_items": null,
            "grid_row": null,
            "max_height": null,
            "align_content": null,
            "visibility": null,
            "align_self": null,
            "height": null,
            "min_height": null,
            "padding": null,
            "grid_auto_rows": null,
            "grid_gap": null,
            "max_width": null,
            "order": null,
            "_view_module_version": "1.2.0",
            "grid_template_areas": null,
            "object_position": null,
            "object_fit": null,
            "grid_auto_columns": null,
            "margin": null,
            "display": null,
            "left": null
          }
        },
        "2721485b3b354820aa4e68411d51d74b": {
          "model_module": "@jupyter-widgets/controls",
          "model_name": "HBoxModel",
          "state": {
            "_view_name": "HBoxView",
            "_dom_classes": [],
            "_model_name": "HBoxModel",
            "_view_module": "@jupyter-widgets/controls",
            "_model_module_version": "1.5.0",
            "_view_count": null,
            "_view_module_version": "1.5.0",
            "box_style": "",
            "layout": "IPY_MODEL_b58e067b68fd4d368d45aff1c6152f47",
            "_model_module": "@jupyter-widgets/controls",
            "children": [
              "IPY_MODEL_c658c22096e649ada91aa526e0e9ca42",
              "IPY_MODEL_11f800cfede14cd4a4a3e2b03036b96e"
            ]
          }
        },
        "b58e067b68fd4d368d45aff1c6152f47": {
          "model_module": "@jupyter-widgets/base",
          "model_name": "LayoutModel",
          "state": {
            "_view_name": "LayoutView",
            "grid_template_rows": null,
            "right": null,
            "justify_content": null,
            "_view_module": "@jupyter-widgets/base",
            "overflow": null,
            "_model_module_version": "1.2.0",
            "_view_count": null,
            "flex_flow": null,
            "width": null,
            "min_width": null,
            "border": null,
            "align_items": null,
            "bottom": null,
            "_model_module": "@jupyter-widgets/base",
            "top": null,
            "grid_column": null,
            "overflow_y": null,
            "overflow_x": null,
            "grid_auto_flow": null,
            "grid_area": null,
            "grid_template_columns": null,
            "flex": null,
            "_model_name": "LayoutModel",
            "justify_items": null,
            "grid_row": null,
            "max_height": null,
            "align_content": null,
            "visibility": null,
            "align_self": null,
            "height": null,
            "min_height": null,
            "padding": null,
            "grid_auto_rows": null,
            "grid_gap": null,
            "max_width": null,
            "order": null,
            "_view_module_version": "1.2.0",
            "grid_template_areas": null,
            "object_position": null,
            "object_fit": null,
            "grid_auto_columns": null,
            "margin": null,
            "display": null,
            "left": null
          }
        },
        "c658c22096e649ada91aa526e0e9ca42": {
          "model_module": "@jupyter-widgets/controls",
          "model_name": "FloatProgressModel",
          "state": {
            "_view_name": "ProgressView",
            "style": "IPY_MODEL_bdde8a6b8437458a8b7a8bb949c856f6",
            "_dom_classes": [],
            "description": "Downloading: 100%",
            "_model_name": "FloatProgressModel",
            "bar_style": "success",
            "max": 48,
            "_view_module": "@jupyter-widgets/controls",
            "_model_module_version": "1.5.0",
            "value": 48,
            "_view_count": null,
            "_view_module_version": "1.5.0",
            "orientation": "horizontal",
            "min": 0,
            "description_tooltip": null,
            "_model_module": "@jupyter-widgets/controls",
            "layout": "IPY_MODEL_df76502e9cc24253bef92e2724a9331b"
          }
        },
        "11f800cfede14cd4a4a3e2b03036b96e": {
          "model_module": "@jupyter-widgets/controls",
          "model_name": "HTMLModel",
          "state": {
            "_view_name": "HTMLView",
            "style": "IPY_MODEL_fa3d272fa92949009d8c726ba0e106d0",
            "_dom_classes": [],
            "description": "",
            "_model_name": "HTMLModel",
            "placeholder": "​",
            "_view_module": "@jupyter-widgets/controls",
            "_model_module_version": "1.5.0",
            "value": " 48.0/48.0 [00:00&lt;00:00, 411B/s]",
            "_view_count": null,
            "_view_module_version": "1.5.0",
            "description_tooltip": null,
            "_model_module": "@jupyter-widgets/controls",
            "layout": "IPY_MODEL_85d83ea5047c4443bf5221e81f2ecba6"
          }
        },
        "bdde8a6b8437458a8b7a8bb949c856f6": {
          "model_module": "@jupyter-widgets/controls",
          "model_name": "ProgressStyleModel",
          "state": {
            "_view_name": "StyleView",
            "_model_name": "ProgressStyleModel",
            "description_width": "initial",
            "_view_module": "@jupyter-widgets/base",
            "_model_module_version": "1.5.0",
            "_view_count": null,
            "_view_module_version": "1.2.0",
            "bar_color": null,
            "_model_module": "@jupyter-widgets/controls"
          }
        },
        "df76502e9cc24253bef92e2724a9331b": {
          "model_module": "@jupyter-widgets/base",
          "model_name": "LayoutModel",
          "state": {
            "_view_name": "LayoutView",
            "grid_template_rows": null,
            "right": null,
            "justify_content": null,
            "_view_module": "@jupyter-widgets/base",
            "overflow": null,
            "_model_module_version": "1.2.0",
            "_view_count": null,
            "flex_flow": null,
            "width": null,
            "min_width": null,
            "border": null,
            "align_items": null,
            "bottom": null,
            "_model_module": "@jupyter-widgets/base",
            "top": null,
            "grid_column": null,
            "overflow_y": null,
            "overflow_x": null,
            "grid_auto_flow": null,
            "grid_area": null,
            "grid_template_columns": null,
            "flex": null,
            "_model_name": "LayoutModel",
            "justify_items": null,
            "grid_row": null,
            "max_height": null,
            "align_content": null,
            "visibility": null,
            "align_self": null,
            "height": null,
            "min_height": null,
            "padding": null,
            "grid_auto_rows": null,
            "grid_gap": null,
            "max_width": null,
            "order": null,
            "_view_module_version": "1.2.0",
            "grid_template_areas": null,
            "object_position": null,
            "object_fit": null,
            "grid_auto_columns": null,
            "margin": null,
            "display": null,
            "left": null
          }
        },
        "fa3d272fa92949009d8c726ba0e106d0": {
          "model_module": "@jupyter-widgets/controls",
          "model_name": "DescriptionStyleModel",
          "state": {
            "_view_name": "StyleView",
            "_model_name": "DescriptionStyleModel",
            "description_width": "",
            "_view_module": "@jupyter-widgets/base",
            "_model_module_version": "1.5.0",
            "_view_count": null,
            "_view_module_version": "1.2.0",
            "_model_module": "@jupyter-widgets/controls"
          }
        },
        "85d83ea5047c4443bf5221e81f2ecba6": {
          "model_module": "@jupyter-widgets/base",
          "model_name": "LayoutModel",
          "state": {
            "_view_name": "LayoutView",
            "grid_template_rows": null,
            "right": null,
            "justify_content": null,
            "_view_module": "@jupyter-widgets/base",
            "overflow": null,
            "_model_module_version": "1.2.0",
            "_view_count": null,
            "flex_flow": null,
            "width": null,
            "min_width": null,
            "border": null,
            "align_items": null,
            "bottom": null,
            "_model_module": "@jupyter-widgets/base",
            "top": null,
            "grid_column": null,
            "overflow_y": null,
            "overflow_x": null,
            "grid_auto_flow": null,
            "grid_area": null,
            "grid_template_columns": null,
            "flex": null,
            "_model_name": "LayoutModel",
            "justify_items": null,
            "grid_row": null,
            "max_height": null,
            "align_content": null,
            "visibility": null,
            "align_self": null,
            "height": null,
            "min_height": null,
            "padding": null,
            "grid_auto_rows": null,
            "grid_gap": null,
            "max_width": null,
            "order": null,
            "_view_module_version": "1.2.0",
            "grid_template_areas": null,
            "object_position": null,
            "object_fit": null,
            "grid_auto_columns": null,
            "margin": null,
            "display": null,
            "left": null
          }
        },
        "d31c27fa0b5f4fa19f3c5db91db28348": {
          "model_module": "@jupyter-widgets/controls",
          "model_name": "HBoxModel",
          "state": {
            "_view_name": "HBoxView",
            "_dom_classes": [],
            "_model_name": "HBoxModel",
            "_view_module": "@jupyter-widgets/controls",
            "_model_module_version": "1.5.0",
            "_view_count": null,
            "_view_module_version": "1.5.0",
            "box_style": "",
            "layout": "IPY_MODEL_681e9c80ad2643d6b81c78ed647a6480",
            "_model_module": "@jupyter-widgets/controls",
            "children": [
              "IPY_MODEL_35b64a01d3c54ee898d1c6df31a4dcc4",
              "IPY_MODEL_cee7e5f13c7e4d5b83520156f506b0ba"
            ]
          }
        },
        "681e9c80ad2643d6b81c78ed647a6480": {
          "model_module": "@jupyter-widgets/base",
          "model_name": "LayoutModel",
          "state": {
            "_view_name": "LayoutView",
            "grid_template_rows": null,
            "right": null,
            "justify_content": null,
            "_view_module": "@jupyter-widgets/base",
            "overflow": null,
            "_model_module_version": "1.2.0",
            "_view_count": null,
            "flex_flow": null,
            "width": null,
            "min_width": null,
            "border": null,
            "align_items": null,
            "bottom": null,
            "_model_module": "@jupyter-widgets/base",
            "top": null,
            "grid_column": null,
            "overflow_y": null,
            "overflow_x": null,
            "grid_auto_flow": null,
            "grid_area": null,
            "grid_template_columns": null,
            "flex": null,
            "_model_name": "LayoutModel",
            "justify_items": null,
            "grid_row": null,
            "max_height": null,
            "align_content": null,
            "visibility": null,
            "align_self": null,
            "height": null,
            "min_height": null,
            "padding": null,
            "grid_auto_rows": null,
            "grid_gap": null,
            "max_width": null,
            "order": null,
            "_view_module_version": "1.2.0",
            "grid_template_areas": null,
            "object_position": null,
            "object_fit": null,
            "grid_auto_columns": null,
            "margin": null,
            "display": null,
            "left": null
          }
        },
        "35b64a01d3c54ee898d1c6df31a4dcc4": {
          "model_module": "@jupyter-widgets/controls",
          "model_name": "FloatProgressModel",
          "state": {
            "_view_name": "ProgressView",
            "style": "IPY_MODEL_9e13d8a221b14c6f8a9f447b53ca68f9",
            "_dom_classes": [],
            "description": "Downloading: 100%",
            "_model_name": "FloatProgressModel",
            "bar_style": "success",
            "max": 760,
            "_view_module": "@jupyter-widgets/controls",
            "_model_module_version": "1.5.0",
            "value": 760,
            "_view_count": null,
            "_view_module_version": "1.5.0",
            "orientation": "horizontal",
            "min": 0,
            "description_tooltip": null,
            "_model_module": "@jupyter-widgets/controls",
            "layout": "IPY_MODEL_725b8470bc944eb28a56b9c916d7002e"
          }
        },
        "cee7e5f13c7e4d5b83520156f506b0ba": {
          "model_module": "@jupyter-widgets/controls",
          "model_name": "HTMLModel",
          "state": {
            "_view_name": "HTMLView",
            "style": "IPY_MODEL_4b597127f4d845ef95b800731330658e",
            "_dom_classes": [],
            "description": "",
            "_model_name": "HTMLModel",
            "placeholder": "​",
            "_view_module": "@jupyter-widgets/controls",
            "_model_module_version": "1.5.0",
            "value": " 760/760 [00:13&lt;00:00, 56.7B/s]",
            "_view_count": null,
            "_view_module_version": "1.5.0",
            "description_tooltip": null,
            "_model_module": "@jupyter-widgets/controls",
            "layout": "IPY_MODEL_28e07c04f7934c02ac636bdfbdf4691e"
          }
        },
        "9e13d8a221b14c6f8a9f447b53ca68f9": {
          "model_module": "@jupyter-widgets/controls",
          "model_name": "ProgressStyleModel",
          "state": {
            "_view_name": "StyleView",
            "_model_name": "ProgressStyleModel",
            "description_width": "initial",
            "_view_module": "@jupyter-widgets/base",
            "_model_module_version": "1.5.0",
            "_view_count": null,
            "_view_module_version": "1.2.0",
            "bar_color": null,
            "_model_module": "@jupyter-widgets/controls"
          }
        },
        "725b8470bc944eb28a56b9c916d7002e": {
          "model_module": "@jupyter-widgets/base",
          "model_name": "LayoutModel",
          "state": {
            "_view_name": "LayoutView",
            "grid_template_rows": null,
            "right": null,
            "justify_content": null,
            "_view_module": "@jupyter-widgets/base",
            "overflow": null,
            "_model_module_version": "1.2.0",
            "_view_count": null,
            "flex_flow": null,
            "width": null,
            "min_width": null,
            "border": null,
            "align_items": null,
            "bottom": null,
            "_model_module": "@jupyter-widgets/base",
            "top": null,
            "grid_column": null,
            "overflow_y": null,
            "overflow_x": null,
            "grid_auto_flow": null,
            "grid_area": null,
            "grid_template_columns": null,
            "flex": null,
            "_model_name": "LayoutModel",
            "justify_items": null,
            "grid_row": null,
            "max_height": null,
            "align_content": null,
            "visibility": null,
            "align_self": null,
            "height": null,
            "min_height": null,
            "padding": null,
            "grid_auto_rows": null,
            "grid_gap": null,
            "max_width": null,
            "order": null,
            "_view_module_version": "1.2.0",
            "grid_template_areas": null,
            "object_position": null,
            "object_fit": null,
            "grid_auto_columns": null,
            "margin": null,
            "display": null,
            "left": null
          }
        },
        "4b597127f4d845ef95b800731330658e": {
          "model_module": "@jupyter-widgets/controls",
          "model_name": "DescriptionStyleModel",
          "state": {
            "_view_name": "StyleView",
            "_model_name": "DescriptionStyleModel",
            "description_width": "",
            "_view_module": "@jupyter-widgets/base",
            "_model_module_version": "1.5.0",
            "_view_count": null,
            "_view_module_version": "1.2.0",
            "_model_module": "@jupyter-widgets/controls"
          }
        },
        "28e07c04f7934c02ac636bdfbdf4691e": {
          "model_module": "@jupyter-widgets/base",
          "model_name": "LayoutModel",
          "state": {
            "_view_name": "LayoutView",
            "grid_template_rows": null,
            "right": null,
            "justify_content": null,
            "_view_module": "@jupyter-widgets/base",
            "overflow": null,
            "_model_module_version": "1.2.0",
            "_view_count": null,
            "flex_flow": null,
            "width": null,
            "min_width": null,
            "border": null,
            "align_items": null,
            "bottom": null,
            "_model_module": "@jupyter-widgets/base",
            "top": null,
            "grid_column": null,
            "overflow_y": null,
            "overflow_x": null,
            "grid_auto_flow": null,
            "grid_area": null,
            "grid_template_columns": null,
            "flex": null,
            "_model_name": "LayoutModel",
            "justify_items": null,
            "grid_row": null,
            "max_height": null,
            "align_content": null,
            "visibility": null,
            "align_self": null,
            "height": null,
            "min_height": null,
            "padding": null,
            "grid_auto_rows": null,
            "grid_gap": null,
            "max_width": null,
            "order": null,
            "_view_module_version": "1.2.0",
            "grid_template_areas": null,
            "object_position": null,
            "object_fit": null,
            "grid_auto_columns": null,
            "margin": null,
            "display": null,
            "left": null
          }
        },
        "d8b9cf39e0214f01a354db21797421c8": {
          "model_module": "@jupyter-widgets/controls",
          "model_name": "HBoxModel",
          "state": {
            "_view_name": "HBoxView",
            "_dom_classes": [],
            "_model_name": "HBoxModel",
            "_view_module": "@jupyter-widgets/controls",
            "_model_module_version": "1.5.0",
            "_view_count": null,
            "_view_module_version": "1.5.0",
            "box_style": "",
            "layout": "IPY_MODEL_222585edad3345408cc6dcf5ad4d7c90",
            "_model_module": "@jupyter-widgets/controls",
            "children": [
              "IPY_MODEL_90a0fd90dd2746ae9e2ed9a43e5a34b5",
              "IPY_MODEL_66cd81dac2b6475aad934e1657e97072"
            ]
          }
        },
        "222585edad3345408cc6dcf5ad4d7c90": {
          "model_module": "@jupyter-widgets/base",
          "model_name": "LayoutModel",
          "state": {
            "_view_name": "LayoutView",
            "grid_template_rows": null,
            "right": null,
            "justify_content": null,
            "_view_module": "@jupyter-widgets/base",
            "overflow": null,
            "_model_module_version": "1.2.0",
            "_view_count": null,
            "flex_flow": null,
            "width": null,
            "min_width": null,
            "border": null,
            "align_items": null,
            "bottom": null,
            "_model_module": "@jupyter-widgets/base",
            "top": null,
            "grid_column": null,
            "overflow_y": null,
            "overflow_x": null,
            "grid_auto_flow": null,
            "grid_area": null,
            "grid_template_columns": null,
            "flex": null,
            "_model_name": "LayoutModel",
            "justify_items": null,
            "grid_row": null,
            "max_height": null,
            "align_content": null,
            "visibility": null,
            "align_self": null,
            "height": null,
            "min_height": null,
            "padding": null,
            "grid_auto_rows": null,
            "grid_gap": null,
            "max_width": null,
            "order": null,
            "_view_module_version": "1.2.0",
            "grid_template_areas": null,
            "object_position": null,
            "object_fit": null,
            "grid_auto_columns": null,
            "margin": null,
            "display": null,
            "left": null
          }
        },
        "90a0fd90dd2746ae9e2ed9a43e5a34b5": {
          "model_module": "@jupyter-widgets/controls",
          "model_name": "FloatProgressModel",
          "state": {
            "_view_name": "ProgressView",
            "style": "IPY_MODEL_515b21435fff4fb9991f62b0d12cf218",
            "_dom_classes": [],
            "description": "Downloading: 100%",
            "_model_name": "FloatProgressModel",
            "bar_style": "success",
            "max": 467042463,
            "_view_module": "@jupyter-widgets/controls",
            "_model_module_version": "1.5.0",
            "value": 467042463,
            "_view_count": null,
            "_view_module_version": "1.5.0",
            "orientation": "horizontal",
            "min": 0,
            "description_tooltip": null,
            "_model_module": "@jupyter-widgets/controls",
            "layout": "IPY_MODEL_9adec632a7b24bdbb41df51042e720b0"
          }
        },
        "66cd81dac2b6475aad934e1657e97072": {
          "model_module": "@jupyter-widgets/controls",
          "model_name": "HTMLModel",
          "state": {
            "_view_name": "HTMLView",
            "style": "IPY_MODEL_ae2c5c96b58443eda506607144b167d4",
            "_dom_classes": [],
            "description": "",
            "_model_name": "HTMLModel",
            "placeholder": "​",
            "_view_module": "@jupyter-widgets/controls",
            "_model_module_version": "1.5.0",
            "value": " 467M/467M [00:12&lt;00:00, 37.3MB/s]",
            "_view_count": null,
            "_view_module_version": "1.5.0",
            "description_tooltip": null,
            "_model_module": "@jupyter-widgets/controls",
            "layout": "IPY_MODEL_5d7c166fd6a54780aab08838089be0f5"
          }
        },
        "515b21435fff4fb9991f62b0d12cf218": {
          "model_module": "@jupyter-widgets/controls",
          "model_name": "ProgressStyleModel",
          "state": {
            "_view_name": "StyleView",
            "_model_name": "ProgressStyleModel",
            "description_width": "initial",
            "_view_module": "@jupyter-widgets/base",
            "_model_module_version": "1.5.0",
            "_view_count": null,
            "_view_module_version": "1.2.0",
            "bar_color": null,
            "_model_module": "@jupyter-widgets/controls"
          }
        },
        "9adec632a7b24bdbb41df51042e720b0": {
          "model_module": "@jupyter-widgets/base",
          "model_name": "LayoutModel",
          "state": {
            "_view_name": "LayoutView",
            "grid_template_rows": null,
            "right": null,
            "justify_content": null,
            "_view_module": "@jupyter-widgets/base",
            "overflow": null,
            "_model_module_version": "1.2.0",
            "_view_count": null,
            "flex_flow": null,
            "width": null,
            "min_width": null,
            "border": null,
            "align_items": null,
            "bottom": null,
            "_model_module": "@jupyter-widgets/base",
            "top": null,
            "grid_column": null,
            "overflow_y": null,
            "overflow_x": null,
            "grid_auto_flow": null,
            "grid_area": null,
            "grid_template_columns": null,
            "flex": null,
            "_model_name": "LayoutModel",
            "justify_items": null,
            "grid_row": null,
            "max_height": null,
            "align_content": null,
            "visibility": null,
            "align_self": null,
            "height": null,
            "min_height": null,
            "padding": null,
            "grid_auto_rows": null,
            "grid_gap": null,
            "max_width": null,
            "order": null,
            "_view_module_version": "1.2.0",
            "grid_template_areas": null,
            "object_position": null,
            "object_fit": null,
            "grid_auto_columns": null,
            "margin": null,
            "display": null,
            "left": null
          }
        },
        "ae2c5c96b58443eda506607144b167d4": {
          "model_module": "@jupyter-widgets/controls",
          "model_name": "DescriptionStyleModel",
          "state": {
            "_view_name": "StyleView",
            "_model_name": "DescriptionStyleModel",
            "description_width": "",
            "_view_module": "@jupyter-widgets/base",
            "_model_module_version": "1.5.0",
            "_view_count": null,
            "_view_module_version": "1.2.0",
            "_model_module": "@jupyter-widgets/controls"
          }
        },
        "5d7c166fd6a54780aab08838089be0f5": {
          "model_module": "@jupyter-widgets/base",
          "model_name": "LayoutModel",
          "state": {
            "_view_name": "LayoutView",
            "grid_template_rows": null,
            "right": null,
            "justify_content": null,
            "_view_module": "@jupyter-widgets/base",
            "overflow": null,
            "_model_module_version": "1.2.0",
            "_view_count": null,
            "flex_flow": null,
            "width": null,
            "min_width": null,
            "border": null,
            "align_items": null,
            "bottom": null,
            "_model_module": "@jupyter-widgets/base",
            "top": null,
            "grid_column": null,
            "overflow_y": null,
            "overflow_x": null,
            "grid_auto_flow": null,
            "grid_area": null,
            "grid_template_columns": null,
            "flex": null,
            "_model_name": "LayoutModel",
            "justify_items": null,
            "grid_row": null,
            "max_height": null,
            "align_content": null,
            "visibility": null,
            "align_self": null,
            "height": null,
            "min_height": null,
            "padding": null,
            "grid_auto_rows": null,
            "grid_gap": null,
            "max_width": null,
            "order": null,
            "_view_module_version": "1.2.0",
            "grid_template_areas": null,
            "object_position": null,
            "object_fit": null,
            "grid_auto_columns": null,
            "margin": null,
            "display": null,
            "left": null
          }
        },
        "dbc7a75e463f4633b989bd318a443ba7": {
          "model_module": "@jupyter-widgets/controls",
          "model_name": "HBoxModel",
          "state": {
            "_view_name": "HBoxView",
            "_dom_classes": [],
            "_model_name": "HBoxModel",
            "_view_module": "@jupyter-widgets/controls",
            "_model_module_version": "1.5.0",
            "_view_count": null,
            "_view_module_version": "1.5.0",
            "box_style": "",
            "layout": "IPY_MODEL_88634f3170fe4a7cb91ff379285360c8",
            "_model_module": "@jupyter-widgets/controls",
            "children": [
              "IPY_MODEL_213149f472c04b549280fa7e331a0f49",
              "IPY_MODEL_21f69ff425be4037bb05ef41e48b33d3"
            ]
          }
        },
        "88634f3170fe4a7cb91ff379285360c8": {
          "model_module": "@jupyter-widgets/base",
          "model_name": "LayoutModel",
          "state": {
            "_view_name": "LayoutView",
            "grid_template_rows": null,
            "right": null,
            "justify_content": null,
            "_view_module": "@jupyter-widgets/base",
            "overflow": null,
            "_model_module_version": "1.2.0",
            "_view_count": null,
            "flex_flow": null,
            "width": null,
            "min_width": null,
            "border": null,
            "align_items": null,
            "bottom": null,
            "_model_module": "@jupyter-widgets/base",
            "top": null,
            "grid_column": null,
            "overflow_y": null,
            "overflow_x": null,
            "grid_auto_flow": null,
            "grid_area": null,
            "grid_template_columns": null,
            "flex": null,
            "_model_name": "LayoutModel",
            "justify_items": null,
            "grid_row": null,
            "max_height": null,
            "align_content": null,
            "visibility": null,
            "align_self": null,
            "height": null,
            "min_height": null,
            "padding": null,
            "grid_auto_rows": null,
            "grid_gap": null,
            "max_width": null,
            "order": null,
            "_view_module_version": "1.2.0",
            "grid_template_areas": null,
            "object_position": null,
            "object_fit": null,
            "grid_auto_columns": null,
            "margin": null,
            "display": null,
            "left": null
          }
        },
        "213149f472c04b549280fa7e331a0f49": {
          "model_module": "@jupyter-widgets/controls",
          "model_name": "FloatProgressModel",
          "state": {
            "_view_name": "ProgressView",
            "style": "IPY_MODEL_fe0be245595e47e18dc25d3342ee61ba",
            "_dom_classes": [],
            "description": "Downloading: 100%",
            "_model_name": "FloatProgressModel",
            "bar_style": "success",
            "max": 798011,
            "_view_module": "@jupyter-widgets/controls",
            "_model_module_version": "1.5.0",
            "value": 798011,
            "_view_count": null,
            "_view_module_version": "1.5.0",
            "orientation": "horizontal",
            "min": 0,
            "description_tooltip": null,
            "_model_module": "@jupyter-widgets/controls",
            "layout": "IPY_MODEL_95b217e6318946258aa0c5c2951b603b"
          }
        },
        "21f69ff425be4037bb05ef41e48b33d3": {
          "model_module": "@jupyter-widgets/controls",
          "model_name": "HTMLModel",
          "state": {
            "_view_name": "HTMLView",
            "style": "IPY_MODEL_327bd7c31ca54545b3a48996bc57d479",
            "_dom_classes": [],
            "description": "",
            "_model_name": "HTMLModel",
            "placeholder": "​",
            "_view_module": "@jupyter-widgets/controls",
            "_model_module_version": "1.5.0",
            "value": " 798k/798k [05:24&lt;00:00, 2.46kB/s]",
            "_view_count": null,
            "_view_module_version": "1.5.0",
            "description_tooltip": null,
            "_model_module": "@jupyter-widgets/controls",
            "layout": "IPY_MODEL_f7807d7955a842a082394548dd632f25"
          }
        },
        "fe0be245595e47e18dc25d3342ee61ba": {
          "model_module": "@jupyter-widgets/controls",
          "model_name": "ProgressStyleModel",
          "state": {
            "_view_name": "StyleView",
            "_model_name": "ProgressStyleModel",
            "description_width": "initial",
            "_view_module": "@jupyter-widgets/base",
            "_model_module_version": "1.5.0",
            "_view_count": null,
            "_view_module_version": "1.2.0",
            "bar_color": null,
            "_model_module": "@jupyter-widgets/controls"
          }
        },
        "95b217e6318946258aa0c5c2951b603b": {
          "model_module": "@jupyter-widgets/base",
          "model_name": "LayoutModel",
          "state": {
            "_view_name": "LayoutView",
            "grid_template_rows": null,
            "right": null,
            "justify_content": null,
            "_view_module": "@jupyter-widgets/base",
            "overflow": null,
            "_model_module_version": "1.2.0",
            "_view_count": null,
            "flex_flow": null,
            "width": null,
            "min_width": null,
            "border": null,
            "align_items": null,
            "bottom": null,
            "_model_module": "@jupyter-widgets/base",
            "top": null,
            "grid_column": null,
            "overflow_y": null,
            "overflow_x": null,
            "grid_auto_flow": null,
            "grid_area": null,
            "grid_template_columns": null,
            "flex": null,
            "_model_name": "LayoutModel",
            "justify_items": null,
            "grid_row": null,
            "max_height": null,
            "align_content": null,
            "visibility": null,
            "align_self": null,
            "height": null,
            "min_height": null,
            "padding": null,
            "grid_auto_rows": null,
            "grid_gap": null,
            "max_width": null,
            "order": null,
            "_view_module_version": "1.2.0",
            "grid_template_areas": null,
            "object_position": null,
            "object_fit": null,
            "grid_auto_columns": null,
            "margin": null,
            "display": null,
            "left": null
          }
        },
        "327bd7c31ca54545b3a48996bc57d479": {
          "model_module": "@jupyter-widgets/controls",
          "model_name": "DescriptionStyleModel",
          "state": {
            "_view_name": "StyleView",
            "_model_name": "DescriptionStyleModel",
            "description_width": "",
            "_view_module": "@jupyter-widgets/base",
            "_model_module_version": "1.5.0",
            "_view_count": null,
            "_view_module_version": "1.2.0",
            "_model_module": "@jupyter-widgets/controls"
          }
        },
        "f7807d7955a842a082394548dd632f25": {
          "model_module": "@jupyter-widgets/base",
          "model_name": "LayoutModel",
          "state": {
            "_view_name": "LayoutView",
            "grid_template_rows": null,
            "right": null,
            "justify_content": null,
            "_view_module": "@jupyter-widgets/base",
            "overflow": null,
            "_model_module_version": "1.2.0",
            "_view_count": null,
            "flex_flow": null,
            "width": null,
            "min_width": null,
            "border": null,
            "align_items": null,
            "bottom": null,
            "_model_module": "@jupyter-widgets/base",
            "top": null,
            "grid_column": null,
            "overflow_y": null,
            "overflow_x": null,
            "grid_auto_flow": null,
            "grid_area": null,
            "grid_template_columns": null,
            "flex": null,
            "_model_name": "LayoutModel",
            "justify_items": null,
            "grid_row": null,
            "max_height": null,
            "align_content": null,
            "visibility": null,
            "align_self": null,
            "height": null,
            "min_height": null,
            "padding": null,
            "grid_auto_rows": null,
            "grid_gap": null,
            "max_width": null,
            "order": null,
            "_view_module_version": "1.2.0",
            "grid_template_areas": null,
            "object_position": null,
            "object_fit": null,
            "grid_auto_columns": null,
            "margin": null,
            "display": null,
            "left": null
          }
        },
        "c10f42db82b04d2a9d1cfe53c7ab7e28": {
          "model_module": "@jupyter-widgets/controls",
          "model_name": "HBoxModel",
          "state": {
            "_view_name": "HBoxView",
            "_dom_classes": [],
            "_model_name": "HBoxModel",
            "_view_module": "@jupyter-widgets/controls",
            "_model_module_version": "1.5.0",
            "_view_count": null,
            "_view_module_version": "1.5.0",
            "box_style": "",
            "layout": "IPY_MODEL_ec53b500189543f0be5d650bb7b6c15d",
            "_model_module": "@jupyter-widgets/controls",
            "children": [
              "IPY_MODEL_4373ea4ca718481e8894ed551302bf1a",
              "IPY_MODEL_332eabc8d5734248be7e0c72a02c99bf"
            ]
          }
        },
        "ec53b500189543f0be5d650bb7b6c15d": {
          "model_module": "@jupyter-widgets/base",
          "model_name": "LayoutModel",
          "state": {
            "_view_name": "LayoutView",
            "grid_template_rows": null,
            "right": null,
            "justify_content": null,
            "_view_module": "@jupyter-widgets/base",
            "overflow": null,
            "_model_module_version": "1.2.0",
            "_view_count": null,
            "flex_flow": null,
            "width": null,
            "min_width": null,
            "border": null,
            "align_items": null,
            "bottom": null,
            "_model_module": "@jupyter-widgets/base",
            "top": null,
            "grid_column": null,
            "overflow_y": null,
            "overflow_x": null,
            "grid_auto_flow": null,
            "grid_area": null,
            "grid_template_columns": null,
            "flex": null,
            "_model_name": "LayoutModel",
            "justify_items": null,
            "grid_row": null,
            "max_height": null,
            "align_content": null,
            "visibility": null,
            "align_self": null,
            "height": null,
            "min_height": null,
            "padding": null,
            "grid_auto_rows": null,
            "grid_gap": null,
            "max_width": null,
            "order": null,
            "_view_module_version": "1.2.0",
            "grid_template_areas": null,
            "object_position": null,
            "object_fit": null,
            "grid_auto_columns": null,
            "margin": null,
            "display": null,
            "left": null
          }
        },
        "4373ea4ca718481e8894ed551302bf1a": {
          "model_module": "@jupyter-widgets/controls",
          "model_name": "FloatProgressModel",
          "state": {
            "_view_name": "ProgressView",
            "style": "IPY_MODEL_02da4e8650c140c6b1a7d242b8ae86df",
            "_dom_classes": [],
            "description": "Downloading: 100%",
            "_model_name": "FloatProgressModel",
            "bar_style": "success",
            "max": 1382015,
            "_view_module": "@jupyter-widgets/controls",
            "_model_module_version": "1.5.0",
            "value": 1382015,
            "_view_count": null,
            "_view_module_version": "1.5.0",
            "orientation": "horizontal",
            "min": 0,
            "description_tooltip": null,
            "_model_module": "@jupyter-widgets/controls",
            "layout": "IPY_MODEL_fe9f8904e93246b7b27c07bea71a3d2d"
          }
        },
        "332eabc8d5734248be7e0c72a02c99bf": {
          "model_module": "@jupyter-widgets/controls",
          "model_name": "HTMLModel",
          "state": {
            "_view_name": "HTMLView",
            "style": "IPY_MODEL_d931916c70004e109c7bded139fc91de",
            "_dom_classes": [],
            "description": "",
            "_model_name": "HTMLModel",
            "placeholder": "​",
            "_view_module": "@jupyter-widgets/controls",
            "_model_module_version": "1.5.0",
            "value": " 1.38M/1.38M [05:22&lt;00:00, 4.28kB/s]",
            "_view_count": null,
            "_view_module_version": "1.5.0",
            "description_tooltip": null,
            "_model_module": "@jupyter-widgets/controls",
            "layout": "IPY_MODEL_fc2ce15f16f94eae861c79516d9113f2"
          }
        },
        "02da4e8650c140c6b1a7d242b8ae86df": {
          "model_module": "@jupyter-widgets/controls",
          "model_name": "ProgressStyleModel",
          "state": {
            "_view_name": "StyleView",
            "_model_name": "ProgressStyleModel",
            "description_width": "initial",
            "_view_module": "@jupyter-widgets/base",
            "_model_module_version": "1.5.0",
            "_view_count": null,
            "_view_module_version": "1.2.0",
            "bar_color": null,
            "_model_module": "@jupyter-widgets/controls"
          }
        },
        "fe9f8904e93246b7b27c07bea71a3d2d": {
          "model_module": "@jupyter-widgets/base",
          "model_name": "LayoutModel",
          "state": {
            "_view_name": "LayoutView",
            "grid_template_rows": null,
            "right": null,
            "justify_content": null,
            "_view_module": "@jupyter-widgets/base",
            "overflow": null,
            "_model_module_version": "1.2.0",
            "_view_count": null,
            "flex_flow": null,
            "width": null,
            "min_width": null,
            "border": null,
            "align_items": null,
            "bottom": null,
            "_model_module": "@jupyter-widgets/base",
            "top": null,
            "grid_column": null,
            "overflow_y": null,
            "overflow_x": null,
            "grid_auto_flow": null,
            "grid_area": null,
            "grid_template_columns": null,
            "flex": null,
            "_model_name": "LayoutModel",
            "justify_items": null,
            "grid_row": null,
            "max_height": null,
            "align_content": null,
            "visibility": null,
            "align_self": null,
            "height": null,
            "min_height": null,
            "padding": null,
            "grid_auto_rows": null,
            "grid_gap": null,
            "max_width": null,
            "order": null,
            "_view_module_version": "1.2.0",
            "grid_template_areas": null,
            "object_position": null,
            "object_fit": null,
            "grid_auto_columns": null,
            "margin": null,
            "display": null,
            "left": null
          }
        },
        "d931916c70004e109c7bded139fc91de": {
          "model_module": "@jupyter-widgets/controls",
          "model_name": "DescriptionStyleModel",
          "state": {
            "_view_name": "StyleView",
            "_model_name": "DescriptionStyleModel",
            "description_width": "",
            "_view_module": "@jupyter-widgets/base",
            "_model_module_version": "1.5.0",
            "_view_count": null,
            "_view_module_version": "1.2.0",
            "_model_module": "@jupyter-widgets/controls"
          }
        },
        "fc2ce15f16f94eae861c79516d9113f2": {
          "model_module": "@jupyter-widgets/base",
          "model_name": "LayoutModel",
          "state": {
            "_view_name": "LayoutView",
            "grid_template_rows": null,
            "right": null,
            "justify_content": null,
            "_view_module": "@jupyter-widgets/base",
            "overflow": null,
            "_model_module_version": "1.2.0",
            "_view_count": null,
            "flex_flow": null,
            "width": null,
            "min_width": null,
            "border": null,
            "align_items": null,
            "bottom": null,
            "_model_module": "@jupyter-widgets/base",
            "top": null,
            "grid_column": null,
            "overflow_y": null,
            "overflow_x": null,
            "grid_auto_flow": null,
            "grid_area": null,
            "grid_template_columns": null,
            "flex": null,
            "_model_name": "LayoutModel",
            "justify_items": null,
            "grid_row": null,
            "max_height": null,
            "align_content": null,
            "visibility": null,
            "align_self": null,
            "height": null,
            "min_height": null,
            "padding": null,
            "grid_auto_rows": null,
            "grid_gap": null,
            "max_width": null,
            "order": null,
            "_view_module_version": "1.2.0",
            "grid_template_areas": null,
            "object_position": null,
            "object_fit": null,
            "grid_auto_columns": null,
            "margin": null,
            "display": null,
            "left": null
          }
        },
        "076bc42e56f74a5a9a3b781f836d9e4f": {
          "model_module": "@jupyter-widgets/controls",
          "model_name": "HBoxModel",
          "state": {
            "_view_name": "HBoxView",
            "_dom_classes": [],
            "_model_name": "HBoxModel",
            "_view_module": "@jupyter-widgets/controls",
            "_model_module_version": "1.5.0",
            "_view_count": null,
            "_view_module_version": "1.5.0",
            "box_style": "",
            "layout": "IPY_MODEL_60971a2ac5a544649be019ff541c92d4",
            "_model_module": "@jupyter-widgets/controls",
            "children": [
              "IPY_MODEL_e31db0a593e0408783e74bfd43c2f5f9",
              "IPY_MODEL_7caef61aafc04e369f8fe77823d76cae"
            ]
          }
        },
        "60971a2ac5a544649be019ff541c92d4": {
          "model_module": "@jupyter-widgets/base",
          "model_name": "LayoutModel",
          "state": {
            "_view_name": "LayoutView",
            "grid_template_rows": null,
            "right": null,
            "justify_content": null,
            "_view_module": "@jupyter-widgets/base",
            "overflow": null,
            "_model_module_version": "1.2.0",
            "_view_count": null,
            "flex_flow": null,
            "width": null,
            "min_width": null,
            "border": null,
            "align_items": null,
            "bottom": null,
            "_model_module": "@jupyter-widgets/base",
            "top": null,
            "grid_column": null,
            "overflow_y": null,
            "overflow_x": null,
            "grid_auto_flow": null,
            "grid_area": null,
            "grid_template_columns": null,
            "flex": null,
            "_model_name": "LayoutModel",
            "justify_items": null,
            "grid_row": null,
            "max_height": null,
            "align_content": null,
            "visibility": null,
            "align_self": null,
            "height": null,
            "min_height": null,
            "padding": null,
            "grid_auto_rows": null,
            "grid_gap": null,
            "max_width": null,
            "order": null,
            "_view_module_version": "1.2.0",
            "grid_template_areas": null,
            "object_position": null,
            "object_fit": null,
            "grid_auto_columns": null,
            "margin": null,
            "display": null,
            "left": null
          }
        },
        "e31db0a593e0408783e74bfd43c2f5f9": {
          "model_module": "@jupyter-widgets/controls",
          "model_name": "FloatProgressModel",
          "state": {
            "_view_name": "ProgressView",
            "style": "IPY_MODEL_df074a8a34ef4f1e9d276194da601d0f",
            "_dom_classes": [],
            "description": "Downloading: 100%",
            "_model_name": "FloatProgressModel",
            "bar_style": "success",
            "max": 570,
            "_view_module": "@jupyter-widgets/controls",
            "_model_module_version": "1.5.0",
            "value": 570,
            "_view_count": null,
            "_view_module_version": "1.5.0",
            "orientation": "horizontal",
            "min": 0,
            "description_tooltip": null,
            "_model_module": "@jupyter-widgets/controls",
            "layout": "IPY_MODEL_fce2bddd4d894ac5b0823708f64b2abd"
          }
        },
        "7caef61aafc04e369f8fe77823d76cae": {
          "model_module": "@jupyter-widgets/controls",
          "model_name": "HTMLModel",
          "state": {
            "_view_name": "HTMLView",
            "style": "IPY_MODEL_1699a45047a3426bb3969ac113a5efae",
            "_dom_classes": [],
            "description": "",
            "_model_name": "HTMLModel",
            "placeholder": "​",
            "_view_module": "@jupyter-widgets/controls",
            "_model_module_version": "1.5.0",
            "value": " 570/570 [00:13&lt;00:00, 42.6B/s]",
            "_view_count": null,
            "_view_module_version": "1.5.0",
            "description_tooltip": null,
            "_model_module": "@jupyter-widgets/controls",
            "layout": "IPY_MODEL_3a368f76812f4a7282ea1d62afa1b49d"
          }
        },
        "df074a8a34ef4f1e9d276194da601d0f": {
          "model_module": "@jupyter-widgets/controls",
          "model_name": "ProgressStyleModel",
          "state": {
            "_view_name": "StyleView",
            "_model_name": "ProgressStyleModel",
            "description_width": "initial",
            "_view_module": "@jupyter-widgets/base",
            "_model_module_version": "1.5.0",
            "_view_count": null,
            "_view_module_version": "1.2.0",
            "bar_color": null,
            "_model_module": "@jupyter-widgets/controls"
          }
        },
        "fce2bddd4d894ac5b0823708f64b2abd": {
          "model_module": "@jupyter-widgets/base",
          "model_name": "LayoutModel",
          "state": {
            "_view_name": "LayoutView",
            "grid_template_rows": null,
            "right": null,
            "justify_content": null,
            "_view_module": "@jupyter-widgets/base",
            "overflow": null,
            "_model_module_version": "1.2.0",
            "_view_count": null,
            "flex_flow": null,
            "width": null,
            "min_width": null,
            "border": null,
            "align_items": null,
            "bottom": null,
            "_model_module": "@jupyter-widgets/base",
            "top": null,
            "grid_column": null,
            "overflow_y": null,
            "overflow_x": null,
            "grid_auto_flow": null,
            "grid_area": null,
            "grid_template_columns": null,
            "flex": null,
            "_model_name": "LayoutModel",
            "justify_items": null,
            "grid_row": null,
            "max_height": null,
            "align_content": null,
            "visibility": null,
            "align_self": null,
            "height": null,
            "min_height": null,
            "padding": null,
            "grid_auto_rows": null,
            "grid_gap": null,
            "max_width": null,
            "order": null,
            "_view_module_version": "1.2.0",
            "grid_template_areas": null,
            "object_position": null,
            "object_fit": null,
            "grid_auto_columns": null,
            "margin": null,
            "display": null,
            "left": null
          }
        },
        "1699a45047a3426bb3969ac113a5efae": {
          "model_module": "@jupyter-widgets/controls",
          "model_name": "DescriptionStyleModel",
          "state": {
            "_view_name": "StyleView",
            "_model_name": "DescriptionStyleModel",
            "description_width": "",
            "_view_module": "@jupyter-widgets/base",
            "_model_module_version": "1.5.0",
            "_view_count": null,
            "_view_module_version": "1.2.0",
            "_model_module": "@jupyter-widgets/controls"
          }
        },
        "3a368f76812f4a7282ea1d62afa1b49d": {
          "model_module": "@jupyter-widgets/base",
          "model_name": "LayoutModel",
          "state": {
            "_view_name": "LayoutView",
            "grid_template_rows": null,
            "right": null,
            "justify_content": null,
            "_view_module": "@jupyter-widgets/base",
            "overflow": null,
            "_model_module_version": "1.2.0",
            "_view_count": null,
            "flex_flow": null,
            "width": null,
            "min_width": null,
            "border": null,
            "align_items": null,
            "bottom": null,
            "_model_module": "@jupyter-widgets/base",
            "top": null,
            "grid_column": null,
            "overflow_y": null,
            "overflow_x": null,
            "grid_auto_flow": null,
            "grid_area": null,
            "grid_template_columns": null,
            "flex": null,
            "_model_name": "LayoutModel",
            "justify_items": null,
            "grid_row": null,
            "max_height": null,
            "align_content": null,
            "visibility": null,
            "align_self": null,
            "height": null,
            "min_height": null,
            "padding": null,
            "grid_auto_rows": null,
            "grid_gap": null,
            "max_width": null,
            "order": null,
            "_view_module_version": "1.2.0",
            "grid_template_areas": null,
            "object_position": null,
            "object_fit": null,
            "grid_auto_columns": null,
            "margin": null,
            "display": null,
            "left": null
          }
        },
        "891bb7ab17a14f029c3b649d94cec086": {
          "model_module": "@jupyter-widgets/controls",
          "model_name": "HBoxModel",
          "state": {
            "_view_name": "HBoxView",
            "_dom_classes": [],
            "_model_name": "HBoxModel",
            "_view_module": "@jupyter-widgets/controls",
            "_model_module_version": "1.5.0",
            "_view_count": null,
            "_view_module_version": "1.5.0",
            "box_style": "",
            "layout": "IPY_MODEL_94fa4774111542a1b77c7b3e15a9ae28",
            "_model_module": "@jupyter-widgets/controls",
            "children": [
              "IPY_MODEL_1b7a6d8a580c490a9e65255e4baaa202",
              "IPY_MODEL_64f5659f210d4af8a6847015d4aa30e7"
            ]
          }
        },
        "94fa4774111542a1b77c7b3e15a9ae28": {
          "model_module": "@jupyter-widgets/base",
          "model_name": "LayoutModel",
          "state": {
            "_view_name": "LayoutView",
            "grid_template_rows": null,
            "right": null,
            "justify_content": null,
            "_view_module": "@jupyter-widgets/base",
            "overflow": null,
            "_model_module_version": "1.2.0",
            "_view_count": null,
            "flex_flow": null,
            "width": null,
            "min_width": null,
            "border": null,
            "align_items": null,
            "bottom": null,
            "_model_module": "@jupyter-widgets/base",
            "top": null,
            "grid_column": null,
            "overflow_y": null,
            "overflow_x": null,
            "grid_auto_flow": null,
            "grid_area": null,
            "grid_template_columns": null,
            "flex": null,
            "_model_name": "LayoutModel",
            "justify_items": null,
            "grid_row": null,
            "max_height": null,
            "align_content": null,
            "visibility": null,
            "align_self": null,
            "height": null,
            "min_height": null,
            "padding": null,
            "grid_auto_rows": null,
            "grid_gap": null,
            "max_width": null,
            "order": null,
            "_view_module_version": "1.2.0",
            "grid_template_areas": null,
            "object_position": null,
            "object_fit": null,
            "grid_auto_columns": null,
            "margin": null,
            "display": null,
            "left": null
          }
        },
        "1b7a6d8a580c490a9e65255e4baaa202": {
          "model_module": "@jupyter-widgets/controls",
          "model_name": "FloatProgressModel",
          "state": {
            "_view_name": "ProgressView",
            "style": "IPY_MODEL_abba61adbbf24a9a9397cb812df1ee43",
            "_dom_classes": [],
            "description": "Downloading: 100%",
            "_model_name": "FloatProgressModel",
            "bar_style": "success",
            "max": 435779157,
            "_view_module": "@jupyter-widgets/controls",
            "_model_module_version": "1.5.0",
            "value": 435779157,
            "_view_count": null,
            "_view_module_version": "1.5.0",
            "orientation": "horizontal",
            "min": 0,
            "description_tooltip": null,
            "_model_module": "@jupyter-widgets/controls",
            "layout": "IPY_MODEL_d3a882b9495346daa038e9efac39de1d"
          }
        },
        "64f5659f210d4af8a6847015d4aa30e7": {
          "model_module": "@jupyter-widgets/controls",
          "model_name": "HTMLModel",
          "state": {
            "_view_name": "HTMLView",
            "style": "IPY_MODEL_60ff544e6f004ad2bb234c44149ef251",
            "_dom_classes": [],
            "description": "",
            "_model_name": "HTMLModel",
            "placeholder": "​",
            "_view_module": "@jupyter-widgets/controls",
            "_model_module_version": "1.5.0",
            "value": " 436M/436M [00:11&lt;00:00, 37.8MB/s]",
            "_view_count": null,
            "_view_module_version": "1.5.0",
            "description_tooltip": null,
            "_model_module": "@jupyter-widgets/controls",
            "layout": "IPY_MODEL_aea170be110e4dc1a4538874b4556546"
          }
        },
        "abba61adbbf24a9a9397cb812df1ee43": {
          "model_module": "@jupyter-widgets/controls",
          "model_name": "ProgressStyleModel",
          "state": {
            "_view_name": "StyleView",
            "_model_name": "ProgressStyleModel",
            "description_width": "initial",
            "_view_module": "@jupyter-widgets/base",
            "_model_module_version": "1.5.0",
            "_view_count": null,
            "_view_module_version": "1.2.0",
            "bar_color": null,
            "_model_module": "@jupyter-widgets/controls"
          }
        },
        "d3a882b9495346daa038e9efac39de1d": {
          "model_module": "@jupyter-widgets/base",
          "model_name": "LayoutModel",
          "state": {
            "_view_name": "LayoutView",
            "grid_template_rows": null,
            "right": null,
            "justify_content": null,
            "_view_module": "@jupyter-widgets/base",
            "overflow": null,
            "_model_module_version": "1.2.0",
            "_view_count": null,
            "flex_flow": null,
            "width": null,
            "min_width": null,
            "border": null,
            "align_items": null,
            "bottom": null,
            "_model_module": "@jupyter-widgets/base",
            "top": null,
            "grid_column": null,
            "overflow_y": null,
            "overflow_x": null,
            "grid_auto_flow": null,
            "grid_area": null,
            "grid_template_columns": null,
            "flex": null,
            "_model_name": "LayoutModel",
            "justify_items": null,
            "grid_row": null,
            "max_height": null,
            "align_content": null,
            "visibility": null,
            "align_self": null,
            "height": null,
            "min_height": null,
            "padding": null,
            "grid_auto_rows": null,
            "grid_gap": null,
            "max_width": null,
            "order": null,
            "_view_module_version": "1.2.0",
            "grid_template_areas": null,
            "object_position": null,
            "object_fit": null,
            "grid_auto_columns": null,
            "margin": null,
            "display": null,
            "left": null
          }
        },
        "60ff544e6f004ad2bb234c44149ef251": {
          "model_module": "@jupyter-widgets/controls",
          "model_name": "DescriptionStyleModel",
          "state": {
            "_view_name": "StyleView",
            "_model_name": "DescriptionStyleModel",
            "description_width": "",
            "_view_module": "@jupyter-widgets/base",
            "_model_module_version": "1.5.0",
            "_view_count": null,
            "_view_module_version": "1.2.0",
            "_model_module": "@jupyter-widgets/controls"
          }
        },
        "aea170be110e4dc1a4538874b4556546": {
          "model_module": "@jupyter-widgets/base",
          "model_name": "LayoutModel",
          "state": {
            "_view_name": "LayoutView",
            "grid_template_rows": null,
            "right": null,
            "justify_content": null,
            "_view_module": "@jupyter-widgets/base",
            "overflow": null,
            "_model_module_version": "1.2.0",
            "_view_count": null,
            "flex_flow": null,
            "width": null,
            "min_width": null,
            "border": null,
            "align_items": null,
            "bottom": null,
            "_model_module": "@jupyter-widgets/base",
            "top": null,
            "grid_column": null,
            "overflow_y": null,
            "overflow_x": null,
            "grid_auto_flow": null,
            "grid_area": null,
            "grid_template_columns": null,
            "flex": null,
            "_model_name": "LayoutModel",
            "justify_items": null,
            "grid_row": null,
            "max_height": null,
            "align_content": null,
            "visibility": null,
            "align_self": null,
            "height": null,
            "min_height": null,
            "padding": null,
            "grid_auto_rows": null,
            "grid_gap": null,
            "max_width": null,
            "order": null,
            "_view_module_version": "1.2.0",
            "grid_template_areas": null,
            "object_position": null,
            "object_fit": null,
            "grid_auto_columns": null,
            "margin": null,
            "display": null,
            "left": null
          }
        },
        "1bf114292085411da98bbd727ae81478": {
          "model_module": "@jupyter-widgets/controls",
          "model_name": "HBoxModel",
          "state": {
            "_view_name": "HBoxView",
            "_dom_classes": [],
            "_model_name": "HBoxModel",
            "_view_module": "@jupyter-widgets/controls",
            "_model_module_version": "1.5.0",
            "_view_count": null,
            "_view_module_version": "1.5.0",
            "box_style": "",
            "layout": "IPY_MODEL_f2a73612004e4ce4947cff58d1735f5b",
            "_model_module": "@jupyter-widgets/controls",
            "children": [
              "IPY_MODEL_fba2681bffa44c96a4b6e64918d5b469",
              "IPY_MODEL_91e56899ba134fc8b03099b751f9b9a7"
            ]
          }
        },
        "f2a73612004e4ce4947cff58d1735f5b": {
          "model_module": "@jupyter-widgets/base",
          "model_name": "LayoutModel",
          "state": {
            "_view_name": "LayoutView",
            "grid_template_rows": null,
            "right": null,
            "justify_content": null,
            "_view_module": "@jupyter-widgets/base",
            "overflow": null,
            "_model_module_version": "1.2.0",
            "_view_count": null,
            "flex_flow": null,
            "width": null,
            "min_width": null,
            "border": null,
            "align_items": null,
            "bottom": null,
            "_model_module": "@jupyter-widgets/base",
            "top": null,
            "grid_column": null,
            "overflow_y": null,
            "overflow_x": null,
            "grid_auto_flow": null,
            "grid_area": null,
            "grid_template_columns": null,
            "flex": null,
            "_model_name": "LayoutModel",
            "justify_items": null,
            "grid_row": null,
            "max_height": null,
            "align_content": null,
            "visibility": null,
            "align_self": null,
            "height": null,
            "min_height": null,
            "padding": null,
            "grid_auto_rows": null,
            "grid_gap": null,
            "max_width": null,
            "order": null,
            "_view_module_version": "1.2.0",
            "grid_template_areas": null,
            "object_position": null,
            "object_fit": null,
            "grid_auto_columns": null,
            "margin": null,
            "display": null,
            "left": null
          }
        },
        "fba2681bffa44c96a4b6e64918d5b469": {
          "model_module": "@jupyter-widgets/controls",
          "model_name": "FloatProgressModel",
          "state": {
            "_view_name": "ProgressView",
            "style": "IPY_MODEL_d84cc23f811a4273a7a94a53d914c6bd",
            "_dom_classes": [],
            "description": "Downloading: 100%",
            "_model_name": "FloatProgressModel",
            "bar_style": "success",
            "max": 213450,
            "_view_module": "@jupyter-widgets/controls",
            "_model_module_version": "1.5.0",
            "value": 213450,
            "_view_count": null,
            "_view_module_version": "1.5.0",
            "orientation": "horizontal",
            "min": 0,
            "description_tooltip": null,
            "_model_module": "@jupyter-widgets/controls",
            "layout": "IPY_MODEL_a5d494c8db264024abfc729b8f87f29a"
          }
        },
        "91e56899ba134fc8b03099b751f9b9a7": {
          "model_module": "@jupyter-widgets/controls",
          "model_name": "HTMLModel",
          "state": {
            "_view_name": "HTMLView",
            "style": "IPY_MODEL_dad8d2abf34f40e5a9f35aaebb35d733",
            "_dom_classes": [],
            "description": "",
            "_model_name": "HTMLModel",
            "placeholder": "​",
            "_view_module": "@jupyter-widgets/controls",
            "_model_module_version": "1.5.0",
            "value": " 213k/213k [00:04&lt;00:00, 45.0kB/s]",
            "_view_count": null,
            "_view_module_version": "1.5.0",
            "description_tooltip": null,
            "_model_module": "@jupyter-widgets/controls",
            "layout": "IPY_MODEL_7f3a3a5bf30e4edf9764918e932011d1"
          }
        },
        "d84cc23f811a4273a7a94a53d914c6bd": {
          "model_module": "@jupyter-widgets/controls",
          "model_name": "ProgressStyleModel",
          "state": {
            "_view_name": "StyleView",
            "_model_name": "ProgressStyleModel",
            "description_width": "initial",
            "_view_module": "@jupyter-widgets/base",
            "_model_module_version": "1.5.0",
            "_view_count": null,
            "_view_module_version": "1.2.0",
            "bar_color": null,
            "_model_module": "@jupyter-widgets/controls"
          }
        },
        "a5d494c8db264024abfc729b8f87f29a": {
          "model_module": "@jupyter-widgets/base",
          "model_name": "LayoutModel",
          "state": {
            "_view_name": "LayoutView",
            "grid_template_rows": null,
            "right": null,
            "justify_content": null,
            "_view_module": "@jupyter-widgets/base",
            "overflow": null,
            "_model_module_version": "1.2.0",
            "_view_count": null,
            "flex_flow": null,
            "width": null,
            "min_width": null,
            "border": null,
            "align_items": null,
            "bottom": null,
            "_model_module": "@jupyter-widgets/base",
            "top": null,
            "grid_column": null,
            "overflow_y": null,
            "overflow_x": null,
            "grid_auto_flow": null,
            "grid_area": null,
            "grid_template_columns": null,
            "flex": null,
            "_model_name": "LayoutModel",
            "justify_items": null,
            "grid_row": null,
            "max_height": null,
            "align_content": null,
            "visibility": null,
            "align_self": null,
            "height": null,
            "min_height": null,
            "padding": null,
            "grid_auto_rows": null,
            "grid_gap": null,
            "max_width": null,
            "order": null,
            "_view_module_version": "1.2.0",
            "grid_template_areas": null,
            "object_position": null,
            "object_fit": null,
            "grid_auto_columns": null,
            "margin": null,
            "display": null,
            "left": null
          }
        },
        "dad8d2abf34f40e5a9f35aaebb35d733": {
          "model_module": "@jupyter-widgets/controls",
          "model_name": "DescriptionStyleModel",
          "state": {
            "_view_name": "StyleView",
            "_model_name": "DescriptionStyleModel",
            "description_width": "",
            "_view_module": "@jupyter-widgets/base",
            "_model_module_version": "1.5.0",
            "_view_count": null,
            "_view_module_version": "1.2.0",
            "_model_module": "@jupyter-widgets/controls"
          }
        },
        "7f3a3a5bf30e4edf9764918e932011d1": {
          "model_module": "@jupyter-widgets/base",
          "model_name": "LayoutModel",
          "state": {
            "_view_name": "LayoutView",
            "grid_template_rows": null,
            "right": null,
            "justify_content": null,
            "_view_module": "@jupyter-widgets/base",
            "overflow": null,
            "_model_module_version": "1.2.0",
            "_view_count": null,
            "flex_flow": null,
            "width": null,
            "min_width": null,
            "border": null,
            "align_items": null,
            "bottom": null,
            "_model_module": "@jupyter-widgets/base",
            "top": null,
            "grid_column": null,
            "overflow_y": null,
            "overflow_x": null,
            "grid_auto_flow": null,
            "grid_area": null,
            "grid_template_columns": null,
            "flex": null,
            "_model_name": "LayoutModel",
            "justify_items": null,
            "grid_row": null,
            "max_height": null,
            "align_content": null,
            "visibility": null,
            "align_self": null,
            "height": null,
            "min_height": null,
            "padding": null,
            "grid_auto_rows": null,
            "grid_gap": null,
            "max_width": null,
            "order": null,
            "_view_module_version": "1.2.0",
            "grid_template_areas": null,
            "object_position": null,
            "object_fit": null,
            "grid_auto_columns": null,
            "margin": null,
            "display": null,
            "left": null
          }
        },
        "2d640fd63b7343a0872400eb80d25c7c": {
          "model_module": "@jupyter-widgets/controls",
          "model_name": "HBoxModel",
          "state": {
            "_view_name": "HBoxView",
            "_dom_classes": [],
            "_model_name": "HBoxModel",
            "_view_module": "@jupyter-widgets/controls",
            "_model_module_version": "1.5.0",
            "_view_count": null,
            "_view_module_version": "1.5.0",
            "box_style": "",
            "layout": "IPY_MODEL_a3093863647e44e1a2470df8e5b98712",
            "_model_module": "@jupyter-widgets/controls",
            "children": [
              "IPY_MODEL_b6d6b4be9e0d4bcd8e71219dc36d7cf3",
              "IPY_MODEL_a221fd49cfd94addba1da3e0e09d4d7c"
            ]
          }
        },
        "a3093863647e44e1a2470df8e5b98712": {
          "model_module": "@jupyter-widgets/base",
          "model_name": "LayoutModel",
          "state": {
            "_view_name": "LayoutView",
            "grid_template_rows": null,
            "right": null,
            "justify_content": null,
            "_view_module": "@jupyter-widgets/base",
            "overflow": null,
            "_model_module_version": "1.2.0",
            "_view_count": null,
            "flex_flow": null,
            "width": null,
            "min_width": null,
            "border": null,
            "align_items": null,
            "bottom": null,
            "_model_module": "@jupyter-widgets/base",
            "top": null,
            "grid_column": null,
            "overflow_y": null,
            "overflow_x": null,
            "grid_auto_flow": null,
            "grid_area": null,
            "grid_template_columns": null,
            "flex": null,
            "_model_name": "LayoutModel",
            "justify_items": null,
            "grid_row": null,
            "max_height": null,
            "align_content": null,
            "visibility": null,
            "align_self": null,
            "height": null,
            "min_height": null,
            "padding": null,
            "grid_auto_rows": null,
            "grid_gap": null,
            "max_width": null,
            "order": null,
            "_view_module_version": "1.2.0",
            "grid_template_areas": null,
            "object_position": null,
            "object_fit": null,
            "grid_auto_columns": null,
            "margin": null,
            "display": null,
            "left": null
          }
        },
        "b6d6b4be9e0d4bcd8e71219dc36d7cf3": {
          "model_module": "@jupyter-widgets/controls",
          "model_name": "FloatProgressModel",
          "state": {
            "_view_name": "ProgressView",
            "style": "IPY_MODEL_ff4a8cb5b28b49cf8d569c2b6999e6bf",
            "_dom_classes": [],
            "description": "Downloading: 100%",
            "_model_name": "FloatProgressModel",
            "bar_style": "success",
            "max": 435797,
            "_view_module": "@jupyter-widgets/controls",
            "_model_module_version": "1.5.0",
            "value": 435797,
            "_view_count": null,
            "_view_module_version": "1.5.0",
            "orientation": "horizontal",
            "min": 0,
            "description_tooltip": null,
            "_model_module": "@jupyter-widgets/controls",
            "layout": "IPY_MODEL_781dc54cca1f48d6a959527bcd5baffc"
          }
        },
        "a221fd49cfd94addba1da3e0e09d4d7c": {
          "model_module": "@jupyter-widgets/controls",
          "model_name": "HTMLModel",
          "state": {
            "_view_name": "HTMLView",
            "style": "IPY_MODEL_cd59a606b8904230b63f513f23c0cb09",
            "_dom_classes": [],
            "description": "",
            "_model_name": "HTMLModel",
            "placeholder": "​",
            "_view_module": "@jupyter-widgets/controls",
            "_model_module_version": "1.5.0",
            "value": " 436k/436k [00:02&lt;00:00, 148kB/s]",
            "_view_count": null,
            "_view_module_version": "1.5.0",
            "description_tooltip": null,
            "_model_module": "@jupyter-widgets/controls",
            "layout": "IPY_MODEL_796b2fb1cd6a4a238c27121e97e246b6"
          }
        },
        "ff4a8cb5b28b49cf8d569c2b6999e6bf": {
          "model_module": "@jupyter-widgets/controls",
          "model_name": "ProgressStyleModel",
          "state": {
            "_view_name": "StyleView",
            "_model_name": "ProgressStyleModel",
            "description_width": "initial",
            "_view_module": "@jupyter-widgets/base",
            "_model_module_version": "1.5.0",
            "_view_count": null,
            "_view_module_version": "1.2.0",
            "bar_color": null,
            "_model_module": "@jupyter-widgets/controls"
          }
        },
        "781dc54cca1f48d6a959527bcd5baffc": {
          "model_module": "@jupyter-widgets/base",
          "model_name": "LayoutModel",
          "state": {
            "_view_name": "LayoutView",
            "grid_template_rows": null,
            "right": null,
            "justify_content": null,
            "_view_module": "@jupyter-widgets/base",
            "overflow": null,
            "_model_module_version": "1.2.0",
            "_view_count": null,
            "flex_flow": null,
            "width": null,
            "min_width": null,
            "border": null,
            "align_items": null,
            "bottom": null,
            "_model_module": "@jupyter-widgets/base",
            "top": null,
            "grid_column": null,
            "overflow_y": null,
            "overflow_x": null,
            "grid_auto_flow": null,
            "grid_area": null,
            "grid_template_columns": null,
            "flex": null,
            "_model_name": "LayoutModel",
            "justify_items": null,
            "grid_row": null,
            "max_height": null,
            "align_content": null,
            "visibility": null,
            "align_self": null,
            "height": null,
            "min_height": null,
            "padding": null,
            "grid_auto_rows": null,
            "grid_gap": null,
            "max_width": null,
            "order": null,
            "_view_module_version": "1.2.0",
            "grid_template_areas": null,
            "object_position": null,
            "object_fit": null,
            "grid_auto_columns": null,
            "margin": null,
            "display": null,
            "left": null
          }
        },
        "cd59a606b8904230b63f513f23c0cb09": {
          "model_module": "@jupyter-widgets/controls",
          "model_name": "DescriptionStyleModel",
          "state": {
            "_view_name": "StyleView",
            "_model_name": "DescriptionStyleModel",
            "description_width": "",
            "_view_module": "@jupyter-widgets/base",
            "_model_module_version": "1.5.0",
            "_view_count": null,
            "_view_module_version": "1.2.0",
            "_model_module": "@jupyter-widgets/controls"
          }
        },
        "796b2fb1cd6a4a238c27121e97e246b6": {
          "model_module": "@jupyter-widgets/base",
          "model_name": "LayoutModel",
          "state": {
            "_view_name": "LayoutView",
            "grid_template_rows": null,
            "right": null,
            "justify_content": null,
            "_view_module": "@jupyter-widgets/base",
            "overflow": null,
            "_model_module_version": "1.2.0",
            "_view_count": null,
            "flex_flow": null,
            "width": null,
            "min_width": null,
            "border": null,
            "align_items": null,
            "bottom": null,
            "_model_module": "@jupyter-widgets/base",
            "top": null,
            "grid_column": null,
            "overflow_y": null,
            "overflow_x": null,
            "grid_auto_flow": null,
            "grid_area": null,
            "grid_template_columns": null,
            "flex": null,
            "_model_name": "LayoutModel",
            "justify_items": null,
            "grid_row": null,
            "max_height": null,
            "align_content": null,
            "visibility": null,
            "align_self": null,
            "height": null,
            "min_height": null,
            "padding": null,
            "grid_auto_rows": null,
            "grid_gap": null,
            "max_width": null,
            "order": null,
            "_view_module_version": "1.2.0",
            "grid_template_areas": null,
            "object_position": null,
            "object_fit": null,
            "grid_auto_columns": null,
            "margin": null,
            "display": null,
            "left": null
          }
        },
        "1fb9185e98bf436499fddcdc2d6ba93f": {
          "model_module": "@jupyter-widgets/controls",
          "model_name": "HBoxModel",
          "state": {
            "_view_name": "HBoxView",
            "_dom_classes": [],
            "_model_name": "HBoxModel",
            "_view_module": "@jupyter-widgets/controls",
            "_model_module_version": "1.5.0",
            "_view_count": null,
            "_view_module_version": "1.5.0",
            "box_style": "",
            "layout": "IPY_MODEL_d1ab60c7b3ed442ba747788bf44ba388",
            "_model_module": "@jupyter-widgets/controls",
            "children": [
              "IPY_MODEL_7d82f830c9c246b0acfb617fc6003fb3",
              "IPY_MODEL_ed2b3e208dd44bfd93dea7d52c875e27"
            ]
          }
        },
        "d1ab60c7b3ed442ba747788bf44ba388": {
          "model_module": "@jupyter-widgets/base",
          "model_name": "LayoutModel",
          "state": {
            "_view_name": "LayoutView",
            "grid_template_rows": null,
            "right": null,
            "justify_content": null,
            "_view_module": "@jupyter-widgets/base",
            "overflow": null,
            "_model_module_version": "1.2.0",
            "_view_count": null,
            "flex_flow": null,
            "width": null,
            "min_width": null,
            "border": null,
            "align_items": null,
            "bottom": null,
            "_model_module": "@jupyter-widgets/base",
            "top": null,
            "grid_column": null,
            "overflow_y": null,
            "overflow_x": null,
            "grid_auto_flow": null,
            "grid_area": null,
            "grid_template_columns": null,
            "flex": null,
            "_model_name": "LayoutModel",
            "justify_items": null,
            "grid_row": null,
            "max_height": null,
            "align_content": null,
            "visibility": null,
            "align_self": null,
            "height": null,
            "min_height": null,
            "padding": null,
            "grid_auto_rows": null,
            "grid_gap": null,
            "max_width": null,
            "order": null,
            "_view_module_version": "1.2.0",
            "grid_template_areas": null,
            "object_position": null,
            "object_fit": null,
            "grid_auto_columns": null,
            "margin": null,
            "display": null,
            "left": null
          }
        },
        "7d82f830c9c246b0acfb617fc6003fb3": {
          "model_module": "@jupyter-widgets/controls",
          "model_name": "FloatProgressModel",
          "state": {
            "_view_name": "ProgressView",
            "style": "IPY_MODEL_172a25e5dcc9463d8571ec4c1cd1f398",
            "_dom_classes": [],
            "description": "Downloading: 100%",
            "_model_name": "FloatProgressModel",
            "bar_style": "success",
            "max": 29,
            "_view_module": "@jupyter-widgets/controls",
            "_model_module_version": "1.5.0",
            "value": 29,
            "_view_count": null,
            "_view_module_version": "1.5.0",
            "orientation": "horizontal",
            "min": 0,
            "description_tooltip": null,
            "_model_module": "@jupyter-widgets/controls",
            "layout": "IPY_MODEL_ce3a8e127cb440cdb22581cd65c2ec8f"
          }
        },
        "ed2b3e208dd44bfd93dea7d52c875e27": {
          "model_module": "@jupyter-widgets/controls",
          "model_name": "HTMLModel",
          "state": {
            "_view_name": "HTMLView",
            "style": "IPY_MODEL_a0912e8e366a43669cb9eb3bdbdaac40",
            "_dom_classes": [],
            "description": "",
            "_model_name": "HTMLModel",
            "placeholder": "​",
            "_view_module": "@jupyter-widgets/controls",
            "_model_module_version": "1.5.0",
            "value": " 29.0/29.0 [01:40&lt;00:00, 3.48s/B]",
            "_view_count": null,
            "_view_module_version": "1.5.0",
            "description_tooltip": null,
            "_model_module": "@jupyter-widgets/controls",
            "layout": "IPY_MODEL_d6196e0b3289403ba1556899eae3906d"
          }
        },
        "172a25e5dcc9463d8571ec4c1cd1f398": {
          "model_module": "@jupyter-widgets/controls",
          "model_name": "ProgressStyleModel",
          "state": {
            "_view_name": "StyleView",
            "_model_name": "ProgressStyleModel",
            "description_width": "initial",
            "_view_module": "@jupyter-widgets/base",
            "_model_module_version": "1.5.0",
            "_view_count": null,
            "_view_module_version": "1.2.0",
            "bar_color": null,
            "_model_module": "@jupyter-widgets/controls"
          }
        },
        "ce3a8e127cb440cdb22581cd65c2ec8f": {
          "model_module": "@jupyter-widgets/base",
          "model_name": "LayoutModel",
          "state": {
            "_view_name": "LayoutView",
            "grid_template_rows": null,
            "right": null,
            "justify_content": null,
            "_view_module": "@jupyter-widgets/base",
            "overflow": null,
            "_model_module_version": "1.2.0",
            "_view_count": null,
            "flex_flow": null,
            "width": null,
            "min_width": null,
            "border": null,
            "align_items": null,
            "bottom": null,
            "_model_module": "@jupyter-widgets/base",
            "top": null,
            "grid_column": null,
            "overflow_y": null,
            "overflow_x": null,
            "grid_auto_flow": null,
            "grid_area": null,
            "grid_template_columns": null,
            "flex": null,
            "_model_name": "LayoutModel",
            "justify_items": null,
            "grid_row": null,
            "max_height": null,
            "align_content": null,
            "visibility": null,
            "align_self": null,
            "height": null,
            "min_height": null,
            "padding": null,
            "grid_auto_rows": null,
            "grid_gap": null,
            "max_width": null,
            "order": null,
            "_view_module_version": "1.2.0",
            "grid_template_areas": null,
            "object_position": null,
            "object_fit": null,
            "grid_auto_columns": null,
            "margin": null,
            "display": null,
            "left": null
          }
        },
        "a0912e8e366a43669cb9eb3bdbdaac40": {
          "model_module": "@jupyter-widgets/controls",
          "model_name": "DescriptionStyleModel",
          "state": {
            "_view_name": "StyleView",
            "_model_name": "DescriptionStyleModel",
            "description_width": "",
            "_view_module": "@jupyter-widgets/base",
            "_model_module_version": "1.5.0",
            "_view_count": null,
            "_view_module_version": "1.2.0",
            "_model_module": "@jupyter-widgets/controls"
          }
        },
        "d6196e0b3289403ba1556899eae3906d": {
          "model_module": "@jupyter-widgets/base",
          "model_name": "LayoutModel",
          "state": {
            "_view_name": "LayoutView",
            "grid_template_rows": null,
            "right": null,
            "justify_content": null,
            "_view_module": "@jupyter-widgets/base",
            "overflow": null,
            "_model_module_version": "1.2.0",
            "_view_count": null,
            "flex_flow": null,
            "width": null,
            "min_width": null,
            "border": null,
            "align_items": null,
            "bottom": null,
            "_model_module": "@jupyter-widgets/base",
            "top": null,
            "grid_column": null,
            "overflow_y": null,
            "overflow_x": null,
            "grid_auto_flow": null,
            "grid_area": null,
            "grid_template_columns": null,
            "flex": null,
            "_model_name": "LayoutModel",
            "justify_items": null,
            "grid_row": null,
            "max_height": null,
            "align_content": null,
            "visibility": null,
            "align_self": null,
            "height": null,
            "min_height": null,
            "padding": null,
            "grid_auto_rows": null,
            "grid_gap": null,
            "max_width": null,
            "order": null,
            "_view_module_version": "1.2.0",
            "grid_template_areas": null,
            "object_position": null,
            "object_fit": null,
            "grid_auto_columns": null,
            "margin": null,
            "display": null,
            "left": null
          }
        },
        "05448302fd4c4a52883c5c5db16b56bb": {
          "model_module": "@jupyter-widgets/controls",
          "model_name": "HBoxModel",
          "state": {
            "_view_name": "HBoxView",
            "_dom_classes": [],
            "_model_name": "HBoxModel",
            "_view_module": "@jupyter-widgets/controls",
            "_model_module_version": "1.5.0",
            "_view_count": null,
            "_view_module_version": "1.5.0",
            "box_style": "",
            "layout": "IPY_MODEL_e63c7114de6947628b4c4525a72a9348",
            "_model_module": "@jupyter-widgets/controls",
            "children": [
              "IPY_MODEL_d3dba7043a9b47818b60cad7596e2ded",
              "IPY_MODEL_e06122d539ad404cbc0c31c1ab5df46d"
            ]
          }
        },
        "e63c7114de6947628b4c4525a72a9348": {
          "model_module": "@jupyter-widgets/base",
          "model_name": "LayoutModel",
          "state": {
            "_view_name": "LayoutView",
            "grid_template_rows": null,
            "right": null,
            "justify_content": null,
            "_view_module": "@jupyter-widgets/base",
            "overflow": null,
            "_model_module_version": "1.2.0",
            "_view_count": null,
            "flex_flow": null,
            "width": null,
            "min_width": null,
            "border": null,
            "align_items": null,
            "bottom": null,
            "_model_module": "@jupyter-widgets/base",
            "top": null,
            "grid_column": null,
            "overflow_y": null,
            "overflow_x": null,
            "grid_auto_flow": null,
            "grid_area": null,
            "grid_template_columns": null,
            "flex": null,
            "_model_name": "LayoutModel",
            "justify_items": null,
            "grid_row": null,
            "max_height": null,
            "align_content": null,
            "visibility": null,
            "align_self": null,
            "height": null,
            "min_height": null,
            "padding": null,
            "grid_auto_rows": null,
            "grid_gap": null,
            "max_width": null,
            "order": null,
            "_view_module_version": "1.2.0",
            "grid_template_areas": null,
            "object_position": null,
            "object_fit": null,
            "grid_auto_columns": null,
            "margin": null,
            "display": null,
            "left": null
          }
        },
        "d3dba7043a9b47818b60cad7596e2ded": {
          "model_module": "@jupyter-widgets/controls",
          "model_name": "FloatProgressModel",
          "state": {
            "_view_name": "ProgressView",
            "style": "IPY_MODEL_8adc2c1787e84a338f0ce646471961c1",
            "_dom_classes": [],
            "description": "Downloading: 100%",
            "_model_name": "FloatProgressModel",
            "bar_style": "success",
            "max": 998,
            "_view_module": "@jupyter-widgets/controls",
            "_model_module_version": "1.5.0",
            "value": 998,
            "_view_count": null,
            "_view_module_version": "1.5.0",
            "orientation": "horizontal",
            "min": 0,
            "description_tooltip": null,
            "_model_module": "@jupyter-widgets/controls",
            "layout": "IPY_MODEL_4dbf7e8563534c5b96724bd28444ac87"
          }
        },
        "e06122d539ad404cbc0c31c1ab5df46d": {
          "model_module": "@jupyter-widgets/controls",
          "model_name": "HTMLModel",
          "state": {
            "_view_name": "HTMLView",
            "style": "IPY_MODEL_cfdacc5a748548c78c14e2ca208e2064",
            "_dom_classes": [],
            "description": "",
            "_model_name": "HTMLModel",
            "placeholder": "​",
            "_view_module": "@jupyter-widgets/controls",
            "_model_module_version": "1.5.0",
            "value": " 998/998 [00:01&lt;00:00, 547B/s]",
            "_view_count": null,
            "_view_module_version": "1.5.0",
            "description_tooltip": null,
            "_model_module": "@jupyter-widgets/controls",
            "layout": "IPY_MODEL_8996da6ee39246c394b26c1a17957853"
          }
        },
        "8adc2c1787e84a338f0ce646471961c1": {
          "model_module": "@jupyter-widgets/controls",
          "model_name": "ProgressStyleModel",
          "state": {
            "_view_name": "StyleView",
            "_model_name": "ProgressStyleModel",
            "description_width": "initial",
            "_view_module": "@jupyter-widgets/base",
            "_model_module_version": "1.5.0",
            "_view_count": null,
            "_view_module_version": "1.2.0",
            "bar_color": null,
            "_model_module": "@jupyter-widgets/controls"
          }
        },
        "4dbf7e8563534c5b96724bd28444ac87": {
          "model_module": "@jupyter-widgets/base",
          "model_name": "LayoutModel",
          "state": {
            "_view_name": "LayoutView",
            "grid_template_rows": null,
            "right": null,
            "justify_content": null,
            "_view_module": "@jupyter-widgets/base",
            "overflow": null,
            "_model_module_version": "1.2.0",
            "_view_count": null,
            "flex_flow": null,
            "width": null,
            "min_width": null,
            "border": null,
            "align_items": null,
            "bottom": null,
            "_model_module": "@jupyter-widgets/base",
            "top": null,
            "grid_column": null,
            "overflow_y": null,
            "overflow_x": null,
            "grid_auto_flow": null,
            "grid_area": null,
            "grid_template_columns": null,
            "flex": null,
            "_model_name": "LayoutModel",
            "justify_items": null,
            "grid_row": null,
            "max_height": null,
            "align_content": null,
            "visibility": null,
            "align_self": null,
            "height": null,
            "min_height": null,
            "padding": null,
            "grid_auto_rows": null,
            "grid_gap": null,
            "max_width": null,
            "order": null,
            "_view_module_version": "1.2.0",
            "grid_template_areas": null,
            "object_position": null,
            "object_fit": null,
            "grid_auto_columns": null,
            "margin": null,
            "display": null,
            "left": null
          }
        },
        "cfdacc5a748548c78c14e2ca208e2064": {
          "model_module": "@jupyter-widgets/controls",
          "model_name": "DescriptionStyleModel",
          "state": {
            "_view_name": "StyleView",
            "_model_name": "DescriptionStyleModel",
            "description_width": "",
            "_view_module": "@jupyter-widgets/base",
            "_model_module_version": "1.5.0",
            "_view_count": null,
            "_view_module_version": "1.2.0",
            "_model_module": "@jupyter-widgets/controls"
          }
        },
        "8996da6ee39246c394b26c1a17957853": {
          "model_module": "@jupyter-widgets/base",
          "model_name": "LayoutModel",
          "state": {
            "_view_name": "LayoutView",
            "grid_template_rows": null,
            "right": null,
            "justify_content": null,
            "_view_module": "@jupyter-widgets/base",
            "overflow": null,
            "_model_module_version": "1.2.0",
            "_view_count": null,
            "flex_flow": null,
            "width": null,
            "min_width": null,
            "border": null,
            "align_items": null,
            "bottom": null,
            "_model_module": "@jupyter-widgets/base",
            "top": null,
            "grid_column": null,
            "overflow_y": null,
            "overflow_x": null,
            "grid_auto_flow": null,
            "grid_area": null,
            "grid_template_columns": null,
            "flex": null,
            "_model_name": "LayoutModel",
            "justify_items": null,
            "grid_row": null,
            "max_height": null,
            "align_content": null,
            "visibility": null,
            "align_self": null,
            "height": null,
            "min_height": null,
            "padding": null,
            "grid_auto_rows": null,
            "grid_gap": null,
            "max_width": null,
            "order": null,
            "_view_module_version": "1.2.0",
            "grid_template_areas": null,
            "object_position": null,
            "object_fit": null,
            "grid_auto_columns": null,
            "margin": null,
            "display": null,
            "left": null
          }
        },
        "1a6612bff2d84bdc895dbc9be588f326": {
          "model_module": "@jupyter-widgets/controls",
          "model_name": "HBoxModel",
          "state": {
            "_view_name": "HBoxView",
            "_dom_classes": [],
            "_model_name": "HBoxModel",
            "_view_module": "@jupyter-widgets/controls",
            "_model_module_version": "1.5.0",
            "_view_count": null,
            "_view_module_version": "1.5.0",
            "box_style": "",
            "layout": "IPY_MODEL_20e13a1dfdb84af3a40909093a546af1",
            "_model_module": "@jupyter-widgets/controls",
            "children": [
              "IPY_MODEL_8956541ecdcf442dab28430803b7d0c8",
              "IPY_MODEL_e583e14945f24f5f9868590f1efa6515"
            ]
          }
        },
        "20e13a1dfdb84af3a40909093a546af1": {
          "model_module": "@jupyter-widgets/base",
          "model_name": "LayoutModel",
          "state": {
            "_view_name": "LayoutView",
            "grid_template_rows": null,
            "right": null,
            "justify_content": null,
            "_view_module": "@jupyter-widgets/base",
            "overflow": null,
            "_model_module_version": "1.2.0",
            "_view_count": null,
            "flex_flow": null,
            "width": null,
            "min_width": null,
            "border": null,
            "align_items": null,
            "bottom": null,
            "_model_module": "@jupyter-widgets/base",
            "top": null,
            "grid_column": null,
            "overflow_y": null,
            "overflow_x": null,
            "grid_auto_flow": null,
            "grid_area": null,
            "grid_template_columns": null,
            "flex": null,
            "_model_name": "LayoutModel",
            "justify_items": null,
            "grid_row": null,
            "max_height": null,
            "align_content": null,
            "visibility": null,
            "align_self": null,
            "height": null,
            "min_height": null,
            "padding": null,
            "grid_auto_rows": null,
            "grid_gap": null,
            "max_width": null,
            "order": null,
            "_view_module_version": "1.2.0",
            "grid_template_areas": null,
            "object_position": null,
            "object_fit": null,
            "grid_auto_columns": null,
            "margin": null,
            "display": null,
            "left": null
          }
        },
        "8956541ecdcf442dab28430803b7d0c8": {
          "model_module": "@jupyter-widgets/controls",
          "model_name": "FloatProgressModel",
          "state": {
            "_view_name": "ProgressView",
            "style": "IPY_MODEL_8e9bebb90efa4688a974237a0c85593a",
            "_dom_classes": [],
            "description": "Downloading: 100%",
            "_model_name": "FloatProgressModel",
            "bar_style": "success",
            "max": 1334448817,
            "_view_module": "@jupyter-widgets/controls",
            "_model_module_version": "1.5.0",
            "value": 1334448817,
            "_view_count": null,
            "_view_module_version": "1.5.0",
            "orientation": "horizontal",
            "min": 0,
            "description_tooltip": null,
            "_model_module": "@jupyter-widgets/controls",
            "layout": "IPY_MODEL_964a4bbd78fd40eb94b1cc0a5d4dfe2b"
          }
        },
        "e583e14945f24f5f9868590f1efa6515": {
          "model_module": "@jupyter-widgets/controls",
          "model_name": "HTMLModel",
          "state": {
            "_view_name": "HTMLView",
            "style": "IPY_MODEL_732ab1add2794530bf9e02a8304246b8",
            "_dom_classes": [],
            "description": "",
            "_model_name": "HTMLModel",
            "placeholder": "​",
            "_view_module": "@jupyter-widgets/controls",
            "_model_module_version": "1.5.0",
            "value": " 1.33G/1.33G [00:37&lt;00:00, 35.1MB/s]",
            "_view_count": null,
            "_view_module_version": "1.5.0",
            "description_tooltip": null,
            "_model_module": "@jupyter-widgets/controls",
            "layout": "IPY_MODEL_8d26a107db7840fd8f382e87b2560efd"
          }
        },
        "8e9bebb90efa4688a974237a0c85593a": {
          "model_module": "@jupyter-widgets/controls",
          "model_name": "ProgressStyleModel",
          "state": {
            "_view_name": "StyleView",
            "_model_name": "ProgressStyleModel",
            "description_width": "initial",
            "_view_module": "@jupyter-widgets/base",
            "_model_module_version": "1.5.0",
            "_view_count": null,
            "_view_module_version": "1.2.0",
            "bar_color": null,
            "_model_module": "@jupyter-widgets/controls"
          }
        },
        "964a4bbd78fd40eb94b1cc0a5d4dfe2b": {
          "model_module": "@jupyter-widgets/base",
          "model_name": "LayoutModel",
          "state": {
            "_view_name": "LayoutView",
            "grid_template_rows": null,
            "right": null,
            "justify_content": null,
            "_view_module": "@jupyter-widgets/base",
            "overflow": null,
            "_model_module_version": "1.2.0",
            "_view_count": null,
            "flex_flow": null,
            "width": null,
            "min_width": null,
            "border": null,
            "align_items": null,
            "bottom": null,
            "_model_module": "@jupyter-widgets/base",
            "top": null,
            "grid_column": null,
            "overflow_y": null,
            "overflow_x": null,
            "grid_auto_flow": null,
            "grid_area": null,
            "grid_template_columns": null,
            "flex": null,
            "_model_name": "LayoutModel",
            "justify_items": null,
            "grid_row": null,
            "max_height": null,
            "align_content": null,
            "visibility": null,
            "align_self": null,
            "height": null,
            "min_height": null,
            "padding": null,
            "grid_auto_rows": null,
            "grid_gap": null,
            "max_width": null,
            "order": null,
            "_view_module_version": "1.2.0",
            "grid_template_areas": null,
            "object_position": null,
            "object_fit": null,
            "grid_auto_columns": null,
            "margin": null,
            "display": null,
            "left": null
          }
        },
        "732ab1add2794530bf9e02a8304246b8": {
          "model_module": "@jupyter-widgets/controls",
          "model_name": "DescriptionStyleModel",
          "state": {
            "_view_name": "StyleView",
            "_model_name": "DescriptionStyleModel",
            "description_width": "",
            "_view_module": "@jupyter-widgets/base",
            "_model_module_version": "1.5.0",
            "_view_count": null,
            "_view_module_version": "1.2.0",
            "_model_module": "@jupyter-widgets/controls"
          }
        },
        "8d26a107db7840fd8f382e87b2560efd": {
          "model_module": "@jupyter-widgets/base",
          "model_name": "LayoutModel",
          "state": {
            "_view_name": "LayoutView",
            "grid_template_rows": null,
            "right": null,
            "justify_content": null,
            "_view_module": "@jupyter-widgets/base",
            "overflow": null,
            "_model_module_version": "1.2.0",
            "_view_count": null,
            "flex_flow": null,
            "width": null,
            "min_width": null,
            "border": null,
            "align_items": null,
            "bottom": null,
            "_model_module": "@jupyter-widgets/base",
            "top": null,
            "grid_column": null,
            "overflow_y": null,
            "overflow_x": null,
            "grid_auto_flow": null,
            "grid_area": null,
            "grid_template_columns": null,
            "flex": null,
            "_model_name": "LayoutModel",
            "justify_items": null,
            "grid_row": null,
            "max_height": null,
            "align_content": null,
            "visibility": null,
            "align_self": null,
            "height": null,
            "min_height": null,
            "padding": null,
            "grid_auto_rows": null,
            "grid_gap": null,
            "max_width": null,
            "order": null,
            "_view_module_version": "1.2.0",
            "grid_template_areas": null,
            "object_position": null,
            "object_fit": null,
            "grid_auto_columns": null,
            "margin": null,
            "display": null,
            "left": null
          }
        },
        "835aa68d6062411ab16557abb3925857": {
          "model_module": "@jupyter-widgets/controls",
          "model_name": "HBoxModel",
          "state": {
            "_view_name": "HBoxView",
            "_dom_classes": [],
            "_model_name": "HBoxModel",
            "_view_module": "@jupyter-widgets/controls",
            "_model_module_version": "1.5.0",
            "_view_count": null,
            "_view_module_version": "1.5.0",
            "box_style": "",
            "layout": "IPY_MODEL_dbae90b1a3ea46cd9b782f567577743b",
            "_model_module": "@jupyter-widgets/controls",
            "children": [
              "IPY_MODEL_443fa52cc0e649dda8c412e4380be8d0",
              "IPY_MODEL_00f107684be34a4a86ee3d41619acad2"
            ]
          }
        },
        "dbae90b1a3ea46cd9b782f567577743b": {
          "model_module": "@jupyter-widgets/base",
          "model_name": "LayoutModel",
          "state": {
            "_view_name": "LayoutView",
            "grid_template_rows": null,
            "right": null,
            "justify_content": null,
            "_view_module": "@jupyter-widgets/base",
            "overflow": null,
            "_model_module_version": "1.2.0",
            "_view_count": null,
            "flex_flow": null,
            "width": null,
            "min_width": null,
            "border": null,
            "align_items": null,
            "bottom": null,
            "_model_module": "@jupyter-widgets/base",
            "top": null,
            "grid_column": null,
            "overflow_y": null,
            "overflow_x": null,
            "grid_auto_flow": null,
            "grid_area": null,
            "grid_template_columns": null,
            "flex": null,
            "_model_name": "LayoutModel",
            "justify_items": null,
            "grid_row": null,
            "max_height": null,
            "align_content": null,
            "visibility": null,
            "align_self": null,
            "height": null,
            "min_height": null,
            "padding": null,
            "grid_auto_rows": null,
            "grid_gap": null,
            "max_width": null,
            "order": null,
            "_view_module_version": "1.2.0",
            "grid_template_areas": null,
            "object_position": null,
            "object_fit": null,
            "grid_auto_columns": null,
            "margin": null,
            "display": null,
            "left": null
          }
        },
        "443fa52cc0e649dda8c412e4380be8d0": {
          "model_module": "@jupyter-widgets/controls",
          "model_name": "FloatProgressModel",
          "state": {
            "_view_name": "ProgressView",
            "style": "IPY_MODEL_2312a9eac721409ba06e2cf1b1d4021b",
            "_dom_classes": [],
            "description": "Downloading: 100%",
            "_model_name": "FloatProgressModel",
            "bar_style": "success",
            "max": 213450,
            "_view_module": "@jupyter-widgets/controls",
            "_model_module_version": "1.5.0",
            "value": 213450,
            "_view_count": null,
            "_view_module_version": "1.5.0",
            "orientation": "horizontal",
            "min": 0,
            "description_tooltip": null,
            "_model_module": "@jupyter-widgets/controls",
            "layout": "IPY_MODEL_f1ab51c2b2914f849a80b70b78f59c41"
          }
        },
        "00f107684be34a4a86ee3d41619acad2": {
          "model_module": "@jupyter-widgets/controls",
          "model_name": "HTMLModel",
          "state": {
            "_view_name": "HTMLView",
            "style": "IPY_MODEL_e97c2db4bf6149688a6c0566ec806d0d",
            "_dom_classes": [],
            "description": "",
            "_model_name": "HTMLModel",
            "placeholder": "​",
            "_view_module": "@jupyter-widgets/controls",
            "_model_module_version": "1.5.0",
            "value": " 213k/213k [00:04&lt;00:00, 53.1kB/s]",
            "_view_count": null,
            "_view_module_version": "1.5.0",
            "description_tooltip": null,
            "_model_module": "@jupyter-widgets/controls",
            "layout": "IPY_MODEL_bf90aa9fdf8344dcb4d93f2efc9ade1a"
          }
        },
        "2312a9eac721409ba06e2cf1b1d4021b": {
          "model_module": "@jupyter-widgets/controls",
          "model_name": "ProgressStyleModel",
          "state": {
            "_view_name": "StyleView",
            "_model_name": "ProgressStyleModel",
            "description_width": "initial",
            "_view_module": "@jupyter-widgets/base",
            "_model_module_version": "1.5.0",
            "_view_count": null,
            "_view_module_version": "1.2.0",
            "bar_color": null,
            "_model_module": "@jupyter-widgets/controls"
          }
        },
        "f1ab51c2b2914f849a80b70b78f59c41": {
          "model_module": "@jupyter-widgets/base",
          "model_name": "LayoutModel",
          "state": {
            "_view_name": "LayoutView",
            "grid_template_rows": null,
            "right": null,
            "justify_content": null,
            "_view_module": "@jupyter-widgets/base",
            "overflow": null,
            "_model_module_version": "1.2.0",
            "_view_count": null,
            "flex_flow": null,
            "width": null,
            "min_width": null,
            "border": null,
            "align_items": null,
            "bottom": null,
            "_model_module": "@jupyter-widgets/base",
            "top": null,
            "grid_column": null,
            "overflow_y": null,
            "overflow_x": null,
            "grid_auto_flow": null,
            "grid_area": null,
            "grid_template_columns": null,
            "flex": null,
            "_model_name": "LayoutModel",
            "justify_items": null,
            "grid_row": null,
            "max_height": null,
            "align_content": null,
            "visibility": null,
            "align_self": null,
            "height": null,
            "min_height": null,
            "padding": null,
            "grid_auto_rows": null,
            "grid_gap": null,
            "max_width": null,
            "order": null,
            "_view_module_version": "1.2.0",
            "grid_template_areas": null,
            "object_position": null,
            "object_fit": null,
            "grid_auto_columns": null,
            "margin": null,
            "display": null,
            "left": null
          }
        },
        "e97c2db4bf6149688a6c0566ec806d0d": {
          "model_module": "@jupyter-widgets/controls",
          "model_name": "DescriptionStyleModel",
          "state": {
            "_view_name": "StyleView",
            "_model_name": "DescriptionStyleModel",
            "description_width": "",
            "_view_module": "@jupyter-widgets/base",
            "_model_module_version": "1.5.0",
            "_view_count": null,
            "_view_module_version": "1.2.0",
            "_model_module": "@jupyter-widgets/controls"
          }
        },
        "bf90aa9fdf8344dcb4d93f2efc9ade1a": {
          "model_module": "@jupyter-widgets/base",
          "model_name": "LayoutModel",
          "state": {
            "_view_name": "LayoutView",
            "grid_template_rows": null,
            "right": null,
            "justify_content": null,
            "_view_module": "@jupyter-widgets/base",
            "overflow": null,
            "_model_module_version": "1.2.0",
            "_view_count": null,
            "flex_flow": null,
            "width": null,
            "min_width": null,
            "border": null,
            "align_items": null,
            "bottom": null,
            "_model_module": "@jupyter-widgets/base",
            "top": null,
            "grid_column": null,
            "overflow_y": null,
            "overflow_x": null,
            "grid_auto_flow": null,
            "grid_area": null,
            "grid_template_columns": null,
            "flex": null,
            "_model_name": "LayoutModel",
            "justify_items": null,
            "grid_row": null,
            "max_height": null,
            "align_content": null,
            "visibility": null,
            "align_self": null,
            "height": null,
            "min_height": null,
            "padding": null,
            "grid_auto_rows": null,
            "grid_gap": null,
            "max_width": null,
            "order": null,
            "_view_module_version": "1.2.0",
            "grid_template_areas": null,
            "object_position": null,
            "object_fit": null,
            "grid_auto_columns": null,
            "margin": null,
            "display": null,
            "left": null
          }
        },
        "65779d10e4d142ea9dae9f09a5b4ed50": {
          "model_module": "@jupyter-widgets/controls",
          "model_name": "HBoxModel",
          "state": {
            "_view_name": "HBoxView",
            "_dom_classes": [],
            "_model_name": "HBoxModel",
            "_view_module": "@jupyter-widgets/controls",
            "_model_module_version": "1.5.0",
            "_view_count": null,
            "_view_module_version": "1.5.0",
            "box_style": "",
            "layout": "IPY_MODEL_407d98e517b84cf7956765735da57e2e",
            "_model_module": "@jupyter-widgets/controls",
            "children": [
              "IPY_MODEL_c202a13daa1d4aa7acc12dc614f1f47b",
              "IPY_MODEL_5ff38b4cec454071a1f08bd4949f45e5"
            ]
          }
        },
        "407d98e517b84cf7956765735da57e2e": {
          "model_module": "@jupyter-widgets/base",
          "model_name": "LayoutModel",
          "state": {
            "_view_name": "LayoutView",
            "grid_template_rows": null,
            "right": null,
            "justify_content": null,
            "_view_module": "@jupyter-widgets/base",
            "overflow": null,
            "_model_module_version": "1.2.0",
            "_view_count": null,
            "flex_flow": null,
            "width": null,
            "min_width": null,
            "border": null,
            "align_items": null,
            "bottom": null,
            "_model_module": "@jupyter-widgets/base",
            "top": null,
            "grid_column": null,
            "overflow_y": null,
            "overflow_x": null,
            "grid_auto_flow": null,
            "grid_area": null,
            "grid_template_columns": null,
            "flex": null,
            "_model_name": "LayoutModel",
            "justify_items": null,
            "grid_row": null,
            "max_height": null,
            "align_content": null,
            "visibility": null,
            "align_self": null,
            "height": null,
            "min_height": null,
            "padding": null,
            "grid_auto_rows": null,
            "grid_gap": null,
            "max_width": null,
            "order": null,
            "_view_module_version": "1.2.0",
            "grid_template_areas": null,
            "object_position": null,
            "object_fit": null,
            "grid_auto_columns": null,
            "margin": null,
            "display": null,
            "left": null
          }
        },
        "c202a13daa1d4aa7acc12dc614f1f47b": {
          "model_module": "@jupyter-widgets/controls",
          "model_name": "FloatProgressModel",
          "state": {
            "_view_name": "ProgressView",
            "style": "IPY_MODEL_2a770f1973094d98981b601d89bd9ec7",
            "_dom_classes": [],
            "description": "Downloading: 100%",
            "_model_name": "FloatProgressModel",
            "bar_style": "success",
            "max": 60,
            "_view_module": "@jupyter-widgets/controls",
            "_model_module_version": "1.5.0",
            "value": 60,
            "_view_count": null,
            "_view_module_version": "1.5.0",
            "orientation": "horizontal",
            "min": 0,
            "description_tooltip": null,
            "_model_module": "@jupyter-widgets/controls",
            "layout": "IPY_MODEL_a983f48292d44a7d908ac2625a7b9473"
          }
        },
        "5ff38b4cec454071a1f08bd4949f45e5": {
          "model_module": "@jupyter-widgets/controls",
          "model_name": "HTMLModel",
          "state": {
            "_view_name": "HTMLView",
            "style": "IPY_MODEL_1fba35b997ff4da4a52a55941069eca5",
            "_dom_classes": [],
            "description": "",
            "_model_name": "HTMLModel",
            "placeholder": "​",
            "_view_module": "@jupyter-widgets/controls",
            "_model_module_version": "1.5.0",
            "value": " 60.0/60.0 [00:00&lt;00:00, 730B/s]",
            "_view_count": null,
            "_view_module_version": "1.5.0",
            "description_tooltip": null,
            "_model_module": "@jupyter-widgets/controls",
            "layout": "IPY_MODEL_7669cfda6a9945afa36797afd2af497e"
          }
        },
        "2a770f1973094d98981b601d89bd9ec7": {
          "model_module": "@jupyter-widgets/controls",
          "model_name": "ProgressStyleModel",
          "state": {
            "_view_name": "StyleView",
            "_model_name": "ProgressStyleModel",
            "description_width": "initial",
            "_view_module": "@jupyter-widgets/base",
            "_model_module_version": "1.5.0",
            "_view_count": null,
            "_view_module_version": "1.2.0",
            "bar_color": null,
            "_model_module": "@jupyter-widgets/controls"
          }
        },
        "a983f48292d44a7d908ac2625a7b9473": {
          "model_module": "@jupyter-widgets/base",
          "model_name": "LayoutModel",
          "state": {
            "_view_name": "LayoutView",
            "grid_template_rows": null,
            "right": null,
            "justify_content": null,
            "_view_module": "@jupyter-widgets/base",
            "overflow": null,
            "_model_module_version": "1.2.0",
            "_view_count": null,
            "flex_flow": null,
            "width": null,
            "min_width": null,
            "border": null,
            "align_items": null,
            "bottom": null,
            "_model_module": "@jupyter-widgets/base",
            "top": null,
            "grid_column": null,
            "overflow_y": null,
            "overflow_x": null,
            "grid_auto_flow": null,
            "grid_area": null,
            "grid_template_columns": null,
            "flex": null,
            "_model_name": "LayoutModel",
            "justify_items": null,
            "grid_row": null,
            "max_height": null,
            "align_content": null,
            "visibility": null,
            "align_self": null,
            "height": null,
            "min_height": null,
            "padding": null,
            "grid_auto_rows": null,
            "grid_gap": null,
            "max_width": null,
            "order": null,
            "_view_module_version": "1.2.0",
            "grid_template_areas": null,
            "object_position": null,
            "object_fit": null,
            "grid_auto_columns": null,
            "margin": null,
            "display": null,
            "left": null
          }
        },
        "1fba35b997ff4da4a52a55941069eca5": {
          "model_module": "@jupyter-widgets/controls",
          "model_name": "DescriptionStyleModel",
          "state": {
            "_view_name": "StyleView",
            "_model_name": "DescriptionStyleModel",
            "description_width": "",
            "_view_module": "@jupyter-widgets/base",
            "_model_module_version": "1.5.0",
            "_view_count": null,
            "_view_module_version": "1.2.0",
            "_model_module": "@jupyter-widgets/controls"
          }
        },
        "7669cfda6a9945afa36797afd2af497e": {
          "model_module": "@jupyter-widgets/base",
          "model_name": "LayoutModel",
          "state": {
            "_view_name": "LayoutView",
            "grid_template_rows": null,
            "right": null,
            "justify_content": null,
            "_view_module": "@jupyter-widgets/base",
            "overflow": null,
            "_model_module_version": "1.2.0",
            "_view_count": null,
            "flex_flow": null,
            "width": null,
            "min_width": null,
            "border": null,
            "align_items": null,
            "bottom": null,
            "_model_module": "@jupyter-widgets/base",
            "top": null,
            "grid_column": null,
            "overflow_y": null,
            "overflow_x": null,
            "grid_auto_flow": null,
            "grid_area": null,
            "grid_template_columns": null,
            "flex": null,
            "_model_name": "LayoutModel",
            "justify_items": null,
            "grid_row": null,
            "max_height": null,
            "align_content": null,
            "visibility": null,
            "align_self": null,
            "height": null,
            "min_height": null,
            "padding": null,
            "grid_auto_rows": null,
            "grid_gap": null,
            "max_width": null,
            "order": null,
            "_view_module_version": "1.2.0",
            "grid_template_areas": null,
            "object_position": null,
            "object_fit": null,
            "grid_auto_columns": null,
            "margin": null,
            "display": null,
            "left": null
          }
        },
        "90c5b448ded640b6a91afe4ea7435f0a": {
          "model_module": "@jupyter-widgets/controls",
          "model_name": "HBoxModel",
          "state": {
            "_view_name": "HBoxView",
            "_dom_classes": [],
            "_model_name": "HBoxModel",
            "_view_module": "@jupyter-widgets/controls",
            "_model_module_version": "1.5.0",
            "_view_count": null,
            "_view_module_version": "1.5.0",
            "box_style": "",
            "layout": "IPY_MODEL_ca89bc8c2c904856b8c5a28f6f71f837",
            "_model_module": "@jupyter-widgets/controls",
            "children": [
              "IPY_MODEL_20555bc904c24faea38b428f1b3b4f8b",
              "IPY_MODEL_17f6df0dd2f34992bebcd85275faa2d4"
            ]
          }
        },
        "ca89bc8c2c904856b8c5a28f6f71f837": {
          "model_module": "@jupyter-widgets/base",
          "model_name": "LayoutModel",
          "state": {
            "_view_name": "LayoutView",
            "grid_template_rows": null,
            "right": null,
            "justify_content": null,
            "_view_module": "@jupyter-widgets/base",
            "overflow": null,
            "_model_module_version": "1.2.0",
            "_view_count": null,
            "flex_flow": null,
            "width": null,
            "min_width": null,
            "border": null,
            "align_items": null,
            "bottom": null,
            "_model_module": "@jupyter-widgets/base",
            "top": null,
            "grid_column": null,
            "overflow_y": null,
            "overflow_x": null,
            "grid_auto_flow": null,
            "grid_area": null,
            "grid_template_columns": null,
            "flex": null,
            "_model_name": "LayoutModel",
            "justify_items": null,
            "grid_row": null,
            "max_height": null,
            "align_content": null,
            "visibility": null,
            "align_self": null,
            "height": null,
            "min_height": null,
            "padding": null,
            "grid_auto_rows": null,
            "grid_gap": null,
            "max_width": null,
            "order": null,
            "_view_module_version": "1.2.0",
            "grid_template_areas": null,
            "object_position": null,
            "object_fit": null,
            "grid_auto_columns": null,
            "margin": null,
            "display": null,
            "left": null
          }
        },
        "20555bc904c24faea38b428f1b3b4f8b": {
          "model_module": "@jupyter-widgets/controls",
          "model_name": "FloatProgressModel",
          "state": {
            "_view_name": "ProgressView",
            "style": "IPY_MODEL_0eaa6bda666b4e39b3b5c39500fa3caa",
            "_dom_classes": [],
            "description": "Downloading: 100%",
            "_model_name": "FloatProgressModel",
            "bar_style": "success",
            "max": 473,
            "_view_module": "@jupyter-widgets/controls",
            "_model_module_version": "1.5.0",
            "value": 473,
            "_view_count": null,
            "_view_module_version": "1.5.0",
            "orientation": "horizontal",
            "min": 0,
            "description_tooltip": null,
            "_model_module": "@jupyter-widgets/controls",
            "layout": "IPY_MODEL_c16e6c7906c64811bb2abb5d76b8913a"
          }
        },
        "17f6df0dd2f34992bebcd85275faa2d4": {
          "model_module": "@jupyter-widgets/controls",
          "model_name": "HTMLModel",
          "state": {
            "_view_name": "HTMLView",
            "style": "IPY_MODEL_ca97d8908b2c48a787e23a00a8438934",
            "_dom_classes": [],
            "description": "",
            "_model_name": "HTMLModel",
            "placeholder": "​",
            "_view_module": "@jupyter-widgets/controls",
            "_model_module_version": "1.5.0",
            "value": " 473/473 [00:01&lt;00:00, 444B/s]",
            "_view_count": null,
            "_view_module_version": "1.5.0",
            "description_tooltip": null,
            "_model_module": "@jupyter-widgets/controls",
            "layout": "IPY_MODEL_40c1d8b0304445a9b25e6c9f6e8297d1"
          }
        },
        "0eaa6bda666b4e39b3b5c39500fa3caa": {
          "model_module": "@jupyter-widgets/controls",
          "model_name": "ProgressStyleModel",
          "state": {
            "_view_name": "StyleView",
            "_model_name": "ProgressStyleModel",
            "description_width": "initial",
            "_view_module": "@jupyter-widgets/base",
            "_model_module_version": "1.5.0",
            "_view_count": null,
            "_view_module_version": "1.2.0",
            "bar_color": null,
            "_model_module": "@jupyter-widgets/controls"
          }
        },
        "c16e6c7906c64811bb2abb5d76b8913a": {
          "model_module": "@jupyter-widgets/base",
          "model_name": "LayoutModel",
          "state": {
            "_view_name": "LayoutView",
            "grid_template_rows": null,
            "right": null,
            "justify_content": null,
            "_view_module": "@jupyter-widgets/base",
            "overflow": null,
            "_model_module_version": "1.2.0",
            "_view_count": null,
            "flex_flow": null,
            "width": null,
            "min_width": null,
            "border": null,
            "align_items": null,
            "bottom": null,
            "_model_module": "@jupyter-widgets/base",
            "top": null,
            "grid_column": null,
            "overflow_y": null,
            "overflow_x": null,
            "grid_auto_flow": null,
            "grid_area": null,
            "grid_template_columns": null,
            "flex": null,
            "_model_name": "LayoutModel",
            "justify_items": null,
            "grid_row": null,
            "max_height": null,
            "align_content": null,
            "visibility": null,
            "align_self": null,
            "height": null,
            "min_height": null,
            "padding": null,
            "grid_auto_rows": null,
            "grid_gap": null,
            "max_width": null,
            "order": null,
            "_view_module_version": "1.2.0",
            "grid_template_areas": null,
            "object_position": null,
            "object_fit": null,
            "grid_auto_columns": null,
            "margin": null,
            "display": null,
            "left": null
          }
        },
        "ca97d8908b2c48a787e23a00a8438934": {
          "model_module": "@jupyter-widgets/controls",
          "model_name": "DescriptionStyleModel",
          "state": {
            "_view_name": "StyleView",
            "_model_name": "DescriptionStyleModel",
            "description_width": "",
            "_view_module": "@jupyter-widgets/base",
            "_model_module_version": "1.5.0",
            "_view_count": null,
            "_view_module_version": "1.2.0",
            "_model_module": "@jupyter-widgets/controls"
          }
        },
        "40c1d8b0304445a9b25e6c9f6e8297d1": {
          "model_module": "@jupyter-widgets/base",
          "model_name": "LayoutModel",
          "state": {
            "_view_name": "LayoutView",
            "grid_template_rows": null,
            "right": null,
            "justify_content": null,
            "_view_module": "@jupyter-widgets/base",
            "overflow": null,
            "_model_module_version": "1.2.0",
            "_view_count": null,
            "flex_flow": null,
            "width": null,
            "min_width": null,
            "border": null,
            "align_items": null,
            "bottom": null,
            "_model_module": "@jupyter-widgets/base",
            "top": null,
            "grid_column": null,
            "overflow_y": null,
            "overflow_x": null,
            "grid_auto_flow": null,
            "grid_area": null,
            "grid_template_columns": null,
            "flex": null,
            "_model_name": "LayoutModel",
            "justify_items": null,
            "grid_row": null,
            "max_height": null,
            "align_content": null,
            "visibility": null,
            "align_self": null,
            "height": null,
            "min_height": null,
            "padding": null,
            "grid_auto_rows": null,
            "grid_gap": null,
            "max_width": null,
            "order": null,
            "_view_module_version": "1.2.0",
            "grid_template_areas": null,
            "object_position": null,
            "object_fit": null,
            "grid_auto_columns": null,
            "margin": null,
            "display": null,
            "left": null
          }
        },
        "0358baaea19d4593989bfd377d870f62": {
          "model_module": "@jupyter-widgets/controls",
          "model_name": "HBoxModel",
          "state": {
            "_view_name": "HBoxView",
            "_dom_classes": [],
            "_model_name": "HBoxModel",
            "_view_module": "@jupyter-widgets/controls",
            "_model_module_version": "1.5.0",
            "_view_count": null,
            "_view_module_version": "1.5.0",
            "box_style": "",
            "layout": "IPY_MODEL_4ba21566b5a94cb19190d3f80a899f0e",
            "_model_module": "@jupyter-widgets/controls",
            "children": [
              "IPY_MODEL_a0d861f5eb544b92938f7b0acf4a453e",
              "IPY_MODEL_68d3d3976f0442d8886adc41fedcb4f1"
            ]
          }
        },
        "4ba21566b5a94cb19190d3f80a899f0e": {
          "model_module": "@jupyter-widgets/base",
          "model_name": "LayoutModel",
          "state": {
            "_view_name": "LayoutView",
            "grid_template_rows": null,
            "right": null,
            "justify_content": null,
            "_view_module": "@jupyter-widgets/base",
            "overflow": null,
            "_model_module_version": "1.2.0",
            "_view_count": null,
            "flex_flow": null,
            "width": null,
            "min_width": null,
            "border": null,
            "align_items": null,
            "bottom": null,
            "_model_module": "@jupyter-widgets/base",
            "top": null,
            "grid_column": null,
            "overflow_y": null,
            "overflow_x": null,
            "grid_auto_flow": null,
            "grid_area": null,
            "grid_template_columns": null,
            "flex": null,
            "_model_name": "LayoutModel",
            "justify_items": null,
            "grid_row": null,
            "max_height": null,
            "align_content": null,
            "visibility": null,
            "align_self": null,
            "height": null,
            "min_height": null,
            "padding": null,
            "grid_auto_rows": null,
            "grid_gap": null,
            "max_width": null,
            "order": null,
            "_view_module_version": "1.2.0",
            "grid_template_areas": null,
            "object_position": null,
            "object_fit": null,
            "grid_auto_columns": null,
            "margin": null,
            "display": null,
            "left": null
          }
        },
        "a0d861f5eb544b92938f7b0acf4a453e": {
          "model_module": "@jupyter-widgets/controls",
          "model_name": "FloatProgressModel",
          "state": {
            "_view_name": "ProgressView",
            "style": "IPY_MODEL_3606298af7e3427abd37f30089352174",
            "_dom_classes": [],
            "description": "Downloading: 100%",
            "_model_name": "FloatProgressModel",
            "bar_style": "success",
            "max": 260793700,
            "_view_module": "@jupyter-widgets/controls",
            "_model_module_version": "1.5.0",
            "value": 260793700,
            "_view_count": null,
            "_view_module_version": "1.5.0",
            "orientation": "horizontal",
            "min": 0,
            "description_tooltip": null,
            "_model_module": "@jupyter-widgets/controls",
            "layout": "IPY_MODEL_65a40bb2483f44e5b555e425712a41a7"
          }
        },
        "68d3d3976f0442d8886adc41fedcb4f1": {
          "model_module": "@jupyter-widgets/controls",
          "model_name": "HTMLModel",
          "state": {
            "_view_name": "HTMLView",
            "style": "IPY_MODEL_0feabb7ba8e540d884929e5880dccddd",
            "_dom_classes": [],
            "description": "",
            "_model_name": "HTMLModel",
            "placeholder": "​",
            "_view_module": "@jupyter-widgets/controls",
            "_model_module_version": "1.5.0",
            "value": " 261M/261M [00:08&lt;00:00, 29.6MB/s]",
            "_view_count": null,
            "_view_module_version": "1.5.0",
            "description_tooltip": null,
            "_model_module": "@jupyter-widgets/controls",
            "layout": "IPY_MODEL_8168ded289194f5ab928daad8e49bcd8"
          }
        },
        "3606298af7e3427abd37f30089352174": {
          "model_module": "@jupyter-widgets/controls",
          "model_name": "ProgressStyleModel",
          "state": {
            "_view_name": "StyleView",
            "_model_name": "ProgressStyleModel",
            "description_width": "initial",
            "_view_module": "@jupyter-widgets/base",
            "_model_module_version": "1.5.0",
            "_view_count": null,
            "_view_module_version": "1.2.0",
            "bar_color": null,
            "_model_module": "@jupyter-widgets/controls"
          }
        },
        "65a40bb2483f44e5b555e425712a41a7": {
          "model_module": "@jupyter-widgets/base",
          "model_name": "LayoutModel",
          "state": {
            "_view_name": "LayoutView",
            "grid_template_rows": null,
            "right": null,
            "justify_content": null,
            "_view_module": "@jupyter-widgets/base",
            "overflow": null,
            "_model_module_version": "1.2.0",
            "_view_count": null,
            "flex_flow": null,
            "width": null,
            "min_width": null,
            "border": null,
            "align_items": null,
            "bottom": null,
            "_model_module": "@jupyter-widgets/base",
            "top": null,
            "grid_column": null,
            "overflow_y": null,
            "overflow_x": null,
            "grid_auto_flow": null,
            "grid_area": null,
            "grid_template_columns": null,
            "flex": null,
            "_model_name": "LayoutModel",
            "justify_items": null,
            "grid_row": null,
            "max_height": null,
            "align_content": null,
            "visibility": null,
            "align_self": null,
            "height": null,
            "min_height": null,
            "padding": null,
            "grid_auto_rows": null,
            "grid_gap": null,
            "max_width": null,
            "order": null,
            "_view_module_version": "1.2.0",
            "grid_template_areas": null,
            "object_position": null,
            "object_fit": null,
            "grid_auto_columns": null,
            "margin": null,
            "display": null,
            "left": null
          }
        },
        "0feabb7ba8e540d884929e5880dccddd": {
          "model_module": "@jupyter-widgets/controls",
          "model_name": "DescriptionStyleModel",
          "state": {
            "_view_name": "StyleView",
            "_model_name": "DescriptionStyleModel",
            "description_width": "",
            "_view_module": "@jupyter-widgets/base",
            "_model_module_version": "1.5.0",
            "_view_count": null,
            "_view_module_version": "1.2.0",
            "_model_module": "@jupyter-widgets/controls"
          }
        },
        "8168ded289194f5ab928daad8e49bcd8": {
          "model_module": "@jupyter-widgets/base",
          "model_name": "LayoutModel",
          "state": {
            "_view_name": "LayoutView",
            "grid_template_rows": null,
            "right": null,
            "justify_content": null,
            "_view_module": "@jupyter-widgets/base",
            "overflow": null,
            "_model_module_version": "1.2.0",
            "_view_count": null,
            "flex_flow": null,
            "width": null,
            "min_width": null,
            "border": null,
            "align_items": null,
            "bottom": null,
            "_model_module": "@jupyter-widgets/base",
            "top": null,
            "grid_column": null,
            "overflow_y": null,
            "overflow_x": null,
            "grid_auto_flow": null,
            "grid_area": null,
            "grid_template_columns": null,
            "flex": null,
            "_model_name": "LayoutModel",
            "justify_items": null,
            "grid_row": null,
            "max_height": null,
            "align_content": null,
            "visibility": null,
            "align_self": null,
            "height": null,
            "min_height": null,
            "padding": null,
            "grid_auto_rows": null,
            "grid_gap": null,
            "max_width": null,
            "order": null,
            "_view_module_version": "1.2.0",
            "grid_template_areas": null,
            "object_position": null,
            "object_fit": null,
            "grid_auto_columns": null,
            "margin": null,
            "display": null,
            "left": null
          }
        },
        "7cd98eb4da724ba58b8ea4e379a5027b": {
          "model_module": "@jupyter-widgets/controls",
          "model_name": "HBoxModel",
          "state": {
            "_view_name": "HBoxView",
            "_dom_classes": [],
            "_model_name": "HBoxModel",
            "_view_module": "@jupyter-widgets/controls",
            "_model_module_version": "1.5.0",
            "_view_count": null,
            "_view_module_version": "1.5.0",
            "box_style": "",
            "layout": "IPY_MODEL_0e54cb44ecb04a6e97420d4069486d91",
            "_model_module": "@jupyter-widgets/controls",
            "children": [
              "IPY_MODEL_5f7705f307154995b77985579b1e6064",
              "IPY_MODEL_b58bca496c3a49ff9927f1fe072d5fea"
            ]
          }
        },
        "0e54cb44ecb04a6e97420d4069486d91": {
          "model_module": "@jupyter-widgets/base",
          "model_name": "LayoutModel",
          "state": {
            "_view_name": "LayoutView",
            "grid_template_rows": null,
            "right": null,
            "justify_content": null,
            "_view_module": "@jupyter-widgets/base",
            "overflow": null,
            "_model_module_version": "1.2.0",
            "_view_count": null,
            "flex_flow": null,
            "width": null,
            "min_width": null,
            "border": null,
            "align_items": null,
            "bottom": null,
            "_model_module": "@jupyter-widgets/base",
            "top": null,
            "grid_column": null,
            "overflow_y": null,
            "overflow_x": null,
            "grid_auto_flow": null,
            "grid_area": null,
            "grid_template_columns": null,
            "flex": null,
            "_model_name": "LayoutModel",
            "justify_items": null,
            "grid_row": null,
            "max_height": null,
            "align_content": null,
            "visibility": null,
            "align_self": null,
            "height": null,
            "min_height": null,
            "padding": null,
            "grid_auto_rows": null,
            "grid_gap": null,
            "max_width": null,
            "order": null,
            "_view_module_version": "1.2.0",
            "grid_template_areas": null,
            "object_position": null,
            "object_fit": null,
            "grid_auto_columns": null,
            "margin": null,
            "display": null,
            "left": null
          }
        },
        "5f7705f307154995b77985579b1e6064": {
          "model_module": "@jupyter-widgets/controls",
          "model_name": "FloatProgressModel",
          "state": {
            "_view_name": "ProgressView",
            "style": "IPY_MODEL_553979925aec45e49af919b07fa71cab",
            "_dom_classes": [],
            "description": "Downloading: 100%",
            "_model_name": "FloatProgressModel",
            "bar_style": "success",
            "max": 213450,
            "_view_module": "@jupyter-widgets/controls",
            "_model_module_version": "1.5.0",
            "value": 213450,
            "_view_count": null,
            "_view_module_version": "1.5.0",
            "orientation": "horizontal",
            "min": 0,
            "description_tooltip": null,
            "_model_module": "@jupyter-widgets/controls",
            "layout": "IPY_MODEL_6da3b6f750b54acca60ea83f6a8e3269"
          }
        },
        "b58bca496c3a49ff9927f1fe072d5fea": {
          "model_module": "@jupyter-widgets/controls",
          "model_name": "HTMLModel",
          "state": {
            "_view_name": "HTMLView",
            "style": "IPY_MODEL_d16e4b78834d4d88bd7d5ec0ef27c99e",
            "_dom_classes": [],
            "description": "",
            "_model_name": "HTMLModel",
            "placeholder": "​",
            "_view_module": "@jupyter-widgets/controls",
            "_model_module_version": "1.5.0",
            "value": " 213k/213k [02:53&lt;00:00, 1.23kB/s]",
            "_view_count": null,
            "_view_module_version": "1.5.0",
            "description_tooltip": null,
            "_model_module": "@jupyter-widgets/controls",
            "layout": "IPY_MODEL_673eab93f30f4d2c822f08ad1a1ad981"
          }
        },
        "553979925aec45e49af919b07fa71cab": {
          "model_module": "@jupyter-widgets/controls",
          "model_name": "ProgressStyleModel",
          "state": {
            "_view_name": "StyleView",
            "_model_name": "ProgressStyleModel",
            "description_width": "initial",
            "_view_module": "@jupyter-widgets/base",
            "_model_module_version": "1.5.0",
            "_view_count": null,
            "_view_module_version": "1.2.0",
            "bar_color": null,
            "_model_module": "@jupyter-widgets/controls"
          }
        },
        "6da3b6f750b54acca60ea83f6a8e3269": {
          "model_module": "@jupyter-widgets/base",
          "model_name": "LayoutModel",
          "state": {
            "_view_name": "LayoutView",
            "grid_template_rows": null,
            "right": null,
            "justify_content": null,
            "_view_module": "@jupyter-widgets/base",
            "overflow": null,
            "_model_module_version": "1.2.0",
            "_view_count": null,
            "flex_flow": null,
            "width": null,
            "min_width": null,
            "border": null,
            "align_items": null,
            "bottom": null,
            "_model_module": "@jupyter-widgets/base",
            "top": null,
            "grid_column": null,
            "overflow_y": null,
            "overflow_x": null,
            "grid_auto_flow": null,
            "grid_area": null,
            "grid_template_columns": null,
            "flex": null,
            "_model_name": "LayoutModel",
            "justify_items": null,
            "grid_row": null,
            "max_height": null,
            "align_content": null,
            "visibility": null,
            "align_self": null,
            "height": null,
            "min_height": null,
            "padding": null,
            "grid_auto_rows": null,
            "grid_gap": null,
            "max_width": null,
            "order": null,
            "_view_module_version": "1.2.0",
            "grid_template_areas": null,
            "object_position": null,
            "object_fit": null,
            "grid_auto_columns": null,
            "margin": null,
            "display": null,
            "left": null
          }
        },
        "d16e4b78834d4d88bd7d5ec0ef27c99e": {
          "model_module": "@jupyter-widgets/controls",
          "model_name": "DescriptionStyleModel",
          "state": {
            "_view_name": "StyleView",
            "_model_name": "DescriptionStyleModel",
            "description_width": "",
            "_view_module": "@jupyter-widgets/base",
            "_model_module_version": "1.5.0",
            "_view_count": null,
            "_view_module_version": "1.2.0",
            "_model_module": "@jupyter-widgets/controls"
          }
        },
        "673eab93f30f4d2c822f08ad1a1ad981": {
          "model_module": "@jupyter-widgets/base",
          "model_name": "LayoutModel",
          "state": {
            "_view_name": "LayoutView",
            "grid_template_rows": null,
            "right": null,
            "justify_content": null,
            "_view_module": "@jupyter-widgets/base",
            "overflow": null,
            "_model_module_version": "1.2.0",
            "_view_count": null,
            "flex_flow": null,
            "width": null,
            "min_width": null,
            "border": null,
            "align_items": null,
            "bottom": null,
            "_model_module": "@jupyter-widgets/base",
            "top": null,
            "grid_column": null,
            "overflow_y": null,
            "overflow_x": null,
            "grid_auto_flow": null,
            "grid_area": null,
            "grid_template_columns": null,
            "flex": null,
            "_model_name": "LayoutModel",
            "justify_items": null,
            "grid_row": null,
            "max_height": null,
            "align_content": null,
            "visibility": null,
            "align_self": null,
            "height": null,
            "min_height": null,
            "padding": null,
            "grid_auto_rows": null,
            "grid_gap": null,
            "max_width": null,
            "order": null,
            "_view_module_version": "1.2.0",
            "grid_template_areas": null,
            "object_position": null,
            "object_fit": null,
            "grid_auto_columns": null,
            "margin": null,
            "display": null,
            "left": null
          }
        },
        "4121ca96775c4388af5f405dd5fc4605": {
          "model_module": "@jupyter-widgets/controls",
          "model_name": "HBoxModel",
          "state": {
            "_view_name": "HBoxView",
            "_dom_classes": [],
            "_model_name": "HBoxModel",
            "_view_module": "@jupyter-widgets/controls",
            "_model_module_version": "1.5.0",
            "_view_count": null,
            "_view_module_version": "1.5.0",
            "box_style": "",
            "layout": "IPY_MODEL_0ac0134c45f0457281e948d01d566a40",
            "_model_module": "@jupyter-widgets/controls",
            "children": [
              "IPY_MODEL_5997480ba09b492e8c5751020a83bc29",
              "IPY_MODEL_bbfd3558725d446e9348823af947dcfe"
            ]
          }
        },
        "0ac0134c45f0457281e948d01d566a40": {
          "model_module": "@jupyter-widgets/base",
          "model_name": "LayoutModel",
          "state": {
            "_view_name": "LayoutView",
            "grid_template_rows": null,
            "right": null,
            "justify_content": null,
            "_view_module": "@jupyter-widgets/base",
            "overflow": null,
            "_model_module_version": "1.2.0",
            "_view_count": null,
            "flex_flow": null,
            "width": null,
            "min_width": null,
            "border": null,
            "align_items": null,
            "bottom": null,
            "_model_module": "@jupyter-widgets/base",
            "top": null,
            "grid_column": null,
            "overflow_y": null,
            "overflow_x": null,
            "grid_auto_flow": null,
            "grid_area": null,
            "grid_template_columns": null,
            "flex": null,
            "_model_name": "LayoutModel",
            "justify_items": null,
            "grid_row": null,
            "max_height": null,
            "align_content": null,
            "visibility": null,
            "align_self": null,
            "height": null,
            "min_height": null,
            "padding": null,
            "grid_auto_rows": null,
            "grid_gap": null,
            "max_width": null,
            "order": null,
            "_view_module_version": "1.2.0",
            "grid_template_areas": null,
            "object_position": null,
            "object_fit": null,
            "grid_auto_columns": null,
            "margin": null,
            "display": null,
            "left": null
          }
        },
        "5997480ba09b492e8c5751020a83bc29": {
          "model_module": "@jupyter-widgets/controls",
          "model_name": "FloatProgressModel",
          "state": {
            "_view_name": "ProgressView",
            "style": "IPY_MODEL_5d8046b5e7394a57ae88acdf39be9f43",
            "_dom_classes": [],
            "description": "Downloading: 100%",
            "_model_name": "FloatProgressModel",
            "bar_style": "success",
            "max": 435797,
            "_view_module": "@jupyter-widgets/controls",
            "_model_module_version": "1.5.0",
            "value": 435797,
            "_view_count": null,
            "_view_module_version": "1.5.0",
            "orientation": "horizontal",
            "min": 0,
            "description_tooltip": null,
            "_model_module": "@jupyter-widgets/controls",
            "layout": "IPY_MODEL_ac11c549ce3646f38b3c0324c0eddd3f"
          }
        },
        "bbfd3558725d446e9348823af947dcfe": {
          "model_module": "@jupyter-widgets/controls",
          "model_name": "HTMLModel",
          "state": {
            "_view_name": "HTMLView",
            "style": "IPY_MODEL_5c8e37eb4e78491390e49086c58cb5a2",
            "_dom_classes": [],
            "description": "",
            "_model_name": "HTMLModel",
            "placeholder": "​",
            "_view_module": "@jupyter-widgets/controls",
            "_model_module_version": "1.5.0",
            "value": " 436k/436k [02:51&lt;00:00, 2.53kB/s]",
            "_view_count": null,
            "_view_module_version": "1.5.0",
            "description_tooltip": null,
            "_model_module": "@jupyter-widgets/controls",
            "layout": "IPY_MODEL_1b99fd1c36b841af8b73059681c4484c"
          }
        },
        "5d8046b5e7394a57ae88acdf39be9f43": {
          "model_module": "@jupyter-widgets/controls",
          "model_name": "ProgressStyleModel",
          "state": {
            "_view_name": "StyleView",
            "_model_name": "ProgressStyleModel",
            "description_width": "initial",
            "_view_module": "@jupyter-widgets/base",
            "_model_module_version": "1.5.0",
            "_view_count": null,
            "_view_module_version": "1.2.0",
            "bar_color": null,
            "_model_module": "@jupyter-widgets/controls"
          }
        },
        "ac11c549ce3646f38b3c0324c0eddd3f": {
          "model_module": "@jupyter-widgets/base",
          "model_name": "LayoutModel",
          "state": {
            "_view_name": "LayoutView",
            "grid_template_rows": null,
            "right": null,
            "justify_content": null,
            "_view_module": "@jupyter-widgets/base",
            "overflow": null,
            "_model_module_version": "1.2.0",
            "_view_count": null,
            "flex_flow": null,
            "width": null,
            "min_width": null,
            "border": null,
            "align_items": null,
            "bottom": null,
            "_model_module": "@jupyter-widgets/base",
            "top": null,
            "grid_column": null,
            "overflow_y": null,
            "overflow_x": null,
            "grid_auto_flow": null,
            "grid_area": null,
            "grid_template_columns": null,
            "flex": null,
            "_model_name": "LayoutModel",
            "justify_items": null,
            "grid_row": null,
            "max_height": null,
            "align_content": null,
            "visibility": null,
            "align_self": null,
            "height": null,
            "min_height": null,
            "padding": null,
            "grid_auto_rows": null,
            "grid_gap": null,
            "max_width": null,
            "order": null,
            "_view_module_version": "1.2.0",
            "grid_template_areas": null,
            "object_position": null,
            "object_fit": null,
            "grid_auto_columns": null,
            "margin": null,
            "display": null,
            "left": null
          }
        },
        "5c8e37eb4e78491390e49086c58cb5a2": {
          "model_module": "@jupyter-widgets/controls",
          "model_name": "DescriptionStyleModel",
          "state": {
            "_view_name": "StyleView",
            "_model_name": "DescriptionStyleModel",
            "description_width": "",
            "_view_module": "@jupyter-widgets/base",
            "_model_module_version": "1.5.0",
            "_view_count": null,
            "_view_module_version": "1.2.0",
            "_model_module": "@jupyter-widgets/controls"
          }
        },
        "1b99fd1c36b841af8b73059681c4484c": {
          "model_module": "@jupyter-widgets/base",
          "model_name": "LayoutModel",
          "state": {
            "_view_name": "LayoutView",
            "grid_template_rows": null,
            "right": null,
            "justify_content": null,
            "_view_module": "@jupyter-widgets/base",
            "overflow": null,
            "_model_module_version": "1.2.0",
            "_view_count": null,
            "flex_flow": null,
            "width": null,
            "min_width": null,
            "border": null,
            "align_items": null,
            "bottom": null,
            "_model_module": "@jupyter-widgets/base",
            "top": null,
            "grid_column": null,
            "overflow_y": null,
            "overflow_x": null,
            "grid_auto_flow": null,
            "grid_area": null,
            "grid_template_columns": null,
            "flex": null,
            "_model_name": "LayoutModel",
            "justify_items": null,
            "grid_row": null,
            "max_height": null,
            "align_content": null,
            "visibility": null,
            "align_self": null,
            "height": null,
            "min_height": null,
            "padding": null,
            "grid_auto_rows": null,
            "grid_gap": null,
            "max_width": null,
            "order": null,
            "_view_module_version": "1.2.0",
            "grid_template_areas": null,
            "object_position": null,
            "object_fit": null,
            "grid_auto_columns": null,
            "margin": null,
            "display": null,
            "left": null
          }
        },
        "efa728943c8b4959873450eb02ae663d": {
          "model_module": "@jupyter-widgets/controls",
          "model_name": "HBoxModel",
          "state": {
            "_view_name": "HBoxView",
            "_dom_classes": [],
            "_model_name": "HBoxModel",
            "_view_module": "@jupyter-widgets/controls",
            "_model_module_version": "1.5.0",
            "_view_count": null,
            "_view_module_version": "1.5.0",
            "box_style": "",
            "layout": "IPY_MODEL_0a8e96f55cbc4104b8bbbca85562738e",
            "_model_module": "@jupyter-widgets/controls",
            "children": [
              "IPY_MODEL_d8ecf6bcbbec469f914657fd6851a63d",
              "IPY_MODEL_182fa0af15774d6ca68a5c1773903276"
            ]
          }
        },
        "0a8e96f55cbc4104b8bbbca85562738e": {
          "model_module": "@jupyter-widgets/base",
          "model_name": "LayoutModel",
          "state": {
            "_view_name": "LayoutView",
            "grid_template_rows": null,
            "right": null,
            "justify_content": null,
            "_view_module": "@jupyter-widgets/base",
            "overflow": null,
            "_model_module_version": "1.2.0",
            "_view_count": null,
            "flex_flow": null,
            "width": null,
            "min_width": null,
            "border": null,
            "align_items": null,
            "bottom": null,
            "_model_module": "@jupyter-widgets/base",
            "top": null,
            "grid_column": null,
            "overflow_y": null,
            "overflow_x": null,
            "grid_auto_flow": null,
            "grid_area": null,
            "grid_template_columns": null,
            "flex": null,
            "_model_name": "LayoutModel",
            "justify_items": null,
            "grid_row": null,
            "max_height": null,
            "align_content": null,
            "visibility": null,
            "align_self": null,
            "height": null,
            "min_height": null,
            "padding": null,
            "grid_auto_rows": null,
            "grid_gap": null,
            "max_width": null,
            "order": null,
            "_view_module_version": "1.2.0",
            "grid_template_areas": null,
            "object_position": null,
            "object_fit": null,
            "grid_auto_columns": null,
            "margin": null,
            "display": null,
            "left": null
          }
        },
        "d8ecf6bcbbec469f914657fd6851a63d": {
          "model_module": "@jupyter-widgets/controls",
          "model_name": "FloatProgressModel",
          "state": {
            "_view_name": "ProgressView",
            "style": "IPY_MODEL_004bf224b97c48fdb1b303b4f51fef13",
            "_dom_classes": [],
            "description": "Downloading: 100%",
            "_model_name": "FloatProgressModel",
            "bar_style": "success",
            "max": 29,
            "_view_module": "@jupyter-widgets/controls",
            "_model_module_version": "1.5.0",
            "value": 29,
            "_view_count": null,
            "_view_module_version": "1.5.0",
            "orientation": "horizontal",
            "min": 0,
            "description_tooltip": null,
            "_model_module": "@jupyter-widgets/controls",
            "layout": "IPY_MODEL_e7ae68987d7847d58c7e31cd7dc322d6"
          }
        },
        "182fa0af15774d6ca68a5c1773903276": {
          "model_module": "@jupyter-widgets/controls",
          "model_name": "HTMLModel",
          "state": {
            "_view_name": "HTMLView",
            "style": "IPY_MODEL_44e1a6d732cf4852b56df6da266f1797",
            "_dom_classes": [],
            "description": "",
            "_model_name": "HTMLModel",
            "placeholder": "​",
            "_view_module": "@jupyter-widgets/controls",
            "_model_module_version": "1.5.0",
            "value": " 29.0/29.0 [02:48&lt;00:00, 5.82s/B]",
            "_view_count": null,
            "_view_module_version": "1.5.0",
            "description_tooltip": null,
            "_model_module": "@jupyter-widgets/controls",
            "layout": "IPY_MODEL_b5b5748721064813ac5f721171289038"
          }
        },
        "004bf224b97c48fdb1b303b4f51fef13": {
          "model_module": "@jupyter-widgets/controls",
          "model_name": "ProgressStyleModel",
          "state": {
            "_view_name": "StyleView",
            "_model_name": "ProgressStyleModel",
            "description_width": "initial",
            "_view_module": "@jupyter-widgets/base",
            "_model_module_version": "1.5.0",
            "_view_count": null,
            "_view_module_version": "1.2.0",
            "bar_color": null,
            "_model_module": "@jupyter-widgets/controls"
          }
        },
        "e7ae68987d7847d58c7e31cd7dc322d6": {
          "model_module": "@jupyter-widgets/base",
          "model_name": "LayoutModel",
          "state": {
            "_view_name": "LayoutView",
            "grid_template_rows": null,
            "right": null,
            "justify_content": null,
            "_view_module": "@jupyter-widgets/base",
            "overflow": null,
            "_model_module_version": "1.2.0",
            "_view_count": null,
            "flex_flow": null,
            "width": null,
            "min_width": null,
            "border": null,
            "align_items": null,
            "bottom": null,
            "_model_module": "@jupyter-widgets/base",
            "top": null,
            "grid_column": null,
            "overflow_y": null,
            "overflow_x": null,
            "grid_auto_flow": null,
            "grid_area": null,
            "grid_template_columns": null,
            "flex": null,
            "_model_name": "LayoutModel",
            "justify_items": null,
            "grid_row": null,
            "max_height": null,
            "align_content": null,
            "visibility": null,
            "align_self": null,
            "height": null,
            "min_height": null,
            "padding": null,
            "grid_auto_rows": null,
            "grid_gap": null,
            "max_width": null,
            "order": null,
            "_view_module_version": "1.2.0",
            "grid_template_areas": null,
            "object_position": null,
            "object_fit": null,
            "grid_auto_columns": null,
            "margin": null,
            "display": null,
            "left": null
          }
        },
        "44e1a6d732cf4852b56df6da266f1797": {
          "model_module": "@jupyter-widgets/controls",
          "model_name": "DescriptionStyleModel",
          "state": {
            "_view_name": "StyleView",
            "_model_name": "DescriptionStyleModel",
            "description_width": "",
            "_view_module": "@jupyter-widgets/base",
            "_model_module_version": "1.5.0",
            "_view_count": null,
            "_view_module_version": "1.2.0",
            "_model_module": "@jupyter-widgets/controls"
          }
        },
        "b5b5748721064813ac5f721171289038": {
          "model_module": "@jupyter-widgets/base",
          "model_name": "LayoutModel",
          "state": {
            "_view_name": "LayoutView",
            "grid_template_rows": null,
            "right": null,
            "justify_content": null,
            "_view_module": "@jupyter-widgets/base",
            "overflow": null,
            "_model_module_version": "1.2.0",
            "_view_count": null,
            "flex_flow": null,
            "width": null,
            "min_width": null,
            "border": null,
            "align_items": null,
            "bottom": null,
            "_model_module": "@jupyter-widgets/base",
            "top": null,
            "grid_column": null,
            "overflow_y": null,
            "overflow_x": null,
            "grid_auto_flow": null,
            "grid_area": null,
            "grid_template_columns": null,
            "flex": null,
            "_model_name": "LayoutModel",
            "justify_items": null,
            "grid_row": null,
            "max_height": null,
            "align_content": null,
            "visibility": null,
            "align_self": null,
            "height": null,
            "min_height": null,
            "padding": null,
            "grid_auto_rows": null,
            "grid_gap": null,
            "max_width": null,
            "order": null,
            "_view_module_version": "1.2.0",
            "grid_template_areas": null,
            "object_position": null,
            "object_fit": null,
            "grid_auto_columns": null,
            "margin": null,
            "display": null,
            "left": null
          }
        },
        "fdad05d133bc4e13b8ce0298c3ccfbfb": {
          "model_module": "@jupyter-widgets/controls",
          "model_name": "HBoxModel",
          "state": {
            "_view_name": "HBoxView",
            "_dom_classes": [],
            "_model_name": "HBoxModel",
            "_view_module": "@jupyter-widgets/controls",
            "_model_module_version": "1.5.0",
            "_view_count": null,
            "_view_module_version": "1.5.0",
            "box_style": "",
            "layout": "IPY_MODEL_e8c9eba682c4448c9da5eb72759aa4ac",
            "_model_module": "@jupyter-widgets/controls",
            "children": [
              "IPY_MODEL_847ef220e70142179d91e98c225849aa",
              "IPY_MODEL_bf604b215cef4bd591906d59d7022141"
            ]
          }
        },
        "e8c9eba682c4448c9da5eb72759aa4ac": {
          "model_module": "@jupyter-widgets/base",
          "model_name": "LayoutModel",
          "state": {
            "_view_name": "LayoutView",
            "grid_template_rows": null,
            "right": null,
            "justify_content": null,
            "_view_module": "@jupyter-widgets/base",
            "overflow": null,
            "_model_module_version": "1.2.0",
            "_view_count": null,
            "flex_flow": null,
            "width": null,
            "min_width": null,
            "border": null,
            "align_items": null,
            "bottom": null,
            "_model_module": "@jupyter-widgets/base",
            "top": null,
            "grid_column": null,
            "overflow_y": null,
            "overflow_x": null,
            "grid_auto_flow": null,
            "grid_area": null,
            "grid_template_columns": null,
            "flex": null,
            "_model_name": "LayoutModel",
            "justify_items": null,
            "grid_row": null,
            "max_height": null,
            "align_content": null,
            "visibility": null,
            "align_self": null,
            "height": null,
            "min_height": null,
            "padding": null,
            "grid_auto_rows": null,
            "grid_gap": null,
            "max_width": null,
            "order": null,
            "_view_module_version": "1.2.0",
            "grid_template_areas": null,
            "object_position": null,
            "object_fit": null,
            "grid_auto_columns": null,
            "margin": null,
            "display": null,
            "left": null
          }
        },
        "847ef220e70142179d91e98c225849aa": {
          "model_module": "@jupyter-widgets/controls",
          "model_name": "FloatProgressModel",
          "state": {
            "_view_name": "ProgressView",
            "style": "IPY_MODEL_0b55358ed4c14feba5ca0ded0ceef996",
            "_dom_classes": [],
            "description": "Downloading: 100%",
            "_model_name": "FloatProgressModel",
            "bar_style": "success",
            "max": 1802,
            "_view_module": "@jupyter-widgets/controls",
            "_model_module_version": "1.5.0",
            "value": 1802,
            "_view_count": null,
            "_view_module_version": "1.5.0",
            "orientation": "horizontal",
            "min": 0,
            "description_tooltip": null,
            "_model_module": "@jupyter-widgets/controls",
            "layout": "IPY_MODEL_9e4a89003b8f4d3dbaca3801e4df2f6c"
          }
        },
        "bf604b215cef4bd591906d59d7022141": {
          "model_module": "@jupyter-widgets/controls",
          "model_name": "HTMLModel",
          "state": {
            "_view_name": "HTMLView",
            "style": "IPY_MODEL_a1090d078a0a463d8ba53b1b5498d727",
            "_dom_classes": [],
            "description": "",
            "_model_name": "HTMLModel",
            "placeholder": "​",
            "_view_module": "@jupyter-widgets/controls",
            "_model_module_version": "1.5.0",
            "value": " 1.80k/1.80k [00:32&lt;00:00, 54.7B/s]",
            "_view_count": null,
            "_view_module_version": "1.5.0",
            "description_tooltip": null,
            "_model_module": "@jupyter-widgets/controls",
            "layout": "IPY_MODEL_2d35a03809b44a1297b9c92e2f332f2a"
          }
        },
        "0b55358ed4c14feba5ca0ded0ceef996": {
          "model_module": "@jupyter-widgets/controls",
          "model_name": "ProgressStyleModel",
          "state": {
            "_view_name": "StyleView",
            "_model_name": "ProgressStyleModel",
            "description_width": "initial",
            "_view_module": "@jupyter-widgets/base",
            "_model_module_version": "1.5.0",
            "_view_count": null,
            "_view_module_version": "1.2.0",
            "bar_color": null,
            "_model_module": "@jupyter-widgets/controls"
          }
        },
        "9e4a89003b8f4d3dbaca3801e4df2f6c": {
          "model_module": "@jupyter-widgets/base",
          "model_name": "LayoutModel",
          "state": {
            "_view_name": "LayoutView",
            "grid_template_rows": null,
            "right": null,
            "justify_content": null,
            "_view_module": "@jupyter-widgets/base",
            "overflow": null,
            "_model_module_version": "1.2.0",
            "_view_count": null,
            "flex_flow": null,
            "width": null,
            "min_width": null,
            "border": null,
            "align_items": null,
            "bottom": null,
            "_model_module": "@jupyter-widgets/base",
            "top": null,
            "grid_column": null,
            "overflow_y": null,
            "overflow_x": null,
            "grid_auto_flow": null,
            "grid_area": null,
            "grid_template_columns": null,
            "flex": null,
            "_model_name": "LayoutModel",
            "justify_items": null,
            "grid_row": null,
            "max_height": null,
            "align_content": null,
            "visibility": null,
            "align_self": null,
            "height": null,
            "min_height": null,
            "padding": null,
            "grid_auto_rows": null,
            "grid_gap": null,
            "max_width": null,
            "order": null,
            "_view_module_version": "1.2.0",
            "grid_template_areas": null,
            "object_position": null,
            "object_fit": null,
            "grid_auto_columns": null,
            "margin": null,
            "display": null,
            "left": null
          }
        },
        "a1090d078a0a463d8ba53b1b5498d727": {
          "model_module": "@jupyter-widgets/controls",
          "model_name": "DescriptionStyleModel",
          "state": {
            "_view_name": "StyleView",
            "_model_name": "DescriptionStyleModel",
            "description_width": "",
            "_view_module": "@jupyter-widgets/base",
            "_model_module_version": "1.5.0",
            "_view_count": null,
            "_view_module_version": "1.2.0",
            "_model_module": "@jupyter-widgets/controls"
          }
        },
        "2d35a03809b44a1297b9c92e2f332f2a": {
          "model_module": "@jupyter-widgets/base",
          "model_name": "LayoutModel",
          "state": {
            "_view_name": "LayoutView",
            "grid_template_rows": null,
            "right": null,
            "justify_content": null,
            "_view_module": "@jupyter-widgets/base",
            "overflow": null,
            "_model_module_version": "1.2.0",
            "_view_count": null,
            "flex_flow": null,
            "width": null,
            "min_width": null,
            "border": null,
            "align_items": null,
            "bottom": null,
            "_model_module": "@jupyter-widgets/base",
            "top": null,
            "grid_column": null,
            "overflow_y": null,
            "overflow_x": null,
            "grid_auto_flow": null,
            "grid_area": null,
            "grid_template_columns": null,
            "flex": null,
            "_model_name": "LayoutModel",
            "justify_items": null,
            "grid_row": null,
            "max_height": null,
            "align_content": null,
            "visibility": null,
            "align_self": null,
            "height": null,
            "min_height": null,
            "padding": null,
            "grid_auto_rows": null,
            "grid_gap": null,
            "max_width": null,
            "order": null,
            "_view_module_version": "1.2.0",
            "grid_template_areas": null,
            "object_position": null,
            "object_fit": null,
            "grid_auto_columns": null,
            "margin": null,
            "display": null,
            "left": null
          }
        },
        "9083df5f8598440881f2517fe4b9e121": {
          "model_module": "@jupyter-widgets/controls",
          "model_name": "HBoxModel",
          "state": {
            "_view_name": "HBoxView",
            "_dom_classes": [],
            "_model_name": "HBoxModel",
            "_view_module": "@jupyter-widgets/controls",
            "_model_module_version": "1.5.0",
            "_view_count": null,
            "_view_module_version": "1.5.0",
            "box_style": "",
            "layout": "IPY_MODEL_9cbadc2389924584acf1114eaf109adb",
            "_model_module": "@jupyter-widgets/controls",
            "children": [
              "IPY_MODEL_9251768577c04ae0928c0a5bff3b2577",
              "IPY_MODEL_bc4960710ea142c78f04ef88771e278d"
            ]
          }
        },
        "9cbadc2389924584acf1114eaf109adb": {
          "model_module": "@jupyter-widgets/base",
          "model_name": "LayoutModel",
          "state": {
            "_view_name": "LayoutView",
            "grid_template_rows": null,
            "right": null,
            "justify_content": null,
            "_view_module": "@jupyter-widgets/base",
            "overflow": null,
            "_model_module_version": "1.2.0",
            "_view_count": null,
            "flex_flow": null,
            "width": null,
            "min_width": null,
            "border": null,
            "align_items": null,
            "bottom": null,
            "_model_module": "@jupyter-widgets/base",
            "top": null,
            "grid_column": null,
            "overflow_y": null,
            "overflow_x": null,
            "grid_auto_flow": null,
            "grid_area": null,
            "grid_template_columns": null,
            "flex": null,
            "_model_name": "LayoutModel",
            "justify_items": null,
            "grid_row": null,
            "max_height": null,
            "align_content": null,
            "visibility": null,
            "align_self": null,
            "height": null,
            "min_height": null,
            "padding": null,
            "grid_auto_rows": null,
            "grid_gap": null,
            "max_width": null,
            "order": null,
            "_view_module_version": "1.2.0",
            "grid_template_areas": null,
            "object_position": null,
            "object_fit": null,
            "grid_auto_columns": null,
            "margin": null,
            "display": null,
            "left": null
          }
        },
        "9251768577c04ae0928c0a5bff3b2577": {
          "model_module": "@jupyter-widgets/controls",
          "model_name": "FloatProgressModel",
          "state": {
            "_view_name": "ProgressView",
            "style": "IPY_MODEL_460063580d30468c849c740732a25d12",
            "_dom_classes": [],
            "description": "Downloading: 100%",
            "_model_name": "FloatProgressModel",
            "bar_style": "success",
            "max": 1222317369,
            "_view_module": "@jupyter-widgets/controls",
            "_model_module_version": "1.5.0",
            "value": 1222317369,
            "_view_count": null,
            "_view_module_version": "1.5.0",
            "orientation": "horizontal",
            "min": 0,
            "description_tooltip": null,
            "_model_module": "@jupyter-widgets/controls",
            "layout": "IPY_MODEL_ff23c06c27a548b29b0e642db221eda2"
          }
        },
        "bc4960710ea142c78f04ef88771e278d": {
          "model_module": "@jupyter-widgets/controls",
          "model_name": "HTMLModel",
          "state": {
            "_view_name": "HTMLView",
            "style": "IPY_MODEL_6831cab86e7843f186a9bff9e31427e3",
            "_dom_classes": [],
            "description": "",
            "_model_name": "HTMLModel",
            "placeholder": "​",
            "_view_module": "@jupyter-widgets/controls",
            "_model_module_version": "1.5.0",
            "value": " 1.22G/1.22G [00:32&lt;00:00, 38.1MB/s]",
            "_view_count": null,
            "_view_module_version": "1.5.0",
            "description_tooltip": null,
            "_model_module": "@jupyter-widgets/controls",
            "layout": "IPY_MODEL_bbcac5a2f44c43cd8f6d78396617e7e6"
          }
        },
        "460063580d30468c849c740732a25d12": {
          "model_module": "@jupyter-widgets/controls",
          "model_name": "ProgressStyleModel",
          "state": {
            "_view_name": "StyleView",
            "_model_name": "ProgressStyleModel",
            "description_width": "initial",
            "_view_module": "@jupyter-widgets/base",
            "_model_module_version": "1.5.0",
            "_view_count": null,
            "_view_module_version": "1.2.0",
            "bar_color": null,
            "_model_module": "@jupyter-widgets/controls"
          }
        },
        "ff23c06c27a548b29b0e642db221eda2": {
          "model_module": "@jupyter-widgets/base",
          "model_name": "LayoutModel",
          "state": {
            "_view_name": "LayoutView",
            "grid_template_rows": null,
            "right": null,
            "justify_content": null,
            "_view_module": "@jupyter-widgets/base",
            "overflow": null,
            "_model_module_version": "1.2.0",
            "_view_count": null,
            "flex_flow": null,
            "width": null,
            "min_width": null,
            "border": null,
            "align_items": null,
            "bottom": null,
            "_model_module": "@jupyter-widgets/base",
            "top": null,
            "grid_column": null,
            "overflow_y": null,
            "overflow_x": null,
            "grid_auto_flow": null,
            "grid_area": null,
            "grid_template_columns": null,
            "flex": null,
            "_model_name": "LayoutModel",
            "justify_items": null,
            "grid_row": null,
            "max_height": null,
            "align_content": null,
            "visibility": null,
            "align_self": null,
            "height": null,
            "min_height": null,
            "padding": null,
            "grid_auto_rows": null,
            "grid_gap": null,
            "max_width": null,
            "order": null,
            "_view_module_version": "1.2.0",
            "grid_template_areas": null,
            "object_position": null,
            "object_fit": null,
            "grid_auto_columns": null,
            "margin": null,
            "display": null,
            "left": null
          }
        },
        "6831cab86e7843f186a9bff9e31427e3": {
          "model_module": "@jupyter-widgets/controls",
          "model_name": "DescriptionStyleModel",
          "state": {
            "_view_name": "StyleView",
            "_model_name": "DescriptionStyleModel",
            "description_width": "",
            "_view_module": "@jupyter-widgets/base",
            "_model_module_version": "1.5.0",
            "_view_count": null,
            "_view_module_version": "1.2.0",
            "_model_module": "@jupyter-widgets/controls"
          }
        },
        "bbcac5a2f44c43cd8f6d78396617e7e6": {
          "model_module": "@jupyter-widgets/base",
          "model_name": "LayoutModel",
          "state": {
            "_view_name": "LayoutView",
            "grid_template_rows": null,
            "right": null,
            "justify_content": null,
            "_view_module": "@jupyter-widgets/base",
            "overflow": null,
            "_model_module_version": "1.2.0",
            "_view_count": null,
            "flex_flow": null,
            "width": null,
            "min_width": null,
            "border": null,
            "align_items": null,
            "bottom": null,
            "_model_module": "@jupyter-widgets/base",
            "top": null,
            "grid_column": null,
            "overflow_y": null,
            "overflow_x": null,
            "grid_auto_flow": null,
            "grid_area": null,
            "grid_template_columns": null,
            "flex": null,
            "_model_name": "LayoutModel",
            "justify_items": null,
            "grid_row": null,
            "max_height": null,
            "align_content": null,
            "visibility": null,
            "align_self": null,
            "height": null,
            "min_height": null,
            "padding": null,
            "grid_auto_rows": null,
            "grid_gap": null,
            "max_width": null,
            "order": null,
            "_view_module_version": "1.2.0",
            "grid_template_areas": null,
            "object_position": null,
            "object_fit": null,
            "grid_auto_columns": null,
            "margin": null,
            "display": null,
            "left": null
          }
        },
        "498795ece60448ba8aa5aa0b588656b5": {
          "model_module": "@jupyter-widgets/controls",
          "model_name": "HBoxModel",
          "state": {
            "_view_name": "HBoxView",
            "_dom_classes": [],
            "_model_name": "HBoxModel",
            "_view_module": "@jupyter-widgets/controls",
            "_model_module_version": "1.5.0",
            "_view_count": null,
            "_view_module_version": "1.5.0",
            "box_style": "",
            "layout": "IPY_MODEL_0abee6b999144eb9bd3502a4b795a7dc",
            "_model_module": "@jupyter-widgets/controls",
            "children": [
              "IPY_MODEL_6731f1e5ae1b4308844a35920cbbd1c6",
              "IPY_MODEL_81cb7b2df8bd4c21a49fb5738a54b99c"
            ]
          }
        },
        "0abee6b999144eb9bd3502a4b795a7dc": {
          "model_module": "@jupyter-widgets/base",
          "model_name": "LayoutModel",
          "state": {
            "_view_name": "LayoutView",
            "grid_template_rows": null,
            "right": null,
            "justify_content": null,
            "_view_module": "@jupyter-widgets/base",
            "overflow": null,
            "_model_module_version": "1.2.0",
            "_view_count": null,
            "flex_flow": null,
            "width": null,
            "min_width": null,
            "border": null,
            "align_items": null,
            "bottom": null,
            "_model_module": "@jupyter-widgets/base",
            "top": null,
            "grid_column": null,
            "overflow_y": null,
            "overflow_x": null,
            "grid_auto_flow": null,
            "grid_area": null,
            "grid_template_columns": null,
            "flex": null,
            "_model_name": "LayoutModel",
            "justify_items": null,
            "grid_row": null,
            "max_height": null,
            "align_content": null,
            "visibility": null,
            "align_self": null,
            "height": null,
            "min_height": null,
            "padding": null,
            "grid_auto_rows": null,
            "grid_gap": null,
            "max_width": null,
            "order": null,
            "_view_module_version": "1.2.0",
            "grid_template_areas": null,
            "object_position": null,
            "object_fit": null,
            "grid_auto_columns": null,
            "margin": null,
            "display": null,
            "left": null
          }
        },
        "6731f1e5ae1b4308844a35920cbbd1c6": {
          "model_module": "@jupyter-widgets/controls",
          "model_name": "FloatProgressModel",
          "state": {
            "_view_name": "ProgressView",
            "style": "IPY_MODEL_1531ae68a25c4fd8bd2b8de5ad4f0cbf",
            "_dom_classes": [],
            "description": "Downloading: 100%",
            "_model_name": "FloatProgressModel",
            "bar_style": "success",
            "max": 898822,
            "_view_module": "@jupyter-widgets/controls",
            "_model_module_version": "1.5.0",
            "value": 898822,
            "_view_count": null,
            "_view_module_version": "1.5.0",
            "orientation": "horizontal",
            "min": 0,
            "description_tooltip": null,
            "_model_module": "@jupyter-widgets/controls",
            "layout": "IPY_MODEL_332af241cf804ee3aa9ecf6844bf93a7"
          }
        },
        "81cb7b2df8bd4c21a49fb5738a54b99c": {
          "model_module": "@jupyter-widgets/controls",
          "model_name": "HTMLModel",
          "state": {
            "_view_name": "HTMLView",
            "style": "IPY_MODEL_6b3f6b91523644c1bc25a41e545e5d57",
            "_dom_classes": [],
            "description": "",
            "_model_name": "HTMLModel",
            "placeholder": "​",
            "_view_module": "@jupyter-widgets/controls",
            "_model_module_version": "1.5.0",
            "value": " 899k/899k [00:05&lt;00:00, 163kB/s]",
            "_view_count": null,
            "_view_module_version": "1.5.0",
            "description_tooltip": null,
            "_model_module": "@jupyter-widgets/controls",
            "layout": "IPY_MODEL_4d88b0a781dc44a4b86ad11cfe8683db"
          }
        },
        "1531ae68a25c4fd8bd2b8de5ad4f0cbf": {
          "model_module": "@jupyter-widgets/controls",
          "model_name": "ProgressStyleModel",
          "state": {
            "_view_name": "StyleView",
            "_model_name": "ProgressStyleModel",
            "description_width": "initial",
            "_view_module": "@jupyter-widgets/base",
            "_model_module_version": "1.5.0",
            "_view_count": null,
            "_view_module_version": "1.2.0",
            "bar_color": null,
            "_model_module": "@jupyter-widgets/controls"
          }
        },
        "332af241cf804ee3aa9ecf6844bf93a7": {
          "model_module": "@jupyter-widgets/base",
          "model_name": "LayoutModel",
          "state": {
            "_view_name": "LayoutView",
            "grid_template_rows": null,
            "right": null,
            "justify_content": null,
            "_view_module": "@jupyter-widgets/base",
            "overflow": null,
            "_model_module_version": "1.2.0",
            "_view_count": null,
            "flex_flow": null,
            "width": null,
            "min_width": null,
            "border": null,
            "align_items": null,
            "bottom": null,
            "_model_module": "@jupyter-widgets/base",
            "top": null,
            "grid_column": null,
            "overflow_y": null,
            "overflow_x": null,
            "grid_auto_flow": null,
            "grid_area": null,
            "grid_template_columns": null,
            "flex": null,
            "_model_name": "LayoutModel",
            "justify_items": null,
            "grid_row": null,
            "max_height": null,
            "align_content": null,
            "visibility": null,
            "align_self": null,
            "height": null,
            "min_height": null,
            "padding": null,
            "grid_auto_rows": null,
            "grid_gap": null,
            "max_width": null,
            "order": null,
            "_view_module_version": "1.2.0",
            "grid_template_areas": null,
            "object_position": null,
            "object_fit": null,
            "grid_auto_columns": null,
            "margin": null,
            "display": null,
            "left": null
          }
        },
        "6b3f6b91523644c1bc25a41e545e5d57": {
          "model_module": "@jupyter-widgets/controls",
          "model_name": "DescriptionStyleModel",
          "state": {
            "_view_name": "StyleView",
            "_model_name": "DescriptionStyleModel",
            "description_width": "",
            "_view_module": "@jupyter-widgets/base",
            "_model_module_version": "1.5.0",
            "_view_count": null,
            "_view_module_version": "1.2.0",
            "_model_module": "@jupyter-widgets/controls"
          }
        },
        "4d88b0a781dc44a4b86ad11cfe8683db": {
          "model_module": "@jupyter-widgets/base",
          "model_name": "LayoutModel",
          "state": {
            "_view_name": "LayoutView",
            "grid_template_rows": null,
            "right": null,
            "justify_content": null,
            "_view_module": "@jupyter-widgets/base",
            "overflow": null,
            "_model_module_version": "1.2.0",
            "_view_count": null,
            "flex_flow": null,
            "width": null,
            "min_width": null,
            "border": null,
            "align_items": null,
            "bottom": null,
            "_model_module": "@jupyter-widgets/base",
            "top": null,
            "grid_column": null,
            "overflow_y": null,
            "overflow_x": null,
            "grid_auto_flow": null,
            "grid_area": null,
            "grid_template_columns": null,
            "flex": null,
            "_model_name": "LayoutModel",
            "justify_items": null,
            "grid_row": null,
            "max_height": null,
            "align_content": null,
            "visibility": null,
            "align_self": null,
            "height": null,
            "min_height": null,
            "padding": null,
            "grid_auto_rows": null,
            "grid_gap": null,
            "max_width": null,
            "order": null,
            "_view_module_version": "1.2.0",
            "grid_template_areas": null,
            "object_position": null,
            "object_fit": null,
            "grid_auto_columns": null,
            "margin": null,
            "display": null,
            "left": null
          }
        },
        "1c285ae7c2674b9692911e5a64c96aa9": {
          "model_module": "@jupyter-widgets/controls",
          "model_name": "HBoxModel",
          "state": {
            "_view_name": "HBoxView",
            "_dom_classes": [],
            "_model_name": "HBoxModel",
            "_view_module": "@jupyter-widgets/controls",
            "_model_module_version": "1.5.0",
            "_view_count": null,
            "_view_module_version": "1.5.0",
            "box_style": "",
            "layout": "IPY_MODEL_db48afb91acb4246a855fd285cb28402",
            "_model_module": "@jupyter-widgets/controls",
            "children": [
              "IPY_MODEL_f097ebea3e5645d184cf86918a8172ca",
              "IPY_MODEL_19665c395b9a4dc5bec4b6ed4bb1f094"
            ]
          }
        },
        "db48afb91acb4246a855fd285cb28402": {
          "model_module": "@jupyter-widgets/base",
          "model_name": "LayoutModel",
          "state": {
            "_view_name": "LayoutView",
            "grid_template_rows": null,
            "right": null,
            "justify_content": null,
            "_view_module": "@jupyter-widgets/base",
            "overflow": null,
            "_model_module_version": "1.2.0",
            "_view_count": null,
            "flex_flow": null,
            "width": null,
            "min_width": null,
            "border": null,
            "align_items": null,
            "bottom": null,
            "_model_module": "@jupyter-widgets/base",
            "top": null,
            "grid_column": null,
            "overflow_y": null,
            "overflow_x": null,
            "grid_auto_flow": null,
            "grid_area": null,
            "grid_template_columns": null,
            "flex": null,
            "_model_name": "LayoutModel",
            "justify_items": null,
            "grid_row": null,
            "max_height": null,
            "align_content": null,
            "visibility": null,
            "align_self": null,
            "height": null,
            "min_height": null,
            "padding": null,
            "grid_auto_rows": null,
            "grid_gap": null,
            "max_width": null,
            "order": null,
            "_view_module_version": "1.2.0",
            "grid_template_areas": null,
            "object_position": null,
            "object_fit": null,
            "grid_auto_columns": null,
            "margin": null,
            "display": null,
            "left": null
          }
        },
        "f097ebea3e5645d184cf86918a8172ca": {
          "model_module": "@jupyter-widgets/controls",
          "model_name": "FloatProgressModel",
          "state": {
            "_view_name": "ProgressView",
            "style": "IPY_MODEL_b9ce5bd08c034647926368dd456d4831",
            "_dom_classes": [],
            "description": "Downloading: 100%",
            "_model_name": "FloatProgressModel",
            "bar_style": "success",
            "max": 456318,
            "_view_module": "@jupyter-widgets/controls",
            "_model_module_version": "1.5.0",
            "value": 456318,
            "_view_count": null,
            "_view_module_version": "1.5.0",
            "orientation": "horizontal",
            "min": 0,
            "description_tooltip": null,
            "_model_module": "@jupyter-widgets/controls",
            "layout": "IPY_MODEL_6fd48ed5d1ab4f9c980ea367df47afcc"
          }
        },
        "19665c395b9a4dc5bec4b6ed4bb1f094": {
          "model_module": "@jupyter-widgets/controls",
          "model_name": "HTMLModel",
          "state": {
            "_view_name": "HTMLView",
            "style": "IPY_MODEL_c37c927a8d9145ee872ecade7a0c0573",
            "_dom_classes": [],
            "description": "",
            "_model_name": "HTMLModel",
            "placeholder": "​",
            "_view_module": "@jupyter-widgets/controls",
            "_model_module_version": "1.5.0",
            "value": " 456k/456k [00:03&lt;00:00, 130kB/s]",
            "_view_count": null,
            "_view_module_version": "1.5.0",
            "description_tooltip": null,
            "_model_module": "@jupyter-widgets/controls",
            "layout": "IPY_MODEL_ce995564a8854eeb95891f367d967cdd"
          }
        },
        "b9ce5bd08c034647926368dd456d4831": {
          "model_module": "@jupyter-widgets/controls",
          "model_name": "ProgressStyleModel",
          "state": {
            "_view_name": "StyleView",
            "_model_name": "ProgressStyleModel",
            "description_width": "initial",
            "_view_module": "@jupyter-widgets/base",
            "_model_module_version": "1.5.0",
            "_view_count": null,
            "_view_module_version": "1.2.0",
            "bar_color": null,
            "_model_module": "@jupyter-widgets/controls"
          }
        },
        "6fd48ed5d1ab4f9c980ea367df47afcc": {
          "model_module": "@jupyter-widgets/base",
          "model_name": "LayoutModel",
          "state": {
            "_view_name": "LayoutView",
            "grid_template_rows": null,
            "right": null,
            "justify_content": null,
            "_view_module": "@jupyter-widgets/base",
            "overflow": null,
            "_model_module_version": "1.2.0",
            "_view_count": null,
            "flex_flow": null,
            "width": null,
            "min_width": null,
            "border": null,
            "align_items": null,
            "bottom": null,
            "_model_module": "@jupyter-widgets/base",
            "top": null,
            "grid_column": null,
            "overflow_y": null,
            "overflow_x": null,
            "grid_auto_flow": null,
            "grid_area": null,
            "grid_template_columns": null,
            "flex": null,
            "_model_name": "LayoutModel",
            "justify_items": null,
            "grid_row": null,
            "max_height": null,
            "align_content": null,
            "visibility": null,
            "align_self": null,
            "height": null,
            "min_height": null,
            "padding": null,
            "grid_auto_rows": null,
            "grid_gap": null,
            "max_width": null,
            "order": null,
            "_view_module_version": "1.2.0",
            "grid_template_areas": null,
            "object_position": null,
            "object_fit": null,
            "grid_auto_columns": null,
            "margin": null,
            "display": null,
            "left": null
          }
        },
        "c37c927a8d9145ee872ecade7a0c0573": {
          "model_module": "@jupyter-widgets/controls",
          "model_name": "DescriptionStyleModel",
          "state": {
            "_view_name": "StyleView",
            "_model_name": "DescriptionStyleModel",
            "description_width": "",
            "_view_module": "@jupyter-widgets/base",
            "_model_module_version": "1.5.0",
            "_view_count": null,
            "_view_module_version": "1.2.0",
            "_model_module": "@jupyter-widgets/controls"
          }
        },
        "ce995564a8854eeb95891f367d967cdd": {
          "model_module": "@jupyter-widgets/base",
          "model_name": "LayoutModel",
          "state": {
            "_view_name": "LayoutView",
            "grid_template_rows": null,
            "right": null,
            "justify_content": null,
            "_view_module": "@jupyter-widgets/base",
            "overflow": null,
            "_model_module_version": "1.2.0",
            "_view_count": null,
            "flex_flow": null,
            "width": null,
            "min_width": null,
            "border": null,
            "align_items": null,
            "bottom": null,
            "_model_module": "@jupyter-widgets/base",
            "top": null,
            "grid_column": null,
            "overflow_y": null,
            "overflow_x": null,
            "grid_auto_flow": null,
            "grid_area": null,
            "grid_template_columns": null,
            "flex": null,
            "_model_name": "LayoutModel",
            "justify_items": null,
            "grid_row": null,
            "max_height": null,
            "align_content": null,
            "visibility": null,
            "align_self": null,
            "height": null,
            "min_height": null,
            "padding": null,
            "grid_auto_rows": null,
            "grid_gap": null,
            "max_width": null,
            "order": null,
            "_view_module_version": "1.2.0",
            "grid_template_areas": null,
            "object_position": null,
            "object_fit": null,
            "grid_auto_columns": null,
            "margin": null,
            "display": null,
            "left": null
          }
        },
        "30c3751e86884532a4acdb39b3522665": {
          "model_module": "@jupyter-widgets/controls",
          "model_name": "HBoxModel",
          "state": {
            "_view_name": "HBoxView",
            "_dom_classes": [],
            "_model_name": "HBoxModel",
            "_view_module": "@jupyter-widgets/controls",
            "_model_module_version": "1.5.0",
            "_view_count": null,
            "_view_module_version": "1.5.0",
            "box_style": "",
            "layout": "IPY_MODEL_d5524a68d3214af798c9c25f7ff61781",
            "_model_module": "@jupyter-widgets/controls",
            "children": [
              "IPY_MODEL_7483a22095dc4e71bb8f01f29f8cfb1d",
              "IPY_MODEL_0c7607d58e684f2991fd728823159d78"
            ]
          }
        },
        "d5524a68d3214af798c9c25f7ff61781": {
          "model_module": "@jupyter-widgets/base",
          "model_name": "LayoutModel",
          "state": {
            "_view_name": "LayoutView",
            "grid_template_rows": null,
            "right": null,
            "justify_content": null,
            "_view_module": "@jupyter-widgets/base",
            "overflow": null,
            "_model_module_version": "1.2.0",
            "_view_count": null,
            "flex_flow": null,
            "width": null,
            "min_width": null,
            "border": null,
            "align_items": null,
            "bottom": null,
            "_model_module": "@jupyter-widgets/base",
            "top": null,
            "grid_column": null,
            "overflow_y": null,
            "overflow_x": null,
            "grid_auto_flow": null,
            "grid_area": null,
            "grid_template_columns": null,
            "flex": null,
            "_model_name": "LayoutModel",
            "justify_items": null,
            "grid_row": null,
            "max_height": null,
            "align_content": null,
            "visibility": null,
            "align_self": null,
            "height": null,
            "min_height": null,
            "padding": null,
            "grid_auto_rows": null,
            "grid_gap": null,
            "max_width": null,
            "order": null,
            "_view_module_version": "1.2.0",
            "grid_template_areas": null,
            "object_position": null,
            "object_fit": null,
            "grid_auto_columns": null,
            "margin": null,
            "display": null,
            "left": null
          }
        },
        "7483a22095dc4e71bb8f01f29f8cfb1d": {
          "model_module": "@jupyter-widgets/controls",
          "model_name": "FloatProgressModel",
          "state": {
            "_view_name": "ProgressView",
            "style": "IPY_MODEL_69a509fe2677413ca884157ec53525ee",
            "_dom_classes": [],
            "description": "Downloading: 100%",
            "_model_name": "FloatProgressModel",
            "bar_style": "success",
            "max": 26,
            "_view_module": "@jupyter-widgets/controls",
            "_model_module_version": "1.5.0",
            "value": 26,
            "_view_count": null,
            "_view_module_version": "1.5.0",
            "orientation": "horizontal",
            "min": 0,
            "description_tooltip": null,
            "_model_module": "@jupyter-widgets/controls",
            "layout": "IPY_MODEL_e7a6eb3dcf3a433eb7f6309c85e5198f"
          }
        },
        "0c7607d58e684f2991fd728823159d78": {
          "model_module": "@jupyter-widgets/controls",
          "model_name": "HTMLModel",
          "state": {
            "_view_name": "HTMLView",
            "style": "IPY_MODEL_88d50e1a2f8f483aac1c88ab48f8105c",
            "_dom_classes": [],
            "description": "",
            "_model_name": "HTMLModel",
            "placeholder": "​",
            "_view_module": "@jupyter-widgets/controls",
            "_model_module_version": "1.5.0",
            "value": " 26.0/26.0 [00:00&lt;00:00, 227B/s]",
            "_view_count": null,
            "_view_module_version": "1.5.0",
            "description_tooltip": null,
            "_model_module": "@jupyter-widgets/controls",
            "layout": "IPY_MODEL_4c74e112aaab48c5915331d08671017c"
          }
        },
        "69a509fe2677413ca884157ec53525ee": {
          "model_module": "@jupyter-widgets/controls",
          "model_name": "ProgressStyleModel",
          "state": {
            "_view_name": "StyleView",
            "_model_name": "ProgressStyleModel",
            "description_width": "initial",
            "_view_module": "@jupyter-widgets/base",
            "_model_module_version": "1.5.0",
            "_view_count": null,
            "_view_module_version": "1.2.0",
            "bar_color": null,
            "_model_module": "@jupyter-widgets/controls"
          }
        },
        "e7a6eb3dcf3a433eb7f6309c85e5198f": {
          "model_module": "@jupyter-widgets/base",
          "model_name": "LayoutModel",
          "state": {
            "_view_name": "LayoutView",
            "grid_template_rows": null,
            "right": null,
            "justify_content": null,
            "_view_module": "@jupyter-widgets/base",
            "overflow": null,
            "_model_module_version": "1.2.0",
            "_view_count": null,
            "flex_flow": null,
            "width": null,
            "min_width": null,
            "border": null,
            "align_items": null,
            "bottom": null,
            "_model_module": "@jupyter-widgets/base",
            "top": null,
            "grid_column": null,
            "overflow_y": null,
            "overflow_x": null,
            "grid_auto_flow": null,
            "grid_area": null,
            "grid_template_columns": null,
            "flex": null,
            "_model_name": "LayoutModel",
            "justify_items": null,
            "grid_row": null,
            "max_height": null,
            "align_content": null,
            "visibility": null,
            "align_self": null,
            "height": null,
            "min_height": null,
            "padding": null,
            "grid_auto_rows": null,
            "grid_gap": null,
            "max_width": null,
            "order": null,
            "_view_module_version": "1.2.0",
            "grid_template_areas": null,
            "object_position": null,
            "object_fit": null,
            "grid_auto_columns": null,
            "margin": null,
            "display": null,
            "left": null
          }
        },
        "88d50e1a2f8f483aac1c88ab48f8105c": {
          "model_module": "@jupyter-widgets/controls",
          "model_name": "DescriptionStyleModel",
          "state": {
            "_view_name": "StyleView",
            "_model_name": "DescriptionStyleModel",
            "description_width": "",
            "_view_module": "@jupyter-widgets/base",
            "_model_module_version": "1.5.0",
            "_view_count": null,
            "_view_module_version": "1.2.0",
            "_model_module": "@jupyter-widgets/controls"
          }
        },
        "4c74e112aaab48c5915331d08671017c": {
          "model_module": "@jupyter-widgets/base",
          "model_name": "LayoutModel",
          "state": {
            "_view_name": "LayoutView",
            "grid_template_rows": null,
            "right": null,
            "justify_content": null,
            "_view_module": "@jupyter-widgets/base",
            "overflow": null,
            "_model_module_version": "1.2.0",
            "_view_count": null,
            "flex_flow": null,
            "width": null,
            "min_width": null,
            "border": null,
            "align_items": null,
            "bottom": null,
            "_model_module": "@jupyter-widgets/base",
            "top": null,
            "grid_column": null,
            "overflow_y": null,
            "overflow_x": null,
            "grid_auto_flow": null,
            "grid_area": null,
            "grid_template_columns": null,
            "flex": null,
            "_model_name": "LayoutModel",
            "justify_items": null,
            "grid_row": null,
            "max_height": null,
            "align_content": null,
            "visibility": null,
            "align_self": null,
            "height": null,
            "min_height": null,
            "padding": null,
            "grid_auto_rows": null,
            "grid_gap": null,
            "max_width": null,
            "order": null,
            "_view_module_version": "1.2.0",
            "grid_template_areas": null,
            "object_position": null,
            "object_fit": null,
            "grid_auto_columns": null,
            "margin": null,
            "display": null,
            "left": null
          }
        },
        "34c04688d9f94a7488edff138eadedfa": {
          "model_module": "@jupyter-widgets/controls",
          "model_name": "HBoxModel",
          "state": {
            "_view_name": "HBoxView",
            "_dom_classes": [],
            "_model_name": "HBoxModel",
            "_view_module": "@jupyter-widgets/controls",
            "_model_module_version": "1.5.0",
            "_view_count": null,
            "_view_module_version": "1.5.0",
            "box_style": "",
            "layout": "IPY_MODEL_74befe416f5f4484b8737cd396b6eefd",
            "_model_module": "@jupyter-widgets/controls",
            "children": [
              "IPY_MODEL_3f6b48cfc37c46f9b5848c21300ab5c4",
              "IPY_MODEL_1803491dd1ed4685bac1277e90fdafbf"
            ]
          }
        },
        "74befe416f5f4484b8737cd396b6eefd": {
          "model_module": "@jupyter-widgets/base",
          "model_name": "LayoutModel",
          "state": {
            "_view_name": "LayoutView",
            "grid_template_rows": null,
            "right": null,
            "justify_content": null,
            "_view_module": "@jupyter-widgets/base",
            "overflow": null,
            "_model_module_version": "1.2.0",
            "_view_count": null,
            "flex_flow": null,
            "width": null,
            "min_width": null,
            "border": null,
            "align_items": null,
            "bottom": null,
            "_model_module": "@jupyter-widgets/base",
            "top": null,
            "grid_column": null,
            "overflow_y": null,
            "overflow_x": null,
            "grid_auto_flow": null,
            "grid_area": null,
            "grid_template_columns": null,
            "flex": null,
            "_model_name": "LayoutModel",
            "justify_items": null,
            "grid_row": null,
            "max_height": null,
            "align_content": null,
            "visibility": null,
            "align_self": null,
            "height": null,
            "min_height": null,
            "padding": null,
            "grid_auto_rows": null,
            "grid_gap": null,
            "max_width": null,
            "order": null,
            "_view_module_version": "1.2.0",
            "grid_template_areas": null,
            "object_position": null,
            "object_fit": null,
            "grid_auto_columns": null,
            "margin": null,
            "display": null,
            "left": null
          }
        },
        "3f6b48cfc37c46f9b5848c21300ab5c4": {
          "model_module": "@jupyter-widgets/controls",
          "model_name": "FloatProgressModel",
          "state": {
            "_view_name": "ProgressView",
            "style": "IPY_MODEL_eb254e49b4f2452c81b7ad9eed7769ca",
            "_dom_classes": [],
            "description": "Downloading: 100%",
            "_model_name": "FloatProgressModel",
            "bar_style": "success",
            "max": 802397,
            "_view_module": "@jupyter-widgets/controls",
            "_model_module_version": "1.5.0",
            "value": 802397,
            "_view_count": null,
            "_view_module_version": "1.5.0",
            "orientation": "horizontal",
            "min": 0,
            "description_tooltip": null,
            "_model_module": "@jupyter-widgets/controls",
            "layout": "IPY_MODEL_2c5a3c4f0d0d4e8c80a14ab9fcac413b"
          }
        },
        "1803491dd1ed4685bac1277e90fdafbf": {
          "model_module": "@jupyter-widgets/controls",
          "model_name": "HTMLModel",
          "state": {
            "_view_name": "HTMLView",
            "style": "IPY_MODEL_15642ee8d3504b989e56f3ed0be2d6b0",
            "_dom_classes": [],
            "description": "",
            "_model_name": "HTMLModel",
            "placeholder": "​",
            "_view_module": "@jupyter-widgets/controls",
            "_model_module_version": "1.5.0",
            "value": " 802k/802k [00:09&lt;00:00, 82.9kB/s]",
            "_view_count": null,
            "_view_module_version": "1.5.0",
            "description_tooltip": null,
            "_model_module": "@jupyter-widgets/controls",
            "layout": "IPY_MODEL_cfaa7e7dc8c945f988fcfeca2befdab0"
          }
        },
        "eb254e49b4f2452c81b7ad9eed7769ca": {
          "model_module": "@jupyter-widgets/controls",
          "model_name": "ProgressStyleModel",
          "state": {
            "_view_name": "StyleView",
            "_model_name": "ProgressStyleModel",
            "description_width": "initial",
            "_view_module": "@jupyter-widgets/base",
            "_model_module_version": "1.5.0",
            "_view_count": null,
            "_view_module_version": "1.2.0",
            "bar_color": null,
            "_model_module": "@jupyter-widgets/controls"
          }
        },
        "2c5a3c4f0d0d4e8c80a14ab9fcac413b": {
          "model_module": "@jupyter-widgets/base",
          "model_name": "LayoutModel",
          "state": {
            "_view_name": "LayoutView",
            "grid_template_rows": null,
            "right": null,
            "justify_content": null,
            "_view_module": "@jupyter-widgets/base",
            "overflow": null,
            "_model_module_version": "1.2.0",
            "_view_count": null,
            "flex_flow": null,
            "width": null,
            "min_width": null,
            "border": null,
            "align_items": null,
            "bottom": null,
            "_model_module": "@jupyter-widgets/base",
            "top": null,
            "grid_column": null,
            "overflow_y": null,
            "overflow_x": null,
            "grid_auto_flow": null,
            "grid_area": null,
            "grid_template_columns": null,
            "flex": null,
            "_model_name": "LayoutModel",
            "justify_items": null,
            "grid_row": null,
            "max_height": null,
            "align_content": null,
            "visibility": null,
            "align_self": null,
            "height": null,
            "min_height": null,
            "padding": null,
            "grid_auto_rows": null,
            "grid_gap": null,
            "max_width": null,
            "order": null,
            "_view_module_version": "1.2.0",
            "grid_template_areas": null,
            "object_position": null,
            "object_fit": null,
            "grid_auto_columns": null,
            "margin": null,
            "display": null,
            "left": null
          }
        },
        "15642ee8d3504b989e56f3ed0be2d6b0": {
          "model_module": "@jupyter-widgets/controls",
          "model_name": "DescriptionStyleModel",
          "state": {
            "_view_name": "StyleView",
            "_model_name": "DescriptionStyleModel",
            "description_width": "",
            "_view_module": "@jupyter-widgets/base",
            "_model_module_version": "1.5.0",
            "_view_count": null,
            "_view_module_version": "1.2.0",
            "_model_module": "@jupyter-widgets/controls"
          }
        },
        "cfaa7e7dc8c945f988fcfeca2befdab0": {
          "model_module": "@jupyter-widgets/base",
          "model_name": "LayoutModel",
          "state": {
            "_view_name": "LayoutView",
            "grid_template_rows": null,
            "right": null,
            "justify_content": null,
            "_view_module": "@jupyter-widgets/base",
            "overflow": null,
            "_model_module_version": "1.2.0",
            "_view_count": null,
            "flex_flow": null,
            "width": null,
            "min_width": null,
            "border": null,
            "align_items": null,
            "bottom": null,
            "_model_module": "@jupyter-widgets/base",
            "top": null,
            "grid_column": null,
            "overflow_y": null,
            "overflow_x": null,
            "grid_auto_flow": null,
            "grid_area": null,
            "grid_template_columns": null,
            "flex": null,
            "_model_name": "LayoutModel",
            "justify_items": null,
            "grid_row": null,
            "max_height": null,
            "align_content": null,
            "visibility": null,
            "align_self": null,
            "height": null,
            "min_height": null,
            "padding": null,
            "grid_auto_rows": null,
            "grid_gap": null,
            "max_width": null,
            "order": null,
            "_view_module_version": "1.2.0",
            "grid_template_areas": null,
            "object_position": null,
            "object_fit": null,
            "grid_auto_columns": null,
            "margin": null,
            "display": null,
            "left": null
          }
        },
        "90e12147cf8c4892871ab3d2e0287f42": {
          "model_module": "@jupyter-widgets/controls",
          "model_name": "HBoxModel",
          "state": {
            "_view_name": "HBoxView",
            "_dom_classes": [],
            "_model_name": "HBoxModel",
            "_view_module": "@jupyter-widgets/controls",
            "_model_module_version": "1.5.0",
            "_view_count": null,
            "_view_module_version": "1.5.0",
            "box_style": "",
            "layout": "IPY_MODEL_5e62a078876b4644ac68aae69fea529b",
            "_model_module": "@jupyter-widgets/controls",
            "children": [
              "IPY_MODEL_7d70a805926e43bcb7c4312f957a80fd",
              "IPY_MODEL_96a0b626e8964b3da21902573bd7facc"
            ]
          }
        },
        "5e62a078876b4644ac68aae69fea529b": {
          "model_module": "@jupyter-widgets/base",
          "model_name": "LayoutModel",
          "state": {
            "_view_name": "LayoutView",
            "grid_template_rows": null,
            "right": null,
            "justify_content": null,
            "_view_module": "@jupyter-widgets/base",
            "overflow": null,
            "_model_module_version": "1.2.0",
            "_view_count": null,
            "flex_flow": null,
            "width": null,
            "min_width": null,
            "border": null,
            "align_items": null,
            "bottom": null,
            "_model_module": "@jupyter-widgets/base",
            "top": null,
            "grid_column": null,
            "overflow_y": null,
            "overflow_x": null,
            "grid_auto_flow": null,
            "grid_area": null,
            "grid_template_columns": null,
            "flex": null,
            "_model_name": "LayoutModel",
            "justify_items": null,
            "grid_row": null,
            "max_height": null,
            "align_content": null,
            "visibility": null,
            "align_self": null,
            "height": null,
            "min_height": null,
            "padding": null,
            "grid_auto_rows": null,
            "grid_gap": null,
            "max_width": null,
            "order": null,
            "_view_module_version": "1.2.0",
            "grid_template_areas": null,
            "object_position": null,
            "object_fit": null,
            "grid_auto_columns": null,
            "margin": null,
            "display": null,
            "left": null
          }
        },
        "7d70a805926e43bcb7c4312f957a80fd": {
          "model_module": "@jupyter-widgets/controls",
          "model_name": "FloatProgressModel",
          "state": {
            "_view_name": "ProgressView",
            "style": "IPY_MODEL_47797ef2cdee464dae2e28c3092e649b",
            "_dom_classes": [],
            "description": "Downloading: 100%",
            "_model_name": "FloatProgressModel",
            "bar_style": "success",
            "max": 778395,
            "_view_module": "@jupyter-widgets/controls",
            "_model_module_version": "1.5.0",
            "value": 778395,
            "_view_count": null,
            "_view_module_version": "1.5.0",
            "orientation": "horizontal",
            "min": 0,
            "description_tooltip": null,
            "_model_module": "@jupyter-widgets/controls",
            "layout": "IPY_MODEL_bb39c7c280e34c219645583eb564e9f9"
          }
        },
        "96a0b626e8964b3da21902573bd7facc": {
          "model_module": "@jupyter-widgets/controls",
          "model_name": "HTMLModel",
          "state": {
            "_view_name": "HTMLView",
            "style": "IPY_MODEL_5a1bd35403af4bb9b8a18716bd4e2e49",
            "_dom_classes": [],
            "description": "",
            "_model_name": "HTMLModel",
            "placeholder": "​",
            "_view_module": "@jupyter-widgets/controls",
            "_model_module_version": "1.5.0",
            "value": " 778k/778k [00:01&lt;00:00, 390kB/s]",
            "_view_count": null,
            "_view_module_version": "1.5.0",
            "description_tooltip": null,
            "_model_module": "@jupyter-widgets/controls",
            "layout": "IPY_MODEL_808348ec46404ef0b2662042d51373f3"
          }
        },
        "47797ef2cdee464dae2e28c3092e649b": {
          "model_module": "@jupyter-widgets/controls",
          "model_name": "ProgressStyleModel",
          "state": {
            "_view_name": "StyleView",
            "_model_name": "ProgressStyleModel",
            "description_width": "initial",
            "_view_module": "@jupyter-widgets/base",
            "_model_module_version": "1.5.0",
            "_view_count": null,
            "_view_module_version": "1.2.0",
            "bar_color": null,
            "_model_module": "@jupyter-widgets/controls"
          }
        },
        "bb39c7c280e34c219645583eb564e9f9": {
          "model_module": "@jupyter-widgets/base",
          "model_name": "LayoutModel",
          "state": {
            "_view_name": "LayoutView",
            "grid_template_rows": null,
            "right": null,
            "justify_content": null,
            "_view_module": "@jupyter-widgets/base",
            "overflow": null,
            "_model_module_version": "1.2.0",
            "_view_count": null,
            "flex_flow": null,
            "width": null,
            "min_width": null,
            "border": null,
            "align_items": null,
            "bottom": null,
            "_model_module": "@jupyter-widgets/base",
            "top": null,
            "grid_column": null,
            "overflow_y": null,
            "overflow_x": null,
            "grid_auto_flow": null,
            "grid_area": null,
            "grid_template_columns": null,
            "flex": null,
            "_model_name": "LayoutModel",
            "justify_items": null,
            "grid_row": null,
            "max_height": null,
            "align_content": null,
            "visibility": null,
            "align_self": null,
            "height": null,
            "min_height": null,
            "padding": null,
            "grid_auto_rows": null,
            "grid_gap": null,
            "max_width": null,
            "order": null,
            "_view_module_version": "1.2.0",
            "grid_template_areas": null,
            "object_position": null,
            "object_fit": null,
            "grid_auto_columns": null,
            "margin": null,
            "display": null,
            "left": null
          }
        },
        "5a1bd35403af4bb9b8a18716bd4e2e49": {
          "model_module": "@jupyter-widgets/controls",
          "model_name": "DescriptionStyleModel",
          "state": {
            "_view_name": "StyleView",
            "_model_name": "DescriptionStyleModel",
            "description_width": "",
            "_view_module": "@jupyter-widgets/base",
            "_model_module_version": "1.5.0",
            "_view_count": null,
            "_view_module_version": "1.2.0",
            "_model_module": "@jupyter-widgets/controls"
          }
        },
        "808348ec46404ef0b2662042d51373f3": {
          "model_module": "@jupyter-widgets/base",
          "model_name": "LayoutModel",
          "state": {
            "_view_name": "LayoutView",
            "grid_template_rows": null,
            "right": null,
            "justify_content": null,
            "_view_module": "@jupyter-widgets/base",
            "overflow": null,
            "_model_module_version": "1.2.0",
            "_view_count": null,
            "flex_flow": null,
            "width": null,
            "min_width": null,
            "border": null,
            "align_items": null,
            "bottom": null,
            "_model_module": "@jupyter-widgets/base",
            "top": null,
            "grid_column": null,
            "overflow_y": null,
            "overflow_x": null,
            "grid_auto_flow": null,
            "grid_area": null,
            "grid_template_columns": null,
            "flex": null,
            "_model_name": "LayoutModel",
            "justify_items": null,
            "grid_row": null,
            "max_height": null,
            "align_content": null,
            "visibility": null,
            "align_self": null,
            "height": null,
            "min_height": null,
            "padding": null,
            "grid_auto_rows": null,
            "grid_gap": null,
            "max_width": null,
            "order": null,
            "_view_module_version": "1.2.0",
            "grid_template_areas": null,
            "object_position": null,
            "object_fit": null,
            "grid_auto_columns": null,
            "margin": null,
            "display": null,
            "left": null
          }
        },
        "4c9910e7e71142618b287fcf38f7a33f": {
          "model_module": "@jupyter-widgets/controls",
          "model_name": "HBoxModel",
          "state": {
            "_view_name": "HBoxView",
            "_dom_classes": [],
            "_model_name": "HBoxModel",
            "_view_module": "@jupyter-widgets/controls",
            "_model_module_version": "1.5.0",
            "_view_count": null,
            "_view_module_version": "1.5.0",
            "box_style": "",
            "layout": "IPY_MODEL_d16300eb5535400f9cecf891a6c2fc7c",
            "_model_module": "@jupyter-widgets/controls",
            "children": [
              "IPY_MODEL_b42415fea74f4354ae782d9c1cf94837",
              "IPY_MODEL_5c7364782a47497d85c7e5fee55d1c0b"
            ]
          }
        },
        "d16300eb5535400f9cecf891a6c2fc7c": {
          "model_module": "@jupyter-widgets/base",
          "model_name": "LayoutModel",
          "state": {
            "_view_name": "LayoutView",
            "grid_template_rows": null,
            "right": null,
            "justify_content": null,
            "_view_module": "@jupyter-widgets/base",
            "overflow": null,
            "_model_module_version": "1.2.0",
            "_view_count": null,
            "flex_flow": null,
            "width": null,
            "min_width": null,
            "border": null,
            "align_items": null,
            "bottom": null,
            "_model_module": "@jupyter-widgets/base",
            "top": null,
            "grid_column": null,
            "overflow_y": null,
            "overflow_x": null,
            "grid_auto_flow": null,
            "grid_area": null,
            "grid_template_columns": null,
            "flex": null,
            "_model_name": "LayoutModel",
            "justify_items": null,
            "grid_row": null,
            "max_height": null,
            "align_content": null,
            "visibility": null,
            "align_self": null,
            "height": null,
            "min_height": null,
            "padding": null,
            "grid_auto_rows": null,
            "grid_gap": null,
            "max_width": null,
            "order": null,
            "_view_module_version": "1.2.0",
            "grid_template_areas": null,
            "object_position": null,
            "object_fit": null,
            "grid_auto_columns": null,
            "margin": null,
            "display": null,
            "left": null
          }
        },
        "b42415fea74f4354ae782d9c1cf94837": {
          "model_module": "@jupyter-widgets/controls",
          "model_name": "FloatProgressModel",
          "state": {
            "_view_name": "ProgressView",
            "style": "IPY_MODEL_08cc16292fa9445aaff94b0d56c064e4",
            "_dom_classes": [],
            "description": "Downloading: 100%",
            "_model_name": "FloatProgressModel",
            "bar_style": "success",
            "max": 1339166,
            "_view_module": "@jupyter-widgets/controls",
            "_model_module_version": "1.5.0",
            "value": 1339166,
            "_view_count": null,
            "_view_module_version": "1.5.0",
            "orientation": "horizontal",
            "min": 0,
            "description_tooltip": null,
            "_model_module": "@jupyter-widgets/controls",
            "layout": "IPY_MODEL_1eab11ade7ed4a129cb92522e94ccfd1"
          }
        },
        "5c7364782a47497d85c7e5fee55d1c0b": {
          "model_module": "@jupyter-widgets/controls",
          "model_name": "HTMLModel",
          "state": {
            "_view_name": "HTMLView",
            "style": "IPY_MODEL_b41861311b1b44238e3af5e9f07c8184",
            "_dom_classes": [],
            "description": "",
            "_model_name": "HTMLModel",
            "placeholder": "​",
            "_view_module": "@jupyter-widgets/controls",
            "_model_module_version": "1.5.0",
            "value": " 1.34M/1.34M [00:05&lt;00:00, 246kB/s]",
            "_view_count": null,
            "_view_module_version": "1.5.0",
            "description_tooltip": null,
            "_model_module": "@jupyter-widgets/controls",
            "layout": "IPY_MODEL_8726d1b49d1d48a3a4428bda35de58e9"
          }
        },
        "08cc16292fa9445aaff94b0d56c064e4": {
          "model_module": "@jupyter-widgets/controls",
          "model_name": "ProgressStyleModel",
          "state": {
            "_view_name": "StyleView",
            "_model_name": "ProgressStyleModel",
            "description_width": "initial",
            "_view_module": "@jupyter-widgets/base",
            "_model_module_version": "1.5.0",
            "_view_count": null,
            "_view_module_version": "1.2.0",
            "bar_color": null,
            "_model_module": "@jupyter-widgets/controls"
          }
        },
        "1eab11ade7ed4a129cb92522e94ccfd1": {
          "model_module": "@jupyter-widgets/base",
          "model_name": "LayoutModel",
          "state": {
            "_view_name": "LayoutView",
            "grid_template_rows": null,
            "right": null,
            "justify_content": null,
            "_view_module": "@jupyter-widgets/base",
            "overflow": null,
            "_model_module_version": "1.2.0",
            "_view_count": null,
            "flex_flow": null,
            "width": null,
            "min_width": null,
            "border": null,
            "align_items": null,
            "bottom": null,
            "_model_module": "@jupyter-widgets/base",
            "top": null,
            "grid_column": null,
            "overflow_y": null,
            "overflow_x": null,
            "grid_auto_flow": null,
            "grid_area": null,
            "grid_template_columns": null,
            "flex": null,
            "_model_name": "LayoutModel",
            "justify_items": null,
            "grid_row": null,
            "max_height": null,
            "align_content": null,
            "visibility": null,
            "align_self": null,
            "height": null,
            "min_height": null,
            "padding": null,
            "grid_auto_rows": null,
            "grid_gap": null,
            "max_width": null,
            "order": null,
            "_view_module_version": "1.2.0",
            "grid_template_areas": null,
            "object_position": null,
            "object_fit": null,
            "grid_auto_columns": null,
            "margin": null,
            "display": null,
            "left": null
          }
        },
        "b41861311b1b44238e3af5e9f07c8184": {
          "model_module": "@jupyter-widgets/controls",
          "model_name": "DescriptionStyleModel",
          "state": {
            "_view_name": "StyleView",
            "_model_name": "DescriptionStyleModel",
            "description_width": "",
            "_view_module": "@jupyter-widgets/base",
            "_model_module_version": "1.5.0",
            "_view_count": null,
            "_view_module_version": "1.2.0",
            "_model_module": "@jupyter-widgets/controls"
          }
        },
        "8726d1b49d1d48a3a4428bda35de58e9": {
          "model_module": "@jupyter-widgets/base",
          "model_name": "LayoutModel",
          "state": {
            "_view_name": "LayoutView",
            "grid_template_rows": null,
            "right": null,
            "justify_content": null,
            "_view_module": "@jupyter-widgets/base",
            "overflow": null,
            "_model_module_version": "1.2.0",
            "_view_count": null,
            "flex_flow": null,
            "width": null,
            "min_width": null,
            "border": null,
            "align_items": null,
            "bottom": null,
            "_model_module": "@jupyter-widgets/base",
            "top": null,
            "grid_column": null,
            "overflow_y": null,
            "overflow_x": null,
            "grid_auto_flow": null,
            "grid_area": null,
            "grid_template_columns": null,
            "flex": null,
            "_model_name": "LayoutModel",
            "justify_items": null,
            "grid_row": null,
            "max_height": null,
            "align_content": null,
            "visibility": null,
            "align_self": null,
            "height": null,
            "min_height": null,
            "padding": null,
            "grid_auto_rows": null,
            "grid_gap": null,
            "max_width": null,
            "order": null,
            "_view_module_version": "1.2.0",
            "grid_template_areas": null,
            "object_position": null,
            "object_fit": null,
            "grid_auto_columns": null,
            "margin": null,
            "display": null,
            "left": null
          }
        },
        "94e2ddd5048240588e3d703a063b99cd": {
          "model_module": "@jupyter-widgets/controls",
          "model_name": "HBoxModel",
          "state": {
            "_view_name": "HBoxView",
            "_dom_classes": [],
            "_model_name": "HBoxModel",
            "_view_module": "@jupyter-widgets/controls",
            "_model_module_version": "1.5.0",
            "_view_count": null,
            "_view_module_version": "1.5.0",
            "box_style": "",
            "layout": "IPY_MODEL_934c3edc18704f7082f07f628b688391",
            "_model_module": "@jupyter-widgets/controls",
            "children": [
              "IPY_MODEL_5b10e924a9c747c7b7a3365caccb7e70",
              "IPY_MODEL_faadb955a3e74a64a67e8a13e07fc364"
            ]
          }
        },
        "934c3edc18704f7082f07f628b688391": {
          "model_module": "@jupyter-widgets/base",
          "model_name": "LayoutModel",
          "state": {
            "_view_name": "LayoutView",
            "grid_template_rows": null,
            "right": null,
            "justify_content": null,
            "_view_module": "@jupyter-widgets/base",
            "overflow": null,
            "_model_module_version": "1.2.0",
            "_view_count": null,
            "flex_flow": null,
            "width": null,
            "min_width": null,
            "border": null,
            "align_items": null,
            "bottom": null,
            "_model_module": "@jupyter-widgets/base",
            "top": null,
            "grid_column": null,
            "overflow_y": null,
            "overflow_x": null,
            "grid_auto_flow": null,
            "grid_area": null,
            "grid_template_columns": null,
            "flex": null,
            "_model_name": "LayoutModel",
            "justify_items": null,
            "grid_row": null,
            "max_height": null,
            "align_content": null,
            "visibility": null,
            "align_self": null,
            "height": null,
            "min_height": null,
            "padding": null,
            "grid_auto_rows": null,
            "grid_gap": null,
            "max_width": null,
            "order": null,
            "_view_module_version": "1.2.0",
            "grid_template_areas": null,
            "object_position": null,
            "object_fit": null,
            "grid_auto_columns": null,
            "margin": null,
            "display": null,
            "left": null
          }
        },
        "5b10e924a9c747c7b7a3365caccb7e70": {
          "model_module": "@jupyter-widgets/controls",
          "model_name": "FloatProgressModel",
          "state": {
            "_view_name": "ProgressView",
            "style": "IPY_MODEL_c32a34a374ba4f7a92a27e9ff40dfe7b",
            "_dom_classes": [],
            "description": "Downloading: 100%",
            "_model_name": "FloatProgressModel",
            "bar_style": "success",
            "max": 42,
            "_view_module": "@jupyter-widgets/controls",
            "_model_module_version": "1.5.0",
            "value": 42,
            "_view_count": null,
            "_view_module_version": "1.5.0",
            "orientation": "horizontal",
            "min": 0,
            "description_tooltip": null,
            "_model_module": "@jupyter-widgets/controls",
            "layout": "IPY_MODEL_5ae6afe28328405e9f0d4ff7eaafd1f1"
          }
        },
        "faadb955a3e74a64a67e8a13e07fc364": {
          "model_module": "@jupyter-widgets/controls",
          "model_name": "HTMLModel",
          "state": {
            "_view_name": "HTMLView",
            "style": "IPY_MODEL_501ef70284dc4f6583dec5df1821edf6",
            "_dom_classes": [],
            "description": "",
            "_model_name": "HTMLModel",
            "placeholder": "​",
            "_view_module": "@jupyter-widgets/controls",
            "_model_module_version": "1.5.0",
            "value": " 42.0/42.0 [00:02&lt;00:00, 14.8B/s]",
            "_view_count": null,
            "_view_module_version": "1.5.0",
            "description_tooltip": null,
            "_model_module": "@jupyter-widgets/controls",
            "layout": "IPY_MODEL_b8fa0289484a411ba6ed40ef713fcf16"
          }
        },
        "c32a34a374ba4f7a92a27e9ff40dfe7b": {
          "model_module": "@jupyter-widgets/controls",
          "model_name": "ProgressStyleModel",
          "state": {
            "_view_name": "StyleView",
            "_model_name": "ProgressStyleModel",
            "description_width": "initial",
            "_view_module": "@jupyter-widgets/base",
            "_model_module_version": "1.5.0",
            "_view_count": null,
            "_view_module_version": "1.2.0",
            "bar_color": null,
            "_model_module": "@jupyter-widgets/controls"
          }
        },
        "5ae6afe28328405e9f0d4ff7eaafd1f1": {
          "model_module": "@jupyter-widgets/base",
          "model_name": "LayoutModel",
          "state": {
            "_view_name": "LayoutView",
            "grid_template_rows": null,
            "right": null,
            "justify_content": null,
            "_view_module": "@jupyter-widgets/base",
            "overflow": null,
            "_model_module_version": "1.2.0",
            "_view_count": null,
            "flex_flow": null,
            "width": null,
            "min_width": null,
            "border": null,
            "align_items": null,
            "bottom": null,
            "_model_module": "@jupyter-widgets/base",
            "top": null,
            "grid_column": null,
            "overflow_y": null,
            "overflow_x": null,
            "grid_auto_flow": null,
            "grid_area": null,
            "grid_template_columns": null,
            "flex": null,
            "_model_name": "LayoutModel",
            "justify_items": null,
            "grid_row": null,
            "max_height": null,
            "align_content": null,
            "visibility": null,
            "align_self": null,
            "height": null,
            "min_height": null,
            "padding": null,
            "grid_auto_rows": null,
            "grid_gap": null,
            "max_width": null,
            "order": null,
            "_view_module_version": "1.2.0",
            "grid_template_areas": null,
            "object_position": null,
            "object_fit": null,
            "grid_auto_columns": null,
            "margin": null,
            "display": null,
            "left": null
          }
        },
        "501ef70284dc4f6583dec5df1821edf6": {
          "model_module": "@jupyter-widgets/controls",
          "model_name": "DescriptionStyleModel",
          "state": {
            "_view_name": "StyleView",
            "_model_name": "DescriptionStyleModel",
            "description_width": "",
            "_view_module": "@jupyter-widgets/base",
            "_model_module_version": "1.5.0",
            "_view_count": null,
            "_view_module_version": "1.2.0",
            "_model_module": "@jupyter-widgets/controls"
          }
        },
        "b8fa0289484a411ba6ed40ef713fcf16": {
          "model_module": "@jupyter-widgets/base",
          "model_name": "LayoutModel",
          "state": {
            "_view_name": "LayoutView",
            "grid_template_rows": null,
            "right": null,
            "justify_content": null,
            "_view_module": "@jupyter-widgets/base",
            "overflow": null,
            "_model_module_version": "1.2.0",
            "_view_count": null,
            "flex_flow": null,
            "width": null,
            "min_width": null,
            "border": null,
            "align_items": null,
            "bottom": null,
            "_model_module": "@jupyter-widgets/base",
            "top": null,
            "grid_column": null,
            "overflow_y": null,
            "overflow_x": null,
            "grid_auto_flow": null,
            "grid_area": null,
            "grid_template_columns": null,
            "flex": null,
            "_model_name": "LayoutModel",
            "justify_items": null,
            "grid_row": null,
            "max_height": null,
            "align_content": null,
            "visibility": null,
            "align_self": null,
            "height": null,
            "min_height": null,
            "padding": null,
            "grid_auto_rows": null,
            "grid_gap": null,
            "max_width": null,
            "order": null,
            "_view_module_version": "1.2.0",
            "grid_template_areas": null,
            "object_position": null,
            "object_fit": null,
            "grid_auto_columns": null,
            "margin": null,
            "display": null,
            "left": null
          }
        },
        "71e2bc2e279548bf88253c0a0aae3148": {
          "model_module": "@jupyter-widgets/controls",
          "model_name": "HBoxModel",
          "state": {
            "_view_name": "HBoxView",
            "_dom_classes": [],
            "_model_name": "HBoxModel",
            "_view_module": "@jupyter-widgets/controls",
            "_model_module_version": "1.5.0",
            "_view_count": null,
            "_view_module_version": "1.5.0",
            "box_style": "",
            "layout": "IPY_MODEL_1d3cc3692cce4c118a7b322906c69238",
            "_model_module": "@jupyter-widgets/controls",
            "children": [
              "IPY_MODEL_297f011762aa4b069d33b27459df49cc",
              "IPY_MODEL_2a416f62f36b4336b03bdb706e4f2acc"
            ]
          }
        },
        "1d3cc3692cce4c118a7b322906c69238": {
          "model_module": "@jupyter-widgets/base",
          "model_name": "LayoutModel",
          "state": {
            "_view_name": "LayoutView",
            "grid_template_rows": null,
            "right": null,
            "justify_content": null,
            "_view_module": "@jupyter-widgets/base",
            "overflow": null,
            "_model_module_version": "1.2.0",
            "_view_count": null,
            "flex_flow": null,
            "width": null,
            "min_width": null,
            "border": null,
            "align_items": null,
            "bottom": null,
            "_model_module": "@jupyter-widgets/base",
            "top": null,
            "grid_column": null,
            "overflow_y": null,
            "overflow_x": null,
            "grid_auto_flow": null,
            "grid_area": null,
            "grid_template_columns": null,
            "flex": null,
            "_model_name": "LayoutModel",
            "justify_items": null,
            "grid_row": null,
            "max_height": null,
            "align_content": null,
            "visibility": null,
            "align_self": null,
            "height": null,
            "min_height": null,
            "padding": null,
            "grid_auto_rows": null,
            "grid_gap": null,
            "max_width": null,
            "order": null,
            "_view_module_version": "1.2.0",
            "grid_template_areas": null,
            "object_position": null,
            "object_fit": null,
            "grid_auto_columns": null,
            "margin": null,
            "display": null,
            "left": null
          }
        },
        "297f011762aa4b069d33b27459df49cc": {
          "model_module": "@jupyter-widgets/controls",
          "model_name": "FloatProgressModel",
          "state": {
            "_view_name": "ProgressView",
            "style": "IPY_MODEL_8b28f271aad0479cb7bc47fcf80d137c",
            "_dom_classes": [],
            "description": "Downloading: 100%",
            "_model_name": "FloatProgressModel",
            "bar_style": "success",
            "max": 778395,
            "_view_module": "@jupyter-widgets/controls",
            "_model_module_version": "1.5.0",
            "value": 778395,
            "_view_count": null,
            "_view_module_version": "1.5.0",
            "orientation": "horizontal",
            "min": 0,
            "description_tooltip": null,
            "_model_module": "@jupyter-widgets/controls",
            "layout": "IPY_MODEL_d8316457e9ac4eb2a3d53203fcd53128"
          }
        },
        "2a416f62f36b4336b03bdb706e4f2acc": {
          "model_module": "@jupyter-widgets/controls",
          "model_name": "HTMLModel",
          "state": {
            "_view_name": "HTMLView",
            "style": "IPY_MODEL_5433d91d34534c7bb77b93ea62a58210",
            "_dom_classes": [],
            "description": "",
            "_model_name": "HTMLModel",
            "placeholder": "​",
            "_view_module": "@jupyter-widgets/controls",
            "_model_module_version": "1.5.0",
            "value": " 778k/778k [00:03&lt;00:00, 210kB/s]",
            "_view_count": null,
            "_view_module_version": "1.5.0",
            "description_tooltip": null,
            "_model_module": "@jupyter-widgets/controls",
            "layout": "IPY_MODEL_6ae8e4f6d7a2405799393a03c3a4abce"
          }
        },
        "8b28f271aad0479cb7bc47fcf80d137c": {
          "model_module": "@jupyter-widgets/controls",
          "model_name": "ProgressStyleModel",
          "state": {
            "_view_name": "StyleView",
            "_model_name": "ProgressStyleModel",
            "description_width": "initial",
            "_view_module": "@jupyter-widgets/base",
            "_model_module_version": "1.5.0",
            "_view_count": null,
            "_view_module_version": "1.2.0",
            "bar_color": null,
            "_model_module": "@jupyter-widgets/controls"
          }
        },
        "d8316457e9ac4eb2a3d53203fcd53128": {
          "model_module": "@jupyter-widgets/base",
          "model_name": "LayoutModel",
          "state": {
            "_view_name": "LayoutView",
            "grid_template_rows": null,
            "right": null,
            "justify_content": null,
            "_view_module": "@jupyter-widgets/base",
            "overflow": null,
            "_model_module_version": "1.2.0",
            "_view_count": null,
            "flex_flow": null,
            "width": null,
            "min_width": null,
            "border": null,
            "align_items": null,
            "bottom": null,
            "_model_module": "@jupyter-widgets/base",
            "top": null,
            "grid_column": null,
            "overflow_y": null,
            "overflow_x": null,
            "grid_auto_flow": null,
            "grid_area": null,
            "grid_template_columns": null,
            "flex": null,
            "_model_name": "LayoutModel",
            "justify_items": null,
            "grid_row": null,
            "max_height": null,
            "align_content": null,
            "visibility": null,
            "align_self": null,
            "height": null,
            "min_height": null,
            "padding": null,
            "grid_auto_rows": null,
            "grid_gap": null,
            "max_width": null,
            "order": null,
            "_view_module_version": "1.2.0",
            "grid_template_areas": null,
            "object_position": null,
            "object_fit": null,
            "grid_auto_columns": null,
            "margin": null,
            "display": null,
            "left": null
          }
        },
        "5433d91d34534c7bb77b93ea62a58210": {
          "model_module": "@jupyter-widgets/controls",
          "model_name": "DescriptionStyleModel",
          "state": {
            "_view_name": "StyleView",
            "_model_name": "DescriptionStyleModel",
            "description_width": "",
            "_view_module": "@jupyter-widgets/base",
            "_model_module_version": "1.5.0",
            "_view_count": null,
            "_view_module_version": "1.2.0",
            "_model_module": "@jupyter-widgets/controls"
          }
        },
        "6ae8e4f6d7a2405799393a03c3a4abce": {
          "model_module": "@jupyter-widgets/base",
          "model_name": "LayoutModel",
          "state": {
            "_view_name": "LayoutView",
            "grid_template_rows": null,
            "right": null,
            "justify_content": null,
            "_view_module": "@jupyter-widgets/base",
            "overflow": null,
            "_model_module_version": "1.2.0",
            "_view_count": null,
            "flex_flow": null,
            "width": null,
            "min_width": null,
            "border": null,
            "align_items": null,
            "bottom": null,
            "_model_module": "@jupyter-widgets/base",
            "top": null,
            "grid_column": null,
            "overflow_y": null,
            "overflow_x": null,
            "grid_auto_flow": null,
            "grid_area": null,
            "grid_template_columns": null,
            "flex": null,
            "_model_name": "LayoutModel",
            "justify_items": null,
            "grid_row": null,
            "max_height": null,
            "align_content": null,
            "visibility": null,
            "align_self": null,
            "height": null,
            "min_height": null,
            "padding": null,
            "grid_auto_rows": null,
            "grid_gap": null,
            "max_width": null,
            "order": null,
            "_view_module_version": "1.2.0",
            "grid_template_areas": null,
            "object_position": null,
            "object_fit": null,
            "grid_auto_columns": null,
            "margin": null,
            "display": null,
            "left": null
          }
        },
        "3a4936bda17a4039a9d6175c3c4a4d2f": {
          "model_module": "@jupyter-widgets/controls",
          "model_name": "HBoxModel",
          "state": {
            "_view_name": "HBoxView",
            "_dom_classes": [],
            "_model_name": "HBoxModel",
            "_view_module": "@jupyter-widgets/controls",
            "_model_module_version": "1.5.0",
            "_view_count": null,
            "_view_module_version": "1.5.0",
            "box_style": "",
            "layout": "IPY_MODEL_196ab3cc823d4bf992887201cf1c8b8c",
            "_model_module": "@jupyter-widgets/controls",
            "children": [
              "IPY_MODEL_cdca3115f4bf405b9910c134b0669162",
              "IPY_MODEL_b652dcd1b0ab4f509e3876e81da7c2b2"
            ]
          }
        },
        "196ab3cc823d4bf992887201cf1c8b8c": {
          "model_module": "@jupyter-widgets/base",
          "model_name": "LayoutModel",
          "state": {
            "_view_name": "LayoutView",
            "grid_template_rows": null,
            "right": null,
            "justify_content": null,
            "_view_module": "@jupyter-widgets/base",
            "overflow": null,
            "_model_module_version": "1.2.0",
            "_view_count": null,
            "flex_flow": null,
            "width": null,
            "min_width": null,
            "border": null,
            "align_items": null,
            "bottom": null,
            "_model_module": "@jupyter-widgets/base",
            "top": null,
            "grid_column": null,
            "overflow_y": null,
            "overflow_x": null,
            "grid_auto_flow": null,
            "grid_area": null,
            "grid_template_columns": null,
            "flex": null,
            "_model_name": "LayoutModel",
            "justify_items": null,
            "grid_row": null,
            "max_height": null,
            "align_content": null,
            "visibility": null,
            "align_self": null,
            "height": null,
            "min_height": null,
            "padding": null,
            "grid_auto_rows": null,
            "grid_gap": null,
            "max_width": null,
            "order": null,
            "_view_module_version": "1.2.0",
            "grid_template_areas": null,
            "object_position": null,
            "object_fit": null,
            "grid_auto_columns": null,
            "margin": null,
            "display": null,
            "left": null
          }
        },
        "cdca3115f4bf405b9910c134b0669162": {
          "model_module": "@jupyter-widgets/controls",
          "model_name": "FloatProgressModel",
          "state": {
            "_view_name": "ProgressView",
            "style": "IPY_MODEL_44bab138be1d41d18de5e57f61a66cd4",
            "_dom_classes": [],
            "description": "Downloading: 100%",
            "_model_name": "FloatProgressModel",
            "bar_style": "success",
            "max": 802397,
            "_view_module": "@jupyter-widgets/controls",
            "_model_module_version": "1.5.0",
            "value": 802397,
            "_view_count": null,
            "_view_module_version": "1.5.0",
            "orientation": "horizontal",
            "min": 0,
            "description_tooltip": null,
            "_model_module": "@jupyter-widgets/controls",
            "layout": "IPY_MODEL_fd1b9234c1ac41abbefd5c4988ff6294"
          }
        },
        "b652dcd1b0ab4f509e3876e81da7c2b2": {
          "model_module": "@jupyter-widgets/controls",
          "model_name": "HTMLModel",
          "state": {
            "_view_name": "HTMLView",
            "style": "IPY_MODEL_deed91667fb4417a9d6cfe39c2003baf",
            "_dom_classes": [],
            "description": "",
            "_model_name": "HTMLModel",
            "placeholder": "​",
            "_view_module": "@jupyter-widgets/controls",
            "_model_module_version": "1.5.0",
            "value": " 802k/802k [00:01&lt;00:00, 466kB/s]",
            "_view_count": null,
            "_view_module_version": "1.5.0",
            "description_tooltip": null,
            "_model_module": "@jupyter-widgets/controls",
            "layout": "IPY_MODEL_c6d7d477eb4f47f1941957ea0d054ecc"
          }
        },
        "44bab138be1d41d18de5e57f61a66cd4": {
          "model_module": "@jupyter-widgets/controls",
          "model_name": "ProgressStyleModel",
          "state": {
            "_view_name": "StyleView",
            "_model_name": "ProgressStyleModel",
            "description_width": "initial",
            "_view_module": "@jupyter-widgets/base",
            "_model_module_version": "1.5.0",
            "_view_count": null,
            "_view_module_version": "1.2.0",
            "bar_color": null,
            "_model_module": "@jupyter-widgets/controls"
          }
        },
        "fd1b9234c1ac41abbefd5c4988ff6294": {
          "model_module": "@jupyter-widgets/base",
          "model_name": "LayoutModel",
          "state": {
            "_view_name": "LayoutView",
            "grid_template_rows": null,
            "right": null,
            "justify_content": null,
            "_view_module": "@jupyter-widgets/base",
            "overflow": null,
            "_model_module_version": "1.2.0",
            "_view_count": null,
            "flex_flow": null,
            "width": null,
            "min_width": null,
            "border": null,
            "align_items": null,
            "bottom": null,
            "_model_module": "@jupyter-widgets/base",
            "top": null,
            "grid_column": null,
            "overflow_y": null,
            "overflow_x": null,
            "grid_auto_flow": null,
            "grid_area": null,
            "grid_template_columns": null,
            "flex": null,
            "_model_name": "LayoutModel",
            "justify_items": null,
            "grid_row": null,
            "max_height": null,
            "align_content": null,
            "visibility": null,
            "align_self": null,
            "height": null,
            "min_height": null,
            "padding": null,
            "grid_auto_rows": null,
            "grid_gap": null,
            "max_width": null,
            "order": null,
            "_view_module_version": "1.2.0",
            "grid_template_areas": null,
            "object_position": null,
            "object_fit": null,
            "grid_auto_columns": null,
            "margin": null,
            "display": null,
            "left": null
          }
        },
        "deed91667fb4417a9d6cfe39c2003baf": {
          "model_module": "@jupyter-widgets/controls",
          "model_name": "DescriptionStyleModel",
          "state": {
            "_view_name": "StyleView",
            "_model_name": "DescriptionStyleModel",
            "description_width": "",
            "_view_module": "@jupyter-widgets/base",
            "_model_module_version": "1.5.0",
            "_view_count": null,
            "_view_module_version": "1.2.0",
            "_model_module": "@jupyter-widgets/controls"
          }
        },
        "c6d7d477eb4f47f1941957ea0d054ecc": {
          "model_module": "@jupyter-widgets/base",
          "model_name": "LayoutModel",
          "state": {
            "_view_name": "LayoutView",
            "grid_template_rows": null,
            "right": null,
            "justify_content": null,
            "_view_module": "@jupyter-widgets/base",
            "overflow": null,
            "_model_module_version": "1.2.0",
            "_view_count": null,
            "flex_flow": null,
            "width": null,
            "min_width": null,
            "border": null,
            "align_items": null,
            "bottom": null,
            "_model_module": "@jupyter-widgets/base",
            "top": null,
            "grid_column": null,
            "overflow_y": null,
            "overflow_x": null,
            "grid_auto_flow": null,
            "grid_area": null,
            "grid_template_columns": null,
            "flex": null,
            "_model_name": "LayoutModel",
            "justify_items": null,
            "grid_row": null,
            "max_height": null,
            "align_content": null,
            "visibility": null,
            "align_self": null,
            "height": null,
            "min_height": null,
            "padding": null,
            "grid_auto_rows": null,
            "grid_gap": null,
            "max_width": null,
            "order": null,
            "_view_module_version": "1.2.0",
            "grid_template_areas": null,
            "object_position": null,
            "object_fit": null,
            "grid_auto_columns": null,
            "margin": null,
            "display": null,
            "left": null
          }
        },
        "6fea97881329464b80d2220c5a72236b": {
          "model_module": "@jupyter-widgets/controls",
          "model_name": "HBoxModel",
          "state": {
            "_view_name": "HBoxView",
            "_dom_classes": [],
            "_model_name": "HBoxModel",
            "_view_module": "@jupyter-widgets/controls",
            "_model_module_version": "1.5.0",
            "_view_count": null,
            "_view_module_version": "1.5.0",
            "box_style": "",
            "layout": "IPY_MODEL_337fb34b360b4f9cbb972f0b81822e37",
            "_model_module": "@jupyter-widgets/controls",
            "children": [
              "IPY_MODEL_ac65ebf7efb6493bb88ddc82d2082733",
              "IPY_MODEL_062f6aea25514dd4929df1c3854cf5b9"
            ]
          }
        },
        "337fb34b360b4f9cbb972f0b81822e37": {
          "model_module": "@jupyter-widgets/base",
          "model_name": "LayoutModel",
          "state": {
            "_view_name": "LayoutView",
            "grid_template_rows": null,
            "right": null,
            "justify_content": null,
            "_view_module": "@jupyter-widgets/base",
            "overflow": null,
            "_model_module_version": "1.2.0",
            "_view_count": null,
            "flex_flow": null,
            "width": null,
            "min_width": null,
            "border": null,
            "align_items": null,
            "bottom": null,
            "_model_module": "@jupyter-widgets/base",
            "top": null,
            "grid_column": null,
            "overflow_y": null,
            "overflow_x": null,
            "grid_auto_flow": null,
            "grid_area": null,
            "grid_template_columns": null,
            "flex": null,
            "_model_name": "LayoutModel",
            "justify_items": null,
            "grid_row": null,
            "max_height": null,
            "align_content": null,
            "visibility": null,
            "align_self": null,
            "height": null,
            "min_height": null,
            "padding": null,
            "grid_auto_rows": null,
            "grid_gap": null,
            "max_width": null,
            "order": null,
            "_view_module_version": "1.2.0",
            "grid_template_areas": null,
            "object_position": null,
            "object_fit": null,
            "grid_auto_columns": null,
            "margin": null,
            "display": null,
            "left": null
          }
        },
        "ac65ebf7efb6493bb88ddc82d2082733": {
          "model_module": "@jupyter-widgets/controls",
          "model_name": "FloatProgressModel",
          "state": {
            "_view_name": "ProgressView",
            "style": "IPY_MODEL_b832cb27e9474b97b6e8ca0176fac340",
            "_dom_classes": [],
            "description": "Downloading: 100%",
            "_model_name": "FloatProgressModel",
            "bar_style": "success",
            "max": 1339166,
            "_view_module": "@jupyter-widgets/controls",
            "_model_module_version": "1.5.0",
            "value": 1339166,
            "_view_count": null,
            "_view_module_version": "1.5.0",
            "orientation": "horizontal",
            "min": 0,
            "description_tooltip": null,
            "_model_module": "@jupyter-widgets/controls",
            "layout": "IPY_MODEL_cf34848433c44c54ad8cff7df3cb3de4"
          }
        },
        "062f6aea25514dd4929df1c3854cf5b9": {
          "model_module": "@jupyter-widgets/controls",
          "model_name": "HTMLModel",
          "state": {
            "_view_name": "HTMLView",
            "style": "IPY_MODEL_7e9ee928633f404da4e67485e684322c",
            "_dom_classes": [],
            "description": "",
            "_model_name": "HTMLModel",
            "placeholder": "​",
            "_view_module": "@jupyter-widgets/controls",
            "_model_module_version": "1.5.0",
            "value": " 1.34M/1.34M [00:00&lt;00:00, 1.87MB/s]",
            "_view_count": null,
            "_view_module_version": "1.5.0",
            "description_tooltip": null,
            "_model_module": "@jupyter-widgets/controls",
            "layout": "IPY_MODEL_5b2fbb3bf44d4866817a76a944c81414"
          }
        },
        "b832cb27e9474b97b6e8ca0176fac340": {
          "model_module": "@jupyter-widgets/controls",
          "model_name": "ProgressStyleModel",
          "state": {
            "_view_name": "StyleView",
            "_model_name": "ProgressStyleModel",
            "description_width": "initial",
            "_view_module": "@jupyter-widgets/base",
            "_model_module_version": "1.5.0",
            "_view_count": null,
            "_view_module_version": "1.2.0",
            "bar_color": null,
            "_model_module": "@jupyter-widgets/controls"
          }
        },
        "cf34848433c44c54ad8cff7df3cb3de4": {
          "model_module": "@jupyter-widgets/base",
          "model_name": "LayoutModel",
          "state": {
            "_view_name": "LayoutView",
            "grid_template_rows": null,
            "right": null,
            "justify_content": null,
            "_view_module": "@jupyter-widgets/base",
            "overflow": null,
            "_model_module_version": "1.2.0",
            "_view_count": null,
            "flex_flow": null,
            "width": null,
            "min_width": null,
            "border": null,
            "align_items": null,
            "bottom": null,
            "_model_module": "@jupyter-widgets/base",
            "top": null,
            "grid_column": null,
            "overflow_y": null,
            "overflow_x": null,
            "grid_auto_flow": null,
            "grid_area": null,
            "grid_template_columns": null,
            "flex": null,
            "_model_name": "LayoutModel",
            "justify_items": null,
            "grid_row": null,
            "max_height": null,
            "align_content": null,
            "visibility": null,
            "align_self": null,
            "height": null,
            "min_height": null,
            "padding": null,
            "grid_auto_rows": null,
            "grid_gap": null,
            "max_width": null,
            "order": null,
            "_view_module_version": "1.2.0",
            "grid_template_areas": null,
            "object_position": null,
            "object_fit": null,
            "grid_auto_columns": null,
            "margin": null,
            "display": null,
            "left": null
          }
        },
        "7e9ee928633f404da4e67485e684322c": {
          "model_module": "@jupyter-widgets/controls",
          "model_name": "DescriptionStyleModel",
          "state": {
            "_view_name": "StyleView",
            "_model_name": "DescriptionStyleModel",
            "description_width": "",
            "_view_module": "@jupyter-widgets/base",
            "_model_module_version": "1.5.0",
            "_view_count": null,
            "_view_module_version": "1.2.0",
            "_model_module": "@jupyter-widgets/controls"
          }
        },
        "5b2fbb3bf44d4866817a76a944c81414": {
          "model_module": "@jupyter-widgets/base",
          "model_name": "LayoutModel",
          "state": {
            "_view_name": "LayoutView",
            "grid_template_rows": null,
            "right": null,
            "justify_content": null,
            "_view_module": "@jupyter-widgets/base",
            "overflow": null,
            "_model_module_version": "1.2.0",
            "_view_count": null,
            "flex_flow": null,
            "width": null,
            "min_width": null,
            "border": null,
            "align_items": null,
            "bottom": null,
            "_model_module": "@jupyter-widgets/base",
            "top": null,
            "grid_column": null,
            "overflow_y": null,
            "overflow_x": null,
            "grid_auto_flow": null,
            "grid_area": null,
            "grid_template_columns": null,
            "flex": null,
            "_model_name": "LayoutModel",
            "justify_items": null,
            "grid_row": null,
            "max_height": null,
            "align_content": null,
            "visibility": null,
            "align_self": null,
            "height": null,
            "min_height": null,
            "padding": null,
            "grid_auto_rows": null,
            "grid_gap": null,
            "max_width": null,
            "order": null,
            "_view_module_version": "1.2.0",
            "grid_template_areas": null,
            "object_position": null,
            "object_fit": null,
            "grid_auto_columns": null,
            "margin": null,
            "display": null,
            "left": null
          }
        },
        "3a6871c973674035a221d3dace12b339": {
          "model_module": "@jupyter-widgets/controls",
          "model_name": "HBoxModel",
          "state": {
            "_view_name": "HBoxView",
            "_dom_classes": [],
            "_model_name": "HBoxModel",
            "_view_module": "@jupyter-widgets/controls",
            "_model_module_version": "1.5.0",
            "_view_count": null,
            "_view_module_version": "1.5.0",
            "box_style": "",
            "layout": "IPY_MODEL_ed005dd674ec4a5e87d3001c91265620",
            "_model_module": "@jupyter-widgets/controls",
            "children": [
              "IPY_MODEL_7abfa87effec4873954f77dcfb21b723",
              "IPY_MODEL_fd0b14a7a1f341eea65cc93ab6a50d0f"
            ]
          }
        },
        "ed005dd674ec4a5e87d3001c91265620": {
          "model_module": "@jupyter-widgets/base",
          "model_name": "LayoutModel",
          "state": {
            "_view_name": "LayoutView",
            "grid_template_rows": null,
            "right": null,
            "justify_content": null,
            "_view_module": "@jupyter-widgets/base",
            "overflow": null,
            "_model_module_version": "1.2.0",
            "_view_count": null,
            "flex_flow": null,
            "width": null,
            "min_width": null,
            "border": null,
            "align_items": null,
            "bottom": null,
            "_model_module": "@jupyter-widgets/base",
            "top": null,
            "grid_column": null,
            "overflow_y": null,
            "overflow_x": null,
            "grid_auto_flow": null,
            "grid_area": null,
            "grid_template_columns": null,
            "flex": null,
            "_model_name": "LayoutModel",
            "justify_items": null,
            "grid_row": null,
            "max_height": null,
            "align_content": null,
            "visibility": null,
            "align_self": null,
            "height": null,
            "min_height": null,
            "padding": null,
            "grid_auto_rows": null,
            "grid_gap": null,
            "max_width": null,
            "order": null,
            "_view_module_version": "1.2.0",
            "grid_template_areas": null,
            "object_position": null,
            "object_fit": null,
            "grid_auto_columns": null,
            "margin": null,
            "display": null,
            "left": null
          }
        },
        "7abfa87effec4873954f77dcfb21b723": {
          "model_module": "@jupyter-widgets/controls",
          "model_name": "FloatProgressModel",
          "state": {
            "_view_name": "ProgressView",
            "style": "IPY_MODEL_621ce54873fc496c9c4c347e85470b8c",
            "_dom_classes": [],
            "description": "Downloading: 100%",
            "_model_name": "FloatProgressModel",
            "bar_style": "success",
            "max": 42,
            "_view_module": "@jupyter-widgets/controls",
            "_model_module_version": "1.5.0",
            "value": 42,
            "_view_count": null,
            "_view_module_version": "1.5.0",
            "orientation": "horizontal",
            "min": 0,
            "description_tooltip": null,
            "_model_module": "@jupyter-widgets/controls",
            "layout": "IPY_MODEL_01e2a29189e746389e3b23e4e364158d"
          }
        },
        "fd0b14a7a1f341eea65cc93ab6a50d0f": {
          "model_module": "@jupyter-widgets/controls",
          "model_name": "HTMLModel",
          "state": {
            "_view_name": "HTMLView",
            "style": "IPY_MODEL_ef2bc6b92b684ed99154826ee444839e",
            "_dom_classes": [],
            "description": "",
            "_model_name": "HTMLModel",
            "placeholder": "​",
            "_view_module": "@jupyter-widgets/controls",
            "_model_module_version": "1.5.0",
            "value": " 42.0/42.0 [00:00&lt;00:00, 962B/s]",
            "_view_count": null,
            "_view_module_version": "1.5.0",
            "description_tooltip": null,
            "_model_module": "@jupyter-widgets/controls",
            "layout": "IPY_MODEL_4a8ed21a228440bd8f36f2924ea6048e"
          }
        },
        "621ce54873fc496c9c4c347e85470b8c": {
          "model_module": "@jupyter-widgets/controls",
          "model_name": "ProgressStyleModel",
          "state": {
            "_view_name": "StyleView",
            "_model_name": "ProgressStyleModel",
            "description_width": "initial",
            "_view_module": "@jupyter-widgets/base",
            "_model_module_version": "1.5.0",
            "_view_count": null,
            "_view_module_version": "1.2.0",
            "bar_color": null,
            "_model_module": "@jupyter-widgets/controls"
          }
        },
        "01e2a29189e746389e3b23e4e364158d": {
          "model_module": "@jupyter-widgets/base",
          "model_name": "LayoutModel",
          "state": {
            "_view_name": "LayoutView",
            "grid_template_rows": null,
            "right": null,
            "justify_content": null,
            "_view_module": "@jupyter-widgets/base",
            "overflow": null,
            "_model_module_version": "1.2.0",
            "_view_count": null,
            "flex_flow": null,
            "width": null,
            "min_width": null,
            "border": null,
            "align_items": null,
            "bottom": null,
            "_model_module": "@jupyter-widgets/base",
            "top": null,
            "grid_column": null,
            "overflow_y": null,
            "overflow_x": null,
            "grid_auto_flow": null,
            "grid_area": null,
            "grid_template_columns": null,
            "flex": null,
            "_model_name": "LayoutModel",
            "justify_items": null,
            "grid_row": null,
            "max_height": null,
            "align_content": null,
            "visibility": null,
            "align_self": null,
            "height": null,
            "min_height": null,
            "padding": null,
            "grid_auto_rows": null,
            "grid_gap": null,
            "max_width": null,
            "order": null,
            "_view_module_version": "1.2.0",
            "grid_template_areas": null,
            "object_position": null,
            "object_fit": null,
            "grid_auto_columns": null,
            "margin": null,
            "display": null,
            "left": null
          }
        },
        "ef2bc6b92b684ed99154826ee444839e": {
          "model_module": "@jupyter-widgets/controls",
          "model_name": "DescriptionStyleModel",
          "state": {
            "_view_name": "StyleView",
            "_model_name": "DescriptionStyleModel",
            "description_width": "",
            "_view_module": "@jupyter-widgets/base",
            "_model_module_version": "1.5.0",
            "_view_count": null,
            "_view_module_version": "1.2.0",
            "_model_module": "@jupyter-widgets/controls"
          }
        },
        "4a8ed21a228440bd8f36f2924ea6048e": {
          "model_module": "@jupyter-widgets/base",
          "model_name": "LayoutModel",
          "state": {
            "_view_name": "LayoutView",
            "grid_template_rows": null,
            "right": null,
            "justify_content": null,
            "_view_module": "@jupyter-widgets/base",
            "overflow": null,
            "_model_module_version": "1.2.0",
            "_view_count": null,
            "flex_flow": null,
            "width": null,
            "min_width": null,
            "border": null,
            "align_items": null,
            "bottom": null,
            "_model_module": "@jupyter-widgets/base",
            "top": null,
            "grid_column": null,
            "overflow_y": null,
            "overflow_x": null,
            "grid_auto_flow": null,
            "grid_area": null,
            "grid_template_columns": null,
            "flex": null,
            "_model_name": "LayoutModel",
            "justify_items": null,
            "grid_row": null,
            "max_height": null,
            "align_content": null,
            "visibility": null,
            "align_self": null,
            "height": null,
            "min_height": null,
            "padding": null,
            "grid_auto_rows": null,
            "grid_gap": null,
            "max_width": null,
            "order": null,
            "_view_module_version": "1.2.0",
            "grid_template_areas": null,
            "object_position": null,
            "object_fit": null,
            "grid_auto_columns": null,
            "margin": null,
            "display": null,
            "left": null
          }
        }
      }
    }
  },
  "cells": [
    {
      "cell_type": "markdown",
      "metadata": {
        "id": "view-in-github",
        "colab_type": "text"
      },
      "source": [
        "<a href=\"https://colab.research.google.com/github/plaban1981/Huggingface_transformers_course/blob/main/huggingface_course.ipynb\" target=\"_parent\"><img src=\"https://colab.research.google.com/assets/colab-badge.svg\" alt=\"Open In Colab\"/></a>"
      ]
    },
    {
      "cell_type": "markdown",
      "metadata": {
        "id": "hiI_8UpAW1pR"
      },
      "source": [
        "## Huggingface\n",
        "\n",
        "https://huggingface.co/course/chapter1/3?fw=pt"
      ]
    },
    {
      "cell_type": "markdown",
      "metadata": {
        "id": "VtDRilR6Vvky"
      },
      "source": [
        "The natural language processing (NLP) using libraries from the Hugging Face ecosystem \n",
        "* 🤗 Transformers, \n",
        "* 🤗 Datasets, \n",
        "* 🤗 Tokenizers, and \n",
        "* 🤗 Accelerate — as well as the Hugging Face Hub."
      ]
    },
    {
      "cell_type": "markdown",
      "metadata": {
        "id": "lpob7wT2WwyI"
      },
      "source": [
        "![image.png](data:image/png;base64,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)"
      ]
    },
    {
      "cell_type": "markdown",
      "metadata": {
        "id": "tN11sTg-XkOB"
      },
      "source": [
        "## Natural Language Processing"
      ]
    },
    {
      "cell_type": "markdown",
      "metadata": {
        "id": "DHIUpQEjX9ng"
      },
      "source": [
        "NLP is a field of linguistics and machine learning focused on understanding everything related to human language. The aim of NLP tasks is not only to understand single words individually, but to be able to understand the context of those words.\n",
        "\n",
        "The following is a list of common NLP tasks, with some examples of each:\n",
        "\n",
        "* **Classifying whole sentences:** Getting the sentiment of a review, detecting if an email is spam, determining if a sentence is grammatically correct or whether two sentences are logically related or not \n",
        "\n",
        "* **Classifying each word in a sentence:** Identifying the grammatical components of a sentence (noun, verb, adjective), or the named entities (person, location, organization)\n",
        "\n",
        "* **Generating text content:** Completing a prompt with auto-generated text, filling in the blanks in a text with masked words\n",
        "\n",
        "* **Extracting an answer from a text:** Given a question and a context, extracting the answer to the question based on the information provided in the context\n",
        "\n",
        "* **Generating a new sentence from an input text:** Translating a text into another language, summarizing a text"
      ]
    },
    {
      "cell_type": "markdown",
      "metadata": {
        "id": "omm15QbsYfyf"
      },
      "source": [
        "## Why is it challenging?\n",
        "\n",
        "Computers don’t process information in the same way as humans.For machine learning (ML) models, such tasks are more difficult. The text needs to be processed in a way that enables the model to learn from it. And because language is complex, we need to think carefully about how this processing must be done."
      ]
    },
    {
      "cell_type": "markdown",
      "metadata": {
        "id": "mYCdPi69ZBGX"
      },
      "source": [
        "## Transformers, what can they do?\n",
        "Transformer models are used to solve all kinds of NLP tasks, like the ones mentioned in the previous section.\n",
        "\n",
        "The most basic object in the 🤗 Transformers library is the **pipeline**. It connects a model with its necessary preprocessing and postprocessing steps, allowing us to directly input any text and get an intelligible answer"
      ]
    },
    {
      "cell_type": "code",
      "metadata": {
        "colab": {
          "base_uri": "https://localhost:8080/"
        },
        "id": "d3Kh_zPWVhk0",
        "outputId": "1396ea23-aa5f-4943-9e18-f173d755b4a2"
      },
      "source": [
        "! pip install datasets transformers"
      ],
      "execution_count": 1,
      "outputs": [
        {
          "output_type": "stream",
          "text": [
            "Collecting datasets\n",
            "\u001b[?25l  Downloading https://files.pythonhosted.org/packages/08/a2/d4e1024c891506e1cee8f9d719d20831bac31cb5b7416983c4d2f65a6287/datasets-1.8.0-py3-none-any.whl (237kB)\n",
            "\u001b[K     |████████████████████████████████| 245kB 4.2MB/s \n",
            "\u001b[?25hCollecting transformers\n",
            "\u001b[?25l  Downloading https://files.pythonhosted.org/packages/d5/43/cfe4ee779bbd6a678ac6a97c5a5cdeb03c35f9eaebbb9720b036680f9a2d/transformers-4.6.1-py3-none-any.whl (2.2MB)\n",
            "\u001b[K     |████████████████████████████████| 2.3MB 6.3MB/s \n",
            "\u001b[?25hCollecting xxhash\n",
            "\u001b[?25l  Downloading https://files.pythonhosted.org/packages/7d/4f/0a862cad26aa2ed7a7cd87178cbbfa824fc1383e472d63596a0d018374e7/xxhash-2.0.2-cp37-cp37m-manylinux2010_x86_64.whl (243kB)\n",
            "\u001b[K     |████████████████████████████████| 245kB 24.3MB/s \n",
            "\u001b[?25hCollecting fsspec\n",
            "\u001b[?25l  Downloading https://files.pythonhosted.org/packages/8e/d2/d05466997f7751a2c06a7a416b7d1f131d765f7916698d3fdcb3a4d037e5/fsspec-2021.6.0-py3-none-any.whl (114kB)\n",
            "\u001b[K     |████████████████████████████████| 122kB 31.1MB/s \n",
            "\u001b[?25hRequirement already satisfied: numpy>=1.17 in /usr/local/lib/python3.7/dist-packages (from datasets) (1.19.5)\n",
            "Requirement already satisfied: importlib-metadata; python_version < \"3.8\" in /usr/local/lib/python3.7/dist-packages (from datasets) (4.5.0)\n",
            "Requirement already satisfied: requests>=2.19.0 in /usr/local/lib/python3.7/dist-packages (from datasets) (2.23.0)\n",
            "Requirement already satisfied: dill in /usr/local/lib/python3.7/dist-packages (from datasets) (0.3.3)\n",
            "Requirement already satisfied: pyarrow<4.0.0,>=1.0.0 in /usr/local/lib/python3.7/dist-packages (from datasets) (3.0.0)\n",
            "Requirement already satisfied: multiprocess in /usr/local/lib/python3.7/dist-packages (from datasets) (0.70.11.1)\n",
            "Requirement already satisfied: pandas in /usr/local/lib/python3.7/dist-packages (from datasets) (1.1.5)\n",
            "Requirement already satisfied: tqdm<4.50.0,>=4.27 in /usr/local/lib/python3.7/dist-packages (from datasets) (4.41.1)\n",
            "Collecting huggingface-hub<0.1.0\n",
            "  Downloading https://files.pythonhosted.org/packages/3c/e3/fb7b6aefaf0fc7b792cebbbd590b1895c022ab0ff27f389e1019c6f2e68a/huggingface_hub-0.0.10-py3-none-any.whl\n",
            "Requirement already satisfied: packaging in /usr/local/lib/python3.7/dist-packages (from datasets) (20.9)\n",
            "Requirement already satisfied: filelock in /usr/local/lib/python3.7/dist-packages (from transformers) (3.0.12)\n",
            "Collecting tokenizers<0.11,>=0.10.1\n",
            "\u001b[?25l  Downloading https://files.pythonhosted.org/packages/d4/e2/df3543e8ffdab68f5acc73f613de9c2b155ac47f162e725dcac87c521c11/tokenizers-0.10.3-cp37-cp37m-manylinux_2_5_x86_64.manylinux1_x86_64.manylinux_2_12_x86_64.manylinux2010_x86_64.whl (3.3MB)\n",
            "\u001b[K     |████████████████████████████████| 3.3MB 29.5MB/s \n",
            "\u001b[?25hRequirement already satisfied: regex!=2019.12.17 in /usr/local/lib/python3.7/dist-packages (from transformers) (2019.12.20)\n",
            "Collecting sacremoses\n",
            "\u001b[?25l  Downloading https://files.pythonhosted.org/packages/75/ee/67241dc87f266093c533a2d4d3d69438e57d7a90abb216fa076e7d475d4a/sacremoses-0.0.45-py3-none-any.whl (895kB)\n",
            "\u001b[K     |████████████████████████████████| 901kB 26.5MB/s \n",
            "\u001b[?25hRequirement already satisfied: typing-extensions>=3.6.4; python_version < \"3.8\" in /usr/local/lib/python3.7/dist-packages (from importlib-metadata; python_version < \"3.8\"->datasets) (3.7.4.3)\n",
            "Requirement already satisfied: zipp>=0.5 in /usr/local/lib/python3.7/dist-packages (from importlib-metadata; python_version < \"3.8\"->datasets) (3.4.1)\n",
            "Requirement already satisfied: idna<3,>=2.5 in /usr/local/lib/python3.7/dist-packages (from requests>=2.19.0->datasets) (2.10)\n",
            "Requirement already satisfied: urllib3!=1.25.0,!=1.25.1,<1.26,>=1.21.1 in /usr/local/lib/python3.7/dist-packages (from requests>=2.19.0->datasets) (1.24.3)\n",
            "Requirement already satisfied: chardet<4,>=3.0.2 in /usr/local/lib/python3.7/dist-packages (from requests>=2.19.0->datasets) (3.0.4)\n",
            "Requirement already satisfied: certifi>=2017.4.17 in /usr/local/lib/python3.7/dist-packages (from requests>=2.19.0->datasets) (2021.5.30)\n",
            "Requirement already satisfied: python-dateutil>=2.7.3 in /usr/local/lib/python3.7/dist-packages (from pandas->datasets) (2.8.1)\n",
            "Requirement already satisfied: pytz>=2017.2 in /usr/local/lib/python3.7/dist-packages (from pandas->datasets) (2018.9)\n",
            "Requirement already satisfied: pyparsing>=2.0.2 in /usr/local/lib/python3.7/dist-packages (from packaging->datasets) (2.4.7)\n",
            "Requirement already satisfied: joblib in /usr/local/lib/python3.7/dist-packages (from sacremoses->transformers) (1.0.1)\n",
            "Requirement already satisfied: six in /usr/local/lib/python3.7/dist-packages (from sacremoses->transformers) (1.15.0)\n",
            "Requirement already satisfied: click in /usr/local/lib/python3.7/dist-packages (from sacremoses->transformers) (7.1.2)\n",
            "\u001b[31mERROR: transformers 4.6.1 has requirement huggingface-hub==0.0.8, but you'll have huggingface-hub 0.0.10 which is incompatible.\u001b[0m\n",
            "Installing collected packages: xxhash, fsspec, huggingface-hub, datasets, tokenizers, sacremoses, transformers\n",
            "Successfully installed datasets-1.8.0 fsspec-2021.6.0 huggingface-hub-0.0.10 sacremoses-0.0.45 tokenizers-0.10.3 transformers-4.6.1 xxhash-2.0.2\n"
          ],
          "name": "stdout"
        }
      ]
    },
    {
      "cell_type": "code",
      "metadata": {
        "colab": {
          "base_uri": "https://localhost:8080/",
          "height": 230,
          "referenced_widgets": [
            "292583b519e0429ba75bc03e2e473631",
            "65ad03f003014903868a56b158d3691d",
            "08f28cdf13bd4b6bb6f015bd405900b1",
            "7a504c3dff6d4b57a9005fa27d81c834",
            "47d43566f0214b69b4864f0b80a4942c",
            "a751c7ead42b46988d730279f0a42faf",
            "bf407244b4414489bb1d27edcbe52b52",
            "5013aa10774b4e87a97d79a361ac6c02",
            "07aed81a74fc49cba0fa22e9b2fd7085",
            "1150b791fb5d41e98647868a46a0e2b4",
            "b1fd548207a846eea35885d0641b72ec",
            "5979228767904c7ba3383d62bde41979",
            "9a297b32337e466ca0b80ad4be3aa125",
            "fd205a1e900a45d4b9cd11e8df3bc927",
            "65498a51e792485e95685e61aa215287",
            "2bb71c8b5d504439935b84ff16cefc37",
            "ad78b79b204b4c7f912cfb1082c96113",
            "eb7ddca20ad148b8adb1cd33c440cd67",
            "27f3c57340ad4747a395f0716aa9caa8",
            "4958488d788c435d90100de510775c29",
            "345c6171bc6e4ffca0100a582df62ff8",
            "4105821f43ce407292b0a7a3ebfcf997",
            "017ca1c2f5d542b9af57ac9d4f8de7c8",
            "42940ad097684a7e89c8505d91bf717c",
            "2721485b3b354820aa4e68411d51d74b",
            "b58e067b68fd4d368d45aff1c6152f47",
            "c658c22096e649ada91aa526e0e9ca42",
            "11f800cfede14cd4a4a3e2b03036b96e",
            "bdde8a6b8437458a8b7a8bb949c856f6",
            "df76502e9cc24253bef92e2724a9331b",
            "fa3d272fa92949009d8c726ba0e106d0",
            "85d83ea5047c4443bf5221e81f2ecba6"
          ]
        },
        "id": "_BYZP7C9Zzpu",
        "outputId": "023c7cdc-eea2-4f4d-f368-965b0dc35043"
      },
      "source": [
        "import transformers\n",
        "from transformers import pipeline\n",
        "#\n",
        "classifier = pipeline(\"sentiment-analysis\")\n",
        "classifier(\"I've been waiting for a HuggingFace course my whole life.\")"
      ],
      "execution_count": 2,
      "outputs": [
        {
          "output_type": "display_data",
          "data": {
            "application/vnd.jupyter.widget-view+json": {
              "model_id": "292583b519e0429ba75bc03e2e473631",
              "version_minor": 0,
              "version_major": 2
            },
            "text/plain": [
              "HBox(children=(FloatProgress(value=0.0, description='Downloading', max=629.0, style=ProgressStyle(description_…"
            ]
          },
          "metadata": {
            "tags": []
          }
        },
        {
          "output_type": "stream",
          "text": [
            "\n"
          ],
          "name": "stdout"
        },
        {
          "output_type": "display_data",
          "data": {
            "application/vnd.jupyter.widget-view+json": {
              "model_id": "07aed81a74fc49cba0fa22e9b2fd7085",
              "version_minor": 0,
              "version_major": 2
            },
            "text/plain": [
              "HBox(children=(FloatProgress(value=0.0, description='Downloading', max=267844284.0, style=ProgressStyle(descri…"
            ]
          },
          "metadata": {
            "tags": []
          }
        },
        {
          "output_type": "stream",
          "text": [
            "\n"
          ],
          "name": "stdout"
        },
        {
          "output_type": "display_data",
          "data": {
            "application/vnd.jupyter.widget-view+json": {
              "model_id": "ad78b79b204b4c7f912cfb1082c96113",
              "version_minor": 0,
              "version_major": 2
            },
            "text/plain": [
              "HBox(children=(FloatProgress(value=0.0, description='Downloading', max=231508.0, style=ProgressStyle(descripti…"
            ]
          },
          "metadata": {
            "tags": []
          }
        },
        {
          "output_type": "stream",
          "text": [
            "\n"
          ],
          "name": "stdout"
        },
        {
          "output_type": "display_data",
          "data": {
            "application/vnd.jupyter.widget-view+json": {
              "model_id": "2721485b3b354820aa4e68411d51d74b",
              "version_minor": 0,
              "version_major": 2
            },
            "text/plain": [
              "HBox(children=(FloatProgress(value=0.0, description='Downloading', max=48.0, style=ProgressStyle(description_w…"
            ]
          },
          "metadata": {
            "tags": []
          }
        },
        {
          "output_type": "stream",
          "text": [
            "\n"
          ],
          "name": "stdout"
        },
        {
          "output_type": "execute_result",
          "data": {
            "text/plain": [
              "[{'label': 'POSITIVE', 'score': 0.9598048329353333}]"
            ]
          },
          "metadata": {
            "tags": []
          },
          "execution_count": 2
        }
      ]
    },
    {
      "cell_type": "markdown",
      "metadata": {
        "id": "be_2SWReca70"
      },
      "source": [
        "* By default, this pipeline selects a particular pretrained model that has been fine-tuned for sentiment analysis in English. \n",
        "\n",
        "* The model is downloaded and cached when you create the classifier object. \n",
        "\n",
        "* If you rerun the command, the cached model will be used instead and there is no need to download the model again."
      ]
    },
    {
      "cell_type": "markdown",
      "metadata": {
        "id": "_DK3Ob3ncpWs"
      },
      "source": [
        "## Passing several sentences"
      ]
    },
    {
      "cell_type": "code",
      "metadata": {
        "id": "BTh7ArpfcslE"
      },
      "source": [
        "sentence_list = [\"I've been waiting for a HuggingFace course my whole life.\", \n",
        "\"I hate this so much!\",\n",
        " \"I enjoy eating ice-cream\",\n",
        " \"I am not in a mood to talk\"\n",
        "]"
      ],
      "execution_count": 3,
      "outputs": []
    },
    {
      "cell_type": "code",
      "metadata": {
        "colab": {
          "base_uri": "https://localhost:8080/"
        },
        "id": "CEi6zrFyc7qz",
        "outputId": "723ccfd1-4d65-4b82-a4bb-3789190826a9"
      },
      "source": [
        "classifier(sentence_list)"
      ],
      "execution_count": 4,
      "outputs": [
        {
          "output_type": "execute_result",
          "data": {
            "text/plain": [
              "[{'label': 'POSITIVE', 'score': 0.9598047733306885},\n",
              " {'label': 'NEGATIVE', 'score': 0.9994558095932007},\n",
              " {'label': 'POSITIVE', 'score': 0.999464213848114},\n",
              " {'label': 'NEGATIVE', 'score': 0.9996479153633118}]"
            ]
          },
          "metadata": {
            "tags": []
          },
          "execution_count": 4
        }
      ]
    },
    {
      "cell_type": "markdown",
      "metadata": {
        "id": "94gt82IPdBbP"
      },
      "source": [
        "* Here the classifier that was cached was used for classification."
      ]
    },
    {
      "cell_type": "markdown",
      "metadata": {
        "id": "iyvrOSPKdrkf"
      },
      "source": [
        "There are three main steps involved when you pass some text to a pipeline:\n",
        "\n",
        "* The text is preprocessed into a format the model can understand.\n",
        "\n",
        "* The preprocessed inputs are passed to the model.\n",
        "\n",
        "* The predictions of the model are post-processed, so you can make sense of them."
      ]
    },
    {
      "cell_type": "markdown",
      "metadata": {
        "id": "3w24PMf2fUaL"
      },
      "source": [
        "## Currently available pipelines\n",
        "\n",
        "* feature-extraction (get the vector representation of a text)\n",
        "* fill-mask\n",
        "ner (named entity recognition)\n",
        "* question-answering\n",
        "* sentiment-analysis\n",
        "* summarization\n",
        "* text-generation\n",
        "* translation\n",
        "* zero-shot-classification"
      ]
    },
    {
      "cell_type": "markdown",
      "metadata": {
        "id": "zPmeff8Ug5bt"
      },
      "source": [
        "## feature-extraction "
      ]
    },
    {
      "cell_type": "code",
      "metadata": {
        "colab": {
          "base_uri": "https://localhost:8080/"
        },
        "id": "msa3NZVZf2Rj",
        "outputId": "a9141be1-d9ee-47ca-f9d6-4325ec63cf49"
      },
      "source": [
        "classifier = pipeline(\"feature-extraction\")\n",
        "doc_matrix = classifier(\"I've been waiting for a HuggingFace course my whole life.\")"
      ],
      "execution_count": 6,
      "outputs": [
        {
          "output_type": "stream",
          "text": [
            "Some weights of the model checkpoint at distilbert-base-cased were not used when initializing DistilBertModel: ['vocab_transform.weight', 'vocab_transform.bias', 'vocab_layer_norm.weight', 'vocab_projector.weight', 'vocab_layer_norm.bias', 'vocab_projector.bias']\n",
            "- This IS expected if you are initializing DistilBertModel from the checkpoint of a model trained on another task or with another architecture (e.g. initializing a BertForSequenceClassification model from a BertForPreTraining model).\n",
            "- This IS NOT expected if you are initializing DistilBertModel from the checkpoint of a model that you expect to be exactly identical (initializing a BertForSequenceClassification model from a BertForSequenceClassification model).\n"
          ],
          "name": "stderr"
        }
      ]
    },
    {
      "cell_type": "code",
      "metadata": {
        "colab": {
          "base_uri": "https://localhost:8080/"
        },
        "id": "_TDs1HexgMyb",
        "outputId": "4b6bca73-f7ce-4fff-b928-b08d392d82bc"
      },
      "source": [
        "type(doc_matrix),len(doc_matrix)"
      ],
      "execution_count": 13,
      "outputs": [
        {
          "output_type": "execute_result",
          "data": {
            "text/plain": [
              "(list, 1)"
            ]
          },
          "metadata": {
            "tags": []
          },
          "execution_count": 13
        }
      ]
    },
    {
      "cell_type": "code",
      "metadata": {
        "colab": {
          "base_uri": "https://localhost:8080/"
        },
        "id": "HSLOmJpLgStZ",
        "outputId": "a88bec0c-b28c-4161-d25a-a688a8c5d33f"
      },
      "source": [
        "import numpy as np\n",
        "np.array(doc_matrix).shape"
      ],
      "execution_count": 15,
      "outputs": [
        {
          "output_type": "execute_result",
          "data": {
            "text/plain": [
              "(1, 18, 768)"
            ]
          },
          "metadata": {
            "tags": []
          },
          "execution_count": 15
        }
      ]
    },
    {
      "cell_type": "markdown",
      "metadata": {
        "id": "UZemYvNsfxHy"
      },
      "source": [
        "## Zero-shot classification\n",
        "\n",
        "* It is used to classify texts that haven’t been labelled.\n",
        "* This pipeline is very powerful: it allows you to specify which labels to use for the classification, so you don’t have to rely on the labels of the pretrained model"
      ]
    },
    {
      "cell_type": "code",
      "metadata": {
        "colab": {
          "base_uri": "https://localhost:8080/"
        },
        "id": "SAttOIhnfXqJ",
        "outputId": "16ddb469-0c03-402b-c59a-8a99e598937b"
      },
      "source": [
        "classifier = pipeline('zero-shot-classification')\n",
        "classifier(\n",
        "    [\"Mr Modi is the prime minister of India\",\n",
        "     \"Rhihana's next album is a massive hit\",\n",
        "     \"Vitamin C is very much esstential to boost immunity\",\n",
        "     \"I am applying for a post graduate program in AI\"],\n",
        "    candidate_labels=[\"education\", \"politics\", \"business\",\"entertainment\",\"medicine\"],\n",
        ")"
      ],
      "execution_count": 23,
      "outputs": [
        {
          "output_type": "execute_result",
          "data": {
            "text/plain": [
              "[{'labels': ['politics', 'entertainment', 'education', 'business', 'medicine'],\n",
              "  'scores': [0.8936405777931213,\n",
              "   0.0492694154381752,\n",
              "   0.02371794730424881,\n",
              "   0.019631482660770416,\n",
              "   0.01374071091413498],\n",
              "  'sequence': 'Mr Modi is the prime minister of India'},\n",
              " {'labels': ['entertainment', 'business', 'education', 'medicine', 'politics'],\n",
              "  'scores': [0.8401675820350647,\n",
              "   0.11878533661365509,\n",
              "   0.014939829707145691,\n",
              "   0.014485985971987247,\n",
              "   0.011621265672147274],\n",
              "  'sequence': \"Rhihana's next album is a massive hit\"},\n",
              " {'labels': ['medicine', 'business', 'entertainment', 'education', 'politics'],\n",
              "  'scores': [0.8594235777854919,\n",
              "   0.08075584471225739,\n",
              "   0.029811637476086617,\n",
              "   0.017714107409119606,\n",
              "   0.012294779531657696],\n",
              "  'sequence': 'Vitamin C is very much esstential to boost immunity'},\n",
              " {'labels': ['education', 'business', 'entertainment', 'medicine', 'politics'],\n",
              "  'scores': [0.3992269039154053,\n",
              "   0.22472915053367615,\n",
              "   0.1697494387626648,\n",
              "   0.10794078558683395,\n",
              "   0.09835366159677505],\n",
              "  'sequence': 'I am applying for a post graduate program in AI'}]"
            ]
          },
          "metadata": {
            "tags": []
          },
          "execution_count": 23
        }
      ]
    },
    {
      "cell_type": "markdown",
      "metadata": {
        "id": "dCTUjoX_m4z9"
      },
      "source": [
        "**This pipeline is called zero-shot because we don’t need to fine-tune the model on your data to use it. It can directly return probability scores for any list of labels you want!**"
      ]
    },
    {
      "cell_type": "markdown",
      "metadata": {
        "id": "c-HNTT6lsQpA"
      },
      "source": [
        "## Text generation\n",
        "\n",
        "* This model will auto-complete the input text by generating the remaining text. \n",
        "\n",
        "* Text generation involves randomness, so it is normal if we do not get the same results"
      ]
    },
    {
      "cell_type": "code",
      "metadata": {
        "colab": {
          "base_uri": "https://localhost:8080/"
        },
        "id": "tlCGg1KtsRon",
        "outputId": "c35f9655-7273-408f-96ee-48b091de2cde"
      },
      "source": [
        "from transformers import pipeline\n",
        "generator = pipeline(\"text-generation\")\n",
        "generator(\"I am applying for a post graduate program in AI\")"
      ],
      "execution_count": 25,
      "outputs": [
        {
          "output_type": "stream",
          "text": [
            "Setting `pad_token_id` to `eos_token_id`:50256 for open-end generation.\n"
          ],
          "name": "stderr"
        },
        {
          "output_type": "execute_result",
          "data": {
            "text/plain": [
              "[{'generated_text': 'I am applying for a post graduate program in AI, specifically in neural networks and machine learning. I have been working on an open source neural network library for years and it has finally completed its initial code base. I believe I can continue to develop,'}]"
            ]
          },
          "metadata": {
            "tags": []
          },
          "execution_count": 25
        }
      ]
    },
    {
      "cell_type": "markdown",
      "metadata": {
        "id": "_PQMOEKS2QcP"
      },
      "source": [
        "* we can control how many different sequences are generated with the argument **num_return_sequences** and the total length of the output text with the argument **max_length**."
      ]
    },
    {
      "cell_type": "code",
      "metadata": {
        "colab": {
          "base_uri": "https://localhost:8080/"
        },
        "id": "mwtkBKBx2bqu",
        "outputId": "885fcc6c-612a-413d-9730-d6e326eec39c"
      },
      "source": [
        "generator = pipeline(\"text-generation\")\n",
        "generator(\"I am applying for a post graduate program in AI\",\n",
        "          num_return_sequences=15,\n",
        "          max_length =80)"
      ],
      "execution_count": 30,
      "outputs": [
        {
          "output_type": "stream",
          "text": [
            "Setting `pad_token_id` to `eos_token_id`:50256 for open-end generation.\n"
          ],
          "name": "stderr"
        },
        {
          "output_type": "execute_result",
          "data": {
            "text/plain": [
              "[{'generated_text': 'I am applying for a post graduate program in AI and I need some help to make sure I am getting the right training in all levels and environments. You can start by filling out an online survey.\\n\\nWhat should I do?\\n\\nIf you are in a position that is not considered a full time intern on campus, you may be able to submit a short research project on your own,'},\n",
              " {'generated_text': 'I am applying for a post graduate program in AI Research and Design. I will spend the next two years working with top research universities including Stanford, Berkeley, Columbia, Washington and Carnegie Mellon. I have never worked directly with someone in the field of artificial intelligence. I will be conducting research into computational and optimization algorithms and data science in a team that knows very little about software. As an undergraduate graduate I'},\n",
              " {'generated_text': \"I am applying for a post graduate program in AI in London with a focus on machine learning and AI at the School of Information Technology, Cambridge University's Mathematical College. The appointment covers two decades in undergraduate research.\\n\\n\\nInterested in applying:\\n\\n\\nIn the UK from 2011 to 2014, I worked for the BIS, a research centre, where I worked in one of several academic and professional\"},\n",
              " {'generated_text': \"I am applying for a post graduate program in AI. I am an academic scientist, and if I am not able to complete my required post-graduate course at a leading university I will still be paid for my time. I have a wonderful student visa. I'll check in to the U.S. at some future time if it does not have a post-graduate program. My experience in AI\"},\n",
              " {'generated_text': 'I am applying for a post graduate program in AI and Robotics in this field. I am looking at the future possibilities. My dream is helping the people of this country to become the next leaders of AI in their lives. Please help me get to this point by giving your support in this initiative.\\n\\nIf you are interested in becoming involved, contact our Volunteer Coordinator or Volunteer Coordinator on our web site'},\n",
              " {'generated_text': 'I am applying for a post graduate program in AI and I expect that I will be able to continue my research there. What could I ever expect my university to say to you?\" he asked. \"I have two sons and if my future is better than mine, I want to pursue a post graduate degree program in AI research. I will study for the next three years and I will have a job'},\n",
              " {'generated_text': 'I am applying for a post graduate program in AI, or an AI training program in the UK.\"\\n\\nThe program is described as \"the most robust programme that UK computer science teams have, both internationally and in the region\".\\n\\nIt is based in Oxford University\\'s Faculty of Engineering. Its main aim is to give students the tools to take advantage of the technology they can learn at home and'},\n",
              " {'generated_text': 'I am applying for a post graduate program in AI and Machine Learning. I have been working on my project through 2016 and will be seeking more post graduate positions prior to the time it is fully funded.\\n\\nWhat are your projects?\\n\\nFor more information, please visit the official projects page at e-mail.wandt.com.\\n\\nWhat is your salary?\\n\\nI'},\n",
              " {'generated_text': \"I am applying for a post graduate program in AI & Machine Vision (AVMS), and for a major in Machine Learning & Machine Learning (MLM & ME), as well as the Master's in Computational Information Systems (CEIS), the Bachelor's in Information Analytics (MIBI), and the Master's in Computing and System Design (CIC), respectively (Fig. 4). A major in\"},\n",
              " {'generated_text': 'I am applying for a post graduate program in AI, and my research interests are in Artificial Intelligence, Robotics, Electrical Engineering, Computer Science and Engineering, and Artificial Intelligence. I have received a Ph.D. in Statistics in 2015 from the University of Michigan. I will be joining the board of directors for the Cyber Intelligence Foundation of America, with my goals to build and deploy new research tools, methods'},\n",
              " {'generated_text': 'I am applying for a post graduate program in AI, with a goal to be a co-librarian.\\n\\nMy interest has always been in the role of digital information resource. I am interested in exploring ideas and tools for creating and enhancing AI, but know people in the field very well. I enjoy making tutorials and helping others who share these ideas. I see the value in making projects that'},\n",
              " {'generated_text': \"I am applying for a post graduate program in AI & AI training as a junior, so I think I'll be more productive and I love the opportunities and I want to help others.\\n\\nSo, what are you going to do on your end?\\n\\nWhy not!\\n\\nSo, how many years do you do?\\n\\nWhat the heck was the project you started?! I'm\"},\n",
              " {'generated_text': 'I am applying for a post graduate program in AI, Computer Science and Information Technology.\\n\\nIf you are from Michigan or Minnesota, you may not have graduated. If you are from Vermont, your residency will be affected. Your academic transcript may also require you to complete certain online application forms.\\n\\nAre you interested in pursuing a career path in AI or Computer Science? If so, why not'},\n",
              " {'generated_text': 'I am applying for a post graduate program in AI to work on improving our research. While in the tech industry, we often see things are only working once, so we will not be doing any work until we are able to make sure that we are doing everything right. Once we are making decisions based on the data we get from our research we will understand how we can improve the data to make it'},\n",
              " {'generated_text': 'I am applying for a post graduate program in AI or computer science, or other research that requires formal training and/or additional qualifications. Although we strongly recommend attending with a high level of proficiency, please contact us for more information or to make an appointment.\\n\\n\\nPlease choose from any of the following:\\n\\n1. Experience with Java and other programming languages.\\n\\n2. Basic knowledge of'}]"
            ]
          },
          "metadata": {
            "tags": []
          },
          "execution_count": 30
        }
      ]
    },
    {
      "cell_type": "markdown",
      "metadata": {
        "id": "f2vOAWyT4ERU"
      },
      "source": [
        "## Using any model from the Hub in a pipeline\n",
        "\n",
        "The previous examples used the default model for the task at hand, but you can also choose a particular model from the Hub to use in a pipeline for a specific task — say, text generation.(https://huggingface.co/models)"
      ]
    },
    {
      "cell_type": "code",
      "metadata": {
        "colab": {
          "base_uri": "https://localhost:8080/"
        },
        "id": "9ZfVxjMK4vEL",
        "outputId": "53a1cfea-fe83-4b9b-872c-3ec05569ab7d"
      },
      "source": [
        "from transformers import pipeline\n",
        "generator = pipeline(\"text-generation\",model=\"distilgpt2\")\n",
        "generator(\"I am preparing dinner for my friends\",max_length=30,\n",
        "    num_return_sequences=2,\n",
        ")"
      ],
      "execution_count": 35,
      "outputs": [
        {
          "output_type": "stream",
          "text": [
            "Setting `pad_token_id` to `eos_token_id`:50256 for open-end generation.\n"
          ],
          "name": "stderr"
        },
        {
          "output_type": "execute_result",
          "data": {
            "text/plain": [
              "[{'generated_text': \"I am preparing dinner for my friends this fall, and I won't be afraid to show up at a picnic to get my lunch prepared for dinner.\"},\n",
              " {'generated_text': \"I am preparing dinner for my friends in the next couple of weeks. It's a great time for friends to have fun getting to know each other.\"}]"
            ]
          },
          "metadata": {
            "tags": []
          },
          "execution_count": 35
        }
      ]
    },
    {
      "cell_type": "markdown",
      "metadata": {
        "id": "YY5deiKZBLYz"
      },
      "source": [
        "## xlnet-base-cased"
      ]
    },
    {
      "cell_type": "code",
      "metadata": {
        "colab": {
          "base_uri": "https://localhost:8080/",
          "height": 267,
          "referenced_widgets": [
            "d31c27fa0b5f4fa19f3c5db91db28348",
            "681e9c80ad2643d6b81c78ed647a6480",
            "35b64a01d3c54ee898d1c6df31a4dcc4",
            "cee7e5f13c7e4d5b83520156f506b0ba",
            "9e13d8a221b14c6f8a9f447b53ca68f9",
            "725b8470bc944eb28a56b9c916d7002e",
            "4b597127f4d845ef95b800731330658e",
            "28e07c04f7934c02ac636bdfbdf4691e",
            "d8b9cf39e0214f01a354db21797421c8",
            "222585edad3345408cc6dcf5ad4d7c90",
            "90a0fd90dd2746ae9e2ed9a43e5a34b5",
            "66cd81dac2b6475aad934e1657e97072",
            "515b21435fff4fb9991f62b0d12cf218",
            "9adec632a7b24bdbb41df51042e720b0",
            "ae2c5c96b58443eda506607144b167d4",
            "5d7c166fd6a54780aab08838089be0f5",
            "dbc7a75e463f4633b989bd318a443ba7",
            "88634f3170fe4a7cb91ff379285360c8",
            "213149f472c04b549280fa7e331a0f49",
            "21f69ff425be4037bb05ef41e48b33d3",
            "fe0be245595e47e18dc25d3342ee61ba",
            "95b217e6318946258aa0c5c2951b603b",
            "327bd7c31ca54545b3a48996bc57d479",
            "f7807d7955a842a082394548dd632f25",
            "c10f42db82b04d2a9d1cfe53c7ab7e28",
            "ec53b500189543f0be5d650bb7b6c15d",
            "4373ea4ca718481e8894ed551302bf1a",
            "332eabc8d5734248be7e0c72a02c99bf",
            "02da4e8650c140c6b1a7d242b8ae86df",
            "fe9f8904e93246b7b27c07bea71a3d2d",
            "d931916c70004e109c7bded139fc91de",
            "fc2ce15f16f94eae861c79516d9113f2"
          ]
        },
        "id": "egVXWa4k9LHG",
        "outputId": "1d22e2ac-ddad-421f-ffd8-8d6a6bc8c836"
      },
      "source": [
        "generator = pipeline(\"text-generation\",model=\"xlnet-base-cased\")\n",
        "generator(\"I am preparing dinner for my friends\",max_length=30,\n",
        "    num_return_sequences=2,\n",
        ")"
      ],
      "execution_count": 38,
      "outputs": [
        {
          "output_type": "display_data",
          "data": {
            "application/vnd.jupyter.widget-view+json": {
              "model_id": "d31c27fa0b5f4fa19f3c5db91db28348",
              "version_minor": 0,
              "version_major": 2
            },
            "text/plain": [
              "HBox(children=(FloatProgress(value=0.0, description='Downloading', max=760.0, style=ProgressStyle(description_…"
            ]
          },
          "metadata": {
            "tags": []
          }
        },
        {
          "output_type": "stream",
          "text": [
            "\n"
          ],
          "name": "stdout"
        },
        {
          "output_type": "display_data",
          "data": {
            "application/vnd.jupyter.widget-view+json": {
              "model_id": "d8b9cf39e0214f01a354db21797421c8",
              "version_minor": 0,
              "version_major": 2
            },
            "text/plain": [
              "HBox(children=(FloatProgress(value=0.0, description='Downloading', max=467042463.0, style=ProgressStyle(descri…"
            ]
          },
          "metadata": {
            "tags": []
          }
        },
        {
          "output_type": "stream",
          "text": [
            "\n"
          ],
          "name": "stdout"
        },
        {
          "output_type": "display_data",
          "data": {
            "application/vnd.jupyter.widget-view+json": {
              "model_id": "dbc7a75e463f4633b989bd318a443ba7",
              "version_minor": 0,
              "version_major": 2
            },
            "text/plain": [
              "HBox(children=(FloatProgress(value=0.0, description='Downloading', max=798011.0, style=ProgressStyle(descripti…"
            ]
          },
          "metadata": {
            "tags": []
          }
        },
        {
          "output_type": "stream",
          "text": [
            "\n"
          ],
          "name": "stdout"
        },
        {
          "output_type": "display_data",
          "data": {
            "application/vnd.jupyter.widget-view+json": {
              "model_id": "c10f42db82b04d2a9d1cfe53c7ab7e28",
              "version_minor": 0,
              "version_major": 2
            },
            "text/plain": [
              "HBox(children=(FloatProgress(value=0.0, description='Downloading', max=1382015.0, style=ProgressStyle(descript…"
            ]
          },
          "metadata": {
            "tags": []
          }
        },
        {
          "output_type": "stream",
          "text": [
            "\n"
          ],
          "name": "stdout"
        },
        {
          "output_type": "execute_result",
          "data": {
            "text/plain": [
              "[{'generated_text': 'I am preparing dinner for my friends in New Zealand on Saturday evening, at 6 pm. As the sun set, my father and sister of mine sat'},\n",
              " {'generated_text': 'I am preparing dinner for my friends to come up and sit down tomorrow. This morning I am going to make dinner for my girlfriend and her friend.'}]"
            ]
          },
          "metadata": {
            "tags": []
          },
          "execution_count": 38
        }
      ]
    },
    {
      "cell_type": "markdown",
      "metadata": {
        "id": "MkPEzw_hBPaA"
      },
      "source": [
        "## gpt2"
      ]
    },
    {
      "cell_type": "code",
      "metadata": {
        "colab": {
          "base_uri": "https://localhost:8080/"
        },
        "id": "vsh9xHwyBJJe",
        "outputId": "0a4e8b1b-851d-4288-f25f-5234d39d168e"
      },
      "source": [
        "generator = pipeline(\"text-generation\",model=\"gpt2\")\n",
        "generator(\"I am preparing dinner for my friends\",max_length=30,\n",
        "    num_return_sequences=2,\n",
        ")"
      ],
      "execution_count": 41,
      "outputs": [
        {
          "output_type": "stream",
          "text": [
            "Setting `pad_token_id` to `eos_token_id`:50256 for open-end generation.\n"
          ],
          "name": "stderr"
        },
        {
          "output_type": "execute_result",
          "data": {
            "text/plain": [
              "[{'generated_text': 'I am preparing dinner for my friends on the show.\\n\\nAs I have done for other members of the show, I will be giving them the'},\n",
              " {'generated_text': 'I am preparing dinner for my friends and I shall go to the hospital to watch the ambulance pull up and leave in the morning. I am only twenty'}]"
            ]
          },
          "metadata": {
            "tags": []
          },
          "execution_count": 41
        }
      ]
    },
    {
      "cell_type": "markdown",
      "metadata": {
        "id": "XdeEvj1oCFl1"
      },
      "source": [
        "## Mask filling\n",
        "\n",
        "* The idea of this task is to fill in the blanks in a given text\n",
        "* The **top_k** argument controls how many possibilities you want to be displayed\n"
      ]
    },
    {
      "cell_type": "code",
      "metadata": {
        "colab": {
          "base_uri": "https://localhost:8080/"
        },
        "id": "cRleXImWC917",
        "outputId": "08a8a309-49bf-4267-f6ee-a97f8a06de6f"
      },
      "source": [
        "from transformers import pipeline\n",
        "unmasker = pipeline(\"fill-mask\")\n",
        "unmasker(\"This course will teach you all about <mask> models.\", top_k=2)"
      ],
      "execution_count": 42,
      "outputs": [
        {
          "output_type": "execute_result",
          "data": {
            "text/plain": [
              "[{'score': 0.19619838893413544,\n",
              "  'sequence': 'This course will teach you all about mathematical models.',\n",
              "  'token': 30412,\n",
              "  'token_str': ' mathematical'},\n",
              " {'score': 0.040527306497097015,\n",
              "  'sequence': 'This course will teach you all about computational models.',\n",
              "  'token': 38163,\n",
              "  'token_str': ' computational'}]"
            ]
          },
          "metadata": {
            "tags": []
          },
          "execution_count": 42
        }
      ]
    },
    {
      "cell_type": "code",
      "metadata": {
        "colab": {
          "base_uri": "https://localhost:8080/"
        },
        "id": "BKU7HlGRf9Ki",
        "outputId": "5153c9ed-ea81-4219-ae8c-e4927c60366a"
      },
      "source": [
        "unmasker(\"<mask> and jill went up the hill.\", top_k=2)"
      ],
      "execution_count": 45,
      "outputs": [
        {
          "output_type": "execute_result",
          "data": {
            "text/plain": [
              "[{'score': 0.0057667833752930164,\n",
              "  'sequence': 'me and jill went up the hill.',\n",
              "  'token': 1794,\n",
              "  'token_str': 'me'},\n",
              " {'score': 0.005751325283199549,\n",
              "  'sequence': 'Jack and jill went up the hill.',\n",
              "  'token': 20907,\n",
              "  'token_str': 'Jack'}]"
            ]
          },
          "metadata": {
            "tags": []
          },
          "execution_count": 45
        }
      ]
    },
    {
      "cell_type": "markdown",
      "metadata": {
        "id": "B4R_JK-sj8d-"
      },
      "source": [
        "* Other mask-filling models might have different mask tokens,"
      ]
    },
    {
      "cell_type": "code",
      "metadata": {
        "colab": {
          "base_uri": "https://localhost:8080/",
          "height": 469,
          "referenced_widgets": [
            "076bc42e56f74a5a9a3b781f836d9e4f",
            "60971a2ac5a544649be019ff541c92d4",
            "e31db0a593e0408783e74bfd43c2f5f9",
            "7caef61aafc04e369f8fe77823d76cae",
            "df074a8a34ef4f1e9d276194da601d0f",
            "fce2bddd4d894ac5b0823708f64b2abd",
            "1699a45047a3426bb3969ac113a5efae",
            "3a368f76812f4a7282ea1d62afa1b49d",
            "891bb7ab17a14f029c3b649d94cec086",
            "94fa4774111542a1b77c7b3e15a9ae28",
            "1b7a6d8a580c490a9e65255e4baaa202",
            "64f5659f210d4af8a6847015d4aa30e7",
            "abba61adbbf24a9a9397cb812df1ee43",
            "d3a882b9495346daa038e9efac39de1d",
            "60ff544e6f004ad2bb234c44149ef251",
            "aea170be110e4dc1a4538874b4556546",
            "1bf114292085411da98bbd727ae81478",
            "f2a73612004e4ce4947cff58d1735f5b",
            "fba2681bffa44c96a4b6e64918d5b469",
            "91e56899ba134fc8b03099b751f9b9a7",
            "d84cc23f811a4273a7a94a53d914c6bd",
            "a5d494c8db264024abfc729b8f87f29a",
            "dad8d2abf34f40e5a9f35aaebb35d733",
            "7f3a3a5bf30e4edf9764918e932011d1",
            "2d640fd63b7343a0872400eb80d25c7c",
            "a3093863647e44e1a2470df8e5b98712",
            "b6d6b4be9e0d4bcd8e71219dc36d7cf3",
            "a221fd49cfd94addba1da3e0e09d4d7c",
            "ff4a8cb5b28b49cf8d569c2b6999e6bf",
            "781dc54cca1f48d6a959527bcd5baffc",
            "cd59a606b8904230b63f513f23c0cb09",
            "796b2fb1cd6a4a238c27121e97e246b6",
            "1fb9185e98bf436499fddcdc2d6ba93f",
            "d1ab60c7b3ed442ba747788bf44ba388",
            "7d82f830c9c246b0acfb617fc6003fb3",
            "ed2b3e208dd44bfd93dea7d52c875e27",
            "172a25e5dcc9463d8571ec4c1cd1f398",
            "ce3a8e127cb440cdb22581cd65c2ec8f",
            "a0912e8e366a43669cb9eb3bdbdaac40",
            "d6196e0b3289403ba1556899eae3906d"
          ]
        },
        "id": "0iBSvgGcgKi_",
        "outputId": "2b01e498-1d9a-4614-f47d-d412e01ff907"
      },
      "source": [
        "unmasker = pipeline('fill-mask', model='bert-base-cased')\n",
        "unmasker(\"Eating right will help to keep [MASK] fit and fine\", top_k=2)"
      ],
      "execution_count": 46,
      "outputs": [
        {
          "output_type": "display_data",
          "data": {
            "application/vnd.jupyter.widget-view+json": {
              "model_id": "076bc42e56f74a5a9a3b781f836d9e4f",
              "version_minor": 0,
              "version_major": 2
            },
            "text/plain": [
              "HBox(children=(FloatProgress(value=0.0, description='Downloading', max=570.0, style=ProgressStyle(description_…"
            ]
          },
          "metadata": {
            "tags": []
          }
        },
        {
          "output_type": "stream",
          "text": [
            "\n"
          ],
          "name": "stdout"
        },
        {
          "output_type": "display_data",
          "data": {
            "application/vnd.jupyter.widget-view+json": {
              "model_id": "891bb7ab17a14f029c3b649d94cec086",
              "version_minor": 0,
              "version_major": 2
            },
            "text/plain": [
              "HBox(children=(FloatProgress(value=0.0, description='Downloading', max=435779157.0, style=ProgressStyle(descri…"
            ]
          },
          "metadata": {
            "tags": []
          }
        },
        {
          "output_type": "stream",
          "text": [
            "\n"
          ],
          "name": "stdout"
        },
        {
          "output_type": "stream",
          "text": [
            "Some weights of the model checkpoint at bert-base-cased were not used when initializing BertForMaskedLM: ['cls.seq_relationship.weight', 'cls.seq_relationship.bias']\n",
            "- This IS expected if you are initializing BertForMaskedLM from the checkpoint of a model trained on another task or with another architecture (e.g. initializing a BertForSequenceClassification model from a BertForPreTraining model).\n",
            "- This IS NOT expected if you are initializing BertForMaskedLM from the checkpoint of a model that you expect to be exactly identical (initializing a BertForSequenceClassification model from a BertForSequenceClassification model).\n"
          ],
          "name": "stderr"
        },
        {
          "output_type": "display_data",
          "data": {
            "application/vnd.jupyter.widget-view+json": {
              "model_id": "1bf114292085411da98bbd727ae81478",
              "version_minor": 0,
              "version_major": 2
            },
            "text/plain": [
              "HBox(children=(FloatProgress(value=0.0, description='Downloading', max=213450.0, style=ProgressStyle(descripti…"
            ]
          },
          "metadata": {
            "tags": []
          }
        },
        {
          "output_type": "stream",
          "text": [
            "\n"
          ],
          "name": "stdout"
        },
        {
          "output_type": "display_data",
          "data": {
            "application/vnd.jupyter.widget-view+json": {
              "model_id": "2d640fd63b7343a0872400eb80d25c7c",
              "version_minor": 0,
              "version_major": 2
            },
            "text/plain": [
              "HBox(children=(FloatProgress(value=0.0, description='Downloading', max=435797.0, style=ProgressStyle(descripti…"
            ]
          },
          "metadata": {
            "tags": []
          }
        },
        {
          "output_type": "stream",
          "text": [
            "\n"
          ],
          "name": "stdout"
        },
        {
          "output_type": "display_data",
          "data": {
            "application/vnd.jupyter.widget-view+json": {
              "model_id": "1fb9185e98bf436499fddcdc2d6ba93f",
              "version_minor": 0,
              "version_major": 2
            },
            "text/plain": [
              "HBox(children=(FloatProgress(value=0.0, description='Downloading', max=29.0, style=ProgressStyle(description_w…"
            ]
          },
          "metadata": {
            "tags": []
          }
        },
        {
          "output_type": "stream",
          "text": [
            "\n"
          ],
          "name": "stdout"
        },
        {
          "output_type": "execute_result",
          "data": {
            "text/plain": [
              "[{'score': 0.6889556050300598,\n",
              "  'sequence': 'Eating right will help to keep you fit and fine',\n",
              "  'token': 1128,\n",
              "  'token_str': 'you'},\n",
              " {'score': 0.09383866935968399,\n",
              "  'sequence': 'Eating right will help to keep her fit and fine',\n",
              "  'token': 1123,\n",
              "  'token_str': 'her'}]"
            ]
          },
          "metadata": {
            "tags": []
          },
          "execution_count": 46
        }
      ]
    },
    {
      "cell_type": "markdown",
      "metadata": {
        "id": "tRvKRxhlkG4F"
      },
      "source": [
        "## Named entity recognition\n",
        "Named entity recognition (NER) is a task where the model has to find which parts of the input text correspond to entities such as persons, locations, or organizations"
      ]
    },
    {
      "cell_type": "code",
      "metadata": {
        "colab": {
          "base_uri": "https://localhost:8080/",
          "height": 298,
          "referenced_widgets": [
            "05448302fd4c4a52883c5c5db16b56bb",
            "e63c7114de6947628b4c4525a72a9348",
            "d3dba7043a9b47818b60cad7596e2ded",
            "e06122d539ad404cbc0c31c1ab5df46d",
            "8adc2c1787e84a338f0ce646471961c1",
            "4dbf7e8563534c5b96724bd28444ac87",
            "cfdacc5a748548c78c14e2ca208e2064",
            "8996da6ee39246c394b26c1a17957853",
            "1a6612bff2d84bdc895dbc9be588f326",
            "20e13a1dfdb84af3a40909093a546af1",
            "8956541ecdcf442dab28430803b7d0c8",
            "e583e14945f24f5f9868590f1efa6515",
            "8e9bebb90efa4688a974237a0c85593a",
            "964a4bbd78fd40eb94b1cc0a5d4dfe2b",
            "732ab1add2794530bf9e02a8304246b8",
            "8d26a107db7840fd8f382e87b2560efd",
            "835aa68d6062411ab16557abb3925857",
            "dbae90b1a3ea46cd9b782f567577743b",
            "443fa52cc0e649dda8c412e4380be8d0",
            "00f107684be34a4a86ee3d41619acad2",
            "2312a9eac721409ba06e2cf1b1d4021b",
            "f1ab51c2b2914f849a80b70b78f59c41",
            "e97c2db4bf6149688a6c0566ec806d0d",
            "bf90aa9fdf8344dcb4d93f2efc9ade1a",
            "65779d10e4d142ea9dae9f09a5b4ed50",
            "407d98e517b84cf7956765735da57e2e",
            "c202a13daa1d4aa7acc12dc614f1f47b",
            "5ff38b4cec454071a1f08bd4949f45e5",
            "2a770f1973094d98981b601d89bd9ec7",
            "a983f48292d44a7d908ac2625a7b9473",
            "1fba35b997ff4da4a52a55941069eca5",
            "7669cfda6a9945afa36797afd2af497e"
          ]
        },
        "id": "mPiXQyLvkPt0",
        "outputId": "045f2609-ae36-456b-a83a-605d23fd40de"
      },
      "source": [
        "from transformers import pipeline\n",
        "ner = pipeline(\"ner\", grouped_entities=True)\n",
        "ner('Apple sold products worth $12 million in the states')"
      ],
      "execution_count": 48,
      "outputs": [
        {
          "output_type": "display_data",
          "data": {
            "application/vnd.jupyter.widget-view+json": {
              "model_id": "05448302fd4c4a52883c5c5db16b56bb",
              "version_minor": 0,
              "version_major": 2
            },
            "text/plain": [
              "HBox(children=(FloatProgress(value=0.0, description='Downloading', max=998.0, style=ProgressStyle(description_…"
            ]
          },
          "metadata": {
            "tags": []
          }
        },
        {
          "output_type": "stream",
          "text": [
            "\n"
          ],
          "name": "stdout"
        },
        {
          "output_type": "display_data",
          "data": {
            "application/vnd.jupyter.widget-view+json": {
              "model_id": "1a6612bff2d84bdc895dbc9be588f326",
              "version_minor": 0,
              "version_major": 2
            },
            "text/plain": [
              "HBox(children=(FloatProgress(value=0.0, description='Downloading', max=1334448817.0, style=ProgressStyle(descr…"
            ]
          },
          "metadata": {
            "tags": []
          }
        },
        {
          "output_type": "stream",
          "text": [
            "\n"
          ],
          "name": "stdout"
        },
        {
          "output_type": "display_data",
          "data": {
            "application/vnd.jupyter.widget-view+json": {
              "model_id": "835aa68d6062411ab16557abb3925857",
              "version_minor": 0,
              "version_major": 2
            },
            "text/plain": [
              "HBox(children=(FloatProgress(value=0.0, description='Downloading', max=213450.0, style=ProgressStyle(descripti…"
            ]
          },
          "metadata": {
            "tags": []
          }
        },
        {
          "output_type": "stream",
          "text": [
            "\n"
          ],
          "name": "stdout"
        },
        {
          "output_type": "display_data",
          "data": {
            "application/vnd.jupyter.widget-view+json": {
              "model_id": "65779d10e4d142ea9dae9f09a5b4ed50",
              "version_minor": 0,
              "version_major": 2
            },
            "text/plain": [
              "HBox(children=(FloatProgress(value=0.0, description='Downloading', max=60.0, style=ProgressStyle(description_w…"
            ]
          },
          "metadata": {
            "tags": []
          }
        },
        {
          "output_type": "stream",
          "text": [
            "\n"
          ],
          "name": "stdout"
        },
        {
          "output_type": "execute_result",
          "data": {
            "text/plain": [
              "[{'end': 5,\n",
              "  'entity_group': 'ORG',\n",
              "  'score': 0.9971675276756287,\n",
              "  'start': 0,\n",
              "  'word': 'Apple'}]"
            ]
          },
          "metadata": {
            "tags": []
          },
          "execution_count": 48
        }
      ]
    },
    {
      "cell_type": "markdown",
      "metadata": {
        "id": "MWsU2wp4qwdS"
      },
      "source": [
        "* We pass the option **grouped_entities=True** in the pipeline creation function to tell the pipeline to regroup together the parts of the sentence that correspond to the same entity"
      ]
    },
    {
      "cell_type": "code",
      "metadata": {
        "colab": {
          "base_uri": "https://localhost:8080/"
        },
        "id": "m3PZkhrvq2_I",
        "outputId": "1e679a92-5510-4dbc-810c-b6aafb4375c5"
      },
      "source": [
        "ner('Plaban works as a software engineer with Apple inc.')"
      ],
      "execution_count": 49,
      "outputs": [
        {
          "output_type": "execute_result",
          "data": {
            "text/plain": [
              "[{'end': 6,\n",
              "  'entity_group': 'PER',\n",
              "  'score': 0.9800496697425842,\n",
              "  'start': 0,\n",
              "  'word': 'Plaban'},\n",
              " {'end': 46,\n",
              "  'entity_group': 'ORG',\n",
              "  'score': 0.9988816976547241,\n",
              "  'start': 41,\n",
              "  'word': 'Apple'}]"
            ]
          },
          "metadata": {
            "tags": []
          },
          "execution_count": 49
        }
      ]
    },
    {
      "cell_type": "markdown",
      "metadata": {
        "id": "VZd_0DMRrT-_"
      },
      "source": [
        "## Question answering\n",
        "* The question-answering pipeline answers questions using information from a given context\n",
        "\n",
        "* This pipeline works by extracting information from the provided context\n",
        "\n",
        "* It does not generate the answer."
      ]
    },
    {
      "cell_type": "code",
      "metadata": {
        "colab": {
          "base_uri": "https://localhost:8080/",
          "height": 279,
          "referenced_widgets": [
            "90c5b448ded640b6a91afe4ea7435f0a",
            "ca89bc8c2c904856b8c5a28f6f71f837",
            "20555bc904c24faea38b428f1b3b4f8b",
            "17f6df0dd2f34992bebcd85275faa2d4",
            "0eaa6bda666b4e39b3b5c39500fa3caa",
            "c16e6c7906c64811bb2abb5d76b8913a",
            "ca97d8908b2c48a787e23a00a8438934",
            "40c1d8b0304445a9b25e6c9f6e8297d1",
            "0358baaea19d4593989bfd377d870f62",
            "4ba21566b5a94cb19190d3f80a899f0e",
            "a0d861f5eb544b92938f7b0acf4a453e",
            "68d3d3976f0442d8886adc41fedcb4f1",
            "3606298af7e3427abd37f30089352174",
            "65a40bb2483f44e5b555e425712a41a7",
            "0feabb7ba8e540d884929e5880dccddd",
            "8168ded289194f5ab928daad8e49bcd8",
            "7cd98eb4da724ba58b8ea4e379a5027b",
            "0e54cb44ecb04a6e97420d4069486d91",
            "5f7705f307154995b77985579b1e6064",
            "b58bca496c3a49ff9927f1fe072d5fea",
            "553979925aec45e49af919b07fa71cab",
            "6da3b6f750b54acca60ea83f6a8e3269",
            "d16e4b78834d4d88bd7d5ec0ef27c99e",
            "673eab93f30f4d2c822f08ad1a1ad981",
            "4121ca96775c4388af5f405dd5fc4605",
            "0ac0134c45f0457281e948d01d566a40",
            "5997480ba09b492e8c5751020a83bc29",
            "bbfd3558725d446e9348823af947dcfe",
            "5d8046b5e7394a57ae88acdf39be9f43",
            "ac11c549ce3646f38b3c0324c0eddd3f",
            "5c8e37eb4e78491390e49086c58cb5a2",
            "1b99fd1c36b841af8b73059681c4484c",
            "efa728943c8b4959873450eb02ae663d",
            "0a8e96f55cbc4104b8bbbca85562738e",
            "d8ecf6bcbbec469f914657fd6851a63d",
            "182fa0af15774d6ca68a5c1773903276",
            "004bf224b97c48fdb1b303b4f51fef13",
            "e7ae68987d7847d58c7e31cd7dc322d6",
            "44e1a6d732cf4852b56df6da266f1797",
            "b5b5748721064813ac5f721171289038"
          ]
        },
        "id": "smndGfpzr23d",
        "outputId": "a53e3c69-cd92-4c1a-bf91-e109a052abf0"
      },
      "source": [
        "from transformers import pipeline\n",
        "question_answerer = pipeline(\"question-answering\")\n",
        "question_answerer(\n",
        "    question=\"Where do I have for dinner?\",\n",
        "    context= \"I have rice and dal for dinner\"\n",
        ")"
      ],
      "execution_count": 50,
      "outputs": [
        {
          "output_type": "display_data",
          "data": {
            "application/vnd.jupyter.widget-view+json": {
              "model_id": "90c5b448ded640b6a91afe4ea7435f0a",
              "version_minor": 0,
              "version_major": 2
            },
            "text/plain": [
              "HBox(children=(FloatProgress(value=0.0, description='Downloading', max=473.0, style=ProgressStyle(description_…"
            ]
          },
          "metadata": {
            "tags": []
          }
        },
        {
          "output_type": "stream",
          "text": [
            "\n"
          ],
          "name": "stdout"
        },
        {
          "output_type": "display_data",
          "data": {
            "application/vnd.jupyter.widget-view+json": {
              "model_id": "0358baaea19d4593989bfd377d870f62",
              "version_minor": 0,
              "version_major": 2
            },
            "text/plain": [
              "HBox(children=(FloatProgress(value=0.0, description='Downloading', max=260793700.0, style=ProgressStyle(descri…"
            ]
          },
          "metadata": {
            "tags": []
          }
        },
        {
          "output_type": "stream",
          "text": [
            "\n"
          ],
          "name": "stdout"
        },
        {
          "output_type": "display_data",
          "data": {
            "application/vnd.jupyter.widget-view+json": {
              "model_id": "7cd98eb4da724ba58b8ea4e379a5027b",
              "version_minor": 0,
              "version_major": 2
            },
            "text/plain": [
              "HBox(children=(FloatProgress(value=0.0, description='Downloading', max=213450.0, style=ProgressStyle(descripti…"
            ]
          },
          "metadata": {
            "tags": []
          }
        },
        {
          "output_type": "stream",
          "text": [
            "\n"
          ],
          "name": "stdout"
        },
        {
          "output_type": "display_data",
          "data": {
            "application/vnd.jupyter.widget-view+json": {
              "model_id": "4121ca96775c4388af5f405dd5fc4605",
              "version_minor": 0,
              "version_major": 2
            },
            "text/plain": [
              "HBox(children=(FloatProgress(value=0.0, description='Downloading', max=435797.0, style=ProgressStyle(descripti…"
            ]
          },
          "metadata": {
            "tags": []
          }
        },
        {
          "output_type": "stream",
          "text": [
            "\n"
          ],
          "name": "stdout"
        },
        {
          "output_type": "display_data",
          "data": {
            "application/vnd.jupyter.widget-view+json": {
              "model_id": "efa728943c8b4959873450eb02ae663d",
              "version_minor": 0,
              "version_major": 2
            },
            "text/plain": [
              "HBox(children=(FloatProgress(value=0.0, description='Downloading', max=29.0, style=ProgressStyle(description_w…"
            ]
          },
          "metadata": {
            "tags": []
          }
        },
        {
          "output_type": "stream",
          "text": [
            "\n"
          ],
          "name": "stdout"
        },
        {
          "output_type": "execute_result",
          "data": {
            "text/plain": [
              "{'answer': 'rice and dal', 'end': 19, 'score': 0.8400872945785522, 'start': 7}"
            ]
          },
          "metadata": {
            "tags": []
          },
          "execution_count": 50
        }
      ]
    },
    {
      "cell_type": "code",
      "metadata": {
        "id": "LcecwC_stOei"
      },
      "source": [
        ""
      ],
      "execution_count": null,
      "outputs": []
    },
    {
      "cell_type": "markdown",
      "metadata": {
        "id": "fS7bBc4esV8N"
      },
      "source": [
        "##Summarization\n",
        "\n",
        "Summarization is the task of reducing a text into a shorter text while keeping all (or most) of the important aspects referenced in the text."
      ]
    },
    {
      "cell_type": "markdown",
      "metadata": {
        "id": "wsQqmpVptJHx"
      },
      "source": [
        "* we can specify a **max_length** or a **min_length** for the result."
      ]
    },
    {
      "cell_type": "code",
      "metadata": {
        "colab": {
          "base_uri": "https://localhost:8080/",
          "height": 299,
          "referenced_widgets": [
            "fdad05d133bc4e13b8ce0298c3ccfbfb",
            "e8c9eba682c4448c9da5eb72759aa4ac",
            "847ef220e70142179d91e98c225849aa",
            "bf604b215cef4bd591906d59d7022141",
            "0b55358ed4c14feba5ca0ded0ceef996",
            "9e4a89003b8f4d3dbaca3801e4df2f6c",
            "a1090d078a0a463d8ba53b1b5498d727",
            "2d35a03809b44a1297b9c92e2f332f2a",
            "9083df5f8598440881f2517fe4b9e121",
            "9cbadc2389924584acf1114eaf109adb",
            "9251768577c04ae0928c0a5bff3b2577",
            "bc4960710ea142c78f04ef88771e278d",
            "460063580d30468c849c740732a25d12",
            "ff23c06c27a548b29b0e642db221eda2",
            "6831cab86e7843f186a9bff9e31427e3",
            "bbcac5a2f44c43cd8f6d78396617e7e6",
            "498795ece60448ba8aa5aa0b588656b5",
            "0abee6b999144eb9bd3502a4b795a7dc",
            "6731f1e5ae1b4308844a35920cbbd1c6",
            "81cb7b2df8bd4c21a49fb5738a54b99c",
            "1531ae68a25c4fd8bd2b8de5ad4f0cbf",
            "332af241cf804ee3aa9ecf6844bf93a7",
            "6b3f6b91523644c1bc25a41e545e5d57",
            "4d88b0a781dc44a4b86ad11cfe8683db",
            "1c285ae7c2674b9692911e5a64c96aa9",
            "db48afb91acb4246a855fd285cb28402",
            "f097ebea3e5645d184cf86918a8172ca",
            "19665c395b9a4dc5bec4b6ed4bb1f094",
            "b9ce5bd08c034647926368dd456d4831",
            "6fd48ed5d1ab4f9c980ea367df47afcc",
            "c37c927a8d9145ee872ecade7a0c0573",
            "ce995564a8854eeb95891f367d967cdd",
            "30c3751e86884532a4acdb39b3522665",
            "d5524a68d3214af798c9c25f7ff61781",
            "7483a22095dc4e71bb8f01f29f8cfb1d",
            "0c7607d58e684f2991fd728823159d78",
            "69a509fe2677413ca884157ec53525ee",
            "e7a6eb3dcf3a433eb7f6309c85e5198f",
            "88d50e1a2f8f483aac1c88ab48f8105c",
            "4c74e112aaab48c5915331d08671017c"
          ]
        },
        "id": "S1OlSgvmsnCg",
        "outputId": "16943959-61a1-4c2c-bae5-d28ea526f76b"
      },
      "source": [
        "from transformers import pipeline\n",
        "\n",
        "summarizer = pipeline(\"summarization\")\n",
        "summarizer(\"\"\"\n",
        "   For a while, research in object detection in images was guided by HOG and its variants, including computationally expensive methods such as the Deformable Parts Model and Exemplar SVMs.\n",
        "\n",
        "In each of these situations, an algorithm was hand-defined to quantify and encode a particular aspect of an image (i.e., shape, texture, color, etc.). Given an input image of pixels, we would apply our hand-defined algorithm to the pixels, and in return receive a feature vector quantifying the image contents — the image pixels themselves did not serve a purpose other than being inputs to our feature extraction process. The feature vectors that resulted from feature extraction were what we were truly interested in as they served as inputs to our machine learning models.\n",
        "\n",
        "Deep learning, and specifically Convolutional Neural Networks, take a different approach. Instead of hand-defining a set of rules and algorithms to extract features from an image, these features are instead automatically learned from the training process.\n",
        "\n",
        "Again, let’s return to the goal of machine learning: computers should be able to learn from experience (i.e., examples) of the problem they are trying to solve.\n",
        "\n",
        "Using deep learning, we try to understand the problem in terms of a hierarchy of concepts. Each concept builds on top of the others. Concepts in the lower-level layers of the network encode some basic representation of the problem, whereas higher-level layers use these basic layers to form more abstract concepts. This hierarchical learning allows us to completely remove the hand-designed feature extraction process and treat CNNs as end-to-end learners.\n",
        "\n",
        "Given an image, we supply the pixel intensity values as inputs to the CNN. A series of hidden layers are used to extract features from our input image. These hidden layers build upon each other in a hierarchal fashion. At first, only edge-like regions are detected in the lower-level layers of the network. These edge regions are used to define corners (where edges intersect) and contours (outlines of objects). Combining corners and contours can lead to abstract “object parts” in the next layer.\n",
        "\"\"\")"
      ],
      "execution_count": 51,
      "outputs": [
        {
          "output_type": "display_data",
          "data": {
            "application/vnd.jupyter.widget-view+json": {
              "model_id": "fdad05d133bc4e13b8ce0298c3ccfbfb",
              "version_minor": 0,
              "version_major": 2
            },
            "text/plain": [
              "HBox(children=(FloatProgress(value=0.0, description='Downloading', max=1802.0, style=ProgressStyle(description…"
            ]
          },
          "metadata": {
            "tags": []
          }
        },
        {
          "output_type": "stream",
          "text": [
            "\n"
          ],
          "name": "stdout"
        },
        {
          "output_type": "display_data",
          "data": {
            "application/vnd.jupyter.widget-view+json": {
              "model_id": "9083df5f8598440881f2517fe4b9e121",
              "version_minor": 0,
              "version_major": 2
            },
            "text/plain": [
              "HBox(children=(FloatProgress(value=0.0, description='Downloading', max=1222317369.0, style=ProgressStyle(descr…"
            ]
          },
          "metadata": {
            "tags": []
          }
        },
        {
          "output_type": "stream",
          "text": [
            "\n"
          ],
          "name": "stdout"
        },
        {
          "output_type": "display_data",
          "data": {
            "application/vnd.jupyter.widget-view+json": {
              "model_id": "498795ece60448ba8aa5aa0b588656b5",
              "version_minor": 0,
              "version_major": 2
            },
            "text/plain": [
              "HBox(children=(FloatProgress(value=0.0, description='Downloading', max=898822.0, style=ProgressStyle(descripti…"
            ]
          },
          "metadata": {
            "tags": []
          }
        },
        {
          "output_type": "stream",
          "text": [
            "\n"
          ],
          "name": "stdout"
        },
        {
          "output_type": "display_data",
          "data": {
            "application/vnd.jupyter.widget-view+json": {
              "model_id": "1c285ae7c2674b9692911e5a64c96aa9",
              "version_minor": 0,
              "version_major": 2
            },
            "text/plain": [
              "HBox(children=(FloatProgress(value=0.0, description='Downloading', max=456318.0, style=ProgressStyle(descripti…"
            ]
          },
          "metadata": {
            "tags": []
          }
        },
        {
          "output_type": "stream",
          "text": [
            "\n"
          ],
          "name": "stdout"
        },
        {
          "output_type": "display_data",
          "data": {
            "application/vnd.jupyter.widget-view+json": {
              "model_id": "30c3751e86884532a4acdb39b3522665",
              "version_minor": 0,
              "version_major": 2
            },
            "text/plain": [
              "HBox(children=(FloatProgress(value=0.0, description='Downloading', max=26.0, style=ProgressStyle(description_w…"
            ]
          },
          "metadata": {
            "tags": []
          }
        },
        {
          "output_type": "stream",
          "text": [
            "\n"
          ],
          "name": "stdout"
        },
        {
          "output_type": "execute_result",
          "data": {
            "text/plain": [
              "[{'summary_text': ' For a while, research in object detection in images was guided by HOG and its variants such as the Deformable Parts Model and Exemplar SVMs . Instead of hand-defining a set of rules and algorithms to extract features from an image, these features are instead automatically learned from the training process .'}]"
            ]
          },
          "metadata": {
            "tags": []
          },
          "execution_count": 51
        }
      ]
    },
    {
      "cell_type": "markdown",
      "metadata": {
        "id": "xlNopEVUtYXG"
      },
      "source": [
        "## Translation\n",
        "For translation, you can use a default model if you provide a language pair in the task name (such as **\"translation_en_to_fr\"**)\n",
        "\n",
        "* Helsinki-NLP/opus-mt-en-fr"
      ]
    },
    {
      "cell_type": "markdown",
      "metadata": {
        "id": "yL5C678Ww5i8"
      },
      "source": [
        "Error encountered\n",
        "\n",
        "This tokenizer cannot be instantiated. Please make sure you have `sentencepiece` installed in order to use this tokenizer.\n",
        "\n",
        "* Uninstalled transformers\n",
        "* Installed transformers sentencepiece like this : !pip install --no-cache-dir transformers sentencepiece\n",
        "* Use_fast= False like this: tokenizer = AutoTokenizer.from_pretrained(“XXXXX”, use_fast=False)"
      ]
    },
    {
      "cell_type": "code",
      "metadata": {
        "colab": {
          "base_uri": "https://localhost:8080/",
          "height": 598
        },
        "id": "F8Zn27cDuLgu",
        "outputId": "93c6f845-bb93-45fd-af3a-7f1b53063e1c"
      },
      "source": [
        "!pip install --no-cache-dir transformers sentencepiece"
      ],
      "execution_count": 62,
      "outputs": [
        {
          "output_type": "stream",
          "text": [
            "Requirement already satisfied: transformers in /usr/local/lib/python3.7/dist-packages (4.6.1)\n",
            "Requirement already satisfied: sentencepiece in /usr/local/lib/python3.7/dist-packages (0.1.95)\n",
            "Requirement already satisfied: tokenizers<0.11,>=0.10.1 in /usr/local/lib/python3.7/dist-packages (from transformers) (0.10.3)\n",
            "Requirement already satisfied: sacremoses in /usr/local/lib/python3.7/dist-packages (from transformers) (0.0.45)\n",
            "Requirement already satisfied: importlib-metadata; python_version < \"3.8\" in /usr/local/lib/python3.7/dist-packages (from transformers) (4.5.0)\n",
            "Requirement already satisfied: regex!=2019.12.17 in /usr/local/lib/python3.7/dist-packages (from transformers) (2019.12.20)\n",
            "Collecting huggingface-hub==0.0.8\n",
            "  Downloading https://files.pythonhosted.org/packages/a1/88/7b1e45720ecf59c6c6737ff332f41c955963090a18e72acbcbeac6b25e86/huggingface_hub-0.0.8-py3-none-any.whl\n",
            "Requirement already satisfied: filelock in /usr/local/lib/python3.7/dist-packages (from transformers) (3.0.12)\n",
            "Requirement already satisfied: tqdm>=4.27 in /usr/local/lib/python3.7/dist-packages (from transformers) (4.41.1)\n",
            "Requirement already satisfied: packaging in /usr/local/lib/python3.7/dist-packages (from transformers) (20.9)\n",
            "Requirement already satisfied: requests in /usr/local/lib/python3.7/dist-packages (from transformers) (2.23.0)\n",
            "Requirement already satisfied: numpy>=1.17 in /usr/local/lib/python3.7/dist-packages (from transformers) (1.19.5)\n",
            "Requirement already satisfied: six in /usr/local/lib/python3.7/dist-packages (from sacremoses->transformers) (1.15.0)\n",
            "Requirement already satisfied: click in /usr/local/lib/python3.7/dist-packages (from sacremoses->transformers) (7.1.2)\n",
            "Requirement already satisfied: joblib in /usr/local/lib/python3.7/dist-packages (from sacremoses->transformers) (1.0.1)\n",
            "Requirement already satisfied: zipp>=0.5 in /usr/local/lib/python3.7/dist-packages (from importlib-metadata; python_version < \"3.8\"->transformers) (3.4.1)\n",
            "Requirement already satisfied: typing-extensions>=3.6.4; python_version < \"3.8\" in /usr/local/lib/python3.7/dist-packages (from importlib-metadata; python_version < \"3.8\"->transformers) (3.7.4.3)\n",
            "Requirement already satisfied: pyparsing>=2.0.2 in /usr/local/lib/python3.7/dist-packages (from packaging->transformers) (2.4.7)\n",
            "Requirement already satisfied: certifi>=2017.4.17 in /usr/local/lib/python3.7/dist-packages (from requests->transformers) (2021.5.30)\n",
            "Requirement already satisfied: urllib3!=1.25.0,!=1.25.1,<1.26,>=1.21.1 in /usr/local/lib/python3.7/dist-packages (from requests->transformers) (1.24.3)\n",
            "Requirement already satisfied: idna<3,>=2.5 in /usr/local/lib/python3.7/dist-packages (from requests->transformers) (2.10)\n",
            "Requirement already satisfied: chardet<4,>=3.0.2 in /usr/local/lib/python3.7/dist-packages (from requests->transformers) (3.0.4)\n",
            "Installing collected packages: huggingface-hub\n",
            "  Found existing installation: huggingface-hub 0.0.10\n",
            "    Uninstalling huggingface-hub-0.0.10:\n",
            "      Successfully uninstalled huggingface-hub-0.0.10\n",
            "Successfully installed huggingface-hub-0.0.8\n"
          ],
          "name": "stdout"
        },
        {
          "output_type": "display_data",
          "data": {
            "application/vnd.colab-display-data+json": {
              "pip_warning": {
                "packages": [
                  "huggingface_hub"
                ]
              }
            }
          },
          "metadata": {
            "tags": []
          }
        }
      ]
    },
    {
      "cell_type": "code",
      "metadata": {
        "colab": {
          "base_uri": "https://localhost:8080/",
          "height": 230,
          "referenced_widgets": [
            "34c04688d9f94a7488edff138eadedfa",
            "74befe416f5f4484b8737cd396b6eefd",
            "3f6b48cfc37c46f9b5848c21300ab5c4",
            "1803491dd1ed4685bac1277e90fdafbf",
            "eb254e49b4f2452c81b7ad9eed7769ca",
            "2c5a3c4f0d0d4e8c80a14ab9fcac413b",
            "15642ee8d3504b989e56f3ed0be2d6b0",
            "cfaa7e7dc8c945f988fcfeca2befdab0",
            "90e12147cf8c4892871ab3d2e0287f42",
            "5e62a078876b4644ac68aae69fea529b",
            "7d70a805926e43bcb7c4312f957a80fd",
            "96a0b626e8964b3da21902573bd7facc",
            "47797ef2cdee464dae2e28c3092e649b",
            "bb39c7c280e34c219645583eb564e9f9",
            "5a1bd35403af4bb9b8a18716bd4e2e49",
            "808348ec46404ef0b2662042d51373f3",
            "4c9910e7e71142618b287fcf38f7a33f",
            "d16300eb5535400f9cecf891a6c2fc7c",
            "b42415fea74f4354ae782d9c1cf94837",
            "5c7364782a47497d85c7e5fee55d1c0b",
            "08cc16292fa9445aaff94b0d56c064e4",
            "1eab11ade7ed4a129cb92522e94ccfd1",
            "b41861311b1b44238e3af5e9f07c8184",
            "8726d1b49d1d48a3a4428bda35de58e9",
            "94e2ddd5048240588e3d703a063b99cd",
            "934c3edc18704f7082f07f628b688391",
            "5b10e924a9c747c7b7a3365caccb7e70",
            "faadb955a3e74a64a67e8a13e07fc364",
            "c32a34a374ba4f7a92a27e9ff40dfe7b",
            "5ae6afe28328405e9f0d4ff7eaafd1f1",
            "501ef70284dc4f6583dec5df1821edf6",
            "b8fa0289484a411ba6ed40ef713fcf16"
          ]
        },
        "id": "KaihLe3AtdxN",
        "outputId": "bdc0c893-a19c-4a7b-d8a2-664f577ff042"
      },
      "source": [
        "from transformers import pipeline\n",
        "import sentencepiece\n",
        "translator = pipeline(\"translation\", model=\"Helsinki-NLP/opus-mt-fr-en\",use_fast=False)\n",
        "translator(\"Ce cours est produit par Hugging Face.\")"
      ],
      "execution_count": 1,
      "outputs": [
        {
          "output_type": "display_data",
          "data": {
            "application/vnd.jupyter.widget-view+json": {
              "model_id": "34c04688d9f94a7488edff138eadedfa",
              "version_minor": 0,
              "version_major": 2
            },
            "text/plain": [
              "HBox(children=(FloatProgress(value=0.0, description='Downloading', max=802397.0, style=ProgressStyle(descripti…"
            ]
          },
          "metadata": {
            "tags": []
          }
        },
        {
          "output_type": "stream",
          "text": [
            "\n"
          ],
          "name": "stdout"
        },
        {
          "output_type": "display_data",
          "data": {
            "application/vnd.jupyter.widget-view+json": {
              "model_id": "90e12147cf8c4892871ab3d2e0287f42",
              "version_minor": 0,
              "version_major": 2
            },
            "text/plain": [
              "HBox(children=(FloatProgress(value=0.0, description='Downloading', max=778395.0, style=ProgressStyle(descripti…"
            ]
          },
          "metadata": {
            "tags": []
          }
        },
        {
          "output_type": "stream",
          "text": [
            "\n"
          ],
          "name": "stdout"
        },
        {
          "output_type": "display_data",
          "data": {
            "application/vnd.jupyter.widget-view+json": {
              "model_id": "4c9910e7e71142618b287fcf38f7a33f",
              "version_minor": 0,
              "version_major": 2
            },
            "text/plain": [
              "HBox(children=(FloatProgress(value=0.0, description='Downloading', max=1339166.0, style=ProgressStyle(descript…"
            ]
          },
          "metadata": {
            "tags": []
          }
        },
        {
          "output_type": "stream",
          "text": [
            "\n"
          ],
          "name": "stdout"
        },
        {
          "output_type": "display_data",
          "data": {
            "application/vnd.jupyter.widget-view+json": {
              "model_id": "94e2ddd5048240588e3d703a063b99cd",
              "version_minor": 0,
              "version_major": 2
            },
            "text/plain": [
              "HBox(children=(FloatProgress(value=0.0, description='Downloading', max=42.0, style=ProgressStyle(description_w…"
            ]
          },
          "metadata": {
            "tags": []
          }
        },
        {
          "output_type": "stream",
          "text": [
            "\n"
          ],
          "name": "stdout"
        },
        {
          "output_type": "execute_result",
          "data": {
            "text/plain": [
              "[{'translation_text': 'This course is produced by Hugging Face.'}]"
            ]
          },
          "metadata": {
            "tags": []
          },
          "execution_count": 1
        }
      ]
    },
    {
      "cell_type": "code",
      "metadata": {
        "id": "Z8u-4DHCwyTz",
        "outputId": "5434efbe-7d02-4c2b-98f9-e0a5c1d89ada",
        "colab": {
          "base_uri": "https://localhost:8080/",
          "height": 230,
          "referenced_widgets": [
            "71e2bc2e279548bf88253c0a0aae3148",
            "1d3cc3692cce4c118a7b322906c69238",
            "297f011762aa4b069d33b27459df49cc",
            "2a416f62f36b4336b03bdb706e4f2acc",
            "8b28f271aad0479cb7bc47fcf80d137c",
            "d8316457e9ac4eb2a3d53203fcd53128",
            "5433d91d34534c7bb77b93ea62a58210",
            "6ae8e4f6d7a2405799393a03c3a4abce",
            "3a4936bda17a4039a9d6175c3c4a4d2f",
            "196ab3cc823d4bf992887201cf1c8b8c",
            "cdca3115f4bf405b9910c134b0669162",
            "b652dcd1b0ab4f509e3876e81da7c2b2",
            "44bab138be1d41d18de5e57f61a66cd4",
            "fd1b9234c1ac41abbefd5c4988ff6294",
            "deed91667fb4417a9d6cfe39c2003baf",
            "c6d7d477eb4f47f1941957ea0d054ecc",
            "6fea97881329464b80d2220c5a72236b",
            "337fb34b360b4f9cbb972f0b81822e37",
            "ac65ebf7efb6493bb88ddc82d2082733",
            "062f6aea25514dd4929df1c3854cf5b9",
            "b832cb27e9474b97b6e8ca0176fac340",
            "cf34848433c44c54ad8cff7df3cb3de4",
            "7e9ee928633f404da4e67485e684322c",
            "5b2fbb3bf44d4866817a76a944c81414",
            "3a6871c973674035a221d3dace12b339",
            "ed005dd674ec4a5e87d3001c91265620",
            "7abfa87effec4873954f77dcfb21b723",
            "fd0b14a7a1f341eea65cc93ab6a50d0f",
            "621ce54873fc496c9c4c347e85470b8c",
            "01e2a29189e746389e3b23e4e364158d",
            "ef2bc6b92b684ed99154826ee444839e",
            "4a8ed21a228440bd8f36f2924ea6048e"
          ]
        }
      },
      "source": [
        "translator = pipeline(\"translation\", model=\"Helsinki-NLP/opus-mt-en-fr\",use_fast=False)\n",
        "translator(\"I stay at Bhubaneswar.\")"
      ],
      "execution_count": 2,
      "outputs": [
        {
          "output_type": "display_data",
          "data": {
            "application/vnd.jupyter.widget-view+json": {
              "model_id": "71e2bc2e279548bf88253c0a0aae3148",
              "version_minor": 0,
              "version_major": 2
            },
            "text/plain": [
              "HBox(children=(FloatProgress(value=0.0, description='Downloading', max=778395.0, style=ProgressStyle(descripti…"
            ]
          },
          "metadata": {
            "tags": []
          }
        },
        {
          "output_type": "stream",
          "text": [
            "\n"
          ],
          "name": "stdout"
        },
        {
          "output_type": "display_data",
          "data": {
            "application/vnd.jupyter.widget-view+json": {
              "model_id": "3a4936bda17a4039a9d6175c3c4a4d2f",
              "version_minor": 0,
              "version_major": 2
            },
            "text/plain": [
              "HBox(children=(FloatProgress(value=0.0, description='Downloading', max=802397.0, style=ProgressStyle(descripti…"
            ]
          },
          "metadata": {
            "tags": []
          }
        },
        {
          "output_type": "stream",
          "text": [
            "\n"
          ],
          "name": "stdout"
        },
        {
          "output_type": "display_data",
          "data": {
            "application/vnd.jupyter.widget-view+json": {
              "model_id": "6fea97881329464b80d2220c5a72236b",
              "version_minor": 0,
              "version_major": 2
            },
            "text/plain": [
              "HBox(children=(FloatProgress(value=0.0, description='Downloading', max=1339166.0, style=ProgressStyle(descript…"
            ]
          },
          "metadata": {
            "tags": []
          }
        },
        {
          "output_type": "stream",
          "text": [
            "\n"
          ],
          "name": "stdout"
        },
        {
          "output_type": "display_data",
          "data": {
            "application/vnd.jupyter.widget-view+json": {
              "model_id": "3a6871c973674035a221d3dace12b339",
              "version_minor": 0,
              "version_major": 2
            },
            "text/plain": [
              "HBox(children=(FloatProgress(value=0.0, description='Downloading', max=42.0, style=ProgressStyle(description_w…"
            ]
          },
          "metadata": {
            "tags": []
          }
        },
        {
          "output_type": "stream",
          "text": [
            "\n"
          ],
          "name": "stdout"
        },
        {
          "output_type": "execute_result",
          "data": {
            "text/plain": [
              "[{'translation_text': 'Je reste à Bhubaneswar.'}]"
            ]
          },
          "metadata": {
            "tags": []
          },
          "execution_count": 2
        }
      ]
    }
  ]
}